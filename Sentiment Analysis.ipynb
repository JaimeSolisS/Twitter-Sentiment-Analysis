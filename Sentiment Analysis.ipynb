{
 "cells": [
  {
   "cell_type": "markdown",
   "metadata": {},
   "source": [
    "# Twitter Sentiment Analysis"
   ]
  },
  {
   "cell_type": "markdown",
   "metadata": {},
   "source": [
    "This notebook is based on this [guide](https://betterprogramming.pub/twitter-sentiment-analysis-15d8892c0082)"
   ]
  },
  {
   "cell_type": "code",
   "execution_count": 1,
   "metadata": {
    "ExecuteTime": {
     "end_time": "2021-08-31T21:27:19.221130Z",
     "start_time": "2021-08-31T21:27:16.410376Z"
    }
   },
   "outputs": [],
   "source": [
    "import tweepy\n",
    "from textblob import TextBlob \n",
    "import pandas as pd \n",
    "import matplotlib.pyplot as plt "
   ]
  },
  {
   "cell_type": "code",
   "execution_count": 2,
   "metadata": {
    "ExecuteTime": {
     "end_time": "2021-08-31T21:27:19.236158Z",
     "start_time": "2021-08-31T21:27:19.223055Z"
    }
   },
   "outputs": [],
   "source": [
    "# Twitter Api Credentials\n",
    "import os\n",
    "from dotenv import load_dotenv\n",
    "load_dotenv()\n",
    "\n",
    "apiKey = os.getenv('CONSUMER_KEY')\n",
    "apiSecretKey= os.getenv('CONSUMER_SECRET')\n",
    "accessToken= os.getenv('ACCESS_TOKEN')\n",
    "AccessTokenSecret = os.getenv('ACCESS_TOKEN_SECRET')"
   ]
  },
  {
   "cell_type": "code",
   "execution_count": 3,
   "metadata": {
    "ExecuteTime": {
     "end_time": "2021-08-31T21:27:19.241347Z",
     "start_time": "2021-08-31T21:27:19.238419Z"
    }
   },
   "outputs": [],
   "source": [
    "# create authentication object\n",
    "authenticate = tweepy.OAuthHandler(apiKey, apiSecretKey)\n",
    "authenticate.set_access_token(accessToken, AccessTokenSecret )\n",
    "api= tweepy.API(authenticate)"
   ]
  },
  {
   "cell_type": "markdown",
   "metadata": {},
   "source": [
    "# By User\n",
    "## Get Twitter Data"
   ]
  },
  {
   "cell_type": "code",
   "execution_count": 134,
   "metadata": {
    "ExecuteTime": {
     "end_time": "2021-09-01T03:12:52.470881Z",
     "start_time": "2021-09-01T03:12:51.537270Z"
    }
   },
   "outputs": [
    {
     "name": "stdout",
     "output_type": "stream",
     "text": [
      "Show the 5 recent tweets:\n",
      "\n",
      "1) .@GAP_Foundation’s Bio-Hermes Study is the first to compare results of blood and digital biomarker tests with imaging and traditional cognitive tests. This could help identify Alzheimer’s earlier and detect progression of the disease, to help us get closer to a cure. https://t.co/9xUQ0ZldSI\n",
      "\n",
      "2) I recently sat down with the extraordinary Brooke Brown, Washington State’s 2021 Teacher of the Year. It was a pleasure to meet with her and take part in one of her favorite lessons: https://t.co/TAwysEihyQ https://t.co/rlB1iJjogC\n",
      "\n",
      "3) Happy Birthday, Warren! You’ve been a true friend and an invaluable source of advice over the years, and I’m so lucky to know you. It’s an honor to work at the foundation doing my best to turn your generosity into lives saved and improved. Here’s to many more birthdays! https://t.co/ZaCGW5KCWm\n",
      "\n",
      "4) Investments in malaria programs help build stronger health systems that will not only bring an end to malaria but also protect us from the next pandemic. Here’s how: https://t.co/jdMgfMruYZ #MosquitoWeek https://t.co/gLHSY7Nqcz\n",
      "\n",
      "5) Congratulations, India, on reaching this tremendous milestone. The collective efforts of the government, R&amp;D community, vaccine manufacturers, and millions of health workers have made this feat possible. @PMOIndia @MoHFW_INDIA https://t.co/cmvQiAfSZG\n",
      "\n"
     ]
    }
   ],
   "source": [
    "# Extract 100 tweets from the twitter user\n",
    "posts = api.user_timeline(screen_name=\"BillGates\", count = 100, tweet_mode=\"extended\")\n",
    "\n",
    "#  Print the last 5 tweets\n",
    "print(\"Show the 5 recent tweets:\\n\")\n",
    "i=1\n",
    "for tweet in posts[:5]:\n",
    "    print(str(i) +') '+ tweet.full_text + '\\n')\n",
    "    i= i+1"
   ]
  },
  {
   "cell_type": "code",
   "execution_count": 184,
   "metadata": {
    "ExecuteTime": {
     "end_time": "2021-09-01T04:34:04.457941Z",
     "start_time": "2021-09-01T04:34:04.353407Z"
    }
   },
   "outputs": [
    {
     "data": {
      "text/html": [
       "<div>\n",
       "<style scoped>\n",
       "    .dataframe tbody tr th:only-of-type {\n",
       "        vertical-align: middle;\n",
       "    }\n",
       "\n",
       "    .dataframe tbody tr th {\n",
       "        vertical-align: top;\n",
       "    }\n",
       "\n",
       "    .dataframe thead th {\n",
       "        text-align: right;\n",
       "    }\n",
       "</style>\n",
       "<table border=\"1\" class=\"dataframe\">\n",
       "  <thead>\n",
       "    <tr style=\"text-align: right;\">\n",
       "      <th></th>\n",
       "      <th>Tweet</th>\n",
       "      <th>is_reply</th>\n",
       "      <th>is_retweeted</th>\n",
       "      <th>is_quote</th>\n",
       "      <th>is_organic</th>\n",
       "      <th>Type</th>\n",
       "    </tr>\n",
       "  </thead>\n",
       "  <tbody>\n",
       "    <tr>\n",
       "      <th>0</th>\n",
       "      <td>.@GAP_Foundation’s Bio-Hermes Study is the fir...</td>\n",
       "      <td>None</td>\n",
       "      <td>False</td>\n",
       "      <td>True</td>\n",
       "      <td>False</td>\n",
       "      <td>Quote</td>\n",
       "    </tr>\n",
       "    <tr>\n",
       "      <th>1</th>\n",
       "      <td>I recently sat down with the extraordinary Bro...</td>\n",
       "      <td>None</td>\n",
       "      <td>False</td>\n",
       "      <td>False</td>\n",
       "      <td>True</td>\n",
       "      <td>Organic</td>\n",
       "    </tr>\n",
       "    <tr>\n",
       "      <th>2</th>\n",
       "      <td>Happy Birthday, Warren! You’ve been a true fri...</td>\n",
       "      <td>None</td>\n",
       "      <td>False</td>\n",
       "      <td>False</td>\n",
       "      <td>True</td>\n",
       "      <td>Organic</td>\n",
       "    </tr>\n",
       "    <tr>\n",
       "      <th>3</th>\n",
       "      <td>Investments in malaria programs help build str...</td>\n",
       "      <td>None</td>\n",
       "      <td>False</td>\n",
       "      <td>False</td>\n",
       "      <td>True</td>\n",
       "      <td>Organic</td>\n",
       "    </tr>\n",
       "    <tr>\n",
       "      <th>4</th>\n",
       "      <td>Congratulations, India, on reaching this treme...</td>\n",
       "      <td>None</td>\n",
       "      <td>False</td>\n",
       "      <td>False</td>\n",
       "      <td>True</td>\n",
       "      <td>Organic</td>\n",
       "    </tr>\n",
       "  </tbody>\n",
       "</table>\n",
       "</div>"
      ],
      "text/plain": [
       "                                               Tweet is_reply  is_retweeted  \\\n",
       "0  .@GAP_Foundation’s Bio-Hermes Study is the fir...     None         False   \n",
       "1  I recently sat down with the extraordinary Bro...     None         False   \n",
       "2  Happy Birthday, Warren! You’ve been a true fri...     None         False   \n",
       "3  Investments in malaria programs help build str...     None         False   \n",
       "4  Congratulations, India, on reaching this treme...     None         False   \n",
       "\n",
       "   is_quote  is_organic     Type  \n",
       "0      True       False    Quote  \n",
       "1     False        True  Organic  \n",
       "2     False        True  Organic  \n",
       "3     False        True  Organic  \n",
       "4     False        True  Organic  "
      ]
     },
     "execution_count": 184,
     "metadata": {},
     "output_type": "execute_result"
    }
   ],
   "source": [
    "# Create Function to identify Organic Tweets\n",
    "def organic(df):\n",
    "    if (df['is_reply'] is None) and (df['is_retweeted'] is False) and (df['is_quote'] is False):\n",
    "        return True\n",
    "    else: \n",
    "        return False\n",
    "# Create Function to identify Reeweets\n",
    "def rt(df):\n",
    "    if (df['Tweet'][0:2] == \"RT\") :\n",
    "        return True\n",
    "    else: \n",
    "        return False  \n",
    "# Create Function to clasify tweets based on the rest of columns \n",
    "def tweetype(df):\n",
    "    if (df['is_reply'] != None):\n",
    "        return 'Reply'\n",
    "    elif (df['is_retweeted'] is True):\n",
    "        return 'Retweet'\n",
    "    elif (df['is_quote'] is True):\n",
    "        return 'Quote'\n",
    "    else:\n",
    "        return 'Organic'\n",
    "    \n",
    "# Create a dataframe with a column called Tweets\n",
    "df = pd.DataFrame([tweet.full_text for tweet in posts], columns=['Tweet'])\n",
    "df['is_reply'] = pd.DataFrame([tweet.in_reply_to_screen_name for tweet in posts])\n",
    "df['is_retweeted'] = df.apply(rt, axis=1)\n",
    "df['is_quote'] = pd.DataFrame([tweet.is_quote_status for tweet in posts])\n",
    "df['is_organic'] = df.apply(organic, axis=1)\n",
    "df['Type'] =df.apply(tweetype, axis=1)\n",
    "\n",
    "# Show the first 5 rows of data\n",
    "df.head(5)"
   ]
  },
  {
   "cell_type": "code",
   "execution_count": 185,
   "metadata": {
    "ExecuteTime": {
     "end_time": "2021-09-01T04:34:21.788011Z",
     "start_time": "2021-09-01T04:34:21.757954Z"
    }
   },
   "outputs": [
    {
     "data": {
      "text/html": [
       "<div>\n",
       "<style scoped>\n",
       "    .dataframe tbody tr th:only-of-type {\n",
       "        vertical-align: middle;\n",
       "    }\n",
       "\n",
       "    .dataframe tbody tr th {\n",
       "        vertical-align: top;\n",
       "    }\n",
       "\n",
       "    .dataframe thead th {\n",
       "        text-align: right;\n",
       "    }\n",
       "</style>\n",
       "<table border=\"1\" class=\"dataframe\">\n",
       "  <thead>\n",
       "    <tr style=\"text-align: right;\">\n",
       "      <th></th>\n",
       "      <th>Tweet</th>\n",
       "      <th>is_reply</th>\n",
       "      <th>is_retweeted</th>\n",
       "      <th>is_quote</th>\n",
       "      <th>is_organic</th>\n",
       "      <th>Type</th>\n",
       "      <th>clean_Tweet</th>\n",
       "    </tr>\n",
       "  </thead>\n",
       "  <tbody>\n",
       "    <tr>\n",
       "      <th>0</th>\n",
       "      <td>.@GAP_Foundation’s Bio-Hermes Study is the fir...</td>\n",
       "      <td>None</td>\n",
       "      <td>False</td>\n",
       "      <td>True</td>\n",
       "      <td>False</td>\n",
       "      <td>Quote</td>\n",
       "      <td>._Foundation’s Bio-Hermes Study is the first t...</td>\n",
       "    </tr>\n",
       "    <tr>\n",
       "      <th>1</th>\n",
       "      <td>I recently sat down with the extraordinary Bro...</td>\n",
       "      <td>None</td>\n",
       "      <td>False</td>\n",
       "      <td>False</td>\n",
       "      <td>True</td>\n",
       "      <td>Organic</td>\n",
       "      <td>I recently sat down with the extraordinary Bro...</td>\n",
       "    </tr>\n",
       "    <tr>\n",
       "      <th>2</th>\n",
       "      <td>Happy Birthday, Warren! You’ve been a true fri...</td>\n",
       "      <td>None</td>\n",
       "      <td>False</td>\n",
       "      <td>False</td>\n",
       "      <td>True</td>\n",
       "      <td>Organic</td>\n",
       "      <td>Happy Birthday, Warren! You’ve been a true fri...</td>\n",
       "    </tr>\n",
       "    <tr>\n",
       "      <th>3</th>\n",
       "      <td>Investments in malaria programs help build str...</td>\n",
       "      <td>None</td>\n",
       "      <td>False</td>\n",
       "      <td>False</td>\n",
       "      <td>True</td>\n",
       "      <td>Organic</td>\n",
       "      <td>Investments in malaria programs help build str...</td>\n",
       "    </tr>\n",
       "    <tr>\n",
       "      <th>4</th>\n",
       "      <td>Congratulations, India, on reaching this treme...</td>\n",
       "      <td>None</td>\n",
       "      <td>False</td>\n",
       "      <td>False</td>\n",
       "      <td>True</td>\n",
       "      <td>Organic</td>\n",
       "      <td>Congratulations, India, on reaching this treme...</td>\n",
       "    </tr>\n",
       "    <tr>\n",
       "      <th>...</th>\n",
       "      <td>...</td>\n",
       "      <td>...</td>\n",
       "      <td>...</td>\n",
       "      <td>...</td>\n",
       "      <td>...</td>\n",
       "      <td>...</td>\n",
       "      <td>...</td>\n",
       "    </tr>\n",
       "    <tr>\n",
       "      <th>95</th>\n",
       "      <td>It's encouraging to see innovation and clean e...</td>\n",
       "      <td>None</td>\n",
       "      <td>False</td>\n",
       "      <td>False</td>\n",
       "      <td>True</td>\n",
       "      <td>Organic</td>\n",
       "      <td>It's encouraging to see innovation and clean e...</td>\n",
       "    </tr>\n",
       "    <tr>\n",
       "      <th>96</th>\n",
       "      <td>Here are five things you should know if you wa...</td>\n",
       "      <td>None</td>\n",
       "      <td>False</td>\n",
       "      <td>False</td>\n",
       "      <td>True</td>\n",
       "      <td>Organic</td>\n",
       "      <td>Here are five things you should know if you wa...</td>\n",
       "    </tr>\n",
       "    <tr>\n",
       "      <th>97</th>\n",
       "      <td>RT @IFPRI: 💡 From #climateadaptation to #gende...</td>\n",
       "      <td>None</td>\n",
       "      <td>True</td>\n",
       "      <td>False</td>\n",
       "      <td>False</td>\n",
       "      <td>Retweet</td>\n",
       "      <td>: 💡 From climateadaptation to genderequality, ...</td>\n",
       "    </tr>\n",
       "    <tr>\n",
       "      <th>98</th>\n",
       "      <td>The technological transformation we need to ad...</td>\n",
       "      <td>None</td>\n",
       "      <td>False</td>\n",
       "      <td>False</td>\n",
       "      <td>True</td>\n",
       "      <td>Organic</td>\n",
       "      <td>The technological transformation we need to ad...</td>\n",
       "    </tr>\n",
       "    <tr>\n",
       "      <th>99</th>\n",
       "      <td>I had a great time answering questions about m...</td>\n",
       "      <td>None</td>\n",
       "      <td>False</td>\n",
       "      <td>False</td>\n",
       "      <td>True</td>\n",
       "      <td>Organic</td>\n",
       "      <td>I had a great time answering questions about m...</td>\n",
       "    </tr>\n",
       "  </tbody>\n",
       "</table>\n",
       "<p>100 rows × 7 columns</p>\n",
       "</div>"
      ],
      "text/plain": [
       "                                                Tweet is_reply  is_retweeted  \\\n",
       "0   .@GAP_Foundation’s Bio-Hermes Study is the fir...     None         False   \n",
       "1   I recently sat down with the extraordinary Bro...     None         False   \n",
       "2   Happy Birthday, Warren! You’ve been a true fri...     None         False   \n",
       "3   Investments in malaria programs help build str...     None         False   \n",
       "4   Congratulations, India, on reaching this treme...     None         False   \n",
       "..                                                ...      ...           ...   \n",
       "95  It's encouraging to see innovation and clean e...     None         False   \n",
       "96  Here are five things you should know if you wa...     None         False   \n",
       "97  RT @IFPRI: 💡 From #climateadaptation to #gende...     None          True   \n",
       "98  The technological transformation we need to ad...     None         False   \n",
       "99  I had a great time answering questions about m...     None         False   \n",
       "\n",
       "    is_quote  is_organic     Type  \\\n",
       "0       True       False    Quote   \n",
       "1      False        True  Organic   \n",
       "2      False        True  Organic   \n",
       "3      False        True  Organic   \n",
       "4      False        True  Organic   \n",
       "..       ...         ...      ...   \n",
       "95     False        True  Organic   \n",
       "96     False        True  Organic   \n",
       "97     False       False  Retweet   \n",
       "98     False        True  Organic   \n",
       "99     False        True  Organic   \n",
       "\n",
       "                                          clean_Tweet  \n",
       "0   ._Foundation’s Bio-Hermes Study is the first t...  \n",
       "1   I recently sat down with the extraordinary Bro...  \n",
       "2   Happy Birthday, Warren! You’ve been a true fri...  \n",
       "3   Investments in malaria programs help build str...  \n",
       "4   Congratulations, India, on reaching this treme...  \n",
       "..                                                ...  \n",
       "95  It's encouraging to see innovation and clean e...  \n",
       "96  Here are five things you should know if you wa...  \n",
       "97  : 💡 From climateadaptation to genderequality, ...  \n",
       "98  The technological transformation we need to ad...  \n",
       "99  I had a great time answering questions about m...  \n",
       "\n",
       "[100 rows x 7 columns]"
      ]
     },
     "execution_count": 185,
     "metadata": {},
     "output_type": "execute_result"
    }
   ],
   "source": [
    "# Create a function to clean the tweets\n",
    "import re\n",
    "def cleanTxt(text):\n",
    "    text = re.sub('@[A-Za-z0–9]+', '', text) #Removing @mentions\n",
    "    text = re.sub('#', '', text) # Removing '#' hash tag\n",
    "    text = re.sub('RT[\\s]+', '', text) # Removing RT\n",
    "    text = re.sub('https?:\\/\\/\\S+', '', text) # Removing hyperlink\n",
    " \n",
    "    return text\n",
    "\n",
    "\n",
    "# Clean the tweets\n",
    "df['clean_Tweet'] = df['Tweet'].apply(cleanTxt)\n",
    "\n",
    "# Show the cleaned tweets\n",
    "df"
   ]
  },
  {
   "cell_type": "markdown",
   "metadata": {},
   "source": [
    "## Sentiments"
   ]
  },
  {
   "cell_type": "code",
   "execution_count": 186,
   "metadata": {
    "ExecuteTime": {
     "end_time": "2021-09-01T04:35:01.533145Z",
     "start_time": "2021-09-01T04:35:01.398900Z"
    }
   },
   "outputs": [
    {
     "data": {
      "text/html": [
       "<div>\n",
       "<style scoped>\n",
       "    .dataframe tbody tr th:only-of-type {\n",
       "        vertical-align: middle;\n",
       "    }\n",
       "\n",
       "    .dataframe tbody tr th {\n",
       "        vertical-align: top;\n",
       "    }\n",
       "\n",
       "    .dataframe thead th {\n",
       "        text-align: right;\n",
       "    }\n",
       "</style>\n",
       "<table border=\"1\" class=\"dataframe\">\n",
       "  <thead>\n",
       "    <tr style=\"text-align: right;\">\n",
       "      <th></th>\n",
       "      <th>Tweet</th>\n",
       "      <th>is_reply</th>\n",
       "      <th>is_retweeted</th>\n",
       "      <th>is_quote</th>\n",
       "      <th>is_organic</th>\n",
       "      <th>Type</th>\n",
       "      <th>clean_Tweet</th>\n",
       "      <th>Subjectivity</th>\n",
       "      <th>Polarity</th>\n",
       "    </tr>\n",
       "  </thead>\n",
       "  <tbody>\n",
       "    <tr>\n",
       "      <th>0</th>\n",
       "      <td>.@GAP_Foundation’s Bio-Hermes Study is the fir...</td>\n",
       "      <td>None</td>\n",
       "      <td>False</td>\n",
       "      <td>True</td>\n",
       "      <td>False</td>\n",
       "      <td>Quote</td>\n",
       "      <td>._Foundation’s Bio-Hermes Study is the first t...</td>\n",
       "      <td>0.395833</td>\n",
       "      <td>0.062500</td>\n",
       "    </tr>\n",
       "    <tr>\n",
       "      <th>1</th>\n",
       "      <td>I recently sat down with the extraordinary Bro...</td>\n",
       "      <td>None</td>\n",
       "      <td>False</td>\n",
       "      <td>False</td>\n",
       "      <td>True</td>\n",
       "      <td>Organic</td>\n",
       "      <td>I recently sat down with the extraordinary Bro...</td>\n",
       "      <td>0.634722</td>\n",
       "      <td>0.169444</td>\n",
       "    </tr>\n",
       "    <tr>\n",
       "      <th>2</th>\n",
       "      <td>Happy Birthday, Warren! You’ve been a true fri...</td>\n",
       "      <td>None</td>\n",
       "      <td>False</td>\n",
       "      <td>False</td>\n",
       "      <td>True</td>\n",
       "      <td>Organic</td>\n",
       "      <td>Happy Birthday, Warren! You’ve been a true fri...</td>\n",
       "      <td>0.630556</td>\n",
       "      <td>0.634722</td>\n",
       "    </tr>\n",
       "    <tr>\n",
       "      <th>3</th>\n",
       "      <td>Investments in malaria programs help build str...</td>\n",
       "      <td>None</td>\n",
       "      <td>False</td>\n",
       "      <td>False</td>\n",
       "      <td>True</td>\n",
       "      <td>Organic</td>\n",
       "      <td>Investments in malaria programs help build str...</td>\n",
       "      <td>0.500000</td>\n",
       "      <td>0.000000</td>\n",
       "    </tr>\n",
       "    <tr>\n",
       "      <th>4</th>\n",
       "      <td>Congratulations, India, on reaching this treme...</td>\n",
       "      <td>None</td>\n",
       "      <td>False</td>\n",
       "      <td>False</td>\n",
       "      <td>True</td>\n",
       "      <td>Organic</td>\n",
       "      <td>Congratulations, India, on reaching this treme...</td>\n",
       "      <td>1.000000</td>\n",
       "      <td>0.166667</td>\n",
       "    </tr>\n",
       "    <tr>\n",
       "      <th>...</th>\n",
       "      <td>...</td>\n",
       "      <td>...</td>\n",
       "      <td>...</td>\n",
       "      <td>...</td>\n",
       "      <td>...</td>\n",
       "      <td>...</td>\n",
       "      <td>...</td>\n",
       "      <td>...</td>\n",
       "      <td>...</td>\n",
       "    </tr>\n",
       "    <tr>\n",
       "      <th>95</th>\n",
       "      <td>It's encouraging to see innovation and clean e...</td>\n",
       "      <td>None</td>\n",
       "      <td>False</td>\n",
       "      <td>False</td>\n",
       "      <td>True</td>\n",
       "      <td>Organic</td>\n",
       "      <td>It's encouraging to see innovation and clean e...</td>\n",
       "      <td>0.584848</td>\n",
       "      <td>0.401010</td>\n",
       "    </tr>\n",
       "    <tr>\n",
       "      <th>96</th>\n",
       "      <td>Here are five things you should know if you wa...</td>\n",
       "      <td>None</td>\n",
       "      <td>False</td>\n",
       "      <td>False</td>\n",
       "      <td>True</td>\n",
       "      <td>Organic</td>\n",
       "      <td>Here are five things you should know if you wa...</td>\n",
       "      <td>0.000000</td>\n",
       "      <td>0.000000</td>\n",
       "    </tr>\n",
       "    <tr>\n",
       "      <th>97</th>\n",
       "      <td>RT @IFPRI: 💡 From #climateadaptation to #gende...</td>\n",
       "      <td>None</td>\n",
       "      <td>True</td>\n",
       "      <td>False</td>\n",
       "      <td>False</td>\n",
       "      <td>Retweet</td>\n",
       "      <td>: 💡 From climateadaptation to genderequality, ...</td>\n",
       "      <td>0.000000</td>\n",
       "      <td>0.000000</td>\n",
       "    </tr>\n",
       "    <tr>\n",
       "      <th>98</th>\n",
       "      <td>The technological transformation we need to ad...</td>\n",
       "      <td>None</td>\n",
       "      <td>False</td>\n",
       "      <td>False</td>\n",
       "      <td>True</td>\n",
       "      <td>Organic</td>\n",
       "      <td>The technological transformation we need to ad...</td>\n",
       "      <td>0.425000</td>\n",
       "      <td>0.425000</td>\n",
       "    </tr>\n",
       "    <tr>\n",
       "      <th>99</th>\n",
       "      <td>I had a great time answering questions about m...</td>\n",
       "      <td>None</td>\n",
       "      <td>False</td>\n",
       "      <td>False</td>\n",
       "      <td>True</td>\n",
       "      <td>Organic</td>\n",
       "      <td>I had a great time answering questions about m...</td>\n",
       "      <td>0.423737</td>\n",
       "      <td>0.312121</td>\n",
       "    </tr>\n",
       "  </tbody>\n",
       "</table>\n",
       "<p>100 rows × 9 columns</p>\n",
       "</div>"
      ],
      "text/plain": [
       "                                                Tweet is_reply  is_retweeted  \\\n",
       "0   .@GAP_Foundation’s Bio-Hermes Study is the fir...     None         False   \n",
       "1   I recently sat down with the extraordinary Bro...     None         False   \n",
       "2   Happy Birthday, Warren! You’ve been a true fri...     None         False   \n",
       "3   Investments in malaria programs help build str...     None         False   \n",
       "4   Congratulations, India, on reaching this treme...     None         False   \n",
       "..                                                ...      ...           ...   \n",
       "95  It's encouraging to see innovation and clean e...     None         False   \n",
       "96  Here are five things you should know if you wa...     None         False   \n",
       "97  RT @IFPRI: 💡 From #climateadaptation to #gende...     None          True   \n",
       "98  The technological transformation we need to ad...     None         False   \n",
       "99  I had a great time answering questions about m...     None         False   \n",
       "\n",
       "    is_quote  is_organic     Type  \\\n",
       "0       True       False    Quote   \n",
       "1      False        True  Organic   \n",
       "2      False        True  Organic   \n",
       "3      False        True  Organic   \n",
       "4      False        True  Organic   \n",
       "..       ...         ...      ...   \n",
       "95     False        True  Organic   \n",
       "96     False        True  Organic   \n",
       "97     False       False  Retweet   \n",
       "98     False        True  Organic   \n",
       "99     False        True  Organic   \n",
       "\n",
       "                                          clean_Tweet  Subjectivity  Polarity  \n",
       "0   ._Foundation’s Bio-Hermes Study is the first t...      0.395833  0.062500  \n",
       "1   I recently sat down with the extraordinary Bro...      0.634722  0.169444  \n",
       "2   Happy Birthday, Warren! You’ve been a true fri...      0.630556  0.634722  \n",
       "3   Investments in malaria programs help build str...      0.500000  0.000000  \n",
       "4   Congratulations, India, on reaching this treme...      1.000000  0.166667  \n",
       "..                                                ...           ...       ...  \n",
       "95  It's encouraging to see innovation and clean e...      0.584848  0.401010  \n",
       "96  Here are five things you should know if you wa...      0.000000  0.000000  \n",
       "97  : 💡 From climateadaptation to genderequality, ...      0.000000  0.000000  \n",
       "98  The technological transformation we need to ad...      0.425000  0.425000  \n",
       "99  I had a great time answering questions about m...      0.423737  0.312121  \n",
       "\n",
       "[100 rows x 9 columns]"
      ]
     },
     "execution_count": 186,
     "metadata": {},
     "output_type": "execute_result"
    }
   ],
   "source": [
    "# Create a function to get the subjectivity\n",
    "def getSubjectivity(text):\n",
    "    return TextBlob(text).sentiment.subjectivity\n",
    "\n",
    "# Create a function to get the polarity\n",
    "def getPolarity(text):\n",
    "    return  TextBlob(text).sentiment.polarity\n",
    "\n",
    "\n",
    "# Create two new columns 'Subjectivity' & 'Polarity'\n",
    "df['Subjectivity'] = df['clean_Tweet'].apply(getSubjectivity)\n",
    "df['Polarity'] = df['clean_Tweet'].apply(getPolarity)\n",
    "\n",
    "# Show the new dataframe with columns 'Subjectivity' & 'Polarity'\n",
    "df"
   ]
  },
  {
   "cell_type": "markdown",
   "metadata": {},
   "source": [
    "## WordCloud"
   ]
  },
  {
   "cell_type": "code",
   "execution_count": 187,
   "metadata": {
    "ExecuteTime": {
     "end_time": "2021-09-01T04:35:17.767565Z",
     "start_time": "2021-09-01T04:35:17.039437Z"
    }
   },
   "outputs": [
    {
     "data": {
      "image/png": "[encoded data removed]",
      "text/plain": [
       "<Figure size 432x288 with 1 Axes>"
      ]
     },
     "metadata": {
      "needs_background": "light"
     },
     "output_type": "display_data"
    }
   ],
   "source": [
    "from wordcloud import WordCloud\n",
    "# word cloud visualization\n",
    "allWords = ' '.join([twts for twts in df['clean_Tweet']])\n",
    "wordCloud = WordCloud(width=500, height=300, random_state=21, max_font_size=110).generate(allWords)\n",
    "\n",
    "\n",
    "plt.imshow(wordCloud, interpolation=\"bilinear\")\n",
    "plt.axis('off')\n",
    "plt.show()"
   ]
  },
  {
   "cell_type": "markdown",
   "metadata": {},
   "source": [
    "## Analysis"
   ]
  },
  {
   "cell_type": "code",
   "execution_count": 188,
   "metadata": {
    "ExecuteTime": {
     "end_time": "2021-09-01T04:35:22.867214Z",
     "start_time": "2021-09-01T04:35:22.841842Z"
    }
   },
   "outputs": [
    {
     "data": {
      "text/html": [
       "<div>\n",
       "<style scoped>\n",
       "    .dataframe tbody tr th:only-of-type {\n",
       "        vertical-align: middle;\n",
       "    }\n",
       "\n",
       "    .dataframe tbody tr th {\n",
       "        vertical-align: top;\n",
       "    }\n",
       "\n",
       "    .dataframe thead th {\n",
       "        text-align: right;\n",
       "    }\n",
       "</style>\n",
       "<table border=\"1\" class=\"dataframe\">\n",
       "  <thead>\n",
       "    <tr style=\"text-align: right;\">\n",
       "      <th></th>\n",
       "      <th>Tweet</th>\n",
       "      <th>is_reply</th>\n",
       "      <th>is_retweeted</th>\n",
       "      <th>is_quote</th>\n",
       "      <th>is_organic</th>\n",
       "      <th>Type</th>\n",
       "      <th>clean_Tweet</th>\n",
       "      <th>Subjectivity</th>\n",
       "      <th>Polarity</th>\n",
       "      <th>Analysis</th>\n",
       "    </tr>\n",
       "  </thead>\n",
       "  <tbody>\n",
       "    <tr>\n",
       "      <th>0</th>\n",
       "      <td>.@GAP_Foundation’s Bio-Hermes Study is the fir...</td>\n",
       "      <td>None</td>\n",
       "      <td>False</td>\n",
       "      <td>True</td>\n",
       "      <td>False</td>\n",
       "      <td>Quote</td>\n",
       "      <td>._Foundation’s Bio-Hermes Study is the first t...</td>\n",
       "      <td>0.395833</td>\n",
       "      <td>0.062500</td>\n",
       "      <td>Positive</td>\n",
       "    </tr>\n",
       "    <tr>\n",
       "      <th>1</th>\n",
       "      <td>I recently sat down with the extraordinary Bro...</td>\n",
       "      <td>None</td>\n",
       "      <td>False</td>\n",
       "      <td>False</td>\n",
       "      <td>True</td>\n",
       "      <td>Organic</td>\n",
       "      <td>I recently sat down with the extraordinary Bro...</td>\n",
       "      <td>0.634722</td>\n",
       "      <td>0.169444</td>\n",
       "      <td>Positive</td>\n",
       "    </tr>\n",
       "    <tr>\n",
       "      <th>2</th>\n",
       "      <td>Happy Birthday, Warren! You’ve been a true fri...</td>\n",
       "      <td>None</td>\n",
       "      <td>False</td>\n",
       "      <td>False</td>\n",
       "      <td>True</td>\n",
       "      <td>Organic</td>\n",
       "      <td>Happy Birthday, Warren! You’ve been a true fri...</td>\n",
       "      <td>0.630556</td>\n",
       "      <td>0.634722</td>\n",
       "      <td>Positive</td>\n",
       "    </tr>\n",
       "    <tr>\n",
       "      <th>3</th>\n",
       "      <td>Investments in malaria programs help build str...</td>\n",
       "      <td>None</td>\n",
       "      <td>False</td>\n",
       "      <td>False</td>\n",
       "      <td>True</td>\n",
       "      <td>Organic</td>\n",
       "      <td>Investments in malaria programs help build str...</td>\n",
       "      <td>0.500000</td>\n",
       "      <td>0.000000</td>\n",
       "      <td>Neutral</td>\n",
       "    </tr>\n",
       "    <tr>\n",
       "      <th>4</th>\n",
       "      <td>Congratulations, India, on reaching this treme...</td>\n",
       "      <td>None</td>\n",
       "      <td>False</td>\n",
       "      <td>False</td>\n",
       "      <td>True</td>\n",
       "      <td>Organic</td>\n",
       "      <td>Congratulations, India, on reaching this treme...</td>\n",
       "      <td>1.000000</td>\n",
       "      <td>0.166667</td>\n",
       "      <td>Positive</td>\n",
       "    </tr>\n",
       "    <tr>\n",
       "      <th>...</th>\n",
       "      <td>...</td>\n",
       "      <td>...</td>\n",
       "      <td>...</td>\n",
       "      <td>...</td>\n",
       "      <td>...</td>\n",
       "      <td>...</td>\n",
       "      <td>...</td>\n",
       "      <td>...</td>\n",
       "      <td>...</td>\n",
       "      <td>...</td>\n",
       "    </tr>\n",
       "    <tr>\n",
       "      <th>95</th>\n",
       "      <td>It's encouraging to see innovation and clean e...</td>\n",
       "      <td>None</td>\n",
       "      <td>False</td>\n",
       "      <td>False</td>\n",
       "      <td>True</td>\n",
       "      <td>Organic</td>\n",
       "      <td>It's encouraging to see innovation and clean e...</td>\n",
       "      <td>0.584848</td>\n",
       "      <td>0.401010</td>\n",
       "      <td>Positive</td>\n",
       "    </tr>\n",
       "    <tr>\n",
       "      <th>96</th>\n",
       "      <td>Here are five things you should know if you wa...</td>\n",
       "      <td>None</td>\n",
       "      <td>False</td>\n",
       "      <td>False</td>\n",
       "      <td>True</td>\n",
       "      <td>Organic</td>\n",
       "      <td>Here are five things you should know if you wa...</td>\n",
       "      <td>0.000000</td>\n",
       "      <td>0.000000</td>\n",
       "      <td>Neutral</td>\n",
       "    </tr>\n",
       "    <tr>\n",
       "      <th>97</th>\n",
       "      <td>RT @IFPRI: 💡 From #climateadaptation to #gende...</td>\n",
       "      <td>None</td>\n",
       "      <td>True</td>\n",
       "      <td>False</td>\n",
       "      <td>False</td>\n",
       "      <td>Retweet</td>\n",
       "      <td>: 💡 From climateadaptation to genderequality, ...</td>\n",
       "      <td>0.000000</td>\n",
       "      <td>0.000000</td>\n",
       "      <td>Neutral</td>\n",
       "    </tr>\n",
       "    <tr>\n",
       "      <th>98</th>\n",
       "      <td>The technological transformation we need to ad...</td>\n",
       "      <td>None</td>\n",
       "      <td>False</td>\n",
       "      <td>False</td>\n",
       "      <td>True</td>\n",
       "      <td>Organic</td>\n",
       "      <td>The technological transformation we need to ad...</td>\n",
       "      <td>0.425000</td>\n",
       "      <td>0.425000</td>\n",
       "      <td>Positive</td>\n",
       "    </tr>\n",
       "    <tr>\n",
       "      <th>99</th>\n",
       "      <td>I had a great time answering questions about m...</td>\n",
       "      <td>None</td>\n",
       "      <td>False</td>\n",
       "      <td>False</td>\n",
       "      <td>True</td>\n",
       "      <td>Organic</td>\n",
       "      <td>I had a great time answering questions about m...</td>\n",
       "      <td>0.423737</td>\n",
       "      <td>0.312121</td>\n",
       "      <td>Positive</td>\n",
       "    </tr>\n",
       "  </tbody>\n",
       "</table>\n",
       "<p>100 rows × 10 columns</p>\n",
       "</div>"
      ],
      "text/plain": [
       "                                                Tweet is_reply  is_retweeted  \\\n",
       "0   .@GAP_Foundation’s Bio-Hermes Study is the fir...     None         False   \n",
       "1   I recently sat down with the extraordinary Bro...     None         False   \n",
       "2   Happy Birthday, Warren! You’ve been a true fri...     None         False   \n",
       "3   Investments in malaria programs help build str...     None         False   \n",
       "4   Congratulations, India, on reaching this treme...     None         False   \n",
       "..                                                ...      ...           ...   \n",
       "95  It's encouraging to see innovation and clean e...     None         False   \n",
       "96  Here are five things you should know if you wa...     None         False   \n",
       "97  RT @IFPRI: 💡 From #climateadaptation to #gende...     None          True   \n",
       "98  The technological transformation we need to ad...     None         False   \n",
       "99  I had a great time answering questions about m...     None         False   \n",
       "\n",
       "    is_quote  is_organic     Type  \\\n",
       "0       True       False    Quote   \n",
       "1      False        True  Organic   \n",
       "2      False        True  Organic   \n",
       "3      False        True  Organic   \n",
       "4      False        True  Organic   \n",
       "..       ...         ...      ...   \n",
       "95     False        True  Organic   \n",
       "96     False        True  Organic   \n",
       "97     False       False  Retweet   \n",
       "98     False        True  Organic   \n",
       "99     False        True  Organic   \n",
       "\n",
       "                                          clean_Tweet  Subjectivity  Polarity  \\\n",
       "0   ._Foundation’s Bio-Hermes Study is the first t...      0.395833  0.062500   \n",
       "1   I recently sat down with the extraordinary Bro...      0.634722  0.169444   \n",
       "2   Happy Birthday, Warren! You’ve been a true fri...      0.630556  0.634722   \n",
       "3   Investments in malaria programs help build str...      0.500000  0.000000   \n",
       "4   Congratulations, India, on reaching this treme...      1.000000  0.166667   \n",
       "..                                                ...           ...       ...   \n",
       "95  It's encouraging to see innovation and clean e...      0.584848  0.401010   \n",
       "96  Here are five things you should know if you wa...      0.000000  0.000000   \n",
       "97  : 💡 From climateadaptation to genderequality, ...      0.000000  0.000000   \n",
       "98  The technological transformation we need to ad...      0.425000  0.425000   \n",
       "99  I had a great time answering questions about m...      0.423737  0.312121   \n",
       "\n",
       "    Analysis  \n",
       "0   Positive  \n",
       "1   Positive  \n",
       "2   Positive  \n",
       "3    Neutral  \n",
       "4   Positive  \n",
       "..       ...  \n",
       "95  Positive  \n",
       "96   Neutral  \n",
       "97   Neutral  \n",
       "98  Positive  \n",
       "99  Positive  \n",
       "\n",
       "[100 rows x 10 columns]"
      ]
     },
     "execution_count": 188,
     "metadata": {},
     "output_type": "execute_result"
    }
   ],
   "source": [
    "# Create a function to compute negative (-1), neutral (0) and positive (+1) analysis\n",
    "def getAnalysis(score):\n",
    "    if score < 0:\n",
    "        return 'Negative'\n",
    "    elif score == 0:\n",
    "        return 'Neutral'\n",
    "    else:\n",
    "        return 'Positive'\n",
    "df['Analysis'] = df['Polarity'].apply(getAnalysis)\n",
    "# Show the dataframe\n",
    "df"
   ]
  },
  {
   "cell_type": "markdown",
   "metadata": {
    "ExecuteTime": {
     "end_time": "2021-08-27T02:10:12.610120Z",
     "start_time": "2021-08-27T02:10:12.604906Z"
    }
   },
   "source": [
    "### Positive Tweets"
   ]
  },
  {
   "cell_type": "code",
   "execution_count": 189,
   "metadata": {
    "ExecuteTime": {
     "end_time": "2021-09-01T04:35:29.756331Z",
     "start_time": "2021-09-01T04:35:29.735119Z"
    }
   },
   "outputs": [
    {
     "name": "stdout",
     "output_type": "stream",
     "text": [
      "Printing positive tweets:\n",
      "\n",
      "1) .@GAP_Foundation’s Bio-Hermes Study is the first to compare results of blood and digital biomarker tests with imaging and traditional cognitive tests. This could help identify Alzheimer’s earlier and detect progression of the disease, to help us get closer to a cure. https://t.co/9xUQ0ZldSI\n",
      "\n",
      "2) I recently sat down with the extraordinary Brooke Brown, Washington State’s 2021 Teacher of the Year. It was a pleasure to meet with her and take part in one of her favorite lessons: https://t.co/TAwysEihyQ https://t.co/rlB1iJjogC\n",
      "\n",
      "3) Happy Birthday, Warren! You’ve been a true friend and an invaluable source of advice over the years, and I’m so lucky to know you. It’s an honor to work at the foundation doing my best to turn your generosity into lives saved and improved. Here’s to many more birthdays! https://t.co/ZaCGW5KCWm\n",
      "\n",
      "4) Congratulations, India, on reaching this tremendous milestone. The collective efforts of the government, R&amp;D community, vaccine manufacturers, and millions of health workers have made this feat possible. @PMOIndia @MoHFW_INDIA https://t.co/cmvQiAfSZG\n",
      "\n",
      "5) The COVID-19 pandemic reminds us why eradicating malaria is essential. Many of the building blocks we need to fight malaria and prevent the next pandemic are the same. #MosquitoWeek https://t.co/lC9eeVIN3J\n",
      "\n",
      "6) Mosquitoes are the deadliest animal to humans, but @WMPglobal scientists have discovered how to transform one kind of mosquito into a surprisingly powerful ally: https://t.co/T6H9dVZYP0. #MosquitoWeek🦟 https://t.co/ENiniSLs9z\n",
      "\n",
      "7) I don’t think any of @ronnychieng’s innovations are ready to bring to market. Luckily, brilliant scientists and engineers around the world have developed hundreds of exciting solutions that will prevent illness and death: https://t.co/x9lELyhV4c https://t.co/asEKuLP3Zm\n",
      "\n",
      "8) I applaud David Vélez and Mariel Reyes’s pledge to dedicate the majority of their wealth to creating opportunity for the most vulnerable Latin American children and young adults: https://t.co/LGZ23efAVO\n",
      "\n",
      "9) This collaboration’s impact is made possible through investments in the bipartisan infrastructure bill, which will unleash billions in private capital for clean energy projects throughout the U.S. if passed into law. Thank you @SecGranholm for your partnership.\n",
      "\n",
      "10) Avoiding a climate disaster will require a new, clean industrial revolution, and we don't have time to wait. Our work together will not only send us on a more viable path to net zero, but it will create long-term jobs in communities across the country.\n",
      "\n",
      "11) I'm incredibly excited about the new collaboration between @Breakthrough Energy Catalyst and @ENERGY to accelerate the adoption of next-generation clean technologies and build the net-zero economy: https://t.co/85aqtW8HCr\n",
      "\n",
      "12) I’m partnering with @DonorsChoose to make sure that more teachers have access to everything they need to get ready for the new school year. I’ll give your donation an extra 50% boost today when you give to any classroom project or supply request. https://t.co/PjNI0vyjUC\n",
      "\n",
      "13) I’m optimistic about the work that @Breakthrough is doing to invest in companies, support innovators, advocate for better policies, and lower the cost of climate tech. Join us. https://t.co/xlbtvEAqcn\n",
      "\n",
      "14) Reaching zero will take a complete transformation of how we make and do everything – from the technologies and products we create to our public policies to the way we use markets to accelerate change. We need a new industrial revolution powered by clean technology.\n",
      "\n",
      "15) Every climate action we take must be toward the goal of reaching zero. That means rapidly deploying the technologies we have today to reduce emissions and investing immediately in the solutions we still need to get the world to zero.\n",
      "\n",
      "16) Avoiding a disaster will require courage, ambition, and partnership among leaders in every sector around the globe. As the report makes clear, no region will be spared by climate change. It will take all of us to meet this challenge.\n",
      "\n",
      "17) Today’s United Nations climate report is an urgent call to action for the world: we must reach net-zero emissions by 2050 to avoid a climate disaster. https://t.co/eSaC2HyD8q\n",
      "\n",
      "18) Alzheimer’s and related dementias have impacted far too many families around the world—including my own. New funding from @TheADDF will help @EDoNInitiative accelerate data collection and sharing to enable early detection and treatment. https://t.co/4Q28soukxu\n",
      "\n",
      "19) Today’s students have the power to create a better future for all people, and teachers are helping them build their framework for understanding the world. Thank you to Bryan Stevenson for joining the @OERProject Conference for Social Studies this week. https://t.co/3tpHHnbICc\n",
      "\n",
      "20) I’m deeply saddened to hear of Tachi’s passing. I loved working with him and I learned a lot from him. His passion for saving lives and making the world a fairer place was inspiring, and he matched it with an incredible intellect. I will miss him. https://t.co/68O3ytcoo4\n",
      "\n",
      "21) Vaclav Smil’s books are amazing. His latest will give you a framework to think about humanity: https://t.co/sgWOBDRYR4 https://t.co/EsQNmjHvHg\n",
      "\n",
      "22) I enjoyed joining educators from around the world at the @OERProject Conference for the Social Studies to discuss how their teaching practices have changed over the last year and a half. I’m inspired by their resilience and dedication to their students: https://t.co/e7A0IuUhz1 https://t.co/f5K54U0OZj\n",
      "\n",
      "23) It only took Senegal 15 years to cut childhood death in half. Community health workers and successful vaccination campaigns played a key role in this success. Read more from @Exemplarshealth and see how lessons from Senegal can be applied elsewhere. https://t.co/QwYrIlaO9u\n",
      "\n",
      "24) The French drank an impressive amount of wine in 1926, but their consumption is now a third of what it was back then. Why? I love how this book forces you to think about the story behind a seemingly niche statistic. https://t.co/BBlLdeyRJJ\n",
      "\n",
      "25) My favorite author’s new book might be his best one yet. Each chapter covers one of 71 facts about the world that help you understand how history ties together. I unabashedly recommend it to anyone who loves learning. https://t.co/Sqg0r8K1GA\n",
      "\n",
      "26) Our foundation has been working to address this massive problem for 10 years—here’s one of the incredible Reinvent the Toilet designs that could help: https://t.co/FWyi25kEhb https://t.co/GnIeZhIDY8\n",
      "\n",
      "27) Ever heard a toilet be compared to an espresso machine? That’s how Dr. Shannon Yee describes the toilet he and his team have developed. https://t.co/zvLAE6CJ5t\n",
      "\n",
      "28) How much of the world population still lacks access to a toilet that safely removes waste from the home?\n",
      "\n",
      "Find the answer here: https://t.co/IiIquCEvZ0\n",
      "\n",
      "29) RT @gatesfoundation: “We are closer than ever to building a world where safe sanitation service is a basic human right enjoyed by everyone,…\n",
      "\n",
      "30) This map from @OurWorldInData shows the progress we’ve made–but also highlights how much work we have left to do. https://t.co/KmmhFnvctZ\n",
      "\n",
      "31) The COVID pandemic is a powerful reminder of the urgent work needed to contain and treat deadly pathogens. I’m optimistic about the progress being made on another crisis: safe sanitation: https://t.co/88jFx2UjiW https://t.co/h5HCSyQxO4\n",
      "\n",
      "32) You were a good sport, Jimmy. Pro tip...never choose glass “#2” in a poop-water challenge: https://t.co/8shvjTNa4M https://t.co/onnWyhJpqm\n",
      "\n",
      "33) The Gates Foundation is providing additional, flexible funding to the @AfricaCDC for its pandemic response efforts, but more assistance from the global community is urgently needed to fill the gaps. https://t.co/x9k41SUi04\n",
      "\n",
      "34) RT @MSuzman: We take one step closer to a malaria-free world with this exciting new project that seeks to develop an mRNA-based malaria vac…\n",
      "\n",
      "35) I’ve been rewatching some of my favorite movies. Add your favorites to the list on @Likewise. https://t.co/bEgD4aMmSU\n",
      "\n",
      "36) Getting an early start on my weekend reading: this article does a good job explaining immunity and what may happen with COVID-19 in the future. https://t.co/AHatTlUdOr\n",
      "\n",
      "37) During the height of the U.S. polio epidemic, the iron lung was one of the greatest tools used to fight polio. Today, it’s the iron will of the thousands of workers and their supporters who are committed to finishing the job. https://t.co/oAzGsIGSUN #endpolio\n",
      "\n",
      "38) RT @UN: Let us renew our determination to build a strong, sustainable and inclusive recovery from the pandemic, and to take decisive action…\n",
      "\n",
      "39) Our foundation joined the polio fight almost 15 years ago. And in all that time, I cannot think of a more important moment than right now. https://t.co/ZUyvSZyzau\n",
      "\n",
      "40) I look forward to working with you and @EU_Commission on all of these important goals. Europe is a critical partner in creating a net-zero future and ensuring a healthy and equitable world for all. https://t.co/O16waKVVVo\n",
      "\n",
      "41) Reaching net-zero emissions by 2050 means transforming our entire physical economy and accelerating innovation at an unprecedented pace. @Breakthrough Energy Catalyst will jumpstart this process. https://t.co/MAKM2lAyy0\n",
      "\n",
      "42) This is the greatest opportunity for innovation in human history: https://t.co/rBFo2LjpsH https://t.co/bj6rY3FszB\n",
      "\n",
      "43) RT @Breakthrough: BE Catalyst is financing the foundation of a clean economy through four critical technologies. In these areas, Catalyst a…\n",
      "\n",
      "44) These students are doing inspiring work. Their ambition makes me optimistic about the future of health care (and the world). https://t.co/jA9yDbo5Or\n",
      "\n",
      "45) I’m excited about @Breakthrough Energy Catalyst and think it can help make clean-energy innovations more available and affordable for everyone. https://t.co/59eVhOSrGC\n",
      "\n",
      "46) This expanded commitment to the foundation will accelerate its mission to fight poverty, disease, and inequity around the world. I'm grateful to the foundation's leadership team, employees, and partners for their dedication to making the world healthier and more just. https://t.co/6fqy34HX6C\n",
      "\n",
      "47) RT @USAID: With nearly six decades in the medical profession, Dr. Louisa Samonsia thought she had seen it all. Then, COVID-19 hit.\n",
      "\n",
      "Learn h…\n",
      "\n",
      "48) Stopping Alzheimer’s requires more eyes on the problem. ADDI @AlzData recently hosted their 1st Data Challenge. I was inspired to see more than 1,200+ people from 65+ countries/regions join the fight. https://t.co/kTovX2SWch\n",
      "\n",
      "49) It’s really encouraging to see these results. Dengue fever infects hundreds of millions of people a year and causes debilitating disease. This incredible technique could also be effective at stopping the spread of other viruses like Zika and Chikungunya. https://t.co/AdFpD1hW5c\n",
      "\n",
      "50) This important commitment builds on the @gatesfoundation's efforts to support partners working to create a more equal world. https://t.co/M0RO0s62ZP\n",
      "\n",
      "51) I am truly grateful for his wisdom and leadership, and most of all for his enduring friendship. Warren will continue to inspire our foundation as we work to fight poverty and help millions of people live healthier lives. https://t.co/qYYl1APURx\n",
      "\n",
      "52) I will always have a deep sense of accountability to Warren, paying close attention to the data to track our progress and identify areas where we can do better. But the value of Warren’s gift goes beyond anything that can be measured.\n",
      "\n",
      "53) Should you pick your nose?\n",
      "\n",
      "You can read an excerpt from Matt Richtel’s fascinating book about the immune system on my blog to find the answer: https://t.co/cgfc1aUzPA https://t.co/Uc7vqT2B1m\n",
      "\n",
      "54) The journalist @ElizKolbert has created a fascinating beat for herself covering humanity’s impact on nature and our attempts to control it. Her latest book is a good reminder that we need to watch out for the unforeseen effects of our actions. https://t.co/8gt4I8oxXc\n",
      "\n",
      "55) I'm almost always interested in books about American presidents, and I especially loved A Promised Land. It’s a fascinating look at what it’s like to steer a country through challenging times. https://t.co/RgpXbkOnDw\n",
      "\n",
      "56) This book gave me a deeper, more nuanced appreciation for the system that is at the core of humanity’s fight against COVID-19 and everything our foundation’s Global Health program is trying to do. https://t.co/uTUH19oKKc\n",
      "\n",
      "57) If you’re looking for a good book to read this summer, these are some of my favorites. https://t.co/e19FKzFFL1\n",
      "\n",
      "58) The @G7’s commitment to share 870M COVID-19 vaccine doses over the next year is welcome news - but time is not on our side. Vaccines must be delivered now to help control the pandemic everywhere and not disrupt the progress we've made. https://t.co/gWvonMax6n\n",
      "\n",
      "59) RT @rajpanjabi: As a physician, I’ve seen too many colleagues make the ultimate sacrifice on the frontlines. Over 115,000 health and care w…\n",
      "\n",
      "60) Polio tools and infrastructure are also critical to combatting other public health emergencies, like COVID-19. It is more important than ever that donors and countries commit to the new GPEI strategy to #endpolio and continue improving health for all. https://t.co/jaN6hPRT23\n",
      "\n",
      "61) These young leaders make me optimistic that brighter days are ahead for America’s students and teachers. https://t.co/aiue8lKiZ6\n",
      "\n",
      "62) Against the odds, @MohamedBailorB8 became a doctor and is helping his country recover from civil war, Ebola, and now COVID-19. This doctor’s life story is almost as remarkable as his work. https://t.co/giKIhT4W8b\n",
      "\n",
      "63) This is an important step in the U.S. clean energy transition. I’m excited to see @TerraPower working with @PacifiCorp, @GovernorGordon, and @Energy to bring this project to life with the workforce of Wyoming. https://t.co/AYeFV5aO5b\n",
      "\n",
      "64) Heroes like Dr. Mohamed Barrie are the reason we started our foundation more than 20 years ago and why Melinda and I remain committed to its work. Mohamed’s story is truly inspiring, and I can’t wait to see what he and his team will accomplish next. https://t.co/ovDzfwSKwP\n",
      "\n",
      "65) RT @MSuzman: Promising news from the @Gavi #COVAX AMC Summit as they have exceeded today’s fundraising target. This means more people in lo…\n",
      "\n",
      "66) The pandemic has exacerbated existing racial health inequities in the United States. The Health Equity Tracker is a new tool bringing visibility to disparities in U.S. medicine. https://t.co/vxAiSLifKT\n",
      "\n",
      "67) RT @gatesfoundation: As our CEO @MSuzman says, no barriers should stand in the way of equitable access to vaccines. We are supportive of a…\n",
      "\n",
      "68) RT @WHO: The @ACTAccelerator, an unprecedented global alliance to develop &amp; deliver the tests, treatments &amp; vaccines the 🌐 needs to fight #…\n",
      "\n",
      "69) Ambitious short-term goals like this are critical to moving closer to a net-zero future. As we rapidly scale the solutions we have, we must also invest in innovation to reach our ultimate goals. Thank you @POTUS for your leadership. https://t.co/SVeKp1KPHT\n",
      "\n",
      "70) It’s encouraging to see @POTUS Biden and @ClimateEnvoy Kerry re-establish America’s leading role on climate change. I look forward to joining leaders from around the world to talk about some of the most important challenges we need to overcome to avoid a climate disaster. https://t.co/a9CXZzIg6Y\n",
      "\n",
      "71) Yesterday's verdict was a step in the right direction. But one court ruling alone will not bring to an end the injustice and inequity that Black people experience daily.  I hope we will continue to make real progress on this.\n",
      "\n",
      "72) “Time” is a poetic portrait of a family who love and support each other despite their difficult circumstances. I can’t recommend it highly enough. https://t.co/pxkDEmL2SR\n",
      "\n",
      "73) If “Time” wins the Oscar this year, it will be the first documentary directed by a Black woman to do so. Garrett Bradley’s talent makes her worthy of that milestone. This is one of the most intimate movies I have ever seen. #itsTIME https://t.co/37x1gfWZgZ\n",
      "\n",
      "74) RT @gavi: In February, Ghana became the first African country to receive vaccines through #COVAX. Meet one of the nurses spearheading the v…\n",
      "\n",
      "75) To get to net-zero emissions globally by 2050, leaders from around the world must work together. It’s encouraging to see governments, business leaders, and financial institutions committing to a successful COP26 in Glasgow later this year. https://t.co/9bLQJvfZIR\n",
      "\n",
      "76) The amount of cement China has consumed is a staggering statistic and reminder of how much emissions have grown in low- and middle-income countries. (Minecraft concrete doesn’t count, though server farms are responsible for a lot of emissions.) https://t.co/b8tSNNdUBy https://t.co/bFrIIUv97i\n",
      "\n",
      "77) Who installed the most concrete?\n",
      "\n",
      "Check your answer: https://t.co/wqmmPffvwB\n",
      "\n",
      "78) The best way to prevent new variants from emerging is by stopping transmission of the virus altogether: https://t.co/KhJoM3LBmr https://t.co/5Vhfsjew3D\n",
      "\n",
      "79) It's encouraging to see innovation and clean energy investments at the forefront of @POTUS's #AmericanJobsPlan. Building markets for new energy technologies is good for jobs today and will build the economies we need while avoiding a climate disaster. https://t.co/V6GcPSiaH8\n",
      "\n",
      "80) The technological transformation we need to address climate change can create good, safe jobs and build a more equitable, prosperous economy. To make that happen, we need to think big: https://t.co/jFWTPyaOAq https://t.co/PR5sxI7aDt\n",
      "\n",
      "81) I had a great time answering questions about my new book, climate change, and COVID-19 on @reddit last week. Here’s a recap of the conversation. https://t.co/Kvd2blqXkL\n",
      "\n"
     ]
    }
   ],
   "source": [
    "# Printing positive tweets \n",
    "print('Printing positive tweets:\\n')\n",
    "j=1\n",
    "sortedDF = df.sort_values(by=['Polarity']) #Sort the tweets\n",
    "for i in range(0, sortedDF.shape[0] ):\n",
    "    if( sortedDF['Analysis'][i] == 'Positive'):\n",
    "        print(str(j) + ') '+ sortedDF['Tweet'][i])\n",
    "        print()\n",
    "        j= j+1"
   ]
  },
  {
   "cell_type": "markdown",
   "metadata": {},
   "source": [
    "### Negative Tweets"
   ]
  },
  {
   "cell_type": "code",
   "execution_count": 190,
   "metadata": {
    "ExecuteTime": {
     "end_time": "2021-09-01T04:35:34.685841Z",
     "start_time": "2021-09-01T04:35:34.674826Z"
    }
   },
   "outputs": [
    {
     "name": "stdout",
     "output_type": "stream",
     "text": [
      "Printing negative tweets:\n",
      "\n",
      "1) Over the years, I’ve shared a stage with a jar of human feces, smelled pit latrine odor, and drunk water made from poop (and convinced @jimmyfallon to drink it too). Was it worth it? You bet. Here’s why: https://t.co/8SJbCuNezD\n",
      "\n",
      "2) Communities of color have been hit hard by COVID-19. One of the reasons why parts of the medical system often fail Black and brown people is because it’s not designed with them in mind. Dr. Stephaun Wallace wants to change that. https://t.co/VIaM9385bv\n",
      "\n",
      "3) Dr. Stephaun Wallace (@imstephaunelite) has spent the last year helping make COVID-19 vaccines work for everybody. Stephaun and his colleagues at @FredHutch are working to reach the people who are usually left behind. https://t.co/7wqSeT3DJN\n",
      "\n"
     ]
    }
   ],
   "source": [
    "# Printing negative tweets  \n",
    "print('Printing negative tweets:\\n')\n",
    "j=1\n",
    "sortedDF = df.sort_values(by=['Polarity'],ascending=False) #Sort the tweets\n",
    "for i in range(0, sortedDF.shape[0] ):\n",
    "    if( sortedDF['Analysis'][i] == 'Negative'):\n",
    "        print(str(j) + ') '+sortedDF['Tweet'][i])\n",
    "        print()\n",
    "        j=j+1"
   ]
  },
  {
   "cell_type": "markdown",
   "metadata": {},
   "source": [
    "### Basic Charts"
   ]
  },
  {
   "cell_type": "code",
   "execution_count": 191,
   "metadata": {
    "ExecuteTime": {
     "end_time": "2021-09-01T04:35:40.289943Z",
     "start_time": "2021-09-01T04:35:39.056963Z"
    }
   },
   "outputs": [
    {
     "data": {
      "image/png": "[encoded data removed]",
      "text/plain": [
       "<Figure size 576x432 with 1 Axes>"
      ]
     },
     "metadata": {
      "needs_background": "light"
     },
     "output_type": "display_data"
    }
   ],
   "source": [
    "# Plotting \n",
    "plt.figure(figsize=(8,6)) \n",
    "for i in range(0, df.shape[0]):\n",
    "    plt.scatter(df[\"Polarity\"][i], df[\"Subjectivity\"][i], color='Blue') \n",
    "# plt.scatter(x,y,color)   \n",
    "plt.title('Sentiment Analysis') \n",
    "plt.xlabel('Polarity') \n",
    "plt.ylabel('Subjectivity') \n",
    "plt.show()"
   ]
  },
  {
   "cell_type": "code",
   "execution_count": 192,
   "metadata": {
    "ExecuteTime": {
     "end_time": "2021-09-01T04:35:43.658557Z",
     "start_time": "2021-09-01T04:35:43.645799Z"
    }
   },
   "outputs": [
    {
     "data": {
      "text/plain": [
       "81.0"
      ]
     },
     "execution_count": 192,
     "metadata": {},
     "output_type": "execute_result"
    }
   ],
   "source": [
    "# Print the percentage of positive tweets\n",
    "ptweets = df[df.Analysis == 'Positive']\n",
    "ptweets = ptweets['Tweet']\n",
    "ptweets\n",
    "\n",
    "round( (ptweets.shape[0] / df.shape[0]) * 100 , 1)"
   ]
  },
  {
   "cell_type": "code",
   "execution_count": 193,
   "metadata": {
    "ExecuteTime": {
     "end_time": "2021-09-01T04:35:45.796717Z",
     "start_time": "2021-09-01T04:35:45.789274Z"
    }
   },
   "outputs": [
    {
     "data": {
      "text/plain": [
       "3.0"
      ]
     },
     "execution_count": 193,
     "metadata": {},
     "output_type": "execute_result"
    }
   ],
   "source": [
    "# Print the percentage of negative tweets\n",
    "ntweets = df[df.Analysis == 'Negative']\n",
    "ntweets = ntweets['Tweet']\n",
    "ntweets\n",
    "\n",
    "round( (ntweets.shape[0] / df.shape[0]) * 100, 1)"
   ]
  },
  {
   "cell_type": "code",
   "execution_count": 194,
   "metadata": {
    "ExecuteTime": {
     "end_time": "2021-09-01T04:35:47.889961Z",
     "start_time": "2021-09-01T04:35:47.879207Z"
    }
   },
   "outputs": [
    {
     "data": {
      "text/plain": [
       "Positive    81\n",
       "Neutral     16\n",
       "Negative     3\n",
       "Name: Analysis, dtype: int64"
      ]
     },
     "execution_count": 194,
     "metadata": {},
     "output_type": "execute_result"
    }
   ],
   "source": [
    "# Show the value counts\n",
    "df['Analysis'].value_counts()"
   ]
  },
  {
   "cell_type": "code",
   "execution_count": 195,
   "metadata": {
    "ExecuteTime": {
     "end_time": "2021-09-01T04:35:49.883938Z",
     "start_time": "2021-09-01T04:35:49.740411Z"
    }
   },
   "outputs": [
    {
     "data": {
      "image/png": "[encoded data removed]",
      "text/plain": [
       "<Figure size 432x288 with 1 Axes>"
      ]
     },
     "metadata": {
      "needs_background": "light"
     },
     "output_type": "display_data"
    }
   ],
   "source": [
    "# Plotting and visualizing the counts\n",
    "plt.title('Sentiment Analysis')\n",
    "plt.xlabel('Sentiment')\n",
    "plt.ylabel('Counts')\n",
    "df['Analysis'].value_counts().plot(kind = 'bar')\n",
    "plt.show()"
   ]
  },
  {
   "cell_type": "markdown",
   "metadata": {},
   "source": [
    "### Plotly Charts\n",
    "#### Tweets Classification by Sentiment"
   ]
  },
  {
   "cell_type": "code",
   "execution_count": null,
   "metadata": {},
   "outputs": [],
   "source": [
    "import plotly.express as px"
   ]
  },
  {
   "cell_type": "code",
   "execution_count": 125,
   "metadata": {
    "ExecuteTime": {
     "end_time": "2021-09-01T03:05:17.500559Z",
     "start_time": "2021-09-01T03:05:17.497645Z"
    }
   },
   "outputs": [],
   "source": [
    "# Set Colors \n",
    "blue = \"#1DA1F2\"\n",
    "black = \"#14171A\"\n",
    "dark_gray = \"#657786\"\n",
    "light_gray = \"#AAB8C2\""
   ]
  },
  {
   "cell_type": "code",
   "execution_count": 196,
   "metadata": {
    "ExecuteTime": {
     "end_time": "2021-09-01T04:35:55.241611Z",
     "start_time": "2021-09-01T04:35:54.709698Z"
    }
   },
   "outputs": [
    {
     "data": {
      "application/vnd.plotly.v1+json": {
       "config": {
        "plotlyServerURL": "https://plot.ly"
       },
       "data": [
        {
         "customdata": [
          [
           "Negative"
          ],
          [
           "Neutral"
          ],
          [
           "Positive"
          ]
         ],
         "domain": {
          "x": [
           0,
           1
          ],
          "y": [
           0,
           1
          ]
         },
         "hole": 0.4,
         "hovertemplate": "Analysis=%{label}<br>Tweet=%{value}<extra></extra>",
         "labels": [
          "Negative",
          "Neutral",
          "Positive"
         ],
         "legendgroup": "",
         "marker": {
          "colors": [
           "#14171A",
           "#657786",
           "#1DA1F2"
          ]
         },
         "name": "",
         "showlegend": true,
         "textinfo": "percent+label",
         "textposition": "inside",
         "type": "pie",
         "values": [
          3,
          16,
          81
         ]
        }
       ],
       "layout": {
        "legend": {
         "tracegroupgap": 0
        },
        "margin": {
         "t": 60
        },
        "showlegend": false,
        "template": {
         "data": {
          "bar": [
           {
            "error_x": {
             "color": "#2a3f5f"
            },
            "error_y": {
             "color": "#2a3f5f"
            },
            "marker": {
             "line": {
              "color": "#E5ECF6",
              "width": 0.5
             }
            },
            "type": "bar"
           }
          ],
          "barpolar": [
           {
            "marker": {
             "line": {
              "color": "#E5ECF6",
              "width": 0.5
             }
            },
            "type": "barpolar"
           }
          ],
          "carpet": [
           {
            "aaxis": {
             "endlinecolor": "#2a3f5f",
             "gridcolor": "white",
             "linecolor": "white",
             "minorgridcolor": "white",
             "startlinecolor": "#2a3f5f"
            },
            "baxis": {
             "endlinecolor": "#2a3f5f",
             "gridcolor": "white",
             "linecolor": "white",
             "minorgridcolor": "white",
             "startlinecolor": "#2a3f5f"
            },
            "type": "carpet"
           }
          ],
          "choropleth": [
           {
            "colorbar": {
             "outlinewidth": 0,
             "ticks": ""
            },
            "type": "choropleth"
           }
          ],
          "contour": [
           {
            "colorbar": {
             "outlinewidth": 0,
             "ticks": ""
            },
            "colorscale": [
             [
              0,
              "#0d0887"
             ],
             [
              0.1111111111111111,
              "#46039f"
             ],
             [
              0.2222222222222222,
              "#7201a8"
             ],
             [
              0.3333333333333333,
              "#9c179e"
             ],
             [
              0.4444444444444444,
              "#bd3786"
             ],
             [
              0.5555555555555556,
              "#d8576b"
             ],
             [
              0.6666666666666666,
              "#ed7953"
             ],
             [
              0.7777777777777778,
              "#fb9f3a"
             ],
             [
              0.8888888888888888,
              "#fdca26"
             ],
             [
              1,
              "#f0f921"
             ]
            ],
            "type": "contour"
           }
          ],
          "contourcarpet": [
           {
            "colorbar": {
             "outlinewidth": 0,
             "ticks": ""
            },
            "type": "contourcarpet"
           }
          ],
          "heatmap": [
           {
            "colorbar": {
             "outlinewidth": 0,
             "ticks": ""
            },
            "colorscale": [
             [
              0,
              "#0d0887"
             ],
             [
              0.1111111111111111,
              "#46039f"
             ],
             [
              0.2222222222222222,
              "#7201a8"
             ],
             [
              0.3333333333333333,
              "#9c179e"
             ],
             [
              0.4444444444444444,
              "#bd3786"
             ],
             [
              0.5555555555555556,
              "#d8576b"
             ],
             [
              0.6666666666666666,
              "#ed7953"
             ],
             [
              0.7777777777777778,
              "#fb9f3a"
             ],
             [
              0.8888888888888888,
              "#fdca26"
             ],
             [
              1,
              "#f0f921"
             ]
            ],
            "type": "heatmap"
           }
          ],
          "heatmapgl": [
           {
            "colorbar": {
             "outlinewidth": 0,
             "ticks": ""
            },
            "colorscale": [
             [
              0,
              "#0d0887"
             ],
             [
              0.1111111111111111,
              "#46039f"
             ],
             [
              0.2222222222222222,
              "#7201a8"
             ],
             [
              0.3333333333333333,
              "#9c179e"
             ],
             [
              0.4444444444444444,
              "#bd3786"
             ],
             [
              0.5555555555555556,
              "#d8576b"
             ],
             [
              0.6666666666666666,
              "#ed7953"
             ],
             [
              0.7777777777777778,
              "#fb9f3a"
             ],
             [
              0.8888888888888888,
              "#fdca26"
             ],
             [
              1,
              "#f0f921"
             ]
            ],
            "type": "heatmapgl"
           }
          ],
          "histogram": [
           {
            "marker": {
             "colorbar": {
              "outlinewidth": 0,
              "ticks": ""
             }
            },
            "type": "histogram"
           }
          ],
          "histogram2d": [
           {
            "colorbar": {
             "outlinewidth": 0,
             "ticks": ""
            },
            "colorscale": [
             [
              0,
              "#0d0887"
             ],
             [
              0.1111111111111111,
              "#46039f"
             ],
             [
              0.2222222222222222,
              "#7201a8"
             ],
             [
              0.3333333333333333,
              "#9c179e"
             ],
             [
              0.4444444444444444,
              "#bd3786"
             ],
             [
              0.5555555555555556,
              "#d8576b"
             ],
             [
              0.6666666666666666,
              "#ed7953"
             ],
             [
              0.7777777777777778,
              "#fb9f3a"
             ],
             [
              0.8888888888888888,
              "#fdca26"
             ],
             [
              1,
              "#f0f921"
             ]
            ],
            "type": "histogram2d"
           }
          ],
          "histogram2dcontour": [
           {
            "colorbar": {
             "outlinewidth": 0,
             "ticks": ""
            },
            "colorscale": [
             [
              0,
              "#0d0887"
             ],
             [
              0.1111111111111111,
              "#46039f"
             ],
             [
              0.2222222222222222,
              "#7201a8"
             ],
             [
              0.3333333333333333,
              "#9c179e"
             ],
             [
              0.4444444444444444,
              "#bd3786"
             ],
             [
              0.5555555555555556,
              "#d8576b"
             ],
             [
              0.6666666666666666,
              "#ed7953"
             ],
             [
              0.7777777777777778,
              "#fb9f3a"
             ],
             [
              0.8888888888888888,
              "#fdca26"
             ],
             [
              1,
              "#f0f921"
             ]
            ],
            "type": "histogram2dcontour"
           }
          ],
          "mesh3d": [
           {
            "colorbar": {
             "outlinewidth": 0,
             "ticks": ""
            },
            "type": "mesh3d"
           }
          ],
          "parcoords": [
           {
            "line": {
             "colorbar": {
              "outlinewidth": 0,
              "ticks": ""
             }
            },
            "type": "parcoords"
           }
          ],
          "pie": [
           {
            "automargin": true,
            "type": "pie"
           }
          ],
          "scatter": [
           {
            "marker": {
             "colorbar": {
              "outlinewidth": 0,
              "ticks": ""
             }
            },
            "type": "scatter"
           }
          ],
          "scatter3d": [
           {
            "line": {
             "colorbar": {
              "outlinewidth": 0,
              "ticks": ""
             }
            },
            "marker": {
             "colorbar": {
              "outlinewidth": 0,
              "ticks": ""
             }
            },
            "type": "scatter3d"
           }
          ],
          "scattercarpet": [
           {
            "marker": {
             "colorbar": {
              "outlinewidth": 0,
              "ticks": ""
             }
            },
            "type": "scattercarpet"
           }
          ],
          "scattergeo": [
           {
            "marker": {
             "colorbar": {
              "outlinewidth": 0,
              "ticks": ""
             }
            },
            "type": "scattergeo"
           }
          ],
          "scattergl": [
           {
            "marker": {
             "colorbar": {
              "outlinewidth": 0,
              "ticks": ""
             }
            },
            "type": "scattergl"
           }
          ],
          "scattermapbox": [
           {
            "marker": {
             "colorbar": {
              "outlinewidth": 0,
              "ticks": ""
             }
            },
            "type": "scattermapbox"
           }
          ],
          "scatterpolar": [
           {
            "marker": {
             "colorbar": {
              "outlinewidth": 0,
              "ticks": ""
             }
            },
            "type": "scatterpolar"
           }
          ],
          "scatterpolargl": [
           {
            "marker": {
             "colorbar": {
              "outlinewidth": 0,
              "ticks": ""
             }
            },
            "type": "scatterpolargl"
           }
          ],
          "scatterternary": [
           {
            "marker": {
             "colorbar": {
              "outlinewidth": 0,
              "ticks": ""
             }
            },
            "type": "scatterternary"
           }
          ],
          "surface": [
           {
            "colorbar": {
             "outlinewidth": 0,
             "ticks": ""
            },
            "colorscale": [
             [
              0,
              "#0d0887"
             ],
             [
              0.1111111111111111,
              "#46039f"
             ],
             [
              0.2222222222222222,
              "#7201a8"
             ],
             [
              0.3333333333333333,
              "#9c179e"
             ],
             [
              0.4444444444444444,
              "#bd3786"
             ],
             [
              0.5555555555555556,
              "#d8576b"
             ],
             [
              0.6666666666666666,
              "#ed7953"
             ],
             [
              0.7777777777777778,
              "#fb9f3a"
             ],
             [
              0.8888888888888888,
              "#fdca26"
             ],
             [
              1,
              "#f0f921"
             ]
            ],
            "type": "surface"
           }
          ],
          "table": [
           {
            "cells": {
             "fill": {
              "color": "#EBF0F8"
             },
             "line": {
              "color": "white"
             }
            },
            "header": {
             "fill": {
              "color": "#C8D4E3"
             },
             "line": {
              "color": "white"
             }
            },
            "type": "table"
           }
          ]
         },
         "layout": {
          "annotationdefaults": {
           "arrowcolor": "#2a3f5f",
           "arrowhead": 0,
           "arrowwidth": 1
          },
          "coloraxis": {
           "colorbar": {
            "outlinewidth": 0,
            "ticks": ""
           }
          },
          "colorscale": {
           "diverging": [
            [
             0,
             "#8e0152"
            ],
            [
             0.1,
             "#c51b7d"
            ],
            [
             0.2,
             "#de77ae"
            ],
            [
             0.3,
             "#f1b6da"
            ],
            [
             0.4,
             "#fde0ef"
            ],
            [
             0.5,
             "#f7f7f7"
            ],
            [
             0.6,
             "#e6f5d0"
            ],
            [
             0.7,
             "#b8e186"
            ],
            [
             0.8,
             "#7fbc41"
            ],
            [
             0.9,
             "#4d9221"
            ],
            [
             1,
             "#276419"
            ]
           ],
           "sequential": [
            [
             0,
             "#0d0887"
            ],
            [
             0.1111111111111111,
             "#46039f"
            ],
            [
             0.2222222222222222,
             "#7201a8"
            ],
            [
             0.3333333333333333,
             "#9c179e"
            ],
            [
             0.4444444444444444,
             "#bd3786"
            ],
            [
             0.5555555555555556,
             "#d8576b"
            ],
            [
             0.6666666666666666,
             "#ed7953"
            ],
            [
             0.7777777777777778,
             "#fb9f3a"
            ],
            [
             0.8888888888888888,
             "#fdca26"
            ],
            [
             1,
             "#f0f921"
            ]
           ],
           "sequentialminus": [
            [
             0,
             "#0d0887"
            ],
            [
             0.1111111111111111,
             "#46039f"
            ],
            [
             0.2222222222222222,
             "#7201a8"
            ],
            [
             0.3333333333333333,
             "#9c179e"
            ],
            [
             0.4444444444444444,
             "#bd3786"
            ],
            [
             0.5555555555555556,
             "#d8576b"
            ],
            [
             0.6666666666666666,
             "#ed7953"
            ],
            [
             0.7777777777777778,
             "#fb9f3a"
            ],
            [
             0.8888888888888888,
             "#fdca26"
            ],
            [
             1,
             "#f0f921"
            ]
           ]
          },
          "colorway": [
           "#636efa",
           "#EF553B",
           "#00cc96",
           "#ab63fa",
           "#FFA15A",
           "#19d3f3",
           "#FF6692",
           "#B6E880",
           "#FF97FF",
           "#FECB52"
          ],
          "font": {
           "color": "#2a3f5f"
          },
          "geo": {
           "bgcolor": "white",
           "lakecolor": "white",
           "landcolor": "#E5ECF6",
           "showlakes": true,
           "showland": true,
           "subunitcolor": "white"
          },
          "hoverlabel": {
           "align": "left"
          },
          "hovermode": "closest",
          "mapbox": {
           "style": "light"
          },
          "paper_bgcolor": "white",
          "plot_bgcolor": "#E5ECF6",
          "polar": {
           "angularaxis": {
            "gridcolor": "white",
            "linecolor": "white",
            "ticks": ""
           },
           "bgcolor": "#E5ECF6",
           "radialaxis": {
            "gridcolor": "white",
            "linecolor": "white",
            "ticks": ""
           }
          },
          "scene": {
           "xaxis": {
            "backgroundcolor": "#E5ECF6",
            "gridcolor": "white",
            "gridwidth": 2,
            "linecolor": "white",
            "showbackground": true,
            "ticks": "",
            "zerolinecolor": "white"
           },
           "yaxis": {
            "backgroundcolor": "#E5ECF6",
            "gridcolor": "white",
            "gridwidth": 2,
            "linecolor": "white",
            "showbackground": true,
            "ticks": "",
            "zerolinecolor": "white"
           },
           "zaxis": {
            "backgroundcolor": "#E5ECF6",
            "gridcolor": "white",
            "gridwidth": 2,
            "linecolor": "white",
            "showbackground": true,
            "ticks": "",
            "zerolinecolor": "white"
           }
          },
          "shapedefaults": {
           "line": {
            "color": "#2a3f5f"
           }
          },
          "ternary": {
           "aaxis": {
            "gridcolor": "white",
            "linecolor": "white",
            "ticks": ""
           },
           "baxis": {
            "gridcolor": "white",
            "linecolor": "white",
            "ticks": ""
           },
           "bgcolor": "#E5ECF6",
           "caxis": {
            "gridcolor": "white",
            "linecolor": "white",
            "ticks": ""
           }
          },
          "title": {
           "x": 0.05
          },
          "xaxis": {
           "automargin": true,
           "gridcolor": "white",
           "linecolor": "white",
           "ticks": "",
           "title": {
            "standoff": 15
           },
           "zerolinecolor": "white",
           "zerolinewidth": 2
          },
          "yaxis": {
           "automargin": true,
           "gridcolor": "white",
           "linecolor": "white",
           "ticks": "",
           "title": {
            "standoff": 15
           },
           "zerolinecolor": "white",
           "zerolinewidth": 2
          }
         }
        },
        "title": {
         "text": "Tweets Classification by Sentiment"
        }
       }
      },
      "text/html": [
       "<div>\n",
       "        \n",
       "        \n",
       "            <div id=\"23c0c3a8-98a7-4e54-af88-2aa5998797ad\" class=\"plotly-graph-div\" style=\"height:525px; width:100%;\"></div>\n",
       "            <script type=\"text/javascript\">\n",
       "                require([\"plotly\"], function(Plotly) {\n",
       "                    window.PLOTLYENV=window.PLOTLYENV || {};\n",
       "                    \n",
       "                if (document.getElementById(\"23c0c3a8-98a7-4e54-af88-2aa5998797ad\")) {\n",
       "                    Plotly.newPlot(\n",
       "                        '23c0c3a8-98a7-4e54-af88-2aa5998797ad',\n",
       "                        [{\"customdata\": [[\"Negative\"], [\"Neutral\"], [\"Positive\"]], \"domain\": {\"x\": [0.0, 1.0], \"y\": [0.0, 1.0]}, \"hole\": 0.4, \"hovertemplate\": \"Analysis=%{label}<br>Tweet=%{value}<extra></extra>\", \"labels\": [\"Negative\", \"Neutral\", \"Positive\"], \"legendgroup\": \"\", \"marker\": {\"colors\": [\"#14171A\", \"#657786\", \"#1DA1F2\"]}, \"name\": \"\", \"showlegend\": true, \"textinfo\": \"percent+label\", \"textposition\": \"inside\", \"type\": \"pie\", \"values\": [3, 16, 81]}],\n",
       "                        {\"legend\": {\"tracegroupgap\": 0}, \"margin\": {\"t\": 60}, \"showlegend\": false, \"template\": {\"data\": {\"bar\": [{\"error_x\": {\"color\": \"#2a3f5f\"}, \"error_y\": {\"color\": \"#2a3f5f\"}, \"marker\": {\"line\": {\"color\": \"#E5ECF6\", \"width\": 0.5}}, \"type\": \"bar\"}], \"barpolar\": [{\"marker\": {\"line\": {\"color\": \"#E5ECF6\", \"width\": 0.5}}, \"type\": \"barpolar\"}], \"carpet\": [{\"aaxis\": {\"endlinecolor\": \"#2a3f5f\", \"gridcolor\": \"white\", \"linecolor\": \"white\", \"minorgridcolor\": \"white\", \"startlinecolor\": \"#2a3f5f\"}, \"baxis\": {\"endlinecolor\": \"#2a3f5f\", \"gridcolor\": \"white\", \"linecolor\": \"white\", \"minorgridcolor\": \"white\", \"startlinecolor\": \"#2a3f5f\"}, \"type\": \"carpet\"}], \"choropleth\": [{\"colorbar\": {\"outlinewidth\": 0, \"ticks\": \"\"}, \"type\": \"choropleth\"}], \"contour\": [{\"colorbar\": {\"outlinewidth\": 0, \"ticks\": \"\"}, \"colorscale\": [[0.0, \"#0d0887\"], [0.1111111111111111, \"#46039f\"], [0.2222222222222222, \"#7201a8\"], [0.3333333333333333, \"#9c179e\"], [0.4444444444444444, \"#bd3786\"], [0.5555555555555556, \"#d8576b\"], [0.6666666666666666, \"#ed7953\"], [0.7777777777777778, \"#fb9f3a\"], [0.8888888888888888, \"#fdca26\"], [1.0, \"#f0f921\"]], \"type\": \"contour\"}], \"contourcarpet\": [{\"colorbar\": {\"outlinewidth\": 0, \"ticks\": \"\"}, \"type\": \"contourcarpet\"}], \"heatmap\": [{\"colorbar\": {\"outlinewidth\": 0, \"ticks\": \"\"}, \"colorscale\": [[0.0, \"#0d0887\"], [0.1111111111111111, \"#46039f\"], [0.2222222222222222, \"#7201a8\"], [0.3333333333333333, \"#9c179e\"], [0.4444444444444444, \"#bd3786\"], [0.5555555555555556, \"#d8576b\"], [0.6666666666666666, \"#ed7953\"], [0.7777777777777778, \"#fb9f3a\"], [0.8888888888888888, \"#fdca26\"], [1.0, \"#f0f921\"]], \"type\": \"heatmap\"}], \"heatmapgl\": [{\"colorbar\": {\"outlinewidth\": 0, \"ticks\": \"\"}, \"colorscale\": [[0.0, \"#0d0887\"], [0.1111111111111111, \"#46039f\"], [0.2222222222222222, \"#7201a8\"], [0.3333333333333333, \"#9c179e\"], [0.4444444444444444, \"#bd3786\"], [0.5555555555555556, \"#d8576b\"], [0.6666666666666666, \"#ed7953\"], [0.7777777777777778, \"#fb9f3a\"], [0.8888888888888888, \"#fdca26\"], [1.0, \"#f0f921\"]], \"type\": \"heatmapgl\"}], \"histogram\": [{\"marker\": {\"colorbar\": {\"outlinewidth\": 0, \"ticks\": \"\"}}, \"type\": \"histogram\"}], \"histogram2d\": [{\"colorbar\": {\"outlinewidth\": 0, \"ticks\": \"\"}, \"colorscale\": [[0.0, \"#0d0887\"], [0.1111111111111111, \"#46039f\"], [0.2222222222222222, \"#7201a8\"], [0.3333333333333333, \"#9c179e\"], [0.4444444444444444, \"#bd3786\"], [0.5555555555555556, \"#d8576b\"], [0.6666666666666666, \"#ed7953\"], [0.7777777777777778, \"#fb9f3a\"], [0.8888888888888888, \"#fdca26\"], [1.0, \"#f0f921\"]], \"type\": \"histogram2d\"}], \"histogram2dcontour\": [{\"colorbar\": {\"outlinewidth\": 0, \"ticks\": \"\"}, \"colorscale\": [[0.0, \"#0d0887\"], [0.1111111111111111, \"#46039f\"], [0.2222222222222222, \"#7201a8\"], [0.3333333333333333, \"#9c179e\"], [0.4444444444444444, \"#bd3786\"], [0.5555555555555556, \"#d8576b\"], [0.6666666666666666, \"#ed7953\"], [0.7777777777777778, \"#fb9f3a\"], [0.8888888888888888, \"#fdca26\"], [1.0, \"#f0f921\"]], \"type\": \"histogram2dcontour\"}], \"mesh3d\": [{\"colorbar\": {\"outlinewidth\": 0, \"ticks\": \"\"}, \"type\": \"mesh3d\"}], \"parcoords\": [{\"line\": {\"colorbar\": {\"outlinewidth\": 0, \"ticks\": \"\"}}, \"type\": \"parcoords\"}], \"pie\": [{\"automargin\": true, \"type\": \"pie\"}], \"scatter\": [{\"marker\": {\"colorbar\": {\"outlinewidth\": 0, \"ticks\": \"\"}}, \"type\": \"scatter\"}], \"scatter3d\": [{\"line\": {\"colorbar\": {\"outlinewidth\": 0, \"ticks\": \"\"}}, \"marker\": {\"colorbar\": {\"outlinewidth\": 0, \"ticks\": \"\"}}, \"type\": \"scatter3d\"}], \"scattercarpet\": [{\"marker\": {\"colorbar\": {\"outlinewidth\": 0, \"ticks\": \"\"}}, \"type\": \"scattercarpet\"}], \"scattergeo\": [{\"marker\": {\"colorbar\": {\"outlinewidth\": 0, \"ticks\": \"\"}}, \"type\": \"scattergeo\"}], \"scattergl\": [{\"marker\": {\"colorbar\": {\"outlinewidth\": 0, \"ticks\": \"\"}}, \"type\": \"scattergl\"}], \"scattermapbox\": [{\"marker\": {\"colorbar\": {\"outlinewidth\": 0, \"ticks\": \"\"}}, \"type\": \"scattermapbox\"}], \"scatterpolar\": [{\"marker\": {\"colorbar\": {\"outlinewidth\": 0, \"ticks\": \"\"}}, \"type\": \"scatterpolar\"}], \"scatterpolargl\": [{\"marker\": {\"colorbar\": {\"outlinewidth\": 0, \"ticks\": \"\"}}, \"type\": \"scatterpolargl\"}], \"scatterternary\": [{\"marker\": {\"colorbar\": {\"outlinewidth\": 0, \"ticks\": \"\"}}, \"type\": \"scatterternary\"}], \"surface\": [{\"colorbar\": {\"outlinewidth\": 0, \"ticks\": \"\"}, \"colorscale\": [[0.0, \"#0d0887\"], [0.1111111111111111, \"#46039f\"], [0.2222222222222222, \"#7201a8\"], [0.3333333333333333, \"#9c179e\"], [0.4444444444444444, \"#bd3786\"], [0.5555555555555556, \"#d8576b\"], [0.6666666666666666, \"#ed7953\"], [0.7777777777777778, \"#fb9f3a\"], [0.8888888888888888, \"#fdca26\"], [1.0, \"#f0f921\"]], \"type\": \"surface\"}], \"table\": [{\"cells\": {\"fill\": {\"color\": \"#EBF0F8\"}, \"line\": {\"color\": \"white\"}}, \"header\": {\"fill\": {\"color\": \"#C8D4E3\"}, \"line\": {\"color\": \"white\"}}, \"type\": \"table\"}]}, \"layout\": {\"annotationdefaults\": {\"arrowcolor\": \"#2a3f5f\", \"arrowhead\": 0, \"arrowwidth\": 1}, \"coloraxis\": {\"colorbar\": {\"outlinewidth\": 0, \"ticks\": \"\"}}, \"colorscale\": {\"diverging\": [[0, \"#8e0152\"], [0.1, \"#c51b7d\"], [0.2, \"#de77ae\"], [0.3, \"#f1b6da\"], [0.4, \"#fde0ef\"], [0.5, \"#f7f7f7\"], [0.6, \"#e6f5d0\"], [0.7, \"#b8e186\"], [0.8, \"#7fbc41\"], [0.9, \"#4d9221\"], [1, \"#276419\"]], \"sequential\": [[0.0, \"#0d0887\"], [0.1111111111111111, \"#46039f\"], [0.2222222222222222, \"#7201a8\"], [0.3333333333333333, \"#9c179e\"], [0.4444444444444444, \"#bd3786\"], [0.5555555555555556, \"#d8576b\"], [0.6666666666666666, \"#ed7953\"], [0.7777777777777778, \"#fb9f3a\"], [0.8888888888888888, \"#fdca26\"], [1.0, \"#f0f921\"]], \"sequentialminus\": [[0.0, \"#0d0887\"], [0.1111111111111111, \"#46039f\"], [0.2222222222222222, \"#7201a8\"], [0.3333333333333333, \"#9c179e\"], [0.4444444444444444, \"#bd3786\"], [0.5555555555555556, \"#d8576b\"], [0.6666666666666666, \"#ed7953\"], [0.7777777777777778, \"#fb9f3a\"], [0.8888888888888888, \"#fdca26\"], [1.0, \"#f0f921\"]]}, \"colorway\": [\"#636efa\", \"#EF553B\", \"#00cc96\", \"#ab63fa\", \"#FFA15A\", \"#19d3f3\", \"#FF6692\", \"#B6E880\", \"#FF97FF\", \"#FECB52\"], \"font\": {\"color\": \"#2a3f5f\"}, \"geo\": {\"bgcolor\": \"white\", \"lakecolor\": \"white\", \"landcolor\": \"#E5ECF6\", \"showlakes\": true, \"showland\": true, \"subunitcolor\": \"white\"}, \"hoverlabel\": {\"align\": \"left\"}, \"hovermode\": \"closest\", \"mapbox\": {\"style\": \"light\"}, \"paper_bgcolor\": \"white\", \"plot_bgcolor\": \"#E5ECF6\", \"polar\": {\"angularaxis\": {\"gridcolor\": \"white\", \"linecolor\": \"white\", \"ticks\": \"\"}, \"bgcolor\": \"#E5ECF6\", \"radialaxis\": {\"gridcolor\": \"white\", \"linecolor\": \"white\", \"ticks\": \"\"}}, \"scene\": {\"xaxis\": {\"backgroundcolor\": \"#E5ECF6\", \"gridcolor\": \"white\", \"gridwidth\": 2, \"linecolor\": \"white\", \"showbackground\": true, \"ticks\": \"\", \"zerolinecolor\": \"white\"}, \"yaxis\": {\"backgroundcolor\": \"#E5ECF6\", \"gridcolor\": \"white\", \"gridwidth\": 2, \"linecolor\": \"white\", \"showbackground\": true, \"ticks\": \"\", \"zerolinecolor\": \"white\"}, \"zaxis\": {\"backgroundcolor\": \"#E5ECF6\", \"gridcolor\": \"white\", \"gridwidth\": 2, \"linecolor\": \"white\", \"showbackground\": true, \"ticks\": \"\", \"zerolinecolor\": \"white\"}}, \"shapedefaults\": {\"line\": {\"color\": \"#2a3f5f\"}}, \"ternary\": {\"aaxis\": {\"gridcolor\": \"white\", \"linecolor\": \"white\", \"ticks\": \"\"}, \"baxis\": {\"gridcolor\": \"white\", \"linecolor\": \"white\", \"ticks\": \"\"}, \"bgcolor\": \"#E5ECF6\", \"caxis\": {\"gridcolor\": \"white\", \"linecolor\": \"white\", \"ticks\": \"\"}}, \"title\": {\"x\": 0.05}, \"xaxis\": {\"automargin\": true, \"gridcolor\": \"white\", \"linecolor\": \"white\", \"ticks\": \"\", \"title\": {\"standoff\": 15}, \"zerolinecolor\": \"white\", \"zerolinewidth\": 2}, \"yaxis\": {\"automargin\": true, \"gridcolor\": \"white\", \"linecolor\": \"white\", \"ticks\": \"\", \"title\": {\"standoff\": 15}, \"zerolinecolor\": \"white\", \"zerolinewidth\": 2}}}, \"title\": {\"text\": \"Tweets Classification by Sentiment\"}},\n",
       "                        {\"responsive\": true}\n",
       "                    ).then(function(){\n",
       "                            \n",
       "var gd = document.getElementById('23c0c3a8-98a7-4e54-af88-2aa5998797ad');\n",
       "var x = new MutationObserver(function (mutations, observer) {{\n",
       "        var display = window.getComputedStyle(gd).display;\n",
       "        if (!display || display === 'none') {{\n",
       "            console.log([gd, 'removed!']);\n",
       "            Plotly.purge(gd);\n",
       "            observer.disconnect();\n",
       "        }}\n",
       "}});\n",
       "\n",
       "// Listen for the removal of the full notebook cells\n",
       "var notebookContainer = gd.closest('#notebook-container');\n",
       "if (notebookContainer) {{\n",
       "    x.observe(notebookContainer, {childList: true});\n",
       "}}\n",
       "\n",
       "// Listen for the clearing of the current output cell\n",
       "var outputEl = gd.closest('.output');\n",
       "if (outputEl) {{\n",
       "    x.observe(outputEl, {childList: true});\n",
       "}}\n",
       "\n",
       "                        })\n",
       "                };\n",
       "                });\n",
       "            </script>\n",
       "        </div>"
      ]
     },
     "metadata": {},
     "output_type": "display_data"
    }
   ],
   "source": [
    "# Approach 1 \n",
    "\n",
    "df1 = df.groupby('Analysis').count()[['Tweet']].reset_index()\n",
    "#print(df1)\n",
    "fig = px.pie(df1, \n",
    "             values='Tweet', \n",
    "             names='Analysis', \n",
    "             color='Analysis', \n",
    "             color_discrete_map={'Positive': blue,\n",
    "                                 'Negative': black,\n",
    "                                 'Neutral': dark_gray}, \n",
    "              hole=.4, \n",
    "            )\n",
    "fig.update_traces(textposition='inside', textinfo='percent+label')\n",
    "fig.update(layout_title_text='Tweets Classification by Sentiment',\n",
    "           layout_showlegend=False)\n",
    "fig.show()"
   ]
  },
  {
   "cell_type": "code",
   "execution_count": 197,
   "metadata": {
    "ExecuteTime": {
     "end_time": "2021-09-01T04:36:01.406316Z",
     "start_time": "2021-09-01T04:36:01.142986Z"
    }
   },
   "outputs": [
    {
     "data": {
      "application/vnd.plotly.v1+json": {
       "config": {
        "plotlyServerURL": "https://plot.ly"
       },
       "data": [
        {
         "domain": {
          "x": [
           0,
           1
          ],
          "y": [
           0,
           1
          ]
         },
         "hovertemplate": "Analysis=%{label}<br>Count=%{value}<extra></extra>",
         "labels": [
          "Positive",
          "Positive",
          "Positive",
          "Neutral",
          "Positive",
          "Positive",
          "Positive",
          "Positive",
          "Positive",
          "Neutral",
          "Positive",
          "Positive",
          "Positive",
          "Positive",
          "Positive",
          "Positive",
          "Positive",
          "Positive",
          "Positive",
          "Positive",
          "Positive",
          "Positive",
          "Positive",
          "Positive",
          "Positive",
          "Positive",
          "Positive",
          "Positive",
          "Positive",
          "Positive",
          "Positive",
          "Positive",
          "Positive",
          "Positive",
          "Neutral",
          "Positive",
          "Negative",
          "Positive",
          "Positive",
          "Positive",
          "Positive",
          "Positive",
          "Positive",
          "Positive",
          "Neutral",
          "Positive",
          "Neutral",
          "Positive",
          "Positive",
          "Positive",
          "Positive",
          "Neutral",
          "Positive",
          "Positive",
          "Positive",
          "Positive",
          "Positive",
          "Positive",
          "Positive",
          "Positive",
          "Positive",
          "Neutral",
          "Positive",
          "Positive",
          "Positive",
          "Positive",
          "Neutral",
          "Positive",
          "Positive",
          "Positive",
          "Positive",
          "Positive",
          "Positive",
          "Positive",
          "Neutral",
          "Positive",
          "Neutral",
          "Neutral",
          "Positive",
          "Neutral",
          "Positive",
          "Neutral",
          "Positive",
          "Positive",
          "Positive",
          "Positive",
          "Positive",
          "Negative",
          "Positive",
          "Positive",
          "Negative",
          "Positive",
          "Neutral",
          "Positive",
          "Positive",
          "Positive",
          "Neutral",
          "Neutral",
          "Positive",
          "Positive"
         ],
         "legendgroup": "",
         "name": "",
         "showlegend": true,
         "type": "pie",
         "values": [
          1,
          1,
          1,
          1,
          1,
          1,
          1,
          1,
          1,
          1,
          1,
          1,
          1,
          1,
          1,
          1,
          1,
          1,
          1,
          1,
          1,
          1,
          1,
          1,
          1,
          1,
          1,
          1,
          1,
          1,
          1,
          1,
          1,
          1,
          1,
          1,
          1,
          1,
          1,
          1,
          1,
          1,
          1,
          1,
          1,
          1,
          1,
          1,
          1,
          1,
          1,
          1,
          1,
          1,
          1,
          1,
          1,
          1,
          1,
          1,
          1,
          1,
          1,
          1,
          1,
          1,
          1,
          1,
          1,
          1,
          1,
          1,
          1,
          1,
          1,
          1,
          1,
          1,
          1,
          1,
          1,
          1,
          1,
          1,
          1,
          1,
          1,
          1,
          1,
          1,
          1,
          1,
          1,
          1,
          1,
          1,
          1,
          1,
          1,
          1
         ]
        }
       ],
       "layout": {
        "legend": {
         "tracegroupgap": 0
        },
        "margin": {
         "t": 60
        },
        "template": {
         "data": {
          "bar": [
           {
            "error_x": {
             "color": "#2a3f5f"
            },
            "error_y": {
             "color": "#2a3f5f"
            },
            "marker": {
             "line": {
              "color": "#E5ECF6",
              "width": 0.5
             }
            },
            "type": "bar"
           }
          ],
          "barpolar": [
           {
            "marker": {
             "line": {
              "color": "#E5ECF6",
              "width": 0.5
             }
            },
            "type": "barpolar"
           }
          ],
          "carpet": [
           {
            "aaxis": {
             "endlinecolor": "#2a3f5f",
             "gridcolor": "white",
             "linecolor": "white",
             "minorgridcolor": "white",
             "startlinecolor": "#2a3f5f"
            },
            "baxis": {
             "endlinecolor": "#2a3f5f",
             "gridcolor": "white",
             "linecolor": "white",
             "minorgridcolor": "white",
             "startlinecolor": "#2a3f5f"
            },
            "type": "carpet"
           }
          ],
          "choropleth": [
           {
            "colorbar": {
             "outlinewidth": 0,
             "ticks": ""
            },
            "type": "choropleth"
           }
          ],
          "contour": [
           {
            "colorbar": {
             "outlinewidth": 0,
             "ticks": ""
            },
            "colorscale": [
             [
              0,
              "#0d0887"
             ],
             [
              0.1111111111111111,
              "#46039f"
             ],
             [
              0.2222222222222222,
              "#7201a8"
             ],
             [
              0.3333333333333333,
              "#9c179e"
             ],
             [
              0.4444444444444444,
              "#bd3786"
             ],
             [
              0.5555555555555556,
              "#d8576b"
             ],
             [
              0.6666666666666666,
              "#ed7953"
             ],
             [
              0.7777777777777778,
              "#fb9f3a"
             ],
             [
              0.8888888888888888,
              "#fdca26"
             ],
             [
              1,
              "#f0f921"
             ]
            ],
            "type": "contour"
           }
          ],
          "contourcarpet": [
           {
            "colorbar": {
             "outlinewidth": 0,
             "ticks": ""
            },
            "type": "contourcarpet"
           }
          ],
          "heatmap": [
           {
            "colorbar": {
             "outlinewidth": 0,
             "ticks": ""
            },
            "colorscale": [
             [
              0,
              "#0d0887"
             ],
             [
              0.1111111111111111,
              "#46039f"
             ],
             [
              0.2222222222222222,
              "#7201a8"
             ],
             [
              0.3333333333333333,
              "#9c179e"
             ],
             [
              0.4444444444444444,
              "#bd3786"
             ],
             [
              0.5555555555555556,
              "#d8576b"
             ],
             [
              0.6666666666666666,
              "#ed7953"
             ],
             [
              0.7777777777777778,
              "#fb9f3a"
             ],
             [
              0.8888888888888888,
              "#fdca26"
             ],
             [
              1,
              "#f0f921"
             ]
            ],
            "type": "heatmap"
           }
          ],
          "heatmapgl": [
           {
            "colorbar": {
             "outlinewidth": 0,
             "ticks": ""
            },
            "colorscale": [
             [
              0,
              "#0d0887"
             ],
             [
              0.1111111111111111,
              "#46039f"
             ],
             [
              0.2222222222222222,
              "#7201a8"
             ],
             [
              0.3333333333333333,
              "#9c179e"
             ],
             [
              0.4444444444444444,
              "#bd3786"
             ],
             [
              0.5555555555555556,
              "#d8576b"
             ],
             [
              0.6666666666666666,
              "#ed7953"
             ],
             [
              0.7777777777777778,
              "#fb9f3a"
             ],
             [
              0.8888888888888888,
              "#fdca26"
             ],
             [
              1,
              "#f0f921"
             ]
            ],
            "type": "heatmapgl"
           }
          ],
          "histogram": [
           {
            "marker": {
             "colorbar": {
              "outlinewidth": 0,
              "ticks": ""
             }
            },
            "type": "histogram"
           }
          ],
          "histogram2d": [
           {
            "colorbar": {
             "outlinewidth": 0,
             "ticks": ""
            },
            "colorscale": [
             [
              0,
              "#0d0887"
             ],
             [
              0.1111111111111111,
              "#46039f"
             ],
             [
              0.2222222222222222,
              "#7201a8"
             ],
             [
              0.3333333333333333,
              "#9c179e"
             ],
             [
              0.4444444444444444,
              "#bd3786"
             ],
             [
              0.5555555555555556,
              "#d8576b"
             ],
             [
              0.6666666666666666,
              "#ed7953"
             ],
             [
              0.7777777777777778,
              "#fb9f3a"
             ],
             [
              0.8888888888888888,
              "#fdca26"
             ],
             [
              1,
              "#f0f921"
             ]
            ],
            "type": "histogram2d"
           }
          ],
          "histogram2dcontour": [
           {
            "colorbar": {
             "outlinewidth": 0,
             "ticks": ""
            },
            "colorscale": [
             [
              0,
              "#0d0887"
             ],
             [
              0.1111111111111111,
              "#46039f"
             ],
             [
              0.2222222222222222,
              "#7201a8"
             ],
             [
              0.3333333333333333,
              "#9c179e"
             ],
             [
              0.4444444444444444,
              "#bd3786"
             ],
             [
              0.5555555555555556,
              "#d8576b"
             ],
             [
              0.6666666666666666,
              "#ed7953"
             ],
             [
              0.7777777777777778,
              "#fb9f3a"
             ],
             [
              0.8888888888888888,
              "#fdca26"
             ],
             [
              1,
              "#f0f921"
             ]
            ],
            "type": "histogram2dcontour"
           }
          ],
          "mesh3d": [
           {
            "colorbar": {
             "outlinewidth": 0,
             "ticks": ""
            },
            "type": "mesh3d"
           }
          ],
          "parcoords": [
           {
            "line": {
             "colorbar": {
              "outlinewidth": 0,
              "ticks": ""
             }
            },
            "type": "parcoords"
           }
          ],
          "pie": [
           {
            "automargin": true,
            "type": "pie"
           }
          ],
          "scatter": [
           {
            "marker": {
             "colorbar": {
              "outlinewidth": 0,
              "ticks": ""
             }
            },
            "type": "scatter"
           }
          ],
          "scatter3d": [
           {
            "line": {
             "colorbar": {
              "outlinewidth": 0,
              "ticks": ""
             }
            },
            "marker": {
             "colorbar": {
              "outlinewidth": 0,
              "ticks": ""
             }
            },
            "type": "scatter3d"
           }
          ],
          "scattercarpet": [
           {
            "marker": {
             "colorbar": {
              "outlinewidth": 0,
              "ticks": ""
             }
            },
            "type": "scattercarpet"
           }
          ],
          "scattergeo": [
           {
            "marker": {
             "colorbar": {
              "outlinewidth": 0,
              "ticks": ""
             }
            },
            "type": "scattergeo"
           }
          ],
          "scattergl": [
           {
            "marker": {
             "colorbar": {
              "outlinewidth": 0,
              "ticks": ""
             }
            },
            "type": "scattergl"
           }
          ],
          "scattermapbox": [
           {
            "marker": {
             "colorbar": {
              "outlinewidth": 0,
              "ticks": ""
             }
            },
            "type": "scattermapbox"
           }
          ],
          "scatterpolar": [
           {
            "marker": {
             "colorbar": {
              "outlinewidth": 0,
              "ticks": ""
             }
            },
            "type": "scatterpolar"
           }
          ],
          "scatterpolargl": [
           {
            "marker": {
             "colorbar": {
              "outlinewidth": 0,
              "ticks": ""
             }
            },
            "type": "scatterpolargl"
           }
          ],
          "scatterternary": [
           {
            "marker": {
             "colorbar": {
              "outlinewidth": 0,
              "ticks": ""
             }
            },
            "type": "scatterternary"
           }
          ],
          "surface": [
           {
            "colorbar": {
             "outlinewidth": 0,
             "ticks": ""
            },
            "colorscale": [
             [
              0,
              "#0d0887"
             ],
             [
              0.1111111111111111,
              "#46039f"
             ],
             [
              0.2222222222222222,
              "#7201a8"
             ],
             [
              0.3333333333333333,
              "#9c179e"
             ],
             [
              0.4444444444444444,
              "#bd3786"
             ],
             [
              0.5555555555555556,
              "#d8576b"
             ],
             [
              0.6666666666666666,
              "#ed7953"
             ],
             [
              0.7777777777777778,
              "#fb9f3a"
             ],
             [
              0.8888888888888888,
              "#fdca26"
             ],
             [
              1,
              "#f0f921"
             ]
            ],
            "type": "surface"
           }
          ],
          "table": [
           {
            "cells": {
             "fill": {
              "color": "#EBF0F8"
             },
             "line": {
              "color": "white"
             }
            },
            "header": {
             "fill": {
              "color": "#C8D4E3"
             },
             "line": {
              "color": "white"
             }
            },
            "type": "table"
           }
          ]
         },
         "layout": {
          "annotationdefaults": {
           "arrowcolor": "#2a3f5f",
           "arrowhead": 0,
           "arrowwidth": 1
          },
          "coloraxis": {
           "colorbar": {
            "outlinewidth": 0,
            "ticks": ""
           }
          },
          "colorscale": {
           "diverging": [
            [
             0,
             "#8e0152"
            ],
            [
             0.1,
             "#c51b7d"
            ],
            [
             0.2,
             "#de77ae"
            ],
            [
             0.3,
             "#f1b6da"
            ],
            [
             0.4,
             "#fde0ef"
            ],
            [
             0.5,
             "#f7f7f7"
            ],
            [
             0.6,
             "#e6f5d0"
            ],
            [
             0.7,
             "#b8e186"
            ],
            [
             0.8,
             "#7fbc41"
            ],
            [
             0.9,
             "#4d9221"
            ],
            [
             1,
             "#276419"
            ]
           ],
           "sequential": [
            [
             0,
             "#0d0887"
            ],
            [
             0.1111111111111111,
             "#46039f"
            ],
            [
             0.2222222222222222,
             "#7201a8"
            ],
            [
             0.3333333333333333,
             "#9c179e"
            ],
            [
             0.4444444444444444,
             "#bd3786"
            ],
            [
             0.5555555555555556,
             "#d8576b"
            ],
            [
             0.6666666666666666,
             "#ed7953"
            ],
            [
             0.7777777777777778,
             "#fb9f3a"
            ],
            [
             0.8888888888888888,
             "#fdca26"
            ],
            [
             1,
             "#f0f921"
            ]
           ],
           "sequentialminus": [
            [
             0,
             "#0d0887"
            ],
            [
             0.1111111111111111,
             "#46039f"
            ],
            [
             0.2222222222222222,
             "#7201a8"
            ],
            [
             0.3333333333333333,
             "#9c179e"
            ],
            [
             0.4444444444444444,
             "#bd3786"
            ],
            [
             0.5555555555555556,
             "#d8576b"
            ],
            [
             0.6666666666666666,
             "#ed7953"
            ],
            [
             0.7777777777777778,
             "#fb9f3a"
            ],
            [
             0.8888888888888888,
             "#fdca26"
            ],
            [
             1,
             "#f0f921"
            ]
           ]
          },
          "colorway": [
           "#636efa",
           "#EF553B",
           "#00cc96",
           "#ab63fa",
           "#FFA15A",
           "#19d3f3",
           "#FF6692",
           "#B6E880",
           "#FF97FF",
           "#FECB52"
          ],
          "font": {
           "color": "#2a3f5f"
          },
          "geo": {
           "bgcolor": "white",
           "lakecolor": "white",
           "landcolor": "#E5ECF6",
           "showlakes": true,
           "showland": true,
           "subunitcolor": "white"
          },
          "hoverlabel": {
           "align": "left"
          },
          "hovermode": "closest",
          "mapbox": {
           "style": "light"
          },
          "paper_bgcolor": "white",
          "plot_bgcolor": "#E5ECF6",
          "polar": {
           "angularaxis": {
            "gridcolor": "white",
            "linecolor": "white",
            "ticks": ""
           },
           "bgcolor": "#E5ECF6",
           "radialaxis": {
            "gridcolor": "white",
            "linecolor": "white",
            "ticks": ""
           }
          },
          "scene": {
           "xaxis": {
            "backgroundcolor": "#E5ECF6",
            "gridcolor": "white",
            "gridwidth": 2,
            "linecolor": "white",
            "showbackground": true,
            "ticks": "",
            "zerolinecolor": "white"
           },
           "yaxis": {
            "backgroundcolor": "#E5ECF6",
            "gridcolor": "white",
            "gridwidth": 2,
            "linecolor": "white",
            "showbackground": true,
            "ticks": "",
            "zerolinecolor": "white"
           },
           "zaxis": {
            "backgroundcolor": "#E5ECF6",
            "gridcolor": "white",
            "gridwidth": 2,
            "linecolor": "white",
            "showbackground": true,
            "ticks": "",
            "zerolinecolor": "white"
           }
          },
          "shapedefaults": {
           "line": {
            "color": "#2a3f5f"
           }
          },
          "ternary": {
           "aaxis": {
            "gridcolor": "white",
            "linecolor": "white",
            "ticks": ""
           },
           "baxis": {
            "gridcolor": "white",
            "linecolor": "white",
            "ticks": ""
           },
           "bgcolor": "#E5ECF6",
           "caxis": {
            "gridcolor": "white",
            "linecolor": "white",
            "ticks": ""
           }
          },
          "title": {
           "x": 0.05
          },
          "xaxis": {
           "automargin": true,
           "gridcolor": "white",
           "linecolor": "white",
           "ticks": "",
           "title": {
            "standoff": 15
           },
           "zerolinecolor": "white",
           "zerolinewidth": 2
          },
          "yaxis": {
           "automargin": true,
           "gridcolor": "white",
           "linecolor": "white",
           "ticks": "",
           "title": {
            "standoff": 15
           },
           "zerolinecolor": "white",
           "zerolinewidth": 2
          }
         }
        }
       }
      },
      "text/html": [
       "<div>\n",
       "        \n",
       "        \n",
       "            <div id=\"a7fc8891-94f5-4607-a320-a8d38f1cb102\" class=\"plotly-graph-div\" style=\"height:525px; width:100%;\"></div>\n",
       "            <script type=\"text/javascript\">\n",
       "                require([\"plotly\"], function(Plotly) {\n",
       "                    window.PLOTLYENV=window.PLOTLYENV || {};\n",
       "                    \n",
       "                if (document.getElementById(\"a7fc8891-94f5-4607-a320-a8d38f1cb102\")) {\n",
       "                    Plotly.newPlot(\n",
       "                        'a7fc8891-94f5-4607-a320-a8d38f1cb102',\n",
       "                        [{\"domain\": {\"x\": [0.0, 1.0], \"y\": [0.0, 1.0]}, \"hovertemplate\": \"Analysis=%{label}<br>Count=%{value}<extra></extra>\", \"labels\": [\"Positive\", \"Positive\", \"Positive\", \"Neutral\", \"Positive\", \"Positive\", \"Positive\", \"Positive\", \"Positive\", \"Neutral\", \"Positive\", \"Positive\", \"Positive\", \"Positive\", \"Positive\", \"Positive\", \"Positive\", \"Positive\", \"Positive\", \"Positive\", \"Positive\", \"Positive\", \"Positive\", \"Positive\", \"Positive\", \"Positive\", \"Positive\", \"Positive\", \"Positive\", \"Positive\", \"Positive\", \"Positive\", \"Positive\", \"Positive\", \"Neutral\", \"Positive\", \"Negative\", \"Positive\", \"Positive\", \"Positive\", \"Positive\", \"Positive\", \"Positive\", \"Positive\", \"Neutral\", \"Positive\", \"Neutral\", \"Positive\", \"Positive\", \"Positive\", \"Positive\", \"Neutral\", \"Positive\", \"Positive\", \"Positive\", \"Positive\", \"Positive\", \"Positive\", \"Positive\", \"Positive\", \"Positive\", \"Neutral\", \"Positive\", \"Positive\", \"Positive\", \"Positive\", \"Neutral\", \"Positive\", \"Positive\", \"Positive\", \"Positive\", \"Positive\", \"Positive\", \"Positive\", \"Neutral\", \"Positive\", \"Neutral\", \"Neutral\", \"Positive\", \"Neutral\", \"Positive\", \"Neutral\", \"Positive\", \"Positive\", \"Positive\", \"Positive\", \"Positive\", \"Negative\", \"Positive\", \"Positive\", \"Negative\", \"Positive\", \"Neutral\", \"Positive\", \"Positive\", \"Positive\", \"Neutral\", \"Neutral\", \"Positive\", \"Positive\"], \"legendgroup\": \"\", \"name\": \"\", \"showlegend\": true, \"type\": \"pie\", \"values\": [1, 1, 1, 1, 1, 1, 1, 1, 1, 1, 1, 1, 1, 1, 1, 1, 1, 1, 1, 1, 1, 1, 1, 1, 1, 1, 1, 1, 1, 1, 1, 1, 1, 1, 1, 1, 1, 1, 1, 1, 1, 1, 1, 1, 1, 1, 1, 1, 1, 1, 1, 1, 1, 1, 1, 1, 1, 1, 1, 1, 1, 1, 1, 1, 1, 1, 1, 1, 1, 1, 1, 1, 1, 1, 1, 1, 1, 1, 1, 1, 1, 1, 1, 1, 1, 1, 1, 1, 1, 1, 1, 1, 1, 1, 1, 1, 1, 1, 1, 1]}],\n",
       "                        {\"legend\": {\"tracegroupgap\": 0}, \"margin\": {\"t\": 60}, \"template\": {\"data\": {\"bar\": [{\"error_x\": {\"color\": \"#2a3f5f\"}, \"error_y\": {\"color\": \"#2a3f5f\"}, \"marker\": {\"line\": {\"color\": \"#E5ECF6\", \"width\": 0.5}}, \"type\": \"bar\"}], \"barpolar\": [{\"marker\": {\"line\": {\"color\": \"#E5ECF6\", \"width\": 0.5}}, \"type\": \"barpolar\"}], \"carpet\": [{\"aaxis\": {\"endlinecolor\": \"#2a3f5f\", \"gridcolor\": \"white\", \"linecolor\": \"white\", \"minorgridcolor\": \"white\", \"startlinecolor\": \"#2a3f5f\"}, \"baxis\": {\"endlinecolor\": \"#2a3f5f\", \"gridcolor\": \"white\", \"linecolor\": \"white\", \"minorgridcolor\": \"white\", \"startlinecolor\": \"#2a3f5f\"}, \"type\": \"carpet\"}], \"choropleth\": [{\"colorbar\": {\"outlinewidth\": 0, \"ticks\": \"\"}, \"type\": \"choropleth\"}], \"contour\": [{\"colorbar\": {\"outlinewidth\": 0, \"ticks\": \"\"}, \"colorscale\": [[0.0, \"#0d0887\"], [0.1111111111111111, \"#46039f\"], [0.2222222222222222, \"#7201a8\"], [0.3333333333333333, \"#9c179e\"], [0.4444444444444444, \"#bd3786\"], [0.5555555555555556, \"#d8576b\"], [0.6666666666666666, \"#ed7953\"], [0.7777777777777778, \"#fb9f3a\"], [0.8888888888888888, \"#fdca26\"], [1.0, \"#f0f921\"]], \"type\": \"contour\"}], \"contourcarpet\": [{\"colorbar\": {\"outlinewidth\": 0, \"ticks\": \"\"}, \"type\": \"contourcarpet\"}], \"heatmap\": [{\"colorbar\": {\"outlinewidth\": 0, \"ticks\": \"\"}, \"colorscale\": [[0.0, \"#0d0887\"], [0.1111111111111111, \"#46039f\"], [0.2222222222222222, \"#7201a8\"], [0.3333333333333333, \"#9c179e\"], [0.4444444444444444, \"#bd3786\"], [0.5555555555555556, \"#d8576b\"], [0.6666666666666666, \"#ed7953\"], [0.7777777777777778, \"#fb9f3a\"], [0.8888888888888888, \"#fdca26\"], [1.0, \"#f0f921\"]], \"type\": \"heatmap\"}], \"heatmapgl\": [{\"colorbar\": {\"outlinewidth\": 0, \"ticks\": \"\"}, \"colorscale\": [[0.0, \"#0d0887\"], [0.1111111111111111, \"#46039f\"], [0.2222222222222222, \"#7201a8\"], [0.3333333333333333, \"#9c179e\"], [0.4444444444444444, \"#bd3786\"], [0.5555555555555556, \"#d8576b\"], [0.6666666666666666, \"#ed7953\"], [0.7777777777777778, \"#fb9f3a\"], [0.8888888888888888, \"#fdca26\"], [1.0, \"#f0f921\"]], \"type\": \"heatmapgl\"}], \"histogram\": [{\"marker\": {\"colorbar\": {\"outlinewidth\": 0, \"ticks\": \"\"}}, \"type\": \"histogram\"}], \"histogram2d\": [{\"colorbar\": {\"outlinewidth\": 0, \"ticks\": \"\"}, \"colorscale\": [[0.0, \"#0d0887\"], [0.1111111111111111, \"#46039f\"], [0.2222222222222222, \"#7201a8\"], [0.3333333333333333, \"#9c179e\"], [0.4444444444444444, \"#bd3786\"], [0.5555555555555556, \"#d8576b\"], [0.6666666666666666, \"#ed7953\"], [0.7777777777777778, \"#fb9f3a\"], [0.8888888888888888, \"#fdca26\"], [1.0, \"#f0f921\"]], \"type\": \"histogram2d\"}], \"histogram2dcontour\": [{\"colorbar\": {\"outlinewidth\": 0, \"ticks\": \"\"}, \"colorscale\": [[0.0, \"#0d0887\"], [0.1111111111111111, \"#46039f\"], [0.2222222222222222, \"#7201a8\"], [0.3333333333333333, \"#9c179e\"], [0.4444444444444444, \"#bd3786\"], [0.5555555555555556, \"#d8576b\"], [0.6666666666666666, \"#ed7953\"], [0.7777777777777778, \"#fb9f3a\"], [0.8888888888888888, \"#fdca26\"], [1.0, \"#f0f921\"]], \"type\": \"histogram2dcontour\"}], \"mesh3d\": [{\"colorbar\": {\"outlinewidth\": 0, \"ticks\": \"\"}, \"type\": \"mesh3d\"}], \"parcoords\": [{\"line\": {\"colorbar\": {\"outlinewidth\": 0, \"ticks\": \"\"}}, \"type\": \"parcoords\"}], \"pie\": [{\"automargin\": true, \"type\": \"pie\"}], \"scatter\": [{\"marker\": {\"colorbar\": {\"outlinewidth\": 0, \"ticks\": \"\"}}, \"type\": \"scatter\"}], \"scatter3d\": [{\"line\": {\"colorbar\": {\"outlinewidth\": 0, \"ticks\": \"\"}}, \"marker\": {\"colorbar\": {\"outlinewidth\": 0, \"ticks\": \"\"}}, \"type\": \"scatter3d\"}], \"scattercarpet\": [{\"marker\": {\"colorbar\": {\"outlinewidth\": 0, \"ticks\": \"\"}}, \"type\": \"scattercarpet\"}], \"scattergeo\": [{\"marker\": {\"colorbar\": {\"outlinewidth\": 0, \"ticks\": \"\"}}, \"type\": \"scattergeo\"}], \"scattergl\": [{\"marker\": {\"colorbar\": {\"outlinewidth\": 0, \"ticks\": \"\"}}, \"type\": \"scattergl\"}], \"scattermapbox\": [{\"marker\": {\"colorbar\": {\"outlinewidth\": 0, \"ticks\": \"\"}}, \"type\": \"scattermapbox\"}], \"scatterpolar\": [{\"marker\": {\"colorbar\": {\"outlinewidth\": 0, \"ticks\": \"\"}}, \"type\": \"scatterpolar\"}], \"scatterpolargl\": [{\"marker\": {\"colorbar\": {\"outlinewidth\": 0, \"ticks\": \"\"}}, \"type\": \"scatterpolargl\"}], \"scatterternary\": [{\"marker\": {\"colorbar\": {\"outlinewidth\": 0, \"ticks\": \"\"}}, \"type\": \"scatterternary\"}], \"surface\": [{\"colorbar\": {\"outlinewidth\": 0, \"ticks\": \"\"}, \"colorscale\": [[0.0, \"#0d0887\"], [0.1111111111111111, \"#46039f\"], [0.2222222222222222, \"#7201a8\"], [0.3333333333333333, \"#9c179e\"], [0.4444444444444444, \"#bd3786\"], [0.5555555555555556, \"#d8576b\"], [0.6666666666666666, \"#ed7953\"], [0.7777777777777778, \"#fb9f3a\"], [0.8888888888888888, \"#fdca26\"], [1.0, \"#f0f921\"]], \"type\": \"surface\"}], \"table\": [{\"cells\": {\"fill\": {\"color\": \"#EBF0F8\"}, \"line\": {\"color\": \"white\"}}, \"header\": {\"fill\": {\"color\": \"#C8D4E3\"}, \"line\": {\"color\": \"white\"}}, \"type\": \"table\"}]}, \"layout\": {\"annotationdefaults\": {\"arrowcolor\": \"#2a3f5f\", \"arrowhead\": 0, \"arrowwidth\": 1}, \"coloraxis\": {\"colorbar\": {\"outlinewidth\": 0, \"ticks\": \"\"}}, \"colorscale\": {\"diverging\": [[0, \"#8e0152\"], [0.1, \"#c51b7d\"], [0.2, \"#de77ae\"], [0.3, \"#f1b6da\"], [0.4, \"#fde0ef\"], [0.5, \"#f7f7f7\"], [0.6, \"#e6f5d0\"], [0.7, \"#b8e186\"], [0.8, \"#7fbc41\"], [0.9, \"#4d9221\"], [1, \"#276419\"]], \"sequential\": [[0.0, \"#0d0887\"], [0.1111111111111111, \"#46039f\"], [0.2222222222222222, \"#7201a8\"], [0.3333333333333333, \"#9c179e\"], [0.4444444444444444, \"#bd3786\"], [0.5555555555555556, \"#d8576b\"], [0.6666666666666666, \"#ed7953\"], [0.7777777777777778, \"#fb9f3a\"], [0.8888888888888888, \"#fdca26\"], [1.0, \"#f0f921\"]], \"sequentialminus\": [[0.0, \"#0d0887\"], [0.1111111111111111, \"#46039f\"], [0.2222222222222222, \"#7201a8\"], [0.3333333333333333, \"#9c179e\"], [0.4444444444444444, \"#bd3786\"], [0.5555555555555556, \"#d8576b\"], [0.6666666666666666, \"#ed7953\"], [0.7777777777777778, \"#fb9f3a\"], [0.8888888888888888, \"#fdca26\"], [1.0, \"#f0f921\"]]}, \"colorway\": [\"#636efa\", \"#EF553B\", \"#00cc96\", \"#ab63fa\", \"#FFA15A\", \"#19d3f3\", \"#FF6692\", \"#B6E880\", \"#FF97FF\", \"#FECB52\"], \"font\": {\"color\": \"#2a3f5f\"}, \"geo\": {\"bgcolor\": \"white\", \"lakecolor\": \"white\", \"landcolor\": \"#E5ECF6\", \"showlakes\": true, \"showland\": true, \"subunitcolor\": \"white\"}, \"hoverlabel\": {\"align\": \"left\"}, \"hovermode\": \"closest\", \"mapbox\": {\"style\": \"light\"}, \"paper_bgcolor\": \"white\", \"plot_bgcolor\": \"#E5ECF6\", \"polar\": {\"angularaxis\": {\"gridcolor\": \"white\", \"linecolor\": \"white\", \"ticks\": \"\"}, \"bgcolor\": \"#E5ECF6\", \"radialaxis\": {\"gridcolor\": \"white\", \"linecolor\": \"white\", \"ticks\": \"\"}}, \"scene\": {\"xaxis\": {\"backgroundcolor\": \"#E5ECF6\", \"gridcolor\": \"white\", \"gridwidth\": 2, \"linecolor\": \"white\", \"showbackground\": true, \"ticks\": \"\", \"zerolinecolor\": \"white\"}, \"yaxis\": {\"backgroundcolor\": \"#E5ECF6\", \"gridcolor\": \"white\", \"gridwidth\": 2, \"linecolor\": \"white\", \"showbackground\": true, \"ticks\": \"\", \"zerolinecolor\": \"white\"}, \"zaxis\": {\"backgroundcolor\": \"#E5ECF6\", \"gridcolor\": \"white\", \"gridwidth\": 2, \"linecolor\": \"white\", \"showbackground\": true, \"ticks\": \"\", \"zerolinecolor\": \"white\"}}, \"shapedefaults\": {\"line\": {\"color\": \"#2a3f5f\"}}, \"ternary\": {\"aaxis\": {\"gridcolor\": \"white\", \"linecolor\": \"white\", \"ticks\": \"\"}, \"baxis\": {\"gridcolor\": \"white\", \"linecolor\": \"white\", \"ticks\": \"\"}, \"bgcolor\": \"#E5ECF6\", \"caxis\": {\"gridcolor\": \"white\", \"linecolor\": \"white\", \"ticks\": \"\"}}, \"title\": {\"x\": 0.05}, \"xaxis\": {\"automargin\": true, \"gridcolor\": \"white\", \"linecolor\": \"white\", \"ticks\": \"\", \"title\": {\"standoff\": 15}, \"zerolinecolor\": \"white\", \"zerolinewidth\": 2}, \"yaxis\": {\"automargin\": true, \"gridcolor\": \"white\", \"linecolor\": \"white\", \"ticks\": \"\", \"title\": {\"standoff\": 15}, \"zerolinecolor\": \"white\", \"zerolinewidth\": 2}}}},\n",
       "                        {\"responsive\": true}\n",
       "                    ).then(function(){\n",
       "                            \n",
       "var gd = document.getElementById('a7fc8891-94f5-4607-a320-a8d38f1cb102');\n",
       "var x = new MutationObserver(function (mutations, observer) {{\n",
       "        var display = window.getComputedStyle(gd).display;\n",
       "        if (!display || display === 'none') {{\n",
       "            console.log([gd, 'removed!']);\n",
       "            Plotly.purge(gd);\n",
       "            observer.disconnect();\n",
       "        }}\n",
       "}});\n",
       "\n",
       "// Listen for the removal of the full notebook cells\n",
       "var notebookContainer = gd.closest('#notebook-container');\n",
       "if (notebookContainer) {{\n",
       "    x.observe(notebookContainer, {childList: true});\n",
       "}}\n",
       "\n",
       "// Listen for the clearing of the current output cell\n",
       "var outputEl = gd.closest('.output');\n",
       "if (outputEl) {{\n",
       "    x.observe(outputEl, {childList: true});\n",
       "}}\n",
       "\n",
       "                        })\n",
       "                };\n",
       "                });\n",
       "            </script>\n",
       "        </div>"
      ]
     },
     "metadata": {},
     "output_type": "display_data"
    }
   ],
   "source": [
    "#Approach 2 \n",
    "df['Count'] = 1\n",
    "fig = px.pie(df, values='Count', names='Analysis')\n",
    "fig.show()"
   ]
  },
  {
   "cell_type": "markdown",
   "metadata": {},
   "source": [
    "#### Tweets Classification by Type"
   ]
  },
  {
   "cell_type": "code",
   "execution_count": 198,
   "metadata": {
    "ExecuteTime": {
     "end_time": "2021-09-01T04:36:06.266874Z",
     "start_time": "2021-09-01T04:36:04.610285Z"
    }
   },
   "outputs": [
    {
     "data": {
      "application/vnd.plotly.v1+json": {
       "config": {
        "plotlyServerURL": "https://plot.ly"
       },
       "data": [
        {
         "customdata": [
          [
           "Organic"
          ],
          [
           "Quote"
          ],
          [
           "Reply"
          ],
          [
           "Retweet"
          ]
         ],
         "domain": {
          "x": [
           0,
           1
          ],
          "y": [
           0,
           1
          ]
         },
         "hole": 0.4,
         "hovertemplate": "Type=%{label}<br>Tweet=%{value}<extra></extra>",
         "labels": [
          "Organic",
          "Quote",
          "Reply",
          "Retweet"
         ],
         "legendgroup": "",
         "marker": {
          "colors": [
           "#1DA1F2",
           "#657786",
           "#AAB8C2",
           "#14171A"
          ]
         },
         "name": "",
         "showlegend": true,
         "textinfo": "percent+label",
         "textposition": "inside",
         "type": "pie",
         "values": [
          58,
          15,
          11,
          16
         ]
        }
       ],
       "layout": {
        "legend": {
         "tracegroupgap": 0
        },
        "margin": {
         "t": 60
        },
        "showlegend": false,
        "template": {
         "data": {
          "bar": [
           {
            "error_x": {
             "color": "#2a3f5f"
            },
            "error_y": {
             "color": "#2a3f5f"
            },
            "marker": {
             "line": {
              "color": "#E5ECF6",
              "width": 0.5
             }
            },
            "type": "bar"
           }
          ],
          "barpolar": [
           {
            "marker": {
             "line": {
              "color": "#E5ECF6",
              "width": 0.5
             }
            },
            "type": "barpolar"
           }
          ],
          "carpet": [
           {
            "aaxis": {
             "endlinecolor": "#2a3f5f",
             "gridcolor": "white",
             "linecolor": "white",
             "minorgridcolor": "white",
             "startlinecolor": "#2a3f5f"
            },
            "baxis": {
             "endlinecolor": "#2a3f5f",
             "gridcolor": "white",
             "linecolor": "white",
             "minorgridcolor": "white",
             "startlinecolor": "#2a3f5f"
            },
            "type": "carpet"
           }
          ],
          "choropleth": [
           {
            "colorbar": {
             "outlinewidth": 0,
             "ticks": ""
            },
            "type": "choropleth"
           }
          ],
          "contour": [
           {
            "colorbar": {
             "outlinewidth": 0,
             "ticks": ""
            },
            "colorscale": [
             [
              0,
              "#0d0887"
             ],
             [
              0.1111111111111111,
              "#46039f"
             ],
             [
              0.2222222222222222,
              "#7201a8"
             ],
             [
              0.3333333333333333,
              "#9c179e"
             ],
             [
              0.4444444444444444,
              "#bd3786"
             ],
             [
              0.5555555555555556,
              "#d8576b"
             ],
             [
              0.6666666666666666,
              "#ed7953"
             ],
             [
              0.7777777777777778,
              "#fb9f3a"
             ],
             [
              0.8888888888888888,
              "#fdca26"
             ],
             [
              1,
              "#f0f921"
             ]
            ],
            "type": "contour"
           }
          ],
          "contourcarpet": [
           {
            "colorbar": {
             "outlinewidth": 0,
             "ticks": ""
            },
            "type": "contourcarpet"
           }
          ],
          "heatmap": [
           {
            "colorbar": {
             "outlinewidth": 0,
             "ticks": ""
            },
            "colorscale": [
             [
              0,
              "#0d0887"
             ],
             [
              0.1111111111111111,
              "#46039f"
             ],
             [
              0.2222222222222222,
              "#7201a8"
             ],
             [
              0.3333333333333333,
              "#9c179e"
             ],
             [
              0.4444444444444444,
              "#bd3786"
             ],
             [
              0.5555555555555556,
              "#d8576b"
             ],
             [
              0.6666666666666666,
              "#ed7953"
             ],
             [
              0.7777777777777778,
              "#fb9f3a"
             ],
             [
              0.8888888888888888,
              "#fdca26"
             ],
             [
              1,
              "#f0f921"
             ]
            ],
            "type": "heatmap"
           }
          ],
          "heatmapgl": [
           {
            "colorbar": {
             "outlinewidth": 0,
             "ticks": ""
            },
            "colorscale": [
             [
              0,
              "#0d0887"
             ],
             [
              0.1111111111111111,
              "#46039f"
             ],
             [
              0.2222222222222222,
              "#7201a8"
             ],
             [
              0.3333333333333333,
              "#9c179e"
             ],
             [
              0.4444444444444444,
              "#bd3786"
             ],
             [
              0.5555555555555556,
              "#d8576b"
             ],
             [
              0.6666666666666666,
              "#ed7953"
             ],
             [
              0.7777777777777778,
              "#fb9f3a"
             ],
             [
              0.8888888888888888,
              "#fdca26"
             ],
             [
              1,
              "#f0f921"
             ]
            ],
            "type": "heatmapgl"
           }
          ],
          "histogram": [
           {
            "marker": {
             "colorbar": {
              "outlinewidth": 0,
              "ticks": ""
             }
            },
            "type": "histogram"
           }
          ],
          "histogram2d": [
           {
            "colorbar": {
             "outlinewidth": 0,
             "ticks": ""
            },
            "colorscale": [
             [
              0,
              "#0d0887"
             ],
             [
              0.1111111111111111,
              "#46039f"
             ],
             [
              0.2222222222222222,
              "#7201a8"
             ],
             [
              0.3333333333333333,
              "#9c179e"
             ],
             [
              0.4444444444444444,
              "#bd3786"
             ],
             [
              0.5555555555555556,
              "#d8576b"
             ],
             [
              0.6666666666666666,
              "#ed7953"
             ],
             [
              0.7777777777777778,
              "#fb9f3a"
             ],
             [
              0.8888888888888888,
              "#fdca26"
             ],
             [
              1,
              "#f0f921"
             ]
            ],
            "type": "histogram2d"
           }
          ],
          "histogram2dcontour": [
           {
            "colorbar": {
             "outlinewidth": 0,
             "ticks": ""
            },
            "colorscale": [
             [
              0,
              "#0d0887"
             ],
             [
              0.1111111111111111,
              "#46039f"
             ],
             [
              0.2222222222222222,
              "#7201a8"
             ],
             [
              0.3333333333333333,
              "#9c179e"
             ],
             [
              0.4444444444444444,
              "#bd3786"
             ],
             [
              0.5555555555555556,
              "#d8576b"
             ],
             [
              0.6666666666666666,
              "#ed7953"
             ],
             [
              0.7777777777777778,
              "#fb9f3a"
             ],
             [
              0.8888888888888888,
              "#fdca26"
             ],
             [
              1,
              "#f0f921"
             ]
            ],
            "type": "histogram2dcontour"
           }
          ],
          "mesh3d": [
           {
            "colorbar": {
             "outlinewidth": 0,
             "ticks": ""
            },
            "type": "mesh3d"
           }
          ],
          "parcoords": [
           {
            "line": {
             "colorbar": {
              "outlinewidth": 0,
              "ticks": ""
             }
            },
            "type": "parcoords"
           }
          ],
          "pie": [
           {
            "automargin": true,
            "type": "pie"
           }
          ],
          "scatter": [
           {
            "marker": {
             "colorbar": {
              "outlinewidth": 0,
              "ticks": ""
             }
            },
            "type": "scatter"
           }
          ],
          "scatter3d": [
           {
            "line": {
             "colorbar": {
              "outlinewidth": 0,
              "ticks": ""
             }
            },
            "marker": {
             "colorbar": {
              "outlinewidth": 0,
              "ticks": ""
             }
            },
            "type": "scatter3d"
           }
          ],
          "scattercarpet": [
           {
            "marker": {
             "colorbar": {
              "outlinewidth": 0,
              "ticks": ""
             }
            },
            "type": "scattercarpet"
           }
          ],
          "scattergeo": [
           {
            "marker": {
             "colorbar": {
              "outlinewidth": 0,
              "ticks": ""
             }
            },
            "type": "scattergeo"
           }
          ],
          "scattergl": [
           {
            "marker": {
             "colorbar": {
              "outlinewidth": 0,
              "ticks": ""
             }
            },
            "type": "scattergl"
           }
          ],
          "scattermapbox": [
           {
            "marker": {
             "colorbar": {
              "outlinewidth": 0,
              "ticks": ""
             }
            },
            "type": "scattermapbox"
           }
          ],
          "scatterpolar": [
           {
            "marker": {
             "colorbar": {
              "outlinewidth": 0,
              "ticks": ""
             }
            },
            "type": "scatterpolar"
           }
          ],
          "scatterpolargl": [
           {
            "marker": {
             "colorbar": {
              "outlinewidth": 0,
              "ticks": ""
             }
            },
            "type": "scatterpolargl"
           }
          ],
          "scatterternary": [
           {
            "marker": {
             "colorbar": {
              "outlinewidth": 0,
              "ticks": ""
             }
            },
            "type": "scatterternary"
           }
          ],
          "surface": [
           {
            "colorbar": {
             "outlinewidth": 0,
             "ticks": ""
            },
            "colorscale": [
             [
              0,
              "#0d0887"
             ],
             [
              0.1111111111111111,
              "#46039f"
             ],
             [
              0.2222222222222222,
              "#7201a8"
             ],
             [
              0.3333333333333333,
              "#9c179e"
             ],
             [
              0.4444444444444444,
              "#bd3786"
             ],
             [
              0.5555555555555556,
              "#d8576b"
             ],
             [
              0.6666666666666666,
              "#ed7953"
             ],
             [
              0.7777777777777778,
              "#fb9f3a"
             ],
             [
              0.8888888888888888,
              "#fdca26"
             ],
             [
              1,
              "#f0f921"
             ]
            ],
            "type": "surface"
           }
          ],
          "table": [
           {
            "cells": {
             "fill": {
              "color": "#EBF0F8"
             },
             "line": {
              "color": "white"
             }
            },
            "header": {
             "fill": {
              "color": "#C8D4E3"
             },
             "line": {
              "color": "white"
             }
            },
            "type": "table"
           }
          ]
         },
         "layout": {
          "annotationdefaults": {
           "arrowcolor": "#2a3f5f",
           "arrowhead": 0,
           "arrowwidth": 1
          },
          "coloraxis": {
           "colorbar": {
            "outlinewidth": 0,
            "ticks": ""
           }
          },
          "colorscale": {
           "diverging": [
            [
             0,
             "#8e0152"
            ],
            [
             0.1,
             "#c51b7d"
            ],
            [
             0.2,
             "#de77ae"
            ],
            [
             0.3,
             "#f1b6da"
            ],
            [
             0.4,
             "#fde0ef"
            ],
            [
             0.5,
             "#f7f7f7"
            ],
            [
             0.6,
             "#e6f5d0"
            ],
            [
             0.7,
             "#b8e186"
            ],
            [
             0.8,
             "#7fbc41"
            ],
            [
             0.9,
             "#4d9221"
            ],
            [
             1,
             "#276419"
            ]
           ],
           "sequential": [
            [
             0,
             "#0d0887"
            ],
            [
             0.1111111111111111,
             "#46039f"
            ],
            [
             0.2222222222222222,
             "#7201a8"
            ],
            [
             0.3333333333333333,
             "#9c179e"
            ],
            [
             0.4444444444444444,
             "#bd3786"
            ],
            [
             0.5555555555555556,
             "#d8576b"
            ],
            [
             0.6666666666666666,
             "#ed7953"
            ],
            [
             0.7777777777777778,
             "#fb9f3a"
            ],
            [
             0.8888888888888888,
             "#fdca26"
            ],
            [
             1,
             "#f0f921"
            ]
           ],
           "sequentialminus": [
            [
             0,
             "#0d0887"
            ],
            [
             0.1111111111111111,
             "#46039f"
            ],
            [
             0.2222222222222222,
             "#7201a8"
            ],
            [
             0.3333333333333333,
             "#9c179e"
            ],
            [
             0.4444444444444444,
             "#bd3786"
            ],
            [
             0.5555555555555556,
             "#d8576b"
            ],
            [
             0.6666666666666666,
             "#ed7953"
            ],
            [
             0.7777777777777778,
             "#fb9f3a"
            ],
            [
             0.8888888888888888,
             "#fdca26"
            ],
            [
             1,
             "#f0f921"
            ]
           ]
          },
          "colorway": [
           "#636efa",
           "#EF553B",
           "#00cc96",
           "#ab63fa",
           "#FFA15A",
           "#19d3f3",
           "#FF6692",
           "#B6E880",
           "#FF97FF",
           "#FECB52"
          ],
          "font": {
           "color": "#2a3f5f"
          },
          "geo": {
           "bgcolor": "white",
           "lakecolor": "white",
           "landcolor": "#E5ECF6",
           "showlakes": true,
           "showland": true,
           "subunitcolor": "white"
          },
          "hoverlabel": {
           "align": "left"
          },
          "hovermode": "closest",
          "mapbox": {
           "style": "light"
          },
          "paper_bgcolor": "white",
          "plot_bgcolor": "#E5ECF6",
          "polar": {
           "angularaxis": {
            "gridcolor": "white",
            "linecolor": "white",
            "ticks": ""
           },
           "bgcolor": "#E5ECF6",
           "radialaxis": {
            "gridcolor": "white",
            "linecolor": "white",
            "ticks": ""
           }
          },
          "scene": {
           "xaxis": {
            "backgroundcolor": "#E5ECF6",
            "gridcolor": "white",
            "gridwidth": 2,
            "linecolor": "white",
            "showbackground": true,
            "ticks": "",
            "zerolinecolor": "white"
           },
           "yaxis": {
            "backgroundcolor": "#E5ECF6",
            "gridcolor": "white",
            "gridwidth": 2,
            "linecolor": "white",
            "showbackground": true,
            "ticks": "",
            "zerolinecolor": "white"
           },
           "zaxis": {
            "backgroundcolor": "#E5ECF6",
            "gridcolor": "white",
            "gridwidth": 2,
            "linecolor": "white",
            "showbackground": true,
            "ticks": "",
            "zerolinecolor": "white"
           }
          },
          "shapedefaults": {
           "line": {
            "color": "#2a3f5f"
           }
          },
          "ternary": {
           "aaxis": {
            "gridcolor": "white",
            "linecolor": "white",
            "ticks": ""
           },
           "baxis": {
            "gridcolor": "white",
            "linecolor": "white",
            "ticks": ""
           },
           "bgcolor": "#E5ECF6",
           "caxis": {
            "gridcolor": "white",
            "linecolor": "white",
            "ticks": ""
           }
          },
          "title": {
           "x": 0.05
          },
          "xaxis": {
           "automargin": true,
           "gridcolor": "white",
           "linecolor": "white",
           "ticks": "",
           "title": {
            "standoff": 15
           },
           "zerolinecolor": "white",
           "zerolinewidth": 2
          },
          "yaxis": {
           "automargin": true,
           "gridcolor": "white",
           "linecolor": "white",
           "ticks": "",
           "title": {
            "standoff": 15
           },
           "zerolinecolor": "white",
           "zerolinewidth": 2
          }
         }
        },
        "title": {
         "text": "Tweets Classification by Type"
        }
       }
      },
      "text/html": [
       "<div>\n",
       "        \n",
       "        \n",
       "            <div id=\"b7516090-87bb-4363-88df-cf4d049aff3b\" class=\"plotly-graph-div\" style=\"height:525px; width:100%;\"></div>\n",
       "            <script type=\"text/javascript\">\n",
       "                require([\"plotly\"], function(Plotly) {\n",
       "                    window.PLOTLYENV=window.PLOTLYENV || {};\n",
       "                    \n",
       "                if (document.getElementById(\"b7516090-87bb-4363-88df-cf4d049aff3b\")) {\n",
       "                    Plotly.newPlot(\n",
       "                        'b7516090-87bb-4363-88df-cf4d049aff3b',\n",
       "                        [{\"customdata\": [[\"Organic\"], [\"Quote\"], [\"Reply\"], [\"Retweet\"]], \"domain\": {\"x\": [0.0, 1.0], \"y\": [0.0, 1.0]}, \"hole\": 0.4, \"hovertemplate\": \"Type=%{label}<br>Tweet=%{value}<extra></extra>\", \"labels\": [\"Organic\", \"Quote\", \"Reply\", \"Retweet\"], \"legendgroup\": \"\", \"marker\": {\"colors\": [\"#1DA1F2\", \"#657786\", \"#AAB8C2\", \"#14171A\"]}, \"name\": \"\", \"showlegend\": true, \"textinfo\": \"percent+label\", \"textposition\": \"inside\", \"type\": \"pie\", \"values\": [58, 15, 11, 16]}],\n",
       "                        {\"legend\": {\"tracegroupgap\": 0}, \"margin\": {\"t\": 60}, \"showlegend\": false, \"template\": {\"data\": {\"bar\": [{\"error_x\": {\"color\": \"#2a3f5f\"}, \"error_y\": {\"color\": \"#2a3f5f\"}, \"marker\": {\"line\": {\"color\": \"#E5ECF6\", \"width\": 0.5}}, \"type\": \"bar\"}], \"barpolar\": [{\"marker\": {\"line\": {\"color\": \"#E5ECF6\", \"width\": 0.5}}, \"type\": \"barpolar\"}], \"carpet\": [{\"aaxis\": {\"endlinecolor\": \"#2a3f5f\", \"gridcolor\": \"white\", \"linecolor\": \"white\", \"minorgridcolor\": \"white\", \"startlinecolor\": \"#2a3f5f\"}, \"baxis\": {\"endlinecolor\": \"#2a3f5f\", \"gridcolor\": \"white\", \"linecolor\": \"white\", \"minorgridcolor\": \"white\", \"startlinecolor\": \"#2a3f5f\"}, \"type\": \"carpet\"}], \"choropleth\": [{\"colorbar\": {\"outlinewidth\": 0, \"ticks\": \"\"}, \"type\": \"choropleth\"}], \"contour\": [{\"colorbar\": {\"outlinewidth\": 0, \"ticks\": \"\"}, \"colorscale\": [[0.0, \"#0d0887\"], [0.1111111111111111, \"#46039f\"], [0.2222222222222222, \"#7201a8\"], [0.3333333333333333, \"#9c179e\"], [0.4444444444444444, \"#bd3786\"], [0.5555555555555556, \"#d8576b\"], [0.6666666666666666, \"#ed7953\"], [0.7777777777777778, \"#fb9f3a\"], [0.8888888888888888, \"#fdca26\"], [1.0, \"#f0f921\"]], \"type\": \"contour\"}], \"contourcarpet\": [{\"colorbar\": {\"outlinewidth\": 0, \"ticks\": \"\"}, \"type\": \"contourcarpet\"}], \"heatmap\": [{\"colorbar\": {\"outlinewidth\": 0, \"ticks\": \"\"}, \"colorscale\": [[0.0, \"#0d0887\"], [0.1111111111111111, \"#46039f\"], [0.2222222222222222, \"#7201a8\"], [0.3333333333333333, \"#9c179e\"], [0.4444444444444444, \"#bd3786\"], [0.5555555555555556, \"#d8576b\"], [0.6666666666666666, \"#ed7953\"], [0.7777777777777778, \"#fb9f3a\"], [0.8888888888888888, \"#fdca26\"], [1.0, \"#f0f921\"]], \"type\": \"heatmap\"}], \"heatmapgl\": [{\"colorbar\": {\"outlinewidth\": 0, \"ticks\": \"\"}, \"colorscale\": [[0.0, \"#0d0887\"], [0.1111111111111111, \"#46039f\"], [0.2222222222222222, \"#7201a8\"], [0.3333333333333333, \"#9c179e\"], [0.4444444444444444, \"#bd3786\"], [0.5555555555555556, \"#d8576b\"], [0.6666666666666666, \"#ed7953\"], [0.7777777777777778, \"#fb9f3a\"], [0.8888888888888888, \"#fdca26\"], [1.0, \"#f0f921\"]], \"type\": \"heatmapgl\"}], \"histogram\": [{\"marker\": {\"colorbar\": {\"outlinewidth\": 0, \"ticks\": \"\"}}, \"type\": \"histogram\"}], \"histogram2d\": [{\"colorbar\": {\"outlinewidth\": 0, \"ticks\": \"\"}, \"colorscale\": [[0.0, \"#0d0887\"], [0.1111111111111111, \"#46039f\"], [0.2222222222222222, \"#7201a8\"], [0.3333333333333333, \"#9c179e\"], [0.4444444444444444, \"#bd3786\"], [0.5555555555555556, \"#d8576b\"], [0.6666666666666666, \"#ed7953\"], [0.7777777777777778, \"#fb9f3a\"], [0.8888888888888888, \"#fdca26\"], [1.0, \"#f0f921\"]], \"type\": \"histogram2d\"}], \"histogram2dcontour\": [{\"colorbar\": {\"outlinewidth\": 0, \"ticks\": \"\"}, \"colorscale\": [[0.0, \"#0d0887\"], [0.1111111111111111, \"#46039f\"], [0.2222222222222222, \"#7201a8\"], [0.3333333333333333, \"#9c179e\"], [0.4444444444444444, \"#bd3786\"], [0.5555555555555556, \"#d8576b\"], [0.6666666666666666, \"#ed7953\"], [0.7777777777777778, \"#fb9f3a\"], [0.8888888888888888, \"#fdca26\"], [1.0, \"#f0f921\"]], \"type\": \"histogram2dcontour\"}], \"mesh3d\": [{\"colorbar\": {\"outlinewidth\": 0, \"ticks\": \"\"}, \"type\": \"mesh3d\"}], \"parcoords\": [{\"line\": {\"colorbar\": {\"outlinewidth\": 0, \"ticks\": \"\"}}, \"type\": \"parcoords\"}], \"pie\": [{\"automargin\": true, \"type\": \"pie\"}], \"scatter\": [{\"marker\": {\"colorbar\": {\"outlinewidth\": 0, \"ticks\": \"\"}}, \"type\": \"scatter\"}], \"scatter3d\": [{\"line\": {\"colorbar\": {\"outlinewidth\": 0, \"ticks\": \"\"}}, \"marker\": {\"colorbar\": {\"outlinewidth\": 0, \"ticks\": \"\"}}, \"type\": \"scatter3d\"}], \"scattercarpet\": [{\"marker\": {\"colorbar\": {\"outlinewidth\": 0, \"ticks\": \"\"}}, \"type\": \"scattercarpet\"}], \"scattergeo\": [{\"marker\": {\"colorbar\": {\"outlinewidth\": 0, \"ticks\": \"\"}}, \"type\": \"scattergeo\"}], \"scattergl\": [{\"marker\": {\"colorbar\": {\"outlinewidth\": 0, \"ticks\": \"\"}}, \"type\": \"scattergl\"}], \"scattermapbox\": [{\"marker\": {\"colorbar\": {\"outlinewidth\": 0, \"ticks\": \"\"}}, \"type\": \"scattermapbox\"}], \"scatterpolar\": [{\"marker\": {\"colorbar\": {\"outlinewidth\": 0, \"ticks\": \"\"}}, \"type\": \"scatterpolar\"}], \"scatterpolargl\": [{\"marker\": {\"colorbar\": {\"outlinewidth\": 0, \"ticks\": \"\"}}, \"type\": \"scatterpolargl\"}], \"scatterternary\": [{\"marker\": {\"colorbar\": {\"outlinewidth\": 0, \"ticks\": \"\"}}, \"type\": \"scatterternary\"}], \"surface\": [{\"colorbar\": {\"outlinewidth\": 0, \"ticks\": \"\"}, \"colorscale\": [[0.0, \"#0d0887\"], [0.1111111111111111, \"#46039f\"], [0.2222222222222222, \"#7201a8\"], [0.3333333333333333, \"#9c179e\"], [0.4444444444444444, \"#bd3786\"], [0.5555555555555556, \"#d8576b\"], [0.6666666666666666, \"#ed7953\"], [0.7777777777777778, \"#fb9f3a\"], [0.8888888888888888, \"#fdca26\"], [1.0, \"#f0f921\"]], \"type\": \"surface\"}], \"table\": [{\"cells\": {\"fill\": {\"color\": \"#EBF0F8\"}, \"line\": {\"color\": \"white\"}}, \"header\": {\"fill\": {\"color\": \"#C8D4E3\"}, \"line\": {\"color\": \"white\"}}, \"type\": \"table\"}]}, \"layout\": {\"annotationdefaults\": {\"arrowcolor\": \"#2a3f5f\", \"arrowhead\": 0, \"arrowwidth\": 1}, \"coloraxis\": {\"colorbar\": {\"outlinewidth\": 0, \"ticks\": \"\"}}, \"colorscale\": {\"diverging\": [[0, \"#8e0152\"], [0.1, \"#c51b7d\"], [0.2, \"#de77ae\"], [0.3, \"#f1b6da\"], [0.4, \"#fde0ef\"], [0.5, \"#f7f7f7\"], [0.6, \"#e6f5d0\"], [0.7, \"#b8e186\"], [0.8, \"#7fbc41\"], [0.9, \"#4d9221\"], [1, \"#276419\"]], \"sequential\": [[0.0, \"#0d0887\"], [0.1111111111111111, \"#46039f\"], [0.2222222222222222, \"#7201a8\"], [0.3333333333333333, \"#9c179e\"], [0.4444444444444444, \"#bd3786\"], [0.5555555555555556, \"#d8576b\"], [0.6666666666666666, \"#ed7953\"], [0.7777777777777778, \"#fb9f3a\"], [0.8888888888888888, \"#fdca26\"], [1.0, \"#f0f921\"]], \"sequentialminus\": [[0.0, \"#0d0887\"], [0.1111111111111111, \"#46039f\"], [0.2222222222222222, \"#7201a8\"], [0.3333333333333333, \"#9c179e\"], [0.4444444444444444, \"#bd3786\"], [0.5555555555555556, \"#d8576b\"], [0.6666666666666666, \"#ed7953\"], [0.7777777777777778, \"#fb9f3a\"], [0.8888888888888888, \"#fdca26\"], [1.0, \"#f0f921\"]]}, \"colorway\": [\"#636efa\", \"#EF553B\", \"#00cc96\", \"#ab63fa\", \"#FFA15A\", \"#19d3f3\", \"#FF6692\", \"#B6E880\", \"#FF97FF\", \"#FECB52\"], \"font\": {\"color\": \"#2a3f5f\"}, \"geo\": {\"bgcolor\": \"white\", \"lakecolor\": \"white\", \"landcolor\": \"#E5ECF6\", \"showlakes\": true, \"showland\": true, \"subunitcolor\": \"white\"}, \"hoverlabel\": {\"align\": \"left\"}, \"hovermode\": \"closest\", \"mapbox\": {\"style\": \"light\"}, \"paper_bgcolor\": \"white\", \"plot_bgcolor\": \"#E5ECF6\", \"polar\": {\"angularaxis\": {\"gridcolor\": \"white\", \"linecolor\": \"white\", \"ticks\": \"\"}, \"bgcolor\": \"#E5ECF6\", \"radialaxis\": {\"gridcolor\": \"white\", \"linecolor\": \"white\", \"ticks\": \"\"}}, \"scene\": {\"xaxis\": {\"backgroundcolor\": \"#E5ECF6\", \"gridcolor\": \"white\", \"gridwidth\": 2, \"linecolor\": \"white\", \"showbackground\": true, \"ticks\": \"\", \"zerolinecolor\": \"white\"}, \"yaxis\": {\"backgroundcolor\": \"#E5ECF6\", \"gridcolor\": \"white\", \"gridwidth\": 2, \"linecolor\": \"white\", \"showbackground\": true, \"ticks\": \"\", \"zerolinecolor\": \"white\"}, \"zaxis\": {\"backgroundcolor\": \"#E5ECF6\", \"gridcolor\": \"white\", \"gridwidth\": 2, \"linecolor\": \"white\", \"showbackground\": true, \"ticks\": \"\", \"zerolinecolor\": \"white\"}}, \"shapedefaults\": {\"line\": {\"color\": \"#2a3f5f\"}}, \"ternary\": {\"aaxis\": {\"gridcolor\": \"white\", \"linecolor\": \"white\", \"ticks\": \"\"}, \"baxis\": {\"gridcolor\": \"white\", \"linecolor\": \"white\", \"ticks\": \"\"}, \"bgcolor\": \"#E5ECF6\", \"caxis\": {\"gridcolor\": \"white\", \"linecolor\": \"white\", \"ticks\": \"\"}}, \"title\": {\"x\": 0.05}, \"xaxis\": {\"automargin\": true, \"gridcolor\": \"white\", \"linecolor\": \"white\", \"ticks\": \"\", \"title\": {\"standoff\": 15}, \"zerolinecolor\": \"white\", \"zerolinewidth\": 2}, \"yaxis\": {\"automargin\": true, \"gridcolor\": \"white\", \"linecolor\": \"white\", \"ticks\": \"\", \"title\": {\"standoff\": 15}, \"zerolinecolor\": \"white\", \"zerolinewidth\": 2}}}, \"title\": {\"text\": \"Tweets Classification by Type\"}},\n",
       "                        {\"responsive\": true}\n",
       "                    ).then(function(){\n",
       "                            \n",
       "var gd = document.getElementById('b7516090-87bb-4363-88df-cf4d049aff3b');\n",
       "var x = new MutationObserver(function (mutations, observer) {{\n",
       "        var display = window.getComputedStyle(gd).display;\n",
       "        if (!display || display === 'none') {{\n",
       "            console.log([gd, 'removed!']);\n",
       "            Plotly.purge(gd);\n",
       "            observer.disconnect();\n",
       "        }}\n",
       "}});\n",
       "\n",
       "// Listen for the removal of the full notebook cells\n",
       "var notebookContainer = gd.closest('#notebook-container');\n",
       "if (notebookContainer) {{\n",
       "    x.observe(notebookContainer, {childList: true});\n",
       "}}\n",
       "\n",
       "// Listen for the clearing of the current output cell\n",
       "var outputEl = gd.closest('.output');\n",
       "if (outputEl) {{\n",
       "    x.observe(outputEl, {childList: true});\n",
       "}}\n",
       "\n",
       "                        })\n",
       "                };\n",
       "                });\n",
       "            </script>\n",
       "        </div>"
      ]
     },
     "metadata": {},
     "output_type": "display_data"
    }
   ],
   "source": [
    "# Approach 1 \n",
    "\n",
    "df1 = df.groupby('Type').count()[['Tweet']].reset_index()\n",
    "#print(df1)\n",
    "fig = px.pie(df1, \n",
    "             values='Tweet', \n",
    "             names='Type', \n",
    "             color='Type', \n",
    "             color_discrete_map={'Organic': blue,\n",
    "                                 'Retweet': black,\n",
    "                                 'Quote': dark_gray,\n",
    "                                    'Reply': light_gray }, \n",
    "              hole=.4, \n",
    "            )\n",
    "fig.update_traces(textposition='inside', textinfo='percent+label')\n",
    "fig.update(layout_title_text='Tweets Classification by Type',\n",
    "           layout_showlegend=False)\n",
    "fig.show()"
   ]
  },
  {
   "cell_type": "markdown",
   "metadata": {
    "ExecuteTime": {
     "end_time": "2021-09-01T03:49:41.342591Z",
     "start_time": "2021-09-01T03:49:41.321960Z"
    }
   },
   "source": [
    "#### Sentiment Analysis Scatter Plot"
   ]
  },
  {
   "cell_type": "code",
   "execution_count": 199,
   "metadata": {
    "ExecuteTime": {
     "end_time": "2021-09-01T04:36:13.840014Z",
     "start_time": "2021-09-01T04:36:13.495400Z"
    }
   },
   "outputs": [
    {
     "data": {
      "application/vnd.plotly.v1+json": {
       "config": {
        "plotlyServerURL": "https://plot.ly"
       },
       "data": [
        {
         "customdata": [
          [
           ".@GAP_Foundation’s Bio-Hermes Study is the first to compare results of blood and digital biomarker tests with imaging and traditional cognitive tests. This could help identify Alzheimer’s earlier and detect progression of the disease, to help us get closer to a cure. https://t.co/9xUQ0ZldSI"
          ],
          [
           "I don’t think any of @ronnychieng’s innovations are ready to bring to market. Luckily, brilliant scientists and engineers around the world have developed hundreds of exciting solutions that will prevent illness and death: https://t.co/x9lELyhV4c https://t.co/asEKuLP3Zm"
          ],
          [
           "Thank you to @DonorsChoose, and to all 40,255 of you who donated in support of students and teachers across the country. https://t.co/g2ABbfFtsl"
          ],
          [
           "I’m partnering with @DonorsChoose to make sure that more teachers have access to everything they need to get ready for the new school year. I’ll give your donation an extra 50% boost today when you give to any classroom project or supply request. https://t.co/PjNI0vyjUC"
          ],
          [
           "Alzheimer’s and related dementias have impacted far too many families around the world—including my own. New funding from @TheADDF will help @EDoNInitiative accelerate data collection and sharing to enable early detection and treatment. https://t.co/4Q28soukxu"
          ],
          [
           "I’m deeply saddened to hear of Tachi’s passing. I loved working with him and I learned a lot from him. His passion for saving lives and making the world a fairer place was inspiring, and he matched it with an incredible intellect. I will miss him. https://t.co/68O3ytcoo4"
          ],
          [
           "You were a good sport, Jimmy. Pro tip...never choose glass “#2” in a poop-water challenge: https://t.co/8shvjTNa4M https://t.co/onnWyhJpqm"
          ],
          [
           "The Gates Foundation is providing additional, flexible funding to the @AfricaCDC for its pandemic response efforts, but more assistance from the global community is urgently needed to fill the gaps. https://t.co/x9k41SUi04"
          ],
          [
           "I look forward to working with you and @EU_Commission on all of these important goals. Europe is a critical partner in creating a net-zero future and ensuring a healthy and equitable world for all. https://t.co/O16waKVVVo"
          ],
          [
           "These students are doing inspiring work. Their ambition makes me optimistic about the future of health care (and the world). https://t.co/jA9yDbo5Or"
          ],
          [
           "This expanded commitment to the foundation will accelerate its mission to fight poverty, disease, and inequity around the world. I'm grateful to the foundation's leadership team, employees, and partners for their dedication to making the world healthier and more just. https://t.co/6fqy34HX6C"
          ],
          [
           "This important commitment builds on the @gatesfoundation's efforts to support partners working to create a more equal world. https://t.co/M0RO0s62ZP"
          ],
          [
           "Avoiding a climate disaster is possible if governments act today. @IEA’s Net Zero by 2050 report provides a roadmap to achieve this critical goal. https://t.co/GBoEGvYWtc"
          ],
          [
           "It’s encouraging to see @POTUS Biden and @ClimateEnvoy Kerry re-establish America’s leading role on climate change. I look forward to joining leaders from around the world to talk about some of the most important challenges we need to overcome to avoid a climate disaster. https://t.co/a9CXZzIg6Y"
          ],
          [
           "The amount of cement China has consumed is a staggering statistic and reminder of how much emissions have grown in low- and middle-income countries. (Minecraft concrete doesn’t count, though server farms are responsible for a lot of emissions.) https://t.co/b8tSNNdUBy https://t.co/bFrIIUv97i"
          ]
         ],
         "hovertemplate": "Type=Quote<br>Polarity=%{x}<br>Subjectivity=%{y}<br>Tweet=%{customdata[0]}<extra></extra>",
         "legendgroup": "Quote",
         "marker": {
          "color": "#657786",
          "symbol": "circle"
         },
         "mode": "markers",
         "name": "Quote",
         "showlegend": true,
         "type": "scatter",
         "x": [
          0.0625,
          0.37500000000000006,
          0,
          0.2672727272727273,
          0.2393939393939394,
          0.525,
          0.7,
          0.25,
          0.225,
          0.25,
          0.5,
          0.3,
          0,
          0.45,
          0.1375
         ],
         "xaxis": "x",
         "y": [
          0.3958333333333333,
          0.65,
          0,
          0.4886868686868687,
          0.609090909090909,
          0.775,
          0.6000000000000001,
          0.25,
          0.60625,
          0.5625,
          0.5,
          0.5833333333333334,
          0.6,
          0.75,
          0.3375
         ],
         "yaxis": "y"
        },
        {
         "customdata": [
          [
           "I recently sat down with the extraordinary Brooke Brown, Washington State’s 2021 Teacher of the Year. It was a pleasure to meet with her and take part in one of her favorite lessons: https://t.co/TAwysEihyQ https://t.co/rlB1iJjogC"
          ],
          [
           "Happy Birthday, Warren! You’ve been a true friend and an invaluable source of advice over the years, and I’m so lucky to know you. It’s an honor to work at the foundation doing my best to turn your generosity into lives saved and improved. Here’s to many more birthdays! https://t.co/ZaCGW5KCWm"
          ],
          [
           "Investments in malaria programs help build stronger health systems that will not only bring an end to malaria but also protect us from the next pandemic. Here’s how: https://t.co/jdMgfMruYZ #MosquitoWeek https://t.co/gLHSY7Nqcz"
          ],
          [
           "Congratulations, India, on reaching this tremendous milestone. The collective efforts of the government, R&amp;D community, vaccine manufacturers, and millions of health workers have made this feat possible. @PMOIndia @MoHFW_INDIA https://t.co/cmvQiAfSZG"
          ],
          [
           "The COVID-19 pandemic reminds us why eradicating malaria is essential. Many of the building blocks we need to fight malaria and prevent the next pandemic are the same. #MosquitoWeek https://t.co/lC9eeVIN3J"
          ],
          [
           "Mosquitoes are the deadliest animal to humans, but @WMPglobal scientists have discovered how to transform one kind of mosquito into a surprisingly powerful ally: https://t.co/T6H9dVZYP0. #MosquitoWeek🦟 https://t.co/ENiniSLs9z"
          ],
          [
           "I applaud David Vélez and Mariel Reyes’s pledge to dedicate the majority of their wealth to creating opportunity for the most vulnerable Latin American children and young adults: https://t.co/LGZ23efAVO"
          ],
          [
           "I'm incredibly excited about the new collaboration between @Breakthrough Energy Catalyst and @ENERGY to accelerate the adoption of next-generation clean technologies and build the net-zero economy: https://t.co/85aqtW8HCr"
          ],
          [
           "Today’s United Nations climate report is an urgent call to action for the world: we must reach net-zero emissions by 2050 to avoid a climate disaster. https://t.co/eSaC2HyD8q"
          ],
          [
           "Today’s students have the power to create a better future for all people, and teachers are helping them build their framework for understanding the world. Thank you to Bryan Stevenson for joining the @OERProject Conference for Social Studies this week. https://t.co/3tpHHnbICc"
          ],
          [
           "Vaclav Smil’s books are amazing. His latest will give you a framework to think about humanity: https://t.co/sgWOBDRYR4 https://t.co/EsQNmjHvHg"
          ],
          [
           "I enjoyed joining educators from around the world at the @OERProject Conference for the Social Studies to discuss how their teaching practices have changed over the last year and a half. I’m inspired by their resilience and dedication to their students: https://t.co/e7A0IuUhz1 https://t.co/f5K54U0OZj"
          ],
          [
           "It only took Senegal 15 years to cut childhood death in half. Community health workers and successful vaccination campaigns played a key role in this success. Read more from @Exemplarshealth and see how lessons from Senegal can be applied elsewhere. https://t.co/QwYrIlaO9u"
          ],
          [
           "My favorite author’s new book might be his best one yet. Each chapter covers one of 71 facts about the world that help you understand how history ties together. I unabashedly recommend it to anyone who loves learning. https://t.co/Sqg0r8K1GA"
          ],
          [
           "Ever heard a toilet be compared to an espresso machine? That’s how Dr. Shannon Yee describes the toilet he and his team have developed. https://t.co/zvLAE6CJ5t"
          ],
          [
           "How much of the world population still lacks access to a toilet that safely removes waste from the home?\n\nFind the answer here: https://t.co/IiIquCEvZ0"
          ],
          [
           "This map from @OurWorldInData shows the progress we’ve made–but also highlights how much work we have left to do. https://t.co/KmmhFnvctZ"
          ],
          [
           "The COVID pandemic is a powerful reminder of the urgent work needed to contain and treat deadly pathogens. I’m optimistic about the progress being made on another crisis: safe sanitation: https://t.co/88jFx2UjiW https://t.co/h5HCSyQxO4"
          ],
          [
           "Over the years, I’ve shared a stage with a jar of human feces, smelled pit latrine odor, and drunk water made from poop (and convinced @jimmyfallon to drink it too). Was it worth it? You bet. Here’s why: https://t.co/8SJbCuNezD"
          ],
          [
           "I’ve been rewatching some of my favorite movies. Add your favorites to the list on @Likewise. https://t.co/bEgD4aMmSU"
          ],
          [
           "Getting an early start on my weekend reading: this article does a good job explaining immunity and what may happen with COVID-19 in the future. https://t.co/AHatTlUdOr"
          ],
          [
           "During the height of the U.S. polio epidemic, the iron lung was one of the greatest tools used to fight polio. Today, it’s the iron will of the thousands of workers and their supporters who are committed to finishing the job. https://t.co/oAzGsIGSUN #endpolio"
          ],
          [
           "Our foundation joined the polio fight almost 15 years ago. And in all that time, I cannot think of a more important moment than right now. https://t.co/ZUyvSZyzau"
          ],
          [
           "Reaching net-zero emissions by 2050 means transforming our entire physical economy and accelerating innovation at an unprecedented pace. @Breakthrough Energy Catalyst will jumpstart this process. https://t.co/MAKM2lAyy0"
          ],
          [
           "This is the greatest opportunity for innovation in human history: https://t.co/rBFo2LjpsH https://t.co/bj6rY3FszB"
          ],
          [
           "I’m excited about @Breakthrough Energy Catalyst and think it can help make clean-energy innovations more available and affordable for everyone. https://t.co/59eVhOSrGC"
          ],
          [
           "COVID-19 has highlighted how digital tools can save lives. I’m encouraged by @ExemplarsHealth research highlighting how technologies in Nigeria, Sri Lanka, Burkina Faso, Uganda, South Africa, and Vietnam can be scaled to detect and respond to pandemics. https://t.co/x1W7IyhSnP"
          ],
          [
           "Stopping Alzheimer’s requires more eyes on the problem. ADDI @AlzData recently hosted their 1st Data Challenge. I was inspired to see more than 1,200+ people from 65+ countries/regions join the fight. https://t.co/kTovX2SWch"
          ],
          [
           "It’s really encouraging to see these results. Dengue fever infects hundreds of millions of people a year and causes debilitating disease. This incredible technique could also be effective at stopping the spread of other viruses like Zika and Chikungunya. https://t.co/AdFpD1hW5c"
          ],
          [
           "I will always have a deep sense of accountability to Warren, paying close attention to the data to track our progress and identify areas where we can do better. But the value of Warren’s gift goes beyond anything that can be measured."
          ],
          [
           "Should you pick your nose?\n\nYou can read an excerpt from Matt Richtel’s fascinating book about the immune system on my blog to find the answer: https://t.co/cgfc1aUzPA https://t.co/Uc7vqT2B1m"
          ],
          [
           "The journalist @ElizKolbert has created a fascinating beat for herself covering humanity’s impact on nature and our attempts to control it. Her latest book is a good reminder that we need to watch out for the unforeseen effects of our actions. https://t.co/8gt4I8oxXc"
          ],
          [
           "The persistence of countless Rotarians gives me hope that we can achieve a polio-free world. As they close the #Rotary21 Convention, I'd like to thank @Rotary for the continued partnership to #endpolio. https://t.co/sZ4dRiuiXk"
          ],
          [
           "I'm almost always interested in books about American presidents, and I especially loved A Promised Land. It’s a fascinating look at what it’s like to steer a country through challenging times. https://t.co/RgpXbkOnDw"
          ],
          [
           "This book gave me a deeper, more nuanced appreciation for the system that is at the core of humanity’s fight against COVID-19 and everything our foundation’s Global Health program is trying to do. https://t.co/uTUH19oKKc"
          ],
          [
           "If you’re looking for a good book to read this summer, these are some of my favorites. https://t.co/e19FKzFFL1"
          ],
          [
           "The @G7’s commitment to share 870M COVID-19 vaccine doses over the next year is welcome news - but time is not on our side. Vaccines must be delivered now to help control the pandemic everywhere and not disrupt the progress we've made. https://t.co/gWvonMax6n"
          ],
          [
           "Polio tools and infrastructure are also critical to combatting other public health emergencies, like COVID-19. It is more important than ever that donors and countries commit to the new GPEI strategy to #endpolio and continue improving health for all. https://t.co/jaN6hPRT23"
          ],
          [
           "These young leaders make me optimistic that brighter days are ahead for America’s students and teachers. https://t.co/aiue8lKiZ6"
          ],
          [
           "Against the odds, @MohamedBailorB8 became a doctor and is helping his country recover from civil war, Ebola, and now COVID-19. This doctor’s life story is almost as remarkable as his work. https://t.co/giKIhT4W8b"
          ],
          [
           "This is an important step in the U.S. clean energy transition. I’m excited to see @TerraPower working with @PacifiCorp, @GovernorGordon, and @Energy to bring this project to life with the workforce of Wyoming. https://t.co/AYeFV5aO5b"
          ],
          [
           "Heroes like Dr. Mohamed Barrie are the reason we started our foundation more than 20 years ago and why Melinda and I remain committed to its work. Mohamed’s story is truly inspiring, and I can’t wait to see what he and his team will accomplish next. https://t.co/ovDzfwSKwP"
          ],
          [
           "This partnership between @Breakthrough Energy and the @EU_Commission will create jobs around the world, build sustainable global industries, and expand opportunity for billions: https://t.co/mg9LNkabev. Thank you to @EIB as well for your support. https://t.co/HoJdAd6t0z"
          ],
          [
           "The pandemic has exacerbated existing racial health inequities in the United States. The Health Equity Tracker is a new tool bringing visibility to disparities in U.S. medicine. https://t.co/vxAiSLifKT"
          ],
          [
           "https://t.co/padmHSgWGc"
          ],
          [
           "I was honored to speak at today’s #LeadersClimateSummit about the three things we need to do to avoid a climate disaster. https://t.co/0YJJyabeIn"
          ],
          [
           "Ambitious short-term goals like this are critical to moving closer to a net-zero future. As we rapidly scale the solutions we have, we must also invest in innovation to reach our ultimate goals. Thank you @POTUS for your leadership. https://t.co/SVeKp1KPHT"
          ],
          [
           "Yesterday's verdict was a step in the right direction. But one court ruling alone will not bring to an end the injustice and inequity that Black people experience daily.  I hope we will continue to make real progress on this."
          ],
          [
           "If “Time” wins the Oscar this year, it will be the first documentary directed by a Black woman to do so. Garrett Bradley’s talent makes her worthy of that milestone. This is one of the most intimate movies I have ever seen. #itsTIME https://t.co/37x1gfWZgZ"
          ],
          [
           "Communities of color have been hit hard by COVID-19. One of the reasons why parts of the medical system often fail Black and brown people is because it’s not designed with them in mind. Dr. Stephaun Wallace wants to change that. https://t.co/VIaM9385bv"
          ],
          [
           "To get to net-zero emissions globally by 2050, leaders from around the world must work together. It’s encouraging to see governments, business leaders, and financial institutions committing to a successful COP26 in Glasgow later this year. https://t.co/9bLQJvfZIR"
          ],
          [
           "Dr. Stephaun Wallace (@imstephaunelite) has spent the last year helping make COVID-19 vaccines work for everybody. Stephaun and his colleagues at @FredHutch are working to reach the people who are usually left behind. https://t.co/7wqSeT3DJN"
          ],
          [
           "Who installed the most concrete?\n\nCheck your answer: https://t.co/wqmmPffvwB"
          ],
          [
           "The best way to prevent new variants from emerging is by stopping transmission of the virus altogether: https://t.co/KhJoM3LBmr https://t.co/5Vhfsjew3D"
          ],
          [
           "It's encouraging to see innovation and clean energy investments at the forefront of @POTUS's #AmericanJobsPlan. Building markets for new energy technologies is good for jobs today and will build the economies we need while avoiding a climate disaster. https://t.co/V6GcPSiaH8"
          ],
          [
           "Here are five things you should know if you want to understand how variants are (and aren’t) complicating the pandemic. https://t.co/rANiDcZynJ"
          ],
          [
           "The technological transformation we need to address climate change can create good, safe jobs and build a more equitable, prosperous economy. To make that happen, we need to think big: https://t.co/jFWTPyaOAq https://t.co/PR5sxI7aDt"
          ],
          [
           "I had a great time answering questions about my new book, climate change, and COVID-19 on @reddit last week. Here’s a recap of the conversation. https://t.co/Kvd2blqXkL"
          ]
         ],
         "hovertemplate": "Type=Organic<br>Polarity=%{x}<br>Subjectivity=%{y}<br>Tweet=%{customdata[0]}<extra></extra>",
         "legendgroup": "Organic",
         "marker": {
          "color": "#1DA1F2",
          "symbol": "circle"
         },
         "mode": "markers",
         "name": "Organic",
         "showlegend": true,
         "type": "scatter",
         "x": [
          0.16944444444444443,
          0.6347222222222223,
          0,
          0.16666666666666666,
          0.125,
          0.44999999999999996,
          0.025,
          0.2926767676767677,
          0.1,
          0.17777777777777778,
          0.55,
          0.09166666666666667,
          0.23055555555555554,
          0.5454545454545454,
          0.011111111111111113,
          0.11666666666666668,
          0.1,
          0.19999999999999998,
          -0.06666666666666667,
          0.5,
          0.26666666666666666,
          1,
          0.3952380952380952,
          0.19999999999999998,
          0.5,
          0.425,
          0,
          0.3333333333333333,
          0.39375000000000004,
          0.25,
          0.7,
          0.6333333333333333,
          0,
          0.49000000000000005,
          0.25,
          0.7,
          0.4,
          0.1518939393939394,
          0.1,
          0.75,
          0.38055555555555554,
          0.3333333333333333,
          0,
          0.13636363636363635,
          0,
          0,
          0.0625,
          0.07976190476190476,
          0.20238095238095238,
          -0.15166666666666667,
          0.1875,
          -0.125,
          0.325,
          0.5681818181818181,
          0.40101010101010104,
          0,
          0.425,
          0.31212121212121213
         ],
         "xaxis": "x",
         "y": [
          0.6347222222222222,
          0.6305555555555555,
          0.5,
          1,
          0.23125,
          0.95,
          0.35,
          0.6348484848484849,
          0.1,
          0.23055555555555554,
          0.9,
          0.24999999999999997,
          0.6027777777777777,
          0.5848484848484848,
          0.09999999999999999,
          0.175,
          0.1,
          0.6333333333333333,
          0.4000000000000001,
          1,
          0.34166666666666673,
          1,
          0.6785714285714285,
          0.5559523809523809,
          0.55,
          0.5499999999999999,
          0,
          0.4166666666666667,
          0.5687500000000001,
          0.45,
          0.8500000000000001,
          0.7833333333333333,
          0.5,
          0.67,
          0.25,
          0.6000000000000001,
          0.45,
          0.5327020202020202,
          0.4,
          0.75,
          0.8166666666666668,
          0.5,
          0,
          0.45454545454545453,
          0,
          0,
          0.66875,
          0.31726190476190474,
          0.43809523809523815,
          0.275,
          0.2375,
          0.21666666666666667,
          0.4,
          0.37727272727272726,
          0.5848484848484848,
          0,
          0.42500000000000004,
          0.42373737373737375
         ],
         "yaxis": "y"
        },
        {
         "customdata": [
          [
           "This collaboration’s impact is made possible through investments in the bipartisan infrastructure bill, which will unleash billions in private capital for clean energy projects throughout the U.S. if passed into law. Thank you @SecGranholm for your partnership."
          ],
          [
           "Avoiding a climate disaster will require a new, clean industrial revolution, and we don't have time to wait. Our work together will not only send us on a more viable path to net zero, but it will create long-term jobs in communities across the country."
          ],
          [
           "I’m optimistic about the work that @Breakthrough is doing to invest in companies, support innovators, advocate for better policies, and lower the cost of climate tech. Join us. https://t.co/xlbtvEAqcn"
          ],
          [
           "Reaching zero will take a complete transformation of how we make and do everything – from the technologies and products we create to our public policies to the way we use markets to accelerate change. We need a new industrial revolution powered by clean technology."
          ],
          [
           "Every climate action we take must be toward the goal of reaching zero. That means rapidly deploying the technologies we have today to reduce emissions and investing immediately in the solutions we still need to get the world to zero."
          ],
          [
           "Avoiding a disaster will require courage, ambition, and partnership among leaders in every sector around the globe. As the report makes clear, no region will be spared by climate change. It will take all of us to meet this challenge."
          ],
          [
           "The French drank an impressive amount of wine in 1926, but their consumption is now a third of what it was back then. Why? I love how this book forces you to think about the story behind a seemingly niche statistic. https://t.co/BBlLdeyRJJ"
          ],
          [
           "Our foundation has been working to address this massive problem for 10 years—here’s one of the incredible Reinvent the Toilet designs that could help: https://t.co/FWyi25kEhb https://t.co/GnIeZhIDY8"
          ],
          [
           "I am truly grateful for his wisdom and leadership, and most of all for his enduring friendship. Warren will continue to inspire our foundation as we work to fight poverty and help millions of people live healthier lives. https://t.co/qYYl1APURx"
          ],
          [
           "“Time” is a poetic portrait of a family who love and support each other despite their difficult circumstances. I can’t recommend it highly enough. https://t.co/pxkDEmL2SR"
          ],
          [
           "Cement is responsible for 6% of carbon emissions globally. To get to net-zero by 2050, we need innovations to decarbonize the material. I discuss a few approaches to make low-emission cement in my climate book: https://t.co/Ok1p3xQir4"
          ]
         ],
         "hovertemplate": "Type=Reply<br>Polarity=%{x}<br>Subjectivity=%{y}<br>Tweet=%{customdata[0]}<extra></extra>",
         "legendgroup": "Reply",
         "marker": {
          "color": "#AAB8C2",
          "symbol": "circle"
         },
         "mode": "markers",
         "name": "Reply",
         "showlegend": true,
         "type": "scatter",
         "x": [
          0.12222222222222223,
          0.2006060606060606,
          0.5,
          0.15075757575757576,
          0.1,
          0.10000000000000002,
          0.18333333333333335,
          0.2888888888888889,
          0.3181818181818182,
          0.05,
          0
         ],
         "xaxis": "x",
         "y": [
          0.6916666666666668,
          0.5309090909090909,
          0.5,
          0.4053030303030303,
          0.1,
          0.3833333333333333,
          0.3833333333333333,
          0.6333333333333333,
          0.5,
          0.645,
          0.21666666666666667
         ],
         "yaxis": "y"
        },
        {
         "customdata": [
          [
           "RT @gatesfoundation: “We are closer than ever to building a world where safe sanitation service is a basic human right enjoyed by everyone,…"
          ],
          [
           "RT @AnitaZaidi: Broader geographic distribution of vaccine manufacturing capacity—and the infrastructure to support it—will be critical to…"
          ],
          [
           "RT @MSuzman: We take one step closer to a malaria-free world with this exciting new project that seeks to develop an mRNA-based malaria vac…"
          ],
          [
           "RT @UN: Let us renew our determination to build a strong, sustainable and inclusive recovery from the pandemic, and to take decisive action…"
          ],
          [
           "RT @EIB: How can we:\n💨 Boost #greentech growth?\n🔽 Lower costs?\n🪙 Help commercialise #sustainable projects faster?\n\nPresident Hoyer met with…"
          ],
          [
           "RT @gatesfoundation: Support for polio eradication will not only help wipe out a disease, it will prepare countries against future health t…"
          ],
          [
           "RT @Breakthrough: BE Catalyst is financing the foundation of a clean economy through four critical technologies. In these areas, Catalyst a…"
          ],
          [
           "RT @USAID: With nearly six decades in the medical profession, Dr. Louisa Samonsia thought she had seen it all. Then, COVID-19 hit.\n\nLearn h…"
          ],
          [
           "RT @GlobalFund: In honor of 20 years of @GlobalFund impact, see how heroes from around the world came together, refused to accept the statu…"
          ],
          [
           "RT @rajpanjabi: As a physician, I’ve seen too many colleagues make the ultimate sacrifice on the frontlines. Over 115,000 health and care w…"
          ],
          [
           "RT @MSuzman: Promising news from the @Gavi #COVAX AMC Summit as they have exceeded today’s fundraising target. This means more people in lo…"
          ],
          [
           "RT @GlobalFund: Stronger collaboration can help countries recover from the impact of #COVID19 and progress towards health-related @GlobalGo…"
          ],
          [
           "RT @gatesfoundation: As our CEO @MSuzman says, no barriers should stand in the way of equitable access to vaccines. We are supportive of a…"
          ],
          [
           "RT @WHO: The @ACTAccelerator, an unprecedented global alliance to develop &amp; deliver the tests, treatments &amp; vaccines the 🌐 needs to fight #…"
          ],
          [
           "RT @gavi: In February, Ghana became the first African country to receive vaccines through #COVAX. Meet one of the nurses spearheading the v…"
          ],
          [
           "RT @IFPRI: 💡 From #climateadaptation to #genderequality, discover @CGIAR’s 50 years of innovations that changed the world 🌎 🎉: https://t.co…"
          ]
         ],
         "hovertemplate": "Type=Retweet<br>Polarity=%{x}<br>Subjectivity=%{y}<br>Tweet=%{customdata[0]}<extra></extra>",
         "legendgroup": "Retweet",
         "marker": {
          "color": "#14171A",
          "symbol": "circle"
         },
         "mode": "markers",
         "name": "Retweet",
         "showlegend": true,
         "type": "scatter",
         "x": [
          0.2571428571428571,
          0,
          0.21818181818181817,
          0.4333333333333333,
          0,
          0,
          0.18333333333333335,
          0.05,
          0,
          0.25,
          0.35,
          0,
          0.5,
          0.3,
          0.125,
          0
         ],
         "xaxis": "x",
         "y": [
          0.3921428571428571,
          0.8,
          0.6272727272727273,
          0.7333333333333333,
          0,
          0.5625,
          0.75,
          0.2,
          0,
          0.75,
          0.5,
          0,
          1,
          0.45,
          0.16666666666666666,
          0
         ],
         "yaxis": "y"
        }
       ],
       "layout": {
        "legend": {
         "title": {
          "text": "Type"
         },
         "tracegroupgap": 0
        },
        "margin": {
         "t": 60
        },
        "template": {
         "data": {
          "bar": [
           {
            "error_x": {
             "color": "#2a3f5f"
            },
            "error_y": {
             "color": "#2a3f5f"
            },
            "marker": {
             "line": {
              "color": "white",
              "width": 0.5
             }
            },
            "type": "bar"
           }
          ],
          "barpolar": [
           {
            "marker": {
             "line": {
              "color": "white",
              "width": 0.5
             }
            },
            "type": "barpolar"
           }
          ],
          "carpet": [
           {
            "aaxis": {
             "endlinecolor": "#2a3f5f",
             "gridcolor": "#C8D4E3",
             "linecolor": "#C8D4E3",
             "minorgridcolor": "#C8D4E3",
             "startlinecolor": "#2a3f5f"
            },
            "baxis": {
             "endlinecolor": "#2a3f5f",
             "gridcolor": "#C8D4E3",
             "linecolor": "#C8D4E3",
             "minorgridcolor": "#C8D4E3",
             "startlinecolor": "#2a3f5f"
            },
            "type": "carpet"
           }
          ],
          "choropleth": [
           {
            "colorbar": {
             "outlinewidth": 0,
             "ticks": ""
            },
            "type": "choropleth"
           }
          ],
          "contour": [
           {
            "colorbar": {
             "outlinewidth": 0,
             "ticks": ""
            },
            "colorscale": [
             [
              0,
              "#0d0887"
             ],
             [
              0.1111111111111111,
              "#46039f"
             ],
             [
              0.2222222222222222,
              "#7201a8"
             ],
             [
              0.3333333333333333,
              "#9c179e"
             ],
             [
              0.4444444444444444,
              "#bd3786"
             ],
             [
              0.5555555555555556,
              "#d8576b"
             ],
             [
              0.6666666666666666,
              "#ed7953"
             ],
             [
              0.7777777777777778,
              "#fb9f3a"
             ],
             [
              0.8888888888888888,
              "#fdca26"
             ],
             [
              1,
              "#f0f921"
             ]
            ],
            "type": "contour"
           }
          ],
          "contourcarpet": [
           {
            "colorbar": {
             "outlinewidth": 0,
             "ticks": ""
            },
            "type": "contourcarpet"
           }
          ],
          "heatmap": [
           {
            "colorbar": {
             "outlinewidth": 0,
             "ticks": ""
            },
            "colorscale": [
             [
              0,
              "#0d0887"
             ],
             [
              0.1111111111111111,
              "#46039f"
             ],
             [
              0.2222222222222222,
              "#7201a8"
             ],
             [
              0.3333333333333333,
              "#9c179e"
             ],
             [
              0.4444444444444444,
              "#bd3786"
             ],
             [
              0.5555555555555556,
              "#d8576b"
             ],
             [
              0.6666666666666666,
              "#ed7953"
             ],
             [
              0.7777777777777778,
              "#fb9f3a"
             ],
             [
              0.8888888888888888,
              "#fdca26"
             ],
             [
              1,
              "#f0f921"
             ]
            ],
            "type": "heatmap"
           }
          ],
          "heatmapgl": [
           {
            "colorbar": {
             "outlinewidth": 0,
             "ticks": ""
            },
            "colorscale": [
             [
              0,
              "#0d0887"
             ],
             [
              0.1111111111111111,
              "#46039f"
             ],
             [
              0.2222222222222222,
              "#7201a8"
             ],
             [
              0.3333333333333333,
              "#9c179e"
             ],
             [
              0.4444444444444444,
              "#bd3786"
             ],
             [
              0.5555555555555556,
              "#d8576b"
             ],
             [
              0.6666666666666666,
              "#ed7953"
             ],
             [
              0.7777777777777778,
              "#fb9f3a"
             ],
             [
              0.8888888888888888,
              "#fdca26"
             ],
             [
              1,
              "#f0f921"
             ]
            ],
            "type": "heatmapgl"
           }
          ],
          "histogram": [
           {
            "marker": {
             "colorbar": {
              "outlinewidth": 0,
              "ticks": ""
             }
            },
            "type": "histogram"
           }
          ],
          "histogram2d": [
           {
            "colorbar": {
             "outlinewidth": 0,
             "ticks": ""
            },
            "colorscale": [
             [
              0,
              "#0d0887"
             ],
             [
              0.1111111111111111,
              "#46039f"
             ],
             [
              0.2222222222222222,
              "#7201a8"
             ],
             [
              0.3333333333333333,
              "#9c179e"
             ],
             [
              0.4444444444444444,
              "#bd3786"
             ],
             [
              0.5555555555555556,
              "#d8576b"
             ],
             [
              0.6666666666666666,
              "#ed7953"
             ],
             [
              0.7777777777777778,
              "#fb9f3a"
             ],
             [
              0.8888888888888888,
              "#fdca26"
             ],
             [
              1,
              "#f0f921"
             ]
            ],
            "type": "histogram2d"
           }
          ],
          "histogram2dcontour": [
           {
            "colorbar": {
             "outlinewidth": 0,
             "ticks": ""
            },
            "colorscale": [
             [
              0,
              "#0d0887"
             ],
             [
              0.1111111111111111,
              "#46039f"
             ],
             [
              0.2222222222222222,
              "#7201a8"
             ],
             [
              0.3333333333333333,
              "#9c179e"
             ],
             [
              0.4444444444444444,
              "#bd3786"
             ],
             [
              0.5555555555555556,
              "#d8576b"
             ],
             [
              0.6666666666666666,
              "#ed7953"
             ],
             [
              0.7777777777777778,
              "#fb9f3a"
             ],
             [
              0.8888888888888888,
              "#fdca26"
             ],
             [
              1,
              "#f0f921"
             ]
            ],
            "type": "histogram2dcontour"
           }
          ],
          "mesh3d": [
           {
            "colorbar": {
             "outlinewidth": 0,
             "ticks": ""
            },
            "type": "mesh3d"
           }
          ],
          "parcoords": [
           {
            "line": {
             "colorbar": {
              "outlinewidth": 0,
              "ticks": ""
             }
            },
            "type": "parcoords"
           }
          ],
          "pie": [
           {
            "automargin": true,
            "type": "pie"
           }
          ],
          "scatter": [
           {
            "marker": {
             "colorbar": {
              "outlinewidth": 0,
              "ticks": ""
             }
            },
            "type": "scatter"
           }
          ],
          "scatter3d": [
           {
            "line": {
             "colorbar": {
              "outlinewidth": 0,
              "ticks": ""
             }
            },
            "marker": {
             "colorbar": {
              "outlinewidth": 0,
              "ticks": ""
             }
            },
            "type": "scatter3d"
           }
          ],
          "scattercarpet": [
           {
            "marker": {
             "colorbar": {
              "outlinewidth": 0,
              "ticks": ""
             }
            },
            "type": "scattercarpet"
           }
          ],
          "scattergeo": [
           {
            "marker": {
             "colorbar": {
              "outlinewidth": 0,
              "ticks": ""
             }
            },
            "type": "scattergeo"
           }
          ],
          "scattergl": [
           {
            "marker": {
             "colorbar": {
              "outlinewidth": 0,
              "ticks": ""
             }
            },
            "type": "scattergl"
           }
          ],
          "scattermapbox": [
           {
            "marker": {
             "colorbar": {
              "outlinewidth": 0,
              "ticks": ""
             }
            },
            "type": "scattermapbox"
           }
          ],
          "scatterpolar": [
           {
            "marker": {
             "colorbar": {
              "outlinewidth": 0,
              "ticks": ""
             }
            },
            "type": "scatterpolar"
           }
          ],
          "scatterpolargl": [
           {
            "marker": {
             "colorbar": {
              "outlinewidth": 0,
              "ticks": ""
             }
            },
            "type": "scatterpolargl"
           }
          ],
          "scatterternary": [
           {
            "marker": {
             "colorbar": {
              "outlinewidth": 0,
              "ticks": ""
             }
            },
            "type": "scatterternary"
           }
          ],
          "surface": [
           {
            "colorbar": {
             "outlinewidth": 0,
             "ticks": ""
            },
            "colorscale": [
             [
              0,
              "#0d0887"
             ],
             [
              0.1111111111111111,
              "#46039f"
             ],
             [
              0.2222222222222222,
              "#7201a8"
             ],
             [
              0.3333333333333333,
              "#9c179e"
             ],
             [
              0.4444444444444444,
              "#bd3786"
             ],
             [
              0.5555555555555556,
              "#d8576b"
             ],
             [
              0.6666666666666666,
              "#ed7953"
             ],
             [
              0.7777777777777778,
              "#fb9f3a"
             ],
             [
              0.8888888888888888,
              "#fdca26"
             ],
             [
              1,
              "#f0f921"
             ]
            ],
            "type": "surface"
           }
          ],
          "table": [
           {
            "cells": {
             "fill": {
              "color": "#EBF0F8"
             },
             "line": {
              "color": "white"
             }
            },
            "header": {
             "fill": {
              "color": "#C8D4E3"
             },
             "line": {
              "color": "white"
             }
            },
            "type": "table"
           }
          ]
         },
         "layout": {
          "annotationdefaults": {
           "arrowcolor": "#2a3f5f",
           "arrowhead": 0,
           "arrowwidth": 1
          },
          "coloraxis": {
           "colorbar": {
            "outlinewidth": 0,
            "ticks": ""
           }
          },
          "colorscale": {
           "diverging": [
            [
             0,
             "#8e0152"
            ],
            [
             0.1,
             "#c51b7d"
            ],
            [
             0.2,
             "#de77ae"
            ],
            [
             0.3,
             "#f1b6da"
            ],
            [
             0.4,
             "#fde0ef"
            ],
            [
             0.5,
             "#f7f7f7"
            ],
            [
             0.6,
             "#e6f5d0"
            ],
            [
             0.7,
             "#b8e186"
            ],
            [
             0.8,
             "#7fbc41"
            ],
            [
             0.9,
             "#4d9221"
            ],
            [
             1,
             "#276419"
            ]
           ],
           "sequential": [
            [
             0,
             "#0d0887"
            ],
            [
             0.1111111111111111,
             "#46039f"
            ],
            [
             0.2222222222222222,
             "#7201a8"
            ],
            [
             0.3333333333333333,
             "#9c179e"
            ],
            [
             0.4444444444444444,
             "#bd3786"
            ],
            [
             0.5555555555555556,
             "#d8576b"
            ],
            [
             0.6666666666666666,
             "#ed7953"
            ],
            [
             0.7777777777777778,
             "#fb9f3a"
            ],
            [
             0.8888888888888888,
             "#fdca26"
            ],
            [
             1,
             "#f0f921"
            ]
           ],
           "sequentialminus": [
            [
             0,
             "#0d0887"
            ],
            [
             0.1111111111111111,
             "#46039f"
            ],
            [
             0.2222222222222222,
             "#7201a8"
            ],
            [
             0.3333333333333333,
             "#9c179e"
            ],
            [
             0.4444444444444444,
             "#bd3786"
            ],
            [
             0.5555555555555556,
             "#d8576b"
            ],
            [
             0.6666666666666666,
             "#ed7953"
            ],
            [
             0.7777777777777778,
             "#fb9f3a"
            ],
            [
             0.8888888888888888,
             "#fdca26"
            ],
            [
             1,
             "#f0f921"
            ]
           ]
          },
          "colorway": [
           "#636efa",
           "#EF553B",
           "#00cc96",
           "#ab63fa",
           "#FFA15A",
           "#19d3f3",
           "#FF6692",
           "#B6E880",
           "#FF97FF",
           "#FECB52"
          ],
          "font": {
           "color": "#2a3f5f"
          },
          "geo": {
           "bgcolor": "white",
           "lakecolor": "white",
           "landcolor": "white",
           "showlakes": true,
           "showland": true,
           "subunitcolor": "#C8D4E3"
          },
          "hoverlabel": {
           "align": "left"
          },
          "hovermode": "closest",
          "mapbox": {
           "style": "light"
          },
          "paper_bgcolor": "white",
          "plot_bgcolor": "white",
          "polar": {
           "angularaxis": {
            "gridcolor": "#EBF0F8",
            "linecolor": "#EBF0F8",
            "ticks": ""
           },
           "bgcolor": "white",
           "radialaxis": {
            "gridcolor": "#EBF0F8",
            "linecolor": "#EBF0F8",
            "ticks": ""
           }
          },
          "scene": {
           "xaxis": {
            "backgroundcolor": "white",
            "gridcolor": "#DFE8F3",
            "gridwidth": 2,
            "linecolor": "#EBF0F8",
            "showbackground": true,
            "ticks": "",
            "zerolinecolor": "#EBF0F8"
           },
           "yaxis": {
            "backgroundcolor": "white",
            "gridcolor": "#DFE8F3",
            "gridwidth": 2,
            "linecolor": "#EBF0F8",
            "showbackground": true,
            "ticks": "",
            "zerolinecolor": "#EBF0F8"
           },
           "zaxis": {
            "backgroundcolor": "white",
            "gridcolor": "#DFE8F3",
            "gridwidth": 2,
            "linecolor": "#EBF0F8",
            "showbackground": true,
            "ticks": "",
            "zerolinecolor": "#EBF0F8"
           }
          },
          "shapedefaults": {
           "line": {
            "color": "#2a3f5f"
           }
          },
          "ternary": {
           "aaxis": {
            "gridcolor": "#DFE8F3",
            "linecolor": "#A2B1C6",
            "ticks": ""
           },
           "baxis": {
            "gridcolor": "#DFE8F3",
            "linecolor": "#A2B1C6",
            "ticks": ""
           },
           "bgcolor": "white",
           "caxis": {
            "gridcolor": "#DFE8F3",
            "linecolor": "#A2B1C6",
            "ticks": ""
           }
          },
          "title": {
           "x": 0.05
          },
          "xaxis": {
           "automargin": true,
           "gridcolor": "#EBF0F8",
           "linecolor": "#EBF0F8",
           "ticks": "",
           "title": {
            "standoff": 15
           },
           "zerolinecolor": "#EBF0F8",
           "zerolinewidth": 2
          },
          "yaxis": {
           "automargin": true,
           "gridcolor": "#EBF0F8",
           "linecolor": "#EBF0F8",
           "ticks": "",
           "title": {
            "standoff": 15
           },
           "zerolinecolor": "#EBF0F8",
           "zerolinewidth": 2
          }
         }
        },
        "xaxis": {
         "anchor": "y",
         "domain": [
          0,
          1
         ],
         "title": {
          "text": "Polarity"
         }
        },
        "yaxis": {
         "anchor": "x",
         "domain": [
          0,
          1
         ],
         "title": {
          "text": "Subjectivity"
         }
        }
       }
      },
      "text/html": [
       "<div>\n",
       "        \n",
       "        \n",
       "            <div id=\"e0e9c8e6-1dfc-4f00-823f-dd590b469f9b\" class=\"plotly-graph-div\" style=\"height:525px; width:100%;\"></div>\n",
       "            <script type=\"text/javascript\">\n",
       "                require([\"plotly\"], function(Plotly) {\n",
       "                    window.PLOTLYENV=window.PLOTLYENV || {};\n",
       "                    \n",
       "                if (document.getElementById(\"e0e9c8e6-1dfc-4f00-823f-dd590b469f9b\")) {\n",
       "                    Plotly.newPlot(\n",
       "                        'e0e9c8e6-1dfc-4f00-823f-dd590b469f9b',\n",
       "                        [{\"customdata\": [[\".@GAP_Foundation\\u2019s Bio-Hermes Study is the first to compare results of blood and digital biomarker tests with imaging and traditional cognitive tests. This could help identify Alzheimer\\u2019s earlier and detect progression of the disease, to help us get closer to a cure. https://t.co/9xUQ0ZldSI\"], [\"I don\\u2019t think any of @ronnychieng\\u2019s innovations are ready to bring to market. Luckily, brilliant scientists and engineers around the world have developed hundreds of exciting solutions that will prevent illness and death: https://t.co/x9lELyhV4c https://t.co/asEKuLP3Zm\"], [\"Thank you to @DonorsChoose, and to all 40,255 of you who donated in support of students and teachers across the country. https://t.co/g2ABbfFtsl\"], [\"I\\u2019m partnering with @DonorsChoose to make sure that more teachers have access to everything they need to get ready for the new school year. I\\u2019ll give your donation an extra 50% boost today when you give to any classroom project or supply request. https://t.co/PjNI0vyjUC\"], [\"Alzheimer\\u2019s and related dementias have impacted far too many families around the world\\u2014including my own. New funding from @TheADDF will help @EDoNInitiative accelerate data collection and sharing to enable early detection and treatment. https://t.co/4Q28soukxu\"], [\"I\\u2019m deeply saddened to hear of Tachi\\u2019s passing. I loved working with him and I learned a lot from him. His passion for saving lives and making the world a fairer place was inspiring, and he matched it with an incredible intellect. I will miss him. https://t.co/68O3ytcoo4\"], [\"You were a good sport, Jimmy. Pro tip...never choose glass \\u201c#2\\u201d in a poop-water challenge: https://t.co/8shvjTNa4M https://t.co/onnWyhJpqm\"], [\"The Gates Foundation is providing additional, flexible funding to the @AfricaCDC for its pandemic response efforts, but more assistance from the global community is urgently needed to fill the gaps. https://t.co/x9k41SUi04\"], [\"I look forward to working with you and @EU_Commission on all of these important goals. Europe is a critical partner in creating a net-zero future and ensuring a healthy and equitable world for all. https://t.co/O16waKVVVo\"], [\"These students are doing inspiring work. Their ambition makes me optimistic about the future of health care (and the world). https://t.co/jA9yDbo5Or\"], [\"This expanded commitment to the foundation will accelerate its mission to fight poverty, disease, and inequity around the world. I'm grateful to the foundation's leadership team, employees, and partners for their dedication to making the world healthier and more just. https://t.co/6fqy34HX6C\"], [\"This important commitment builds on the @gatesfoundation's efforts to support partners working to create a more equal world. https://t.co/M0RO0s62ZP\"], [\"Avoiding a climate disaster is possible if governments act today. @IEA\\u2019s Net Zero by 2050 report provides a roadmap to achieve this critical goal. https://t.co/GBoEGvYWtc\"], [\"It\\u2019s encouraging to see @POTUS Biden and @ClimateEnvoy Kerry re-establish America\\u2019s leading role on climate change. I look forward to joining leaders from around the world to talk about some of the most important challenges we need to overcome to avoid a climate disaster. https://t.co/a9CXZzIg6Y\"], [\"The amount of cement China has consumed is a staggering statistic and reminder of how much emissions have grown in low- and middle-income countries. (Minecraft concrete doesn\\u2019t count, though server farms are responsible for a lot of emissions.) https://t.co/b8tSNNdUBy https://t.co/bFrIIUv97i\"]], \"hovertemplate\": \"Type=Quote<br>Polarity=%{x}<br>Subjectivity=%{y}<br>Tweet=%{customdata[0]}<extra></extra>\", \"legendgroup\": \"Quote\", \"marker\": {\"color\": \"#657786\", \"symbol\": \"circle\"}, \"mode\": \"markers\", \"name\": \"Quote\", \"showlegend\": true, \"type\": \"scatter\", \"x\": [0.0625, 0.37500000000000006, 0.0, 0.2672727272727273, 0.2393939393939394, 0.525, 0.7, 0.25, 0.225, 0.25, 0.5, 0.3, 0.0, 0.45, 0.1375], \"xaxis\": \"x\", \"y\": [0.3958333333333333, 0.65, 0.0, 0.4886868686868687, 0.609090909090909, 0.775, 0.6000000000000001, 0.25, 0.60625, 0.5625, 0.5, 0.5833333333333334, 0.6, 0.75, 0.3375], \"yaxis\": \"y\"}, {\"customdata\": [[\"I recently sat down with the extraordinary Brooke Brown, Washington State\\u2019s 2021 Teacher of the Year. It was a pleasure to meet with her and take part in one of her favorite lessons: https://t.co/TAwysEihyQ https://t.co/rlB1iJjogC\"], [\"Happy Birthday, Warren! You\\u2019ve been a true friend and an invaluable source of advice over the years, and I\\u2019m so lucky to know you. It\\u2019s an honor to work at the foundation doing my best to turn your generosity into lives saved and improved. Here\\u2019s to many more birthdays! https://t.co/ZaCGW5KCWm\"], [\"Investments in malaria programs help build stronger health systems that will not only bring an end to malaria but also protect us from the next pandemic. Here\\u2019s how: https://t.co/jdMgfMruYZ #MosquitoWeek https://t.co/gLHSY7Nqcz\"], [\"Congratulations, India, on reaching this tremendous milestone. The collective efforts of the government, R&amp;D community, vaccine manufacturers, and millions of health workers have made this feat possible. @PMOIndia @MoHFW_INDIA https://t.co/cmvQiAfSZG\"], [\"The COVID-19 pandemic reminds us why eradicating malaria is essential. Many of the building blocks we need to fight malaria and prevent the next pandemic are the same. #MosquitoWeek https://t.co/lC9eeVIN3J\"], [\"Mosquitoes are the deadliest animal to humans, but @WMPglobal scientists have discovered how to transform one kind of mosquito into a surprisingly powerful ally: https://t.co/T6H9dVZYP0. #MosquitoWeek\\ud83e\\udd9f https://t.co/ENiniSLs9z\"], [\"I applaud David V\\u00e9lez and Mariel Reyes\\u2019s pledge to dedicate the majority of their wealth to creating opportunity for the most vulnerable Latin American children and young adults: https://t.co/LGZ23efAVO\"], [\"I'm incredibly excited about the new collaboration between @Breakthrough Energy Catalyst and @ENERGY to accelerate the adoption of next-generation clean technologies and build the net-zero economy: https://t.co/85aqtW8HCr\"], [\"Today\\u2019s United Nations climate report is an urgent call to action for the world: we must reach net-zero emissions by 2050 to avoid a climate disaster. https://t.co/eSaC2HyD8q\"], [\"Today\\u2019s students have the power to create a better future for all people, and teachers are helping them build their framework for understanding the world. Thank you to Bryan Stevenson for joining the @OERProject Conference for Social Studies this week. https://t.co/3tpHHnbICc\"], [\"Vaclav Smil\\u2019s books are amazing. His latest will give you a framework to think about humanity: https://t.co/sgWOBDRYR4 https://t.co/EsQNmjHvHg\"], [\"I enjoyed joining educators from around the world at the @OERProject Conference for the Social Studies to discuss how their teaching practices have changed over the last year and a half. I\\u2019m inspired by their resilience and dedication to their students: https://t.co/e7A0IuUhz1 https://t.co/f5K54U0OZj\"], [\"It only took Senegal 15 years to cut childhood death in half. Community health workers and successful vaccination campaigns played a key role in this success. Read more from @Exemplarshealth and see how lessons from Senegal can be applied elsewhere. https://t.co/QwYrIlaO9u\"], [\"My favorite author\\u2019s new book might be his best one yet. Each chapter covers one of 71 facts about the world that help you understand how history ties together. I unabashedly recommend it to anyone who loves learning. https://t.co/Sqg0r8K1GA\"], [\"Ever heard a toilet be compared to an espresso machine? That\\u2019s how Dr. Shannon Yee describes the toilet he and his team have developed. https://t.co/zvLAE6CJ5t\"], [\"How much of the world population still lacks access to a toilet that safely removes waste from the home?\\n\\nFind the answer here: https://t.co/IiIquCEvZ0\"], [\"This map from @OurWorldInData shows the progress we\\u2019ve made\\u2013but also highlights how much work we have left to do. https://t.co/KmmhFnvctZ\"], [\"The COVID pandemic is a powerful reminder of the urgent work needed to contain and treat deadly pathogens. I\\u2019m optimistic about the progress being made on another crisis: safe sanitation: https://t.co/88jFx2UjiW https://t.co/h5HCSyQxO4\"], [\"Over the years, I\\u2019ve shared a stage with a jar of human feces, smelled pit latrine odor, and drunk water made from poop (and convinced @jimmyfallon to drink it too). Was it worth it? You bet. Here\\u2019s why: https://t.co/8SJbCuNezD\"], [\"I\\u2019ve been rewatching some of my favorite movies. Add your favorites to the list on @Likewise. https://t.co/bEgD4aMmSU\"], [\"Getting an early start on my weekend reading: this article does a good job explaining immunity and what may happen with COVID-19 in the future. https://t.co/AHatTlUdOr\"], [\"During the height of the U.S. polio epidemic, the iron lung was one of the greatest tools used to fight polio. Today, it\\u2019s the iron will of the thousands of workers and their supporters who are committed to finishing the job. https://t.co/oAzGsIGSUN #endpolio\"], [\"Our foundation joined the polio fight almost 15 years ago. And in all that time, I cannot think of a more important moment than right now. https://t.co/ZUyvSZyzau\"], [\"Reaching net-zero emissions by 2050 means transforming our entire physical economy and accelerating innovation at an unprecedented pace. @Breakthrough Energy Catalyst will jumpstart this process. https://t.co/MAKM2lAyy0\"], [\"This is the greatest opportunity for innovation in human history: https://t.co/rBFo2LjpsH https://t.co/bj6rY3FszB\"], [\"I\\u2019m excited about @Breakthrough Energy Catalyst and think it can help make clean-energy innovations more available and affordable for everyone. https://t.co/59eVhOSrGC\"], [\"COVID-19 has highlighted how digital tools can save lives. I\\u2019m encouraged by @ExemplarsHealth research highlighting how technologies in Nigeria, Sri Lanka, Burkina Faso, Uganda, South Africa, and Vietnam can be scaled to detect and respond to pandemics. https://t.co/x1W7IyhSnP\"], [\"Stopping Alzheimer\\u2019s requires more eyes on the problem. ADDI @AlzData recently hosted their 1st Data Challenge. I was inspired to see more than 1,200+ people from 65+ countries/regions join the fight. https://t.co/kTovX2SWch\"], [\"It\\u2019s really encouraging to see these results. Dengue fever infects hundreds of millions of people a year and causes debilitating disease. This incredible technique could also be effective at stopping the spread of other viruses like Zika and Chikungunya. https://t.co/AdFpD1hW5c\"], [\"I will always have a deep sense of accountability to Warren, paying close attention to the data to track our progress and identify areas where we can do better. But the value of Warren\\u2019s gift goes beyond anything that can be measured.\"], [\"Should you pick your nose?\\n\\nYou can read an excerpt from Matt Richtel\\u2019s fascinating book about the immune system on my blog to find the answer: https://t.co/cgfc1aUzPA https://t.co/Uc7vqT2B1m\"], [\"The journalist @ElizKolbert has created a fascinating beat for herself covering humanity\\u2019s impact on nature and our attempts to control it. Her latest book is a good reminder that we need to watch out for the unforeseen effects of our actions. https://t.co/8gt4I8oxXc\"], [\"The persistence of countless Rotarians gives me hope that we can achieve a polio-free world. As they close the #Rotary21 Convention, I'd like to thank @Rotary for the continued partnership to #endpolio. https://t.co/sZ4dRiuiXk\"], [\"I'm almost always interested in books about American presidents, and I especially loved A Promised Land. It\\u2019s a fascinating look at what it\\u2019s like to steer a country through challenging times. https://t.co/RgpXbkOnDw\"], [\"This book gave me a deeper, more nuanced appreciation for the system that is at the core of humanity\\u2019s fight against COVID-19 and everything our foundation\\u2019s Global Health program is trying to do. https://t.co/uTUH19oKKc\"], [\"If you\\u2019re looking for a good book to read this summer, these are some of my favorites. https://t.co/e19FKzFFL1\"], [\"The @G7\\u2019s commitment to share 870M COVID-19 vaccine doses over the next year is welcome news - but time is not on our side. Vaccines must be delivered now to help control the pandemic everywhere and not disrupt the progress we've made. https://t.co/gWvonMax6n\"], [\"Polio tools and infrastructure are also critical to combatting other public health emergencies, like COVID-19. It is more important than ever that donors and countries commit to the new GPEI strategy to #endpolio and continue improving health for all. https://t.co/jaN6hPRT23\"], [\"These young leaders make me optimistic that brighter days are ahead for America\\u2019s students and teachers. https://t.co/aiue8lKiZ6\"], [\"Against the odds, @MohamedBailorB8 became a doctor and is helping his country recover from civil war, Ebola, and now COVID-19. This doctor\\u2019s life story is almost as remarkable as his work. https://t.co/giKIhT4W8b\"], [\"This is an important step in the U.S. clean energy transition. I\\u2019m excited to see @TerraPower working with @PacifiCorp, @GovernorGordon, and @Energy to bring this project to life with the workforce of Wyoming. https://t.co/AYeFV5aO5b\"], [\"Heroes like Dr. Mohamed Barrie are the reason we started our foundation more than 20 years ago and why Melinda and I remain committed to its work. Mohamed\\u2019s story is truly inspiring, and I can\\u2019t wait to see what he and his team will accomplish next. https://t.co/ovDzfwSKwP\"], [\"This partnership between @Breakthrough Energy and the @EU_Commission will create jobs around the world, build sustainable global industries, and expand opportunity for billions: https://t.co/mg9LNkabev. Thank you to @EIB as well for your support. https://t.co/HoJdAd6t0z\"], [\"The pandemic has exacerbated existing racial health inequities in the United States. The Health Equity Tracker is a new tool bringing visibility to disparities in U.S. medicine. https://t.co/vxAiSLifKT\"], [\"https://t.co/padmHSgWGc\"], [\"I was honored to speak at today\\u2019s #LeadersClimateSummit about the three things we need to do to avoid a climate disaster. https://t.co/0YJJyabeIn\"], [\"Ambitious short-term goals like this are critical to moving closer to a net-zero future. As we rapidly scale the solutions we have, we must also invest in innovation to reach our ultimate goals. Thank you @POTUS for your leadership. https://t.co/SVeKp1KPHT\"], [\"Yesterday's verdict was a step in the right direction. But one court ruling alone will not bring to an end the injustice and inequity that Black people experience daily.  I hope we will continue to make real progress on this.\"], [\"If \\u201cTime\\u201d wins the Oscar this year, it will be the first documentary directed by a Black woman to do so. Garrett Bradley\\u2019s talent makes her worthy of that milestone. This is one of the most intimate movies I have ever seen. #itsTIME https://t.co/37x1gfWZgZ\"], [\"Communities of color have been hit hard by COVID-19. One of the reasons why parts of the medical system often fail Black and brown people is because it\\u2019s not designed with them in mind. Dr. Stephaun Wallace wants to change that. https://t.co/VIaM9385bv\"], [\"To get to net-zero emissions globally by 2050, leaders from around the world must work together. It\\u2019s encouraging to see governments, business leaders, and financial institutions committing to a successful COP26 in Glasgow later this year. https://t.co/9bLQJvfZIR\"], [\"Dr. Stephaun Wallace (@imstephaunelite) has spent the last year helping make COVID-19 vaccines work for everybody. Stephaun and his colleagues at @FredHutch are working to reach the people who are usually left behind. https://t.co/7wqSeT3DJN\"], [\"Who installed the most concrete?\\n\\nCheck your answer: https://t.co/wqmmPffvwB\"], [\"The best way to prevent new variants from emerging is by stopping transmission of the virus altogether: https://t.co/KhJoM3LBmr https://t.co/5Vhfsjew3D\"], [\"It's encouraging to see innovation and clean energy investments at the forefront of @POTUS's #AmericanJobsPlan. Building markets for new energy technologies is good for jobs today and will build the economies we need while avoiding a climate disaster. https://t.co/V6GcPSiaH8\"], [\"Here are five things you should know if you want to understand how variants are (and aren\\u2019t) complicating the pandemic. https://t.co/rANiDcZynJ\"], [\"The technological transformation we need to address climate change can create good, safe jobs and build a more equitable, prosperous economy. To make that happen, we need to think big: https://t.co/jFWTPyaOAq https://t.co/PR5sxI7aDt\"], [\"I had a great time answering questions about my new book, climate change, and COVID-19 on @reddit last week. Here\\u2019s a recap of the conversation. https://t.co/Kvd2blqXkL\"]], \"hovertemplate\": \"Type=Organic<br>Polarity=%{x}<br>Subjectivity=%{y}<br>Tweet=%{customdata[0]}<extra></extra>\", \"legendgroup\": \"Organic\", \"marker\": {\"color\": \"#1DA1F2\", \"symbol\": \"circle\"}, \"mode\": \"markers\", \"name\": \"Organic\", \"showlegend\": true, \"type\": \"scatter\", \"x\": [0.16944444444444443, 0.6347222222222223, 0.0, 0.16666666666666666, 0.125, 0.44999999999999996, 0.025, 0.2926767676767677, 0.1, 0.17777777777777778, 0.55, 0.09166666666666667, 0.23055555555555554, 0.5454545454545454, 0.011111111111111113, 0.11666666666666668, 0.1, 0.19999999999999998, -0.06666666666666667, 0.5, 0.26666666666666666, 1.0, 0.3952380952380952, 0.19999999999999998, 0.5, 0.425, 0.0, 0.3333333333333333, 0.39375000000000004, 0.25, 0.7, 0.6333333333333333, 0.0, 0.49000000000000005, 0.25, 0.7, 0.4, 0.1518939393939394, 0.1, 0.75, 0.38055555555555554, 0.3333333333333333, 0.0, 0.13636363636363635, 0.0, 0.0, 0.0625, 0.07976190476190476, 0.20238095238095238, -0.15166666666666667, 0.1875, -0.125, 0.325, 0.5681818181818181, 0.40101010101010104, 0.0, 0.425, 0.31212121212121213], \"xaxis\": \"x\", \"y\": [0.6347222222222222, 0.6305555555555555, 0.5, 1.0, 0.23125, 0.95, 0.35, 0.6348484848484849, 0.1, 0.23055555555555554, 0.9, 0.24999999999999997, 0.6027777777777777, 0.5848484848484848, 0.09999999999999999, 0.175, 0.1, 0.6333333333333333, 0.4000000000000001, 1.0, 0.34166666666666673, 1.0, 0.6785714285714285, 0.5559523809523809, 0.55, 0.5499999999999999, 0.0, 0.4166666666666667, 0.5687500000000001, 0.45, 0.8500000000000001, 0.7833333333333333, 0.5, 0.67, 0.25, 0.6000000000000001, 0.45, 0.5327020202020202, 0.4, 0.75, 0.8166666666666668, 0.5, 0.0, 0.45454545454545453, 0.0, 0.0, 0.66875, 0.31726190476190474, 0.43809523809523815, 0.275, 0.2375, 0.21666666666666667, 0.4, 0.37727272727272726, 0.5848484848484848, 0.0, 0.42500000000000004, 0.42373737373737375], \"yaxis\": \"y\"}, {\"customdata\": [[\"This collaboration\\u2019s impact is made possible through investments in the bipartisan infrastructure bill, which will unleash billions in private capital for clean energy projects throughout the U.S. if passed into law. Thank you @SecGranholm for your partnership.\"], [\"Avoiding a climate disaster will require a new, clean industrial revolution, and we don't have time to wait. Our work together will not only send us on a more viable path to net zero, but it will create long-term jobs in communities across the country.\"], [\"I\\u2019m optimistic about the work that @Breakthrough is doing to invest in companies, support innovators, advocate for better policies, and lower the cost of climate tech. Join us. https://t.co/xlbtvEAqcn\"], [\"Reaching zero will take a complete transformation of how we make and do everything \\u2013 from the technologies and products we create to our public policies to the way we use markets to accelerate change. We need a new industrial revolution powered by clean technology.\"], [\"Every climate action we take must be toward the goal of reaching zero. That means rapidly deploying the technologies we have today to reduce emissions and investing immediately in the solutions we still need to get the world to zero.\"], [\"Avoiding a disaster will require courage, ambition, and partnership among leaders in every sector around the globe. As the report makes clear, no region will be spared by climate change. It will take all of us to meet this challenge.\"], [\"The French drank an impressive amount of wine in 1926, but their consumption is now a third of what it was back then. Why? I love how this book forces you to think about the story behind a seemingly niche statistic. https://t.co/BBlLdeyRJJ\"], [\"Our foundation has been working to address this massive problem for 10 years\\u2014here\\u2019s one of the incredible Reinvent the Toilet designs that could help: https://t.co/FWyi25kEhb https://t.co/GnIeZhIDY8\"], [\"I am truly grateful for his wisdom and leadership, and most of all for his enduring friendship. Warren will continue to inspire our foundation as we work to fight poverty and help millions of people live healthier lives. https://t.co/qYYl1APURx\"], [\"\\u201cTime\\u201d is a poetic portrait of a family who love and support each other despite their difficult circumstances. I can\\u2019t recommend it highly enough. https://t.co/pxkDEmL2SR\"], [\"Cement is responsible for 6% of carbon emissions globally. To get to net-zero by 2050, we need innovations to decarbonize the material. I discuss a few approaches to make low-emission cement in my climate book: https://t.co/Ok1p3xQir4\"]], \"hovertemplate\": \"Type=Reply<br>Polarity=%{x}<br>Subjectivity=%{y}<br>Tweet=%{customdata[0]}<extra></extra>\", \"legendgroup\": \"Reply\", \"marker\": {\"color\": \"#AAB8C2\", \"symbol\": \"circle\"}, \"mode\": \"markers\", \"name\": \"Reply\", \"showlegend\": true, \"type\": \"scatter\", \"x\": [0.12222222222222223, 0.2006060606060606, 0.5, 0.15075757575757576, 0.1, 0.10000000000000002, 0.18333333333333335, 0.2888888888888889, 0.3181818181818182, 0.05, 0.0], \"xaxis\": \"x\", \"y\": [0.6916666666666668, 0.5309090909090909, 0.5, 0.4053030303030303, 0.1, 0.3833333333333333, 0.3833333333333333, 0.6333333333333333, 0.5, 0.645, 0.21666666666666667], \"yaxis\": \"y\"}, {\"customdata\": [[\"RT @gatesfoundation: \\u201cWe are closer than ever to building a world where safe sanitation service is a basic human right enjoyed by everyone,\\u2026\"], [\"RT @AnitaZaidi: Broader geographic distribution of vaccine manufacturing capacity\\u2014and the infrastructure to support it\\u2014will be critical to\\u2026\"], [\"RT @MSuzman: We take one step closer to a malaria-free world with this exciting new project that seeks to develop an mRNA-based malaria vac\\u2026\"], [\"RT @UN: Let us renew our determination to build a strong, sustainable and inclusive recovery from the pandemic, and to take decisive action\\u2026\"], [\"RT @EIB: How can we:\\n\\ud83d\\udca8 Boost #greentech growth?\\n\\ud83d\\udd3d Lower costs?\\n\\ud83e\\ude99 Help commercialise #sustainable projects faster?\\n\\nPresident Hoyer met with\\u2026\"], [\"RT @gatesfoundation: Support for polio eradication will not only help wipe out a disease, it will prepare countries against future health t\\u2026\"], [\"RT @Breakthrough: BE Catalyst is financing the foundation of a clean economy through four critical technologies. In these areas, Catalyst a\\u2026\"], [\"RT @USAID: With nearly six decades in the medical profession, Dr. Louisa Samonsia thought she had seen it all. Then, COVID-19 hit.\\n\\nLearn h\\u2026\"], [\"RT @GlobalFund: In honor of 20 years of @GlobalFund impact, see how heroes from around the world came together, refused to accept the statu\\u2026\"], [\"RT @rajpanjabi: As a physician, I\\u2019ve seen too many colleagues make the ultimate sacrifice on the frontlines. Over 115,000 health and care w\\u2026\"], [\"RT @MSuzman: Promising news from the @Gavi #COVAX AMC Summit as they have exceeded today\\u2019s fundraising target. This means more people in lo\\u2026\"], [\"RT @GlobalFund: Stronger collaboration can help countries recover from the impact of #COVID19 and progress towards health-related @GlobalGo\\u2026\"], [\"RT @gatesfoundation: As our CEO @MSuzman says, no barriers should stand in the way of equitable access to vaccines. We are supportive of a\\u2026\"], [\"RT @WHO: The\\u00a0@ACTAccelerator, an unprecedented global alliance\\u00a0to develop &amp; deliver the tests, treatments &amp; vaccines the \\ud83c\\udf10 needs to fight #\\u2026\"], [\"RT @gavi: In February, Ghana became the first African country to receive vaccines through #COVAX. Meet one of the nurses spearheading the v\\u2026\"], [\"RT @IFPRI: \\ud83d\\udca1 From #climateadaptation to #genderequality, discover @CGIAR\\u2019s 50 years of innovations that changed the world \\ud83c\\udf0e \\ud83c\\udf89: https://t.co\\u2026\"]], \"hovertemplate\": \"Type=Retweet<br>Polarity=%{x}<br>Subjectivity=%{y}<br>Tweet=%{customdata[0]}<extra></extra>\", \"legendgroup\": \"Retweet\", \"marker\": {\"color\": \"#14171A\", \"symbol\": \"circle\"}, \"mode\": \"markers\", \"name\": \"Retweet\", \"showlegend\": true, \"type\": \"scatter\", \"x\": [0.2571428571428571, 0.0, 0.21818181818181817, 0.4333333333333333, 0.0, 0.0, 0.18333333333333335, 0.05, 0.0, 0.25, 0.35, 0.0, 0.5, 0.3, 0.125, 0.0], \"xaxis\": \"x\", \"y\": [0.3921428571428571, 0.8, 0.6272727272727273, 0.7333333333333333, 0.0, 0.5625, 0.75, 0.2, 0.0, 0.75, 0.5, 0.0, 1.0, 0.45, 0.16666666666666666, 0.0], \"yaxis\": \"y\"}],\n",
       "                        {\"legend\": {\"title\": {\"text\": \"Type\"}, \"tracegroupgap\": 0}, \"margin\": {\"t\": 60}, \"template\": {\"data\": {\"bar\": [{\"error_x\": {\"color\": \"#2a3f5f\"}, \"error_y\": {\"color\": \"#2a3f5f\"}, \"marker\": {\"line\": {\"color\": \"white\", \"width\": 0.5}}, \"type\": \"bar\"}], \"barpolar\": [{\"marker\": {\"line\": {\"color\": \"white\", \"width\": 0.5}}, \"type\": \"barpolar\"}], \"carpet\": [{\"aaxis\": {\"endlinecolor\": \"#2a3f5f\", \"gridcolor\": \"#C8D4E3\", \"linecolor\": \"#C8D4E3\", \"minorgridcolor\": \"#C8D4E3\", \"startlinecolor\": \"#2a3f5f\"}, \"baxis\": {\"endlinecolor\": \"#2a3f5f\", \"gridcolor\": \"#C8D4E3\", \"linecolor\": \"#C8D4E3\", \"minorgridcolor\": \"#C8D4E3\", \"startlinecolor\": \"#2a3f5f\"}, \"type\": \"carpet\"}], \"choropleth\": [{\"colorbar\": {\"outlinewidth\": 0, \"ticks\": \"\"}, \"type\": \"choropleth\"}], \"contour\": [{\"colorbar\": {\"outlinewidth\": 0, \"ticks\": \"\"}, \"colorscale\": [[0.0, \"#0d0887\"], [0.1111111111111111, \"#46039f\"], [0.2222222222222222, \"#7201a8\"], [0.3333333333333333, \"#9c179e\"], [0.4444444444444444, \"#bd3786\"], [0.5555555555555556, \"#d8576b\"], [0.6666666666666666, \"#ed7953\"], [0.7777777777777778, \"#fb9f3a\"], [0.8888888888888888, \"#fdca26\"], [1.0, \"#f0f921\"]], \"type\": \"contour\"}], \"contourcarpet\": [{\"colorbar\": {\"outlinewidth\": 0, \"ticks\": \"\"}, \"type\": \"contourcarpet\"}], \"heatmap\": [{\"colorbar\": {\"outlinewidth\": 0, \"ticks\": \"\"}, \"colorscale\": [[0.0, \"#0d0887\"], [0.1111111111111111, \"#46039f\"], [0.2222222222222222, \"#7201a8\"], [0.3333333333333333, \"#9c179e\"], [0.4444444444444444, \"#bd3786\"], [0.5555555555555556, \"#d8576b\"], [0.6666666666666666, \"#ed7953\"], [0.7777777777777778, \"#fb9f3a\"], [0.8888888888888888, \"#fdca26\"], [1.0, \"#f0f921\"]], \"type\": \"heatmap\"}], \"heatmapgl\": [{\"colorbar\": {\"outlinewidth\": 0, \"ticks\": \"\"}, \"colorscale\": [[0.0, \"#0d0887\"], [0.1111111111111111, \"#46039f\"], [0.2222222222222222, \"#7201a8\"], [0.3333333333333333, \"#9c179e\"], [0.4444444444444444, \"#bd3786\"], [0.5555555555555556, \"#d8576b\"], [0.6666666666666666, \"#ed7953\"], [0.7777777777777778, \"#fb9f3a\"], [0.8888888888888888, \"#fdca26\"], [1.0, \"#f0f921\"]], \"type\": \"heatmapgl\"}], \"histogram\": [{\"marker\": {\"colorbar\": {\"outlinewidth\": 0, \"ticks\": \"\"}}, \"type\": \"histogram\"}], \"histogram2d\": [{\"colorbar\": {\"outlinewidth\": 0, \"ticks\": \"\"}, \"colorscale\": [[0.0, \"#0d0887\"], [0.1111111111111111, \"#46039f\"], [0.2222222222222222, \"#7201a8\"], [0.3333333333333333, \"#9c179e\"], [0.4444444444444444, \"#bd3786\"], [0.5555555555555556, \"#d8576b\"], [0.6666666666666666, \"#ed7953\"], [0.7777777777777778, \"#fb9f3a\"], [0.8888888888888888, \"#fdca26\"], [1.0, \"#f0f921\"]], \"type\": \"histogram2d\"}], \"histogram2dcontour\": [{\"colorbar\": {\"outlinewidth\": 0, \"ticks\": \"\"}, \"colorscale\": [[0.0, \"#0d0887\"], [0.1111111111111111, \"#46039f\"], [0.2222222222222222, \"#7201a8\"], [0.3333333333333333, \"#9c179e\"], [0.4444444444444444, \"#bd3786\"], [0.5555555555555556, \"#d8576b\"], [0.6666666666666666, \"#ed7953\"], [0.7777777777777778, \"#fb9f3a\"], [0.8888888888888888, \"#fdca26\"], [1.0, \"#f0f921\"]], \"type\": \"histogram2dcontour\"}], \"mesh3d\": [{\"colorbar\": {\"outlinewidth\": 0, \"ticks\": \"\"}, \"type\": \"mesh3d\"}], \"parcoords\": [{\"line\": {\"colorbar\": {\"outlinewidth\": 0, \"ticks\": \"\"}}, \"type\": \"parcoords\"}], \"pie\": [{\"automargin\": true, \"type\": \"pie\"}], \"scatter\": [{\"marker\": {\"colorbar\": {\"outlinewidth\": 0, \"ticks\": \"\"}}, \"type\": \"scatter\"}], \"scatter3d\": [{\"line\": {\"colorbar\": {\"outlinewidth\": 0, \"ticks\": \"\"}}, \"marker\": {\"colorbar\": {\"outlinewidth\": 0, \"ticks\": \"\"}}, \"type\": \"scatter3d\"}], \"scattercarpet\": [{\"marker\": {\"colorbar\": {\"outlinewidth\": 0, \"ticks\": \"\"}}, \"type\": \"scattercarpet\"}], \"scattergeo\": [{\"marker\": {\"colorbar\": {\"outlinewidth\": 0, \"ticks\": \"\"}}, \"type\": \"scattergeo\"}], \"scattergl\": [{\"marker\": {\"colorbar\": {\"outlinewidth\": 0, \"ticks\": \"\"}}, \"type\": \"scattergl\"}], \"scattermapbox\": [{\"marker\": {\"colorbar\": {\"outlinewidth\": 0, \"ticks\": \"\"}}, \"type\": \"scattermapbox\"}], \"scatterpolar\": [{\"marker\": {\"colorbar\": {\"outlinewidth\": 0, \"ticks\": \"\"}}, \"type\": \"scatterpolar\"}], \"scatterpolargl\": [{\"marker\": {\"colorbar\": {\"outlinewidth\": 0, \"ticks\": \"\"}}, \"type\": \"scatterpolargl\"}], \"scatterternary\": [{\"marker\": {\"colorbar\": {\"outlinewidth\": 0, \"ticks\": \"\"}}, \"type\": \"scatterternary\"}], \"surface\": [{\"colorbar\": {\"outlinewidth\": 0, \"ticks\": \"\"}, \"colorscale\": [[0.0, \"#0d0887\"], [0.1111111111111111, \"#46039f\"], [0.2222222222222222, \"#7201a8\"], [0.3333333333333333, \"#9c179e\"], [0.4444444444444444, \"#bd3786\"], [0.5555555555555556, \"#d8576b\"], [0.6666666666666666, \"#ed7953\"], [0.7777777777777778, \"#fb9f3a\"], [0.8888888888888888, \"#fdca26\"], [1.0, \"#f0f921\"]], \"type\": \"surface\"}], \"table\": [{\"cells\": {\"fill\": {\"color\": \"#EBF0F8\"}, \"line\": {\"color\": \"white\"}}, \"header\": {\"fill\": {\"color\": \"#C8D4E3\"}, \"line\": {\"color\": \"white\"}}, \"type\": \"table\"}]}, \"layout\": {\"annotationdefaults\": {\"arrowcolor\": \"#2a3f5f\", \"arrowhead\": 0, \"arrowwidth\": 1}, \"coloraxis\": {\"colorbar\": {\"outlinewidth\": 0, \"ticks\": \"\"}}, \"colorscale\": {\"diverging\": [[0, \"#8e0152\"], [0.1, \"#c51b7d\"], [0.2, \"#de77ae\"], [0.3, \"#f1b6da\"], [0.4, \"#fde0ef\"], [0.5, \"#f7f7f7\"], [0.6, \"#e6f5d0\"], [0.7, \"#b8e186\"], [0.8, \"#7fbc41\"], [0.9, \"#4d9221\"], [1, \"#276419\"]], \"sequential\": [[0.0, \"#0d0887\"], [0.1111111111111111, \"#46039f\"], [0.2222222222222222, \"#7201a8\"], [0.3333333333333333, \"#9c179e\"], [0.4444444444444444, \"#bd3786\"], [0.5555555555555556, \"#d8576b\"], [0.6666666666666666, \"#ed7953\"], [0.7777777777777778, \"#fb9f3a\"], [0.8888888888888888, \"#fdca26\"], [1.0, \"#f0f921\"]], \"sequentialminus\": [[0.0, \"#0d0887\"], [0.1111111111111111, \"#46039f\"], [0.2222222222222222, \"#7201a8\"], [0.3333333333333333, \"#9c179e\"], [0.4444444444444444, \"#bd3786\"], [0.5555555555555556, \"#d8576b\"], [0.6666666666666666, \"#ed7953\"], [0.7777777777777778, \"#fb9f3a\"], [0.8888888888888888, \"#fdca26\"], [1.0, \"#f0f921\"]]}, \"colorway\": [\"#636efa\", \"#EF553B\", \"#00cc96\", \"#ab63fa\", \"#FFA15A\", \"#19d3f3\", \"#FF6692\", \"#B6E880\", \"#FF97FF\", \"#FECB52\"], \"font\": {\"color\": \"#2a3f5f\"}, \"geo\": {\"bgcolor\": \"white\", \"lakecolor\": \"white\", \"landcolor\": \"white\", \"showlakes\": true, \"showland\": true, \"subunitcolor\": \"#C8D4E3\"}, \"hoverlabel\": {\"align\": \"left\"}, \"hovermode\": \"closest\", \"mapbox\": {\"style\": \"light\"}, \"paper_bgcolor\": \"white\", \"plot_bgcolor\": \"white\", \"polar\": {\"angularaxis\": {\"gridcolor\": \"#EBF0F8\", \"linecolor\": \"#EBF0F8\", \"ticks\": \"\"}, \"bgcolor\": \"white\", \"radialaxis\": {\"gridcolor\": \"#EBF0F8\", \"linecolor\": \"#EBF0F8\", \"ticks\": \"\"}}, \"scene\": {\"xaxis\": {\"backgroundcolor\": \"white\", \"gridcolor\": \"#DFE8F3\", \"gridwidth\": 2, \"linecolor\": \"#EBF0F8\", \"showbackground\": true, \"ticks\": \"\", \"zerolinecolor\": \"#EBF0F8\"}, \"yaxis\": {\"backgroundcolor\": \"white\", \"gridcolor\": \"#DFE8F3\", \"gridwidth\": 2, \"linecolor\": \"#EBF0F8\", \"showbackground\": true, \"ticks\": \"\", \"zerolinecolor\": \"#EBF0F8\"}, \"zaxis\": {\"backgroundcolor\": \"white\", \"gridcolor\": \"#DFE8F3\", \"gridwidth\": 2, \"linecolor\": \"#EBF0F8\", \"showbackground\": true, \"ticks\": \"\", \"zerolinecolor\": \"#EBF0F8\"}}, \"shapedefaults\": {\"line\": {\"color\": \"#2a3f5f\"}}, \"ternary\": {\"aaxis\": {\"gridcolor\": \"#DFE8F3\", \"linecolor\": \"#A2B1C6\", \"ticks\": \"\"}, \"baxis\": {\"gridcolor\": \"#DFE8F3\", \"linecolor\": \"#A2B1C6\", \"ticks\": \"\"}, \"bgcolor\": \"white\", \"caxis\": {\"gridcolor\": \"#DFE8F3\", \"linecolor\": \"#A2B1C6\", \"ticks\": \"\"}}, \"title\": {\"x\": 0.05}, \"xaxis\": {\"automargin\": true, \"gridcolor\": \"#EBF0F8\", \"linecolor\": \"#EBF0F8\", \"ticks\": \"\", \"title\": {\"standoff\": 15}, \"zerolinecolor\": \"#EBF0F8\", \"zerolinewidth\": 2}, \"yaxis\": {\"automargin\": true, \"gridcolor\": \"#EBF0F8\", \"linecolor\": \"#EBF0F8\", \"ticks\": \"\", \"title\": {\"standoff\": 15}, \"zerolinecolor\": \"#EBF0F8\", \"zerolinewidth\": 2}}}, \"xaxis\": {\"anchor\": \"y\", \"domain\": [0.0, 1.0], \"title\": {\"text\": \"Polarity\"}}, \"yaxis\": {\"anchor\": \"x\", \"domain\": [0.0, 1.0], \"title\": {\"text\": \"Subjectivity\"}}},\n",
       "                        {\"responsive\": true}\n",
       "                    ).then(function(){\n",
       "                            \n",
       "var gd = document.getElementById('e0e9c8e6-1dfc-4f00-823f-dd590b469f9b');\n",
       "var x = new MutationObserver(function (mutations, observer) {{\n",
       "        var display = window.getComputedStyle(gd).display;\n",
       "        if (!display || display === 'none') {{\n",
       "            console.log([gd, 'removed!']);\n",
       "            Plotly.purge(gd);\n",
       "            observer.disconnect();\n",
       "        }}\n",
       "}});\n",
       "\n",
       "// Listen for the removal of the full notebook cells\n",
       "var notebookContainer = gd.closest('#notebook-container');\n",
       "if (notebookContainer) {{\n",
       "    x.observe(notebookContainer, {childList: true});\n",
       "}}\n",
       "\n",
       "// Listen for the clearing of the current output cell\n",
       "var outputEl = gd.closest('.output');\n",
       "if (outputEl) {{\n",
       "    x.observe(outputEl, {childList: true});\n",
       "}}\n",
       "\n",
       "                        })\n",
       "                };\n",
       "                });\n",
       "            </script>\n",
       "        </div>"
      ]
     },
     "metadata": {},
     "output_type": "display_data"
    }
   ],
   "source": [
    "fig = px.scatter(df, x=\"Polarity\", y=\"Subjectivity\", \n",
    "                 color=\"Type\",\n",
    "                 hover_data=['Tweet'],\n",
    "                color_discrete_map={\n",
    "                \"Organic\": blue,\n",
    "                \"Retweet\": black,\n",
    "                \"Quote\": dark_gray,\n",
    "                \"Reply\": light_gray,\n",
    "                },)\n",
    "\n",
    "fig.update_layout(template='plotly_white')\n",
    "fig.show()"
   ]
  },
  {
   "cell_type": "markdown",
   "metadata": {},
   "source": [
    "## Inspect a tweet json"
   ]
  },
  {
   "cell_type": "code",
   "execution_count": 201,
   "metadata": {
    "ExecuteTime": {
     "end_time": "2021-09-01T04:36:48.867374Z",
     "start_time": "2021-09-01T04:36:48.859141Z"
    }
   },
   "outputs": [
    {
     "name": "stdout",
     "output_type": "stream",
     "text": [
      "{\n",
      "    \"created_at\": \"Tue Aug 31 20:57:07 +0000 2021\",\n",
      "    \"id\": 1432809700618211329,\n",
      "    \"id_str\": \"1432809700618211329\",\n",
      "    \"full_text\": \".@GAP_Foundation\\u2019s Bio-Hermes Study is the first to compare results of blood and digital biomarker tests with imaging and traditional cognitive tests. This could help identify Alzheimer\\u2019s earlier and detect progression of the disease, to help us get closer to a cure. https://t.co/9xUQ0ZldSI\",\n",
      "    \"truncated\": false,\n",
      "    \"display_text_range\": [\n",
      "        0,\n",
      "        267\n",
      "    ],\n",
      "    \"entities\": {\n",
      "        \"hashtags\": [],\n",
      "        \"symbols\": [],\n",
      "        \"user_mentions\": [\n",
      "            {\n",
      "                \"screen_name\": \"GAP_Foundation\",\n",
      "                \"name\": \"GAP Foundation\",\n",
      "                \"id\": 912693565389762570,\n",
      "                \"id_str\": \"912693565389762570\",\n",
      "                \"indices\": [\n",
      "                    1,\n",
      "                    16\n",
      "                ]\n",
      "            }\n",
      "        ],\n",
      "        \"urls\": [\n",
      "            {\n",
      "                \"url\": \"https://t.co/9xUQ0ZldSI\",\n",
      "                \"expanded_url\": \"https://twitter.com/GAP_Foundation/status/1432743631874674688\",\n",
      "                \"display_url\": \"twitter.com/GAP_Foundation\\u2026\",\n",
      "                \"indices\": [\n",
      "                    268,\n",
      "                    291\n",
      "                ]\n",
      "            }\n",
      "        ]\n",
      "    },\n",
      "    \"source\": \"<a href=\\\"https://mobile.twitter.com\\\" rel=\\\"nofollow\\\">Twitter Web App</a>\",\n",
      "    \"in_reply_to_status_id\": null,\n",
      "    \"in_reply_to_status_id_str\": null,\n",
      "    \"in_reply_to_user_id\": null,\n",
      "    \"in_reply_to_user_id_str\": null,\n",
      "    \"in_reply_to_screen_name\": null,\n",
      "    \"user\": {\n",
      "        \"id\": 50393960,\n",
      "        \"id_str\": \"50393960\",\n",
      "        \"name\": \"Bill Gates\",\n",
      "        \"screen_name\": \"BillGates\",\n",
      "        \"location\": \"Seattle, WA\",\n",
      "        \"description\": \"Sharing things I'm learning about the world\\u2019s deadliest animal. #MosquitoWeek\",\n",
      "        \"url\": \"https://t.co/UGwD4hBnx7\",\n",
      "        \"entities\": {\n",
      "            \"url\": {\n",
      "                \"urls\": [\n",
      "                    {\n",
      "                        \"url\": \"https://t.co/UGwD4hBnx7\",\n",
      "                        \"expanded_url\": \"https://gatesnot.es/MosquitoWeek\",\n",
      "                        \"display_url\": \"gatesnot.es/MosquitoWeek\",\n",
      "                        \"indices\": [\n",
      "                            0,\n",
      "                            23\n",
      "                        ]\n",
      "                    }\n",
      "                ]\n",
      "            },\n",
      "            \"description\": {\n",
      "                \"urls\": []\n",
      "            }\n",
      "        },\n",
      "        \"protected\": false,\n",
      "        \"followers_count\": 55431203,\n",
      "        \"friends_count\": 308,\n",
      "        \"listed_count\": 2,\n",
      "        \"created_at\": \"Wed Jun 24 18:44:10 +0000 2009\",\n",
      "        \"favourites_count\": 176,\n",
      "        \"utc_offset\": null,\n",
      "        \"time_zone\": null,\n",
      "        \"geo_enabled\": false,\n",
      "        \"verified\": true,\n",
      "        \"statuses_count\": 3613,\n",
      "        \"lang\": null,\n",
      "        \"contributors_enabled\": false,\n",
      "        \"is_translator\": false,\n",
      "        \"is_translation_enabled\": false,\n",
      "        \"profile_background_color\": \"C0DEED\",\n",
      "        \"profile_background_image_url\": \"http://abs.twimg.com/images/themes/theme1/bg.png\",\n",
      "        \"profile_background_image_url_https\": \"https://abs.twimg.com/images/themes/theme1/bg.png\",\n",
      "        \"profile_background_tile\": false,\n",
      "        \"profile_image_url\": \"http://pbs.twimg.com/profile_images/1414439092373254147/JdS8yLGI_normal.jpg\",\n",
      "        \"profile_image_url_https\": \"https://pbs.twimg.com/profile_images/1414439092373254147/JdS8yLGI_normal.jpg\",\n",
      "        \"profile_banner_url\": \"https://pbs.twimg.com/profile_banners/50393960/1626063534\",\n",
      "        \"profile_link_color\": \"0084B4\",\n",
      "        \"profile_sidebar_border_color\": \"000000\",\n",
      "        \"profile_sidebar_fill_color\": \"DDEEF6\",\n",
      "        \"profile_text_color\": \"333333\",\n",
      "        \"profile_use_background_image\": false,\n",
      "        \"has_extended_profile\": false,\n",
      "        \"default_profile\": false,\n",
      "        \"default_profile_image\": false,\n",
      "        \"following\": false,\n",
      "        \"follow_request_sent\": false,\n",
      "        \"notifications\": false,\n",
      "        \"translator_type\": \"regular\",\n",
      "        \"withheld_in_countries\": []\n",
      "    },\n",
      "    \"geo\": null,\n",
      "    \"coordinates\": null,\n",
      "    \"place\": null,\n",
      "    \"contributors\": null,\n",
      "    \"is_quote_status\": true,\n",
      "    \"quoted_status_id\": 1432743631874674688,\n",
      "    \"quoted_status_id_str\": \"1432743631874674688\",\n",
      "    \"quoted_status_permalink\": {\n",
      "        \"url\": \"https://t.co/9xUQ0ZldSI\",\n",
      "        \"expanded\": \"https://twitter.com/GAP_Foundation/status/1432743631874674688\",\n",
      "        \"display\": \"twitter.com/GAP_Foundation\\u2026\"\n",
      "    },\n",
      "    \"quoted_status\": {\n",
      "        \"created_at\": \"Tue Aug 31 16:34:35 +0000 2021\",\n",
      "        \"id\": 1432743631874674688,\n",
      "        \"id_str\": \"1432743631874674688\",\n",
      "        \"full_text\": \"Recruitment for the Bio-Hermes Study is off to a strong start! If you\\u2019d like to help advance the ability to diagnose Alzheimer\\u2019s, check out the list of sites at https://t.co/5Z2JXkAjDF! https://t.co/1tUyvdzryB\",\n",
      "        \"truncated\": false,\n",
      "        \"display_text_range\": [\n",
      "            0,\n",
      "            185\n",
      "        ],\n",
      "        \"entities\": {\n",
      "            \"hashtags\": [],\n",
      "            \"symbols\": [],\n",
      "            \"user_mentions\": [],\n",
      "            \"urls\": [\n",
      "                {\n",
      "                    \"url\": \"https://t.co/5Z2JXkAjDF\",\n",
      "                    \"expanded_url\": \"https://globalalzplatform.org/biohermesstudy/\",\n",
      "                    \"display_url\": \"globalalzplatform.org/biohermesstudy/\",\n",
      "                    \"indices\": [\n",
      "                        161,\n",
      "                        184\n",
      "                    ]\n",
      "                }\n",
      "            ],\n",
      "            \"media\": [\n",
      "                {\n",
      "                    \"id\": 1432742895430287365,\n",
      "                    \"id_str\": \"1432742895430287365\",\n",
      "                    \"indices\": [\n",
      "                        186,\n",
      "                        209\n",
      "                    ],\n",
      "                    \"media_url\": \"http://pbs.twimg.com/media/E-IgEoiWQAUwtcy.jpg\",\n",
      "                    \"media_url_https\": \"https://pbs.twimg.com/media/E-IgEoiWQAUwtcy.jpg\",\n",
      "                    \"url\": \"https://t.co/1tUyvdzryB\",\n",
      "                    \"display_url\": \"pic.twitter.com/1tUyvdzryB\",\n",
      "                    \"expanded_url\": \"https://twitter.com/GAP_Foundation/status/1432743631874674688/photo/1\",\n",
      "                    \"type\": \"photo\",\n",
      "                    \"sizes\": {\n",
      "                        \"thumb\": {\n",
      "                            \"w\": 150,\n",
      "                            \"h\": 150,\n",
      "                            \"resize\": \"crop\"\n",
      "                        },\n",
      "                        \"large\": {\n",
      "                            \"w\": 1200,\n",
      "                            \"h\": 675,\n",
      "                            \"resize\": \"fit\"\n",
      "                        },\n",
      "                        \"small\": {\n",
      "                            \"w\": 680,\n",
      "                            \"h\": 383,\n",
      "                            \"resize\": \"fit\"\n",
      "                        },\n",
      "                        \"medium\": {\n",
      "                            \"w\": 1200,\n",
      "                            \"h\": 675,\n",
      "                            \"resize\": \"fit\"\n",
      "                        }\n",
      "                    }\n",
      "                }\n",
      "            ]\n",
      "        },\n",
      "        \"extended_entities\": {\n",
      "            \"media\": [\n",
      "                {\n",
      "                    \"id\": 1432742895430287365,\n",
      "                    \"id_str\": \"1432742895430287365\",\n",
      "                    \"indices\": [\n",
      "                        186,\n",
      "                        209\n",
      "                    ],\n",
      "                    \"media_url\": \"http://pbs.twimg.com/media/E-IgEoiWQAUwtcy.jpg\",\n",
      "                    \"media_url_https\": \"https://pbs.twimg.com/media/E-IgEoiWQAUwtcy.jpg\",\n",
      "                    \"url\": \"https://t.co/1tUyvdzryB\",\n",
      "                    \"display_url\": \"pic.twitter.com/1tUyvdzryB\",\n",
      "                    \"expanded_url\": \"https://twitter.com/GAP_Foundation/status/1432743631874674688/photo/1\",\n",
      "                    \"type\": \"photo\",\n",
      "                    \"sizes\": {\n",
      "                        \"thumb\": {\n",
      "                            \"w\": 150,\n",
      "                            \"h\": 150,\n",
      "                            \"resize\": \"crop\"\n",
      "                        },\n",
      "                        \"large\": {\n",
      "                            \"w\": 1200,\n",
      "                            \"h\": 675,\n",
      "                            \"resize\": \"fit\"\n",
      "                        },\n",
      "                        \"small\": {\n",
      "                            \"w\": 680,\n",
      "                            \"h\": 383,\n",
      "                            \"resize\": \"fit\"\n",
      "                        },\n",
      "                        \"medium\": {\n",
      "                            \"w\": 1200,\n",
      "                            \"h\": 675,\n",
      "                            \"resize\": \"fit\"\n",
      "                        }\n",
      "                    }\n",
      "                }\n",
      "            ]\n",
      "        },\n",
      "        \"source\": \"<a href=\\\"https://mobile.twitter.com\\\" rel=\\\"nofollow\\\">Twitter Web App</a>\",\n",
      "        \"in_reply_to_status_id\": null,\n",
      "        \"in_reply_to_status_id_str\": null,\n",
      "        \"in_reply_to_user_id\": null,\n",
      "        \"in_reply_to_user_id_str\": null,\n",
      "        \"in_reply_to_screen_name\": null,\n",
      "        \"user\": {\n",
      "            \"id\": 912693565389762570,\n",
      "            \"id_str\": \"912693565389762570\",\n",
      "            \"name\": \"GAP Foundation\",\n",
      "            \"screen_name\": \"GAP_Foundation\",\n",
      "            \"location\": \"Washington, DC\",\n",
      "            \"description\": \"A non-profit organization building a unique network of researchers, volunteers, & communities focused on advancing Alzheimer\\u2019s and Parkinson's disease research.\",\n",
      "            \"url\": \"https://t.co/57CGX4PfSI\",\n",
      "            \"entities\": {\n",
      "                \"url\": {\n",
      "                    \"urls\": [\n",
      "                        {\n",
      "                            \"url\": \"https://t.co/57CGX4PfSI\",\n",
      "                            \"expanded_url\": \"http://globalalzplatform.org/\",\n",
      "                            \"display_url\": \"globalalzplatform.org\",\n",
      "                            \"indices\": [\n",
      "                                0,\n",
      "                                23\n",
      "                            ]\n",
      "                        }\n",
      "                    ]\n",
      "                },\n",
      "                \"description\": {\n",
      "                    \"urls\": []\n",
      "                }\n",
      "            },\n",
      "            \"protected\": false,\n",
      "            \"followers_count\": 697,\n",
      "            \"friends_count\": 284,\n",
      "            \"listed_count\": 17,\n",
      "            \"created_at\": \"Tue Sep 26 15:01:17 +0000 2017\",\n",
      "            \"favourites_count\": 717,\n",
      "            \"utc_offset\": null,\n",
      "            \"time_zone\": null,\n",
      "            \"geo_enabled\": true,\n",
      "            \"verified\": false,\n",
      "            \"statuses_count\": 2146,\n",
      "            \"lang\": null,\n",
      "            \"contributors_enabled\": false,\n",
      "            \"is_translator\": false,\n",
      "            \"is_translation_enabled\": false,\n",
      "            \"profile_background_color\": \"F5F8FA\",\n",
      "            \"profile_background_image_url\": null,\n",
      "            \"profile_background_image_url_https\": null,\n",
      "            \"profile_background_tile\": false,\n",
      "            \"profile_image_url\": \"http://pbs.twimg.com/profile_images/1217498004258742278/Ul2XgdvR_normal.jpg\",\n",
      "            \"profile_image_url_https\": \"https://pbs.twimg.com/profile_images/1217498004258742278/Ul2XgdvR_normal.jpg\",\n",
      "            \"profile_banner_url\": \"https://pbs.twimg.com/profile_banners/912693565389762570/1624898097\",\n",
      "            \"profile_link_color\": \"1DA1F2\",\n",
      "            \"profile_sidebar_border_color\": \"C0DEED\",\n",
      "            \"profile_sidebar_fill_color\": \"DDEEF6\",\n",
      "            \"profile_text_color\": \"333333\",\n",
      "            \"profile_use_background_image\": true,\n",
      "            \"has_extended_profile\": false,\n",
      "            \"default_profile\": true,\n",
      "            \"default_profile_image\": false,\n",
      "            \"following\": false,\n",
      "            \"follow_request_sent\": false,\n",
      "            \"notifications\": false,\n",
      "            \"translator_type\": \"none\",\n",
      "            \"withheld_in_countries\": []\n",
      "        },\n",
      "        \"geo\": null,\n",
      "        \"coordinates\": null,\n",
      "        \"place\": null,\n",
      "        \"contributors\": null,\n",
      "        \"is_quote_status\": false,\n",
      "        \"retweet_count\": 20,\n",
      "        \"favorite_count\": 47,\n",
      "        \"favorited\": false,\n",
      "        \"retweeted\": false,\n",
      "        \"possibly_sensitive\": false,\n",
      "        \"lang\": \"en\"\n",
      "    },\n",
      "    \"retweet_count\": 111,\n",
      "    \"favorite_count\": 716,\n",
      "    \"favorited\": false,\n",
      "    \"retweeted\": false,\n",
      "    \"possibly_sensitive\": false,\n",
      "    \"lang\": \"en\"\n",
      "}\n"
     ]
    }
   ],
   "source": [
    "import json\n",
    "\n",
    "status = posts[0]\n",
    "\n",
    "#convert to string\n",
    "json_str = json.dumps(status._json)\n",
    "\n",
    "#deserialise string into python object\n",
    "parsed = json.loads(json_str)\n",
    "\n",
    "print(json.dumps(parsed, indent=4, sort_keys=False))"
   ]
  },
  {
   "cell_type": "markdown",
   "metadata": {},
   "source": [
    "# By Search \n",
    "## Get Twitter Data"
   ]
  },
  {
   "cell_type": "code",
   "execution_count": 17,
   "metadata": {
    "ExecuteTime": {
     "end_time": "2021-08-27T21:06:40.609741Z",
     "start_time": "2021-08-27T21:06:39.509200Z"
    }
   },
   "outputs": [
    {
     "name": "stdout",
     "output_type": "stream",
     "text": [
      "Show the 5 recent tweets:\n",
      "\n",
      "1) Top 5 Most Viewed Teaser - Trailer in first 24 hours globally. \n",
      "\n",
      "🌟Spiderman: No-way home: 355 million. \n",
      "\n",
      "🌟 Avengers - End Game: 289 million. \n",
      "\n",
      "🌟 Avengers - Infinity War: 230 million. \n",
      "\n",
      "🌟 The Lion King (2019): 224.6 million. \n",
      "\n",
      "🌟 It chapter 1 (2017): 197 million.\n",
      "\n",
      "2) A piece done for Marvel licensing. Not sure if it's ever been used or not but you might see it from time to time on Marvel merch out in the world. #SpiderManNoWayHome #Spiderman #MarvelStudios https://t.co/DZL4pg118M\n",
      "\n",
      "3) The Spider-Man #NoWayHome trailer gets animated in a viral remake using footage from the 90s #SpiderMan cartoon:  \n",
      "\n",
      "https://t.co/OXj2du6hds https://t.co/nppMeawWYc\n",
      "\n",
      "4) RT @albaaca_art: spiderman 3 predictions #doctorstrange #SpiderManNoWayHome https://t.co/3wOYhuf4hu\n",
      "\n",
      "5) RT @imununununn: I asked him that did he watch the trailer of spiderman nwh yet he said he did and his reaction was sooooo into it 🤣🕸 https…\n",
      "\n"
     ]
    }
   ],
   "source": [
    "# Extract 100 tweets from the twitter user\n",
    "posts = api.search(q=\"Spiderman\", count = 100, lang=\"en\", tweet_mode=\"extended\", result_type=\"mixed\")\n",
    "\n",
    "#  Print the last 5 tweets\n",
    "print(\"Show the 5 recent tweets:\\n\")\n",
    "i=1\n",
    "for tweet in posts[:5]:\n",
    "    print(str(i) +') '+ tweet.full_text + '\\n')\n",
    "    i= i+1"
   ]
  },
  {
   "cell_type": "code",
   "execution_count": 18,
   "metadata": {
    "ExecuteTime": {
     "end_time": "2021-08-27T21:06:41.342486Z",
     "start_time": "2021-08-27T21:06:41.334325Z"
    }
   },
   "outputs": [
    {
     "data": {
      "text/html": [
       "<div>\n",
       "<style scoped>\n",
       "    .dataframe tbody tr th:only-of-type {\n",
       "        vertical-align: middle;\n",
       "    }\n",
       "\n",
       "    .dataframe tbody tr th {\n",
       "        vertical-align: top;\n",
       "    }\n",
       "\n",
       "    .dataframe thead th {\n",
       "        text-align: right;\n",
       "    }\n",
       "</style>\n",
       "<table border=\"1\" class=\"dataframe\">\n",
       "  <thead>\n",
       "    <tr style=\"text-align: right;\">\n",
       "      <th></th>\n",
       "      <th>Tweets</th>\n",
       "    </tr>\n",
       "  </thead>\n",
       "  <tbody>\n",
       "    <tr>\n",
       "      <th>0</th>\n",
       "      <td>Top 5 Most Viewed Teaser - Trailer in first 24...</td>\n",
       "    </tr>\n",
       "    <tr>\n",
       "      <th>1</th>\n",
       "      <td>A piece done for Marvel licensing. Not sure if...</td>\n",
       "    </tr>\n",
       "    <tr>\n",
       "      <th>2</th>\n",
       "      <td>The Spider-Man #NoWayHome trailer gets animate...</td>\n",
       "    </tr>\n",
       "    <tr>\n",
       "      <th>3</th>\n",
       "      <td>RT @albaaca_art: spiderman 3 predictions #doct...</td>\n",
       "    </tr>\n",
       "    <tr>\n",
       "      <th>4</th>\n",
       "      <td>RT @imununununn: I asked him that did he watch...</td>\n",
       "    </tr>\n",
       "  </tbody>\n",
       "</table>\n",
       "</div>"
      ],
      "text/plain": [
       "                                              Tweets\n",
       "0  Top 5 Most Viewed Teaser - Trailer in first 24...\n",
       "1  A piece done for Marvel licensing. Not sure if...\n",
       "2  The Spider-Man #NoWayHome trailer gets animate...\n",
       "3  RT @albaaca_art: spiderman 3 predictions #doct...\n",
       "4  RT @imununununn: I asked him that did he watch..."
      ]
     },
     "execution_count": 18,
     "metadata": {},
     "output_type": "execute_result"
    }
   ],
   "source": [
    "# Create a dataframe with a column called Tweets\n",
    "df = pd.DataFrame([tweet.full_text for tweet in posts], columns=['Tweets'])\n",
    "# Show the first 5 rows of data\n",
    "df.head()"
   ]
  },
  {
   "cell_type": "code",
   "execution_count": 19,
   "metadata": {
    "ExecuteTime": {
     "end_time": "2021-08-27T21:06:42.423118Z",
     "start_time": "2021-08-27T21:06:42.412573Z"
    }
   },
   "outputs": [
    {
     "data": {
      "text/html": [
       "<div>\n",
       "<style scoped>\n",
       "    .dataframe tbody tr th:only-of-type {\n",
       "        vertical-align: middle;\n",
       "    }\n",
       "\n",
       "    .dataframe tbody tr th {\n",
       "        vertical-align: top;\n",
       "    }\n",
       "\n",
       "    .dataframe thead th {\n",
       "        text-align: right;\n",
       "    }\n",
       "</style>\n",
       "<table border=\"1\" class=\"dataframe\">\n",
       "  <thead>\n",
       "    <tr style=\"text-align: right;\">\n",
       "      <th></th>\n",
       "      <th>Tweets</th>\n",
       "    </tr>\n",
       "  </thead>\n",
       "  <tbody>\n",
       "    <tr>\n",
       "      <th>0</th>\n",
       "      <td>Top 5 Most Viewed Teaser - Trailer in first 24...</td>\n",
       "    </tr>\n",
       "    <tr>\n",
       "      <th>1</th>\n",
       "      <td>A piece done for Marvel licensing. Not sure if...</td>\n",
       "    </tr>\n",
       "    <tr>\n",
       "      <th>2</th>\n",
       "      <td>The Spider-Man NoWayHome trailer gets animated...</td>\n",
       "    </tr>\n",
       "    <tr>\n",
       "      <th>3</th>\n",
       "      <td>_art: spiderman 3 predictions doctorstrange Sp...</td>\n",
       "    </tr>\n",
       "    <tr>\n",
       "      <th>4</th>\n",
       "      <td>: I asked him that did he watch the trailer of...</td>\n",
       "    </tr>\n",
       "    <tr>\n",
       "      <th>...</th>\n",
       "      <td>...</td>\n",
       "    </tr>\n",
       "    <tr>\n",
       "      <th>95</th>\n",
       "      <td>: alright so how can i get marvel to invite ma...</td>\n",
       "    </tr>\n",
       "    <tr>\n",
       "      <th>96</th>\n",
       "      <td>thank u im glad my og spiderman moots agree leah</td>\n",
       "    </tr>\n",
       "    <tr>\n",
       "      <th>97</th>\n",
       "      <td>$14\\nKH\\nFF X\\nSSX\\nNFS Underground 2\\nSpiderm...</td>\n",
       "    </tr>\n",
       "    <tr>\n",
       "      <th>98</th>\n",
       "      <td>Just a quick and simple edit I thought of, may...</td>\n",
       "    </tr>\n",
       "    <tr>\n",
       "      <th>99</th>\n",
       "      <td>: STOPPP OP ASKED MARK IF HE WATCHED THE NEW S...</td>\n",
       "    </tr>\n",
       "  </tbody>\n",
       "</table>\n",
       "<p>100 rows × 1 columns</p>\n",
       "</div>"
      ],
      "text/plain": [
       "                                               Tweets\n",
       "0   Top 5 Most Viewed Teaser - Trailer in first 24...\n",
       "1   A piece done for Marvel licensing. Not sure if...\n",
       "2   The Spider-Man NoWayHome trailer gets animated...\n",
       "3   _art: spiderman 3 predictions doctorstrange Sp...\n",
       "4   : I asked him that did he watch the trailer of...\n",
       "..                                                ...\n",
       "95  : alright so how can i get marvel to invite ma...\n",
       "96   thank u im glad my og spiderman moots agree leah\n",
       "97  $14\\nKH\\nFF X\\nSSX\\nNFS Underground 2\\nSpiderm...\n",
       "98  Just a quick and simple edit I thought of, may...\n",
       "99  : STOPPP OP ASKED MARK IF HE WATCHED THE NEW S...\n",
       "\n",
       "[100 rows x 1 columns]"
      ]
     },
     "execution_count": 19,
     "metadata": {},
     "output_type": "execute_result"
    }
   ],
   "source": [
    "# Clean the tweets\n",
    "df['Tweets'] = df['Tweets'].apply(cleanTxt)\n",
    "\n",
    "# Show the cleaned tweets\n",
    "df"
   ]
  },
  {
   "cell_type": "markdown",
   "metadata": {},
   "source": [
    "## Sentiments"
   ]
  },
  {
   "cell_type": "code",
   "execution_count": 20,
   "metadata": {
    "ExecuteTime": {
     "end_time": "2021-08-27T21:06:44.050053Z",
     "start_time": "2021-08-27T21:06:43.987066Z"
    }
   },
   "outputs": [
    {
     "data": {
      "text/html": [
       "<div>\n",
       "<style scoped>\n",
       "    .dataframe tbody tr th:only-of-type {\n",
       "        vertical-align: middle;\n",
       "    }\n",
       "\n",
       "    .dataframe tbody tr th {\n",
       "        vertical-align: top;\n",
       "    }\n",
       "\n",
       "    .dataframe thead th {\n",
       "        text-align: right;\n",
       "    }\n",
       "</style>\n",
       "<table border=\"1\" class=\"dataframe\">\n",
       "  <thead>\n",
       "    <tr style=\"text-align: right;\">\n",
       "      <th></th>\n",
       "      <th>Tweets</th>\n",
       "      <th>Subjectivity</th>\n",
       "      <th>Polarity</th>\n",
       "    </tr>\n",
       "  </thead>\n",
       "  <tbody>\n",
       "    <tr>\n",
       "      <th>0</th>\n",
       "      <td>Top 5 Most Viewed Teaser - Trailer in first 24...</td>\n",
       "      <td>0.346667</td>\n",
       "      <td>0.170000</td>\n",
       "    </tr>\n",
       "    <tr>\n",
       "      <th>1</th>\n",
       "      <td>A piece done for Marvel licensing. Not sure if...</td>\n",
       "      <td>0.888889</td>\n",
       "      <td>-0.250000</td>\n",
       "    </tr>\n",
       "    <tr>\n",
       "      <th>2</th>\n",
       "      <td>The Spider-Man NoWayHome trailer gets animated...</td>\n",
       "      <td>0.000000</td>\n",
       "      <td>0.000000</td>\n",
       "    </tr>\n",
       "    <tr>\n",
       "      <th>3</th>\n",
       "      <td>_art: spiderman 3 predictions doctorstrange Sp...</td>\n",
       "      <td>0.000000</td>\n",
       "      <td>0.000000</td>\n",
       "    </tr>\n",
       "    <tr>\n",
       "      <th>4</th>\n",
       "      <td>: I asked him that did he watch the trailer of...</td>\n",
       "      <td>0.000000</td>\n",
       "      <td>0.000000</td>\n",
       "    </tr>\n",
       "    <tr>\n",
       "      <th>...</th>\n",
       "      <td>...</td>\n",
       "      <td>...</td>\n",
       "      <td>...</td>\n",
       "    </tr>\n",
       "    <tr>\n",
       "      <th>95</th>\n",
       "      <td>: alright so how can i get marvel to invite ma...</td>\n",
       "      <td>0.000000</td>\n",
       "      <td>0.000000</td>\n",
       "    </tr>\n",
       "    <tr>\n",
       "      <th>96</th>\n",
       "      <td>thank u im glad my og spiderman moots agree leah</td>\n",
       "      <td>1.000000</td>\n",
       "      <td>0.500000</td>\n",
       "    </tr>\n",
       "    <tr>\n",
       "      <th>97</th>\n",
       "      <td>$14\\nKH\\nFF X\\nSSX\\nNFS Underground 2\\nSpiderm...</td>\n",
       "      <td>0.000000</td>\n",
       "      <td>0.000000</td>\n",
       "    </tr>\n",
       "    <tr>\n",
       "      <th>98</th>\n",
       "      <td>Just a quick and simple edit I thought of, may...</td>\n",
       "      <td>0.339286</td>\n",
       "      <td>0.208333</td>\n",
       "    </tr>\n",
       "    <tr>\n",
       "      <th>99</th>\n",
       "      <td>: STOPPP OP ASKED MARK IF HE WATCHED THE NEW S...</td>\n",
       "      <td>0.454545</td>\n",
       "      <td>0.136364</td>\n",
       "    </tr>\n",
       "  </tbody>\n",
       "</table>\n",
       "<p>100 rows × 3 columns</p>\n",
       "</div>"
      ],
      "text/plain": [
       "                                               Tweets  Subjectivity  Polarity\n",
       "0   Top 5 Most Viewed Teaser - Trailer in first 24...      0.346667  0.170000\n",
       "1   A piece done for Marvel licensing. Not sure if...      0.888889 -0.250000\n",
       "2   The Spider-Man NoWayHome trailer gets animated...      0.000000  0.000000\n",
       "3   _art: spiderman 3 predictions doctorstrange Sp...      0.000000  0.000000\n",
       "4   : I asked him that did he watch the trailer of...      0.000000  0.000000\n",
       "..                                                ...           ...       ...\n",
       "95  : alright so how can i get marvel to invite ma...      0.000000  0.000000\n",
       "96   thank u im glad my og spiderman moots agree leah      1.000000  0.500000\n",
       "97  $14\\nKH\\nFF X\\nSSX\\nNFS Underground 2\\nSpiderm...      0.000000  0.000000\n",
       "98  Just a quick and simple edit I thought of, may...      0.339286  0.208333\n",
       "99  : STOPPP OP ASKED MARK IF HE WATCHED THE NEW S...      0.454545  0.136364\n",
       "\n",
       "[100 rows x 3 columns]"
      ]
     },
     "execution_count": 20,
     "metadata": {},
     "output_type": "execute_result"
    }
   ],
   "source": [
    "# Create two new columns 'Subjectivity' & 'Polarity'\n",
    "df['Subjectivity'] = df['Tweets'].apply(getSubjectivity)\n",
    "df['Polarity'] = df['Tweets'].apply(getPolarity)\n",
    "\n",
    "# Show the new dataframe with columns 'Subjectivity' & 'Polarity'\n",
    "df"
   ]
  },
  {
   "cell_type": "markdown",
   "metadata": {},
   "source": [
    "## Analysis"
   ]
  },
  {
   "cell_type": "code",
   "execution_count": 21,
   "metadata": {
    "ExecuteTime": {
     "end_time": "2021-08-27T21:06:45.560281Z",
     "start_time": "2021-08-27T21:06:45.545331Z"
    }
   },
   "outputs": [
    {
     "data": {
      "text/html": [
       "<div>\n",
       "<style scoped>\n",
       "    .dataframe tbody tr th:only-of-type {\n",
       "        vertical-align: middle;\n",
       "    }\n",
       "\n",
       "    .dataframe tbody tr th {\n",
       "        vertical-align: top;\n",
       "    }\n",
       "\n",
       "    .dataframe thead th {\n",
       "        text-align: right;\n",
       "    }\n",
       "</style>\n",
       "<table border=\"1\" class=\"dataframe\">\n",
       "  <thead>\n",
       "    <tr style=\"text-align: right;\">\n",
       "      <th></th>\n",
       "      <th>Tweets</th>\n",
       "      <th>Subjectivity</th>\n",
       "      <th>Polarity</th>\n",
       "      <th>Analysis</th>\n",
       "    </tr>\n",
       "  </thead>\n",
       "  <tbody>\n",
       "    <tr>\n",
       "      <th>0</th>\n",
       "      <td>Top 5 Most Viewed Teaser - Trailer in first 24...</td>\n",
       "      <td>0.346667</td>\n",
       "      <td>0.170000</td>\n",
       "      <td>Positive</td>\n",
       "    </tr>\n",
       "    <tr>\n",
       "      <th>1</th>\n",
       "      <td>A piece done for Marvel licensing. Not sure if...</td>\n",
       "      <td>0.888889</td>\n",
       "      <td>-0.250000</td>\n",
       "      <td>Negative</td>\n",
       "    </tr>\n",
       "    <tr>\n",
       "      <th>2</th>\n",
       "      <td>The Spider-Man NoWayHome trailer gets animated...</td>\n",
       "      <td>0.000000</td>\n",
       "      <td>0.000000</td>\n",
       "      <td>Neutral</td>\n",
       "    </tr>\n",
       "    <tr>\n",
       "      <th>3</th>\n",
       "      <td>_art: spiderman 3 predictions doctorstrange Sp...</td>\n",
       "      <td>0.000000</td>\n",
       "      <td>0.000000</td>\n",
       "      <td>Neutral</td>\n",
       "    </tr>\n",
       "    <tr>\n",
       "      <th>4</th>\n",
       "      <td>: I asked him that did he watch the trailer of...</td>\n",
       "      <td>0.000000</td>\n",
       "      <td>0.000000</td>\n",
       "      <td>Neutral</td>\n",
       "    </tr>\n",
       "    <tr>\n",
       "      <th>...</th>\n",
       "      <td>...</td>\n",
       "      <td>...</td>\n",
       "      <td>...</td>\n",
       "      <td>...</td>\n",
       "    </tr>\n",
       "    <tr>\n",
       "      <th>95</th>\n",
       "      <td>: alright so how can i get marvel to invite ma...</td>\n",
       "      <td>0.000000</td>\n",
       "      <td>0.000000</td>\n",
       "      <td>Neutral</td>\n",
       "    </tr>\n",
       "    <tr>\n",
       "      <th>96</th>\n",
       "      <td>thank u im glad my og spiderman moots agree leah</td>\n",
       "      <td>1.000000</td>\n",
       "      <td>0.500000</td>\n",
       "      <td>Positive</td>\n",
       "    </tr>\n",
       "    <tr>\n",
       "      <th>97</th>\n",
       "      <td>$14\\nKH\\nFF X\\nSSX\\nNFS Underground 2\\nSpiderm...</td>\n",
       "      <td>0.000000</td>\n",
       "      <td>0.000000</td>\n",
       "      <td>Neutral</td>\n",
       "    </tr>\n",
       "    <tr>\n",
       "      <th>98</th>\n",
       "      <td>Just a quick and simple edit I thought of, may...</td>\n",
       "      <td>0.339286</td>\n",
       "      <td>0.208333</td>\n",
       "      <td>Positive</td>\n",
       "    </tr>\n",
       "    <tr>\n",
       "      <th>99</th>\n",
       "      <td>: STOPPP OP ASKED MARK IF HE WATCHED THE NEW S...</td>\n",
       "      <td>0.454545</td>\n",
       "      <td>0.136364</td>\n",
       "      <td>Positive</td>\n",
       "    </tr>\n",
       "  </tbody>\n",
       "</table>\n",
       "<p>100 rows × 4 columns</p>\n",
       "</div>"
      ],
      "text/plain": [
       "                                               Tweets  Subjectivity  Polarity  \\\n",
       "0   Top 5 Most Viewed Teaser - Trailer in first 24...      0.346667  0.170000   \n",
       "1   A piece done for Marvel licensing. Not sure if...      0.888889 -0.250000   \n",
       "2   The Spider-Man NoWayHome trailer gets animated...      0.000000  0.000000   \n",
       "3   _art: spiderman 3 predictions doctorstrange Sp...      0.000000  0.000000   \n",
       "4   : I asked him that did he watch the trailer of...      0.000000  0.000000   \n",
       "..                                                ...           ...       ...   \n",
       "95  : alright so how can i get marvel to invite ma...      0.000000  0.000000   \n",
       "96   thank u im glad my og spiderman moots agree leah      1.000000  0.500000   \n",
       "97  $14\\nKH\\nFF X\\nSSX\\nNFS Underground 2\\nSpiderm...      0.000000  0.000000   \n",
       "98  Just a quick and simple edit I thought of, may...      0.339286  0.208333   \n",
       "99  : STOPPP OP ASKED MARK IF HE WATCHED THE NEW S...      0.454545  0.136364   \n",
       "\n",
       "    Analysis  \n",
       "0   Positive  \n",
       "1   Negative  \n",
       "2    Neutral  \n",
       "3    Neutral  \n",
       "4    Neutral  \n",
       "..       ...  \n",
       "95   Neutral  \n",
       "96  Positive  \n",
       "97   Neutral  \n",
       "98  Positive  \n",
       "99  Positive  \n",
       "\n",
       "[100 rows x 4 columns]"
      ]
     },
     "execution_count": 21,
     "metadata": {},
     "output_type": "execute_result"
    }
   ],
   "source": [
    "df['Analysis'] = df['Polarity'].apply(getAnalysis)\n",
    "# Show the dataframe\n",
    "df"
   ]
  },
  {
   "cell_type": "markdown",
   "metadata": {},
   "source": [
    "### Positive tweets"
   ]
  },
  {
   "cell_type": "code",
   "execution_count": 22,
   "metadata": {
    "ExecuteTime": {
     "end_time": "2021-08-27T21:06:47.446620Z",
     "start_time": "2021-08-27T21:06:47.436456Z"
    }
   },
   "outputs": [
    {
     "name": "stdout",
     "output_type": "stream",
     "text": [
      "Printing positive tweets:\n",
      "\n",
      "1) Top 5 Most Viewed Teaser - Trailer in first 24 hours globally. \n",
      "\n",
      "🌟Spiderman: No-way home: 355 million. \n",
      "\n",
      "🌟 Avengers - End Game: 289 million. \n",
      "\n",
      "🌟 Avengers - Infinity War: 230 million. \n",
      "\n",
      "🌟 The Lion King (2019): 224.6 million. \n",
      "\n",
      "🌟 It chapter 1 (2017): 197 million.\n",
      "\n",
      "2) : STOPPP OP ASKED MARK IF HE WATCHED THE NEW SPIDERMAN TRAILER AND THIS WAS HIS REACTION 😭\n",
      "\n",
      "\n",
      "3) Probably going to binge watch Spiderman too in preparation for No Way Home. Spiderman 1, 2, 3, TASM 1&amp;2, Homecoming, Far From Home. All of it\n",
      "\n",
      "4) ShowerThoughts episode 1: \n",
      "Okay so, DrStrange has reversed time so that knowbody remembers PeterParker is SpiderMan right?\n",
      " So does that mean, Tony is back alive because time got reversed?!?  SpiderManNoWayHome Marvel \n",
      "\n",
      "5) I need to rewatch Spiderman into the Spiderverse because that movie is so damn good.\n",
      "\n",
      "6) 1 21  Yh I love TH Spiderman regardless. I just pointed one thing that I wanted to change. His characterisation of Peter is my favourite of the live-action Spideys. You can see he's a young and humble teen who is always willing to learn and improve.\n",
      "\n",
      "7) 360: so now u have Japan ( who stole spiderman ) \n",
      "you have weinstein zuckerbergs ( trying to draw NEW marvel comics which lo…\n",
      "\n",
      "8) More like Spiderman: No Way Am I Seeing This From Home\n",
      "\n",
      "9) : So today I bought my son some Spidey socks for being good today. When I was driving home with them..SPIDEY WAS THERE walki…\n",
      "\n",
      "10) : Spiderman or Gumby? 🤔\n",
      "\n",
      " is no stranger to nicknames... But which one is his favorite?\n",
      "\n",
      "USOpen \n",
      "\n",
      "11) so now u have Japan ( who stole spiderman ) \n",
      "you have weinstein zuckerbergs ( trying to draw NEW marvel comics which looks like $hit now  )\n",
      "u  have all kinds of gender bending because of the new staff bergs in Marvel , Do u understand what Hollywood is trying to do to marvel now?\n",
      "\n",
      "12) _witts  👍 so am i lmao , would be an amazing time for spiderman fans if it happened\n",
      "\n",
      "13) : The troubling morality of the latest SpiderMan / MCU movie FarfromHome \n",
      "\n",
      "Perspective via  👇\n",
      "\n",
      "\n",
      "\n",
      "14) : The Greatest Scene in Any Spiderman movie… idc what yall say dont @ me.  \n",
      "\n",
      "15) _Eclipsed Yeah, If I have to be honest, I have to agree because I feel his spiderman is good ish but I do feel everyone give him a too much credit\n",
      "\n",
      "16) : A fine addition  \n",
      "\n",
      "17) This new Spiderman movie is going to be WILD. \n",
      "\n",
      "18) _Direct: SpiderMan's Iron Spider helmet from AvengersEndgame has received an official new Marvel Legends helmet replica! Photos &amp;…\n",
      "\n",
      "19) So  y’all real smart about not making yalls villains be women’s?... I just think we’re worried about pussy powers 😂🗣💯 Spiderman marvel ironman BlackWidow DoctorStrangeInTheMultiverseOfMadness CaptainAmerica BlackPanther AvengersEndgame\n",
      "\n",
      "20) : Spiderman or Gumby? 🤔\n",
      "\n",
      " is no stranger to nicknames... But which one is his favorite?\n",
      "\n",
      "USOpen \n",
      "\n",
      "21)  I'd die happily if they let Sam Rami finish Spiderman 4, too much to ask tho\n",
      "\n",
      "22) : STOPPP OP ASKED MARK IF HE WATCHED THE NEW SPIDERMAN TRAILER AND THIS WAS HIS REACTION 😭\n",
      "\n",
      "\n",
      "23)  Ahhh man, PS2 games was what I grew up with. Bit too young for the PS1 era of games so for me looooove PS2\n",
      "From that list mine would be \n",
      "$5 Smackdown Shut your mouth\n",
      "$4 Tony Hawk Underground &amp; GTA Vice City\n",
      "$1 Spiderman 2 &amp; Simpsons hit and run.\n",
      "Spiderman 2 on PS2 was phenomenal\n",
      "\n",
      "24) : Spiderman or Gumby? 🤔\n",
      "\n",
      " is no stranger to nicknames... But which one is his favorite?\n",
      "\n",
      "USOpen \n",
      "\n",
      "25)  Last one, Tom Holland is very likable as Spiderman. :) Didn’t think anyone could take out Toby, sorry bro. It was good but Tom has it from here.\n",
      "\n",
      "26) : Spiderman no way home better have a scene like this . JUST ONE. \n",
      "\n",
      "27) _Direct: SpiderMan's Iron Spider helmet from AvengersEndgame has received an official new Marvel Legends helmet replica! Photos &amp;…\n",
      "\n",
      "28) : This is still one of my favourite spiderman shots- it just perfectly shows the burden of responsibility Peter feels and…\n",
      "\n",
      "29)  people treat that as gospel since it’s the first spiderman movie. they didn’t have OG live-action films from the 80s like Batman and Superman did for people to be assholes about I think\n",
      "\n",
      "30) : Spiderman or Gumby? 🤔\n",
      "\n",
      " is no stranger to nicknames... But which one is his favorite?\n",
      "\n",
      "USOpen \n",
      "\n",
      "31) : The meme shows a Spiderman figure sitting on a damaged cake, his hands against the wall. But, it is the ironic caption that had so…\n",
      "\n",
      "32) : The Greatest Scene in Any Spiderman movie… idc what yall say dont @ me.  \n",
      "\n",
      "33) : Whos your personal favorite Spiderman villain? No wrong answers here. \n",
      "\n",
      "34) : if tobey maguire isn't your favorite spiderman then we can't be friends\n",
      "\n",
      "35) I just realized that in the MCU, Spiderman's uncle Ben is actually... Joe Pesci! :O\n",
      "\n",
      "36) REWATCHING THE AMAZING SPIDERMAN\n",
      "\n",
      "37) : STOPPP OP ASKED MARK IF HE WATCHED THE NEW SPIDERMAN TRAILER AND THIS WAS HIS REACTION 😭\n",
      "\n",
      "\n",
      "38) : STOPPP OP ASKED MARK IF HE WATCHED THE NEW SPIDERMAN TRAILER AND THIS WAS HIS REACTION 😭\n",
      "\n",
      "\n",
      "39) wheres dmc? ratchet and clank? sly cooper? smt? silent hill? do better next time.\n",
      "\n",
      "anyways. kingdom hearts, mgs3, spiderman 2, mvc2, and fuckin. i dunno. i buy a cup of coffee with the last $5. this sucks. \n",
      "\n",
      "40) Bro Green Goblin is and will forever be the best Villain in a Spiderman movie + This movie was so mature and violent so different from the MCU world (obviously cause Spiderman belonged to Sony back then) \n",
      "\n",
      "41) @__TheGale__ Then they change the whole schematic on collecting by dropping same Spiderman in different poses with no artist being given mention. Sad that DC artist aren't getting paid but their collectibles are more distinct, valuable and definitive then Marvels whole line.\n",
      "\n",
      "42)  thank u im glad my og spiderman moots agree leah\n",
      "\n",
      "43) Just a quick and simple edit I thought of, may go back and touch it up and add more Spiderman NoWayHome SpidermanNoWayHome   1996   \n",
      "\n",
      "44) : STOPPP OP ASKED MARK IF HE WATCHED THE NEW SPIDERMAN TRAILER AND THIS WAS HIS REACTION 😭\n",
      "\n",
      "\n"
     ]
    }
   ],
   "source": [
    "# Printing positive tweets \n",
    "print('Printing positive tweets:\\n')\n",
    "j=1\n",
    "sortedDF = df.sort_values(by=['Polarity']) #Sort the tweets\n",
    "for i in range(0, sortedDF.shape[0] ):\n",
    "    if( sortedDF['Analysis'][i] == 'Positive'):\n",
    "        print(str(j) + ') '+ sortedDF['Tweets'][i])\n",
    "        print()\n",
    "        j= j+1"
   ]
  },
  {
   "cell_type": "markdown",
   "metadata": {},
   "source": [
    "### Negative Tweets"
   ]
  },
  {
   "cell_type": "code",
   "execution_count": 23,
   "metadata": {
    "ExecuteTime": {
     "end_time": "2021-08-27T21:06:50.802300Z",
     "start_time": "2021-08-27T21:06:50.794690Z"
    }
   },
   "outputs": [
    {
     "name": "stdout",
     "output_type": "stream",
     "text": [
      "Printing negative tweets:\n",
      "\n",
      "1) A piece done for Marvel licensing. Not sure if it's ever been used or not but you might see it from time to time on Marvel merch out in the world. SpiderManNoWayHome Spiderman MarvelStudios \n",
      "\n",
      "2) _thomas  21 Yeah me either, it's just a relatively minor plot point in his character arc, but i can't help it\n",
      "I like when spiderman feels like a casual dude, and his suits being billion dollar killing machines don't fit in with that narrative\n",
      "\n",
      "3) my partner, sitting through me talking about spiderman, knowing ill let them hit as soon as i shut up \n",
      "\n",
      "4) mark getting excited about the spiderman trailer i am SAD\n",
      "\n",
      "5) : Waiting on insomniac to update us about the spiderman game \n",
      "\n"
     ]
    }
   ],
   "source": [
    "# Printing negative tweets  \n",
    "print('Printing negative tweets:\\n')\n",
    "j=1\n",
    "sortedDF = df.sort_values(by=['Polarity'],ascending=False) #Sort the tweets\n",
    "for i in range(0, sortedDF.shape[0] ):\n",
    "    if( sortedDF['Analysis'][i] == 'Negative'):\n",
    "        print(str(j) + ') '+sortedDF['Tweets'][i])\n",
    "        print()\n",
    "        j=j+1"
   ]
  },
  {
   "cell_type": "markdown",
   "metadata": {},
   "source": [
    "### Basic Charts"
   ]
  },
  {
   "cell_type": "code",
   "execution_count": 24,
   "metadata": {
    "ExecuteTime": {
     "end_time": "2021-08-27T21:06:55.263868Z",
     "start_time": "2021-08-27T21:06:54.338962Z"
    }
   },
   "outputs": [
    {
     "data": {
      "image/png": "[encoded data removed]",
      "text/plain": [
       "<Figure size 576x432 with 1 Axes>"
      ]
     },
     "metadata": {
      "needs_background": "light"
     },
     "output_type": "display_data"
    }
   ],
   "source": [
    "# Plotting \n",
    "plt.figure(figsize=(8,6)) \n",
    "for i in range(0, df.shape[0]):\n",
    "    plt.scatter(df[\"Polarity\"][i], df[\"Subjectivity\"][i], color='Blue') \n",
    "# plt.scatter(x,y,color)   \n",
    "plt.title('Sentiment Analysis') \n",
    "plt.xlabel('Polarity') \n",
    "plt.ylabel('Subjectivity') \n",
    "plt.show()"
   ]
  },
  {
   "cell_type": "code",
   "execution_count": 25,
   "metadata": {
    "ExecuteTime": {
     "end_time": "2021-08-27T21:06:56.026252Z",
     "start_time": "2021-08-27T21:06:56.019608Z"
    }
   },
   "outputs": [
    {
     "data": {
      "text/plain": [
       "44.0"
      ]
     },
     "execution_count": 25,
     "metadata": {},
     "output_type": "execute_result"
    }
   ],
   "source": [
    "# Print the percentage of positive tweets\n",
    "ptweets = df[df.Analysis == 'Positive']\n",
    "ptweets = ptweets['Tweets']\n",
    "ptweets\n",
    "\n",
    "round( (ptweets.shape[0] / df.shape[0]) * 100 , 1)"
   ]
  },
  {
   "cell_type": "code",
   "execution_count": 26,
   "metadata": {
    "ExecuteTime": {
     "end_time": "2021-08-27T21:06:56.589461Z",
     "start_time": "2021-08-27T21:06:56.582755Z"
    }
   },
   "outputs": [
    {
     "data": {
      "text/plain": [
       "5.0"
      ]
     },
     "execution_count": 26,
     "metadata": {},
     "output_type": "execute_result"
    }
   ],
   "source": [
    "# Print the percentage of negative tweets\n",
    "ntweets = df[df.Analysis == 'Negative']\n",
    "ntweets = ntweets['Tweets']\n",
    "ntweets\n",
    "\n",
    "round( (ntweets.shape[0] / df.shape[0]) * 100, 1)"
   ]
  },
  {
   "cell_type": "code",
   "execution_count": 27,
   "metadata": {
    "ExecuteTime": {
     "end_time": "2021-08-27T21:06:59.294372Z",
     "start_time": "2021-08-27T21:06:59.287561Z"
    }
   },
   "outputs": [
    {
     "data": {
      "text/plain": [
       "Neutral     51\n",
       "Positive    44\n",
       "Negative     5\n",
       "Name: Analysis, dtype: int64"
      ]
     },
     "execution_count": 27,
     "metadata": {},
     "output_type": "execute_result"
    }
   ],
   "source": [
    "# Show the value counts\n",
    "df['Analysis'].value_counts()"
   ]
  },
  {
   "cell_type": "code",
   "execution_count": 28,
   "metadata": {
    "ExecuteTime": {
     "end_time": "2021-08-27T21:07:02.463128Z",
     "start_time": "2021-08-27T21:07:02.357291Z"
    }
   },
   "outputs": [
    {
     "data": {
      "image/png": "[encoded data removed]",
      "text/plain": [
       "<Figure size 432x288 with 1 Axes>"
      ]
     },
     "metadata": {
      "needs_background": "light"
     },
     "output_type": "display_data"
    }
   ],
   "source": [
    "# Plotting and visualizing the counts\n",
    "plt.title('Sentiment Analysis')\n",
    "plt.xlabel('Sentiment')\n",
    "plt.ylabel('Counts')\n",
    "df['Analysis'].value_counts().plot(kind = 'bar')\n",
    "plt.show()"
   ]
  },
  {
   "cell_type": "markdown",
   "metadata": {},
   "source": [
    "# Tweets in another language "
   ]
  },
  {
   "cell_type": "markdown",
   "metadata": {},
   "source": [
    "## Get Twitter Data"
   ]
  },
  {
   "cell_type": "code",
   "execution_count": 86,
   "metadata": {
    "ExecuteTime": {
     "end_time": "2021-09-01T02:15:39.514342Z",
     "start_time": "2021-09-01T02:15:38.455876Z"
    }
   },
   "outputs": [
    {
     "name": "stdout",
     "output_type": "stream",
     "text": [
      "Show the 5 recent tweets:\n",
      "\n",
      "1) Aunque @HernanGomezB se empeña en ser mi J.J. Jameson, yo me niego a ser su Spiderman... https://t.co/qiQ7uZZDaC\n",
      "\n",
      "2) EL NUEVO TRAILER DE SPIDERMAN SGSCDMXLAV NO LO PUEDO CREER\n",
      "\n",
      "3) wtf la nueva de spiderman https://t.co/AkK6P5eW0w\n",
      "\n",
      "4) RT @venusdrugs: todos los nenes pasan por una etapa en la que usan exclusivamente un traje de spiderman\n",
      "\n",
      "5) @C0COA___ vas a copiar su ensayo de 30 hojas del  por que el spiderman de Tom Holland es el peor spiderman 🤨?\n",
      "\n"
     ]
    }
   ],
   "source": [
    "# Extract 100 tweets from the twitter user\n",
    "posts = api.search(q=\"Spiderman\", count = 100, lang=\"es\", tweet_mode=\"extended\", result_type=\"mixed\")\n",
    "\n",
    "#  Print the last 5 tweets\n",
    "print(\"Show the 5 recent tweets:\\n\")\n",
    "i=1\n",
    "for tweet in posts[:5]:\n",
    "    print(str(i) +') '+ tweet.full_text + '\\n')\n",
    "    i= i+1"
   ]
  },
  {
   "cell_type": "code",
   "execution_count": 141,
   "metadata": {
    "ExecuteTime": {
     "end_time": "2021-08-28T00:12:23.449328Z",
     "start_time": "2021-08-28T00:12:23.443339Z"
    }
   },
   "outputs": [],
   "source": [
    "# Create a function to translate\n",
    "def translateTweet(text):\n",
    "    try: \n",
    "        return TextBlob(text).translate(from_lang='es',to='en')\n",
    "    except:\n",
    "        return text\n",
    "\n",
    "# Create function to store translated tweets in a DataFrame\n",
    "def translateTweets(tweets): \n",
    "    translated_tweets =[]\n",
    "    for tweet in tweets:\n",
    "        translated_tweets.append(translateTweet((tweet.full_text)))\n",
    "    df = pd.DataFrame(translated_tweets)\n",
    "    df['Tweets_Translated'] = pd.Series(df.fillna('').values.tolist()).str.join('')\n",
    "    df.drop(df.columns.difference(['Tweets_Translated']), 1, inplace=True)\n",
    "    return df"
   ]
  },
  {
   "cell_type": "code",
   "execution_count": 110,
   "metadata": {
    "ExecuteTime": {
     "end_time": "2021-08-27T23:41:18.389228Z",
     "start_time": "2021-08-27T23:41:00.923842Z"
    }
   },
   "outputs": [
    {
     "data": {
      "text/html": [
       "<div>\n",
       "<style scoped>\n",
       "    .dataframe tbody tr th:only-of-type {\n",
       "        vertical-align: middle;\n",
       "    }\n",
       "\n",
       "    .dataframe tbody tr th {\n",
       "        vertical-align: top;\n",
       "    }\n",
       "\n",
       "    .dataframe thead th {\n",
       "        text-align: right;\n",
       "    }\n",
       "</style>\n",
       "<table border=\"1\" class=\"dataframe\">\n",
       "  <thead>\n",
       "    <tr style=\"text-align: right;\">\n",
       "      <th></th>\n",
       "      <th>Tweets</th>\n",
       "      <th>Tweets_Translated</th>\n",
       "    </tr>\n",
       "  </thead>\n",
       "  <tbody>\n",
       "    <tr>\n",
       "      <th>0</th>\n",
       "      <td>Oye @JuanSGuarnizo sé que te gusta mucho Spide...</td>\n",
       "      <td>Hey @JuanSGuarnizo I know you like Spiderman a...</td>\n",
       "    </tr>\n",
       "    <tr>\n",
       "      <th>1</th>\n",
       "      <td>TÚ hiciste que esto sucediera. #SpiderMan #Sin...</td>\n",
       "      <td>YOU made this happen. #SpiderMan #SinCaminoACa...</td>\n",
       "    </tr>\n",
       "    <tr>\n",
       "      <th>2</th>\n",
       "      <td>\"¿Qué acaba de pasar?\"\\nMira el adelanto ofici...</td>\n",
       "      <td>\"What has happened?\"\\nCheck out the official p...</td>\n",
       "    </tr>\n",
       "    <tr>\n",
       "      <th>3</th>\n",
       "      <td>RT @FoshyMT: El carisma que tiene Spiderman lo...</td>\n",
       "      <td>RT @FoshyMT: The charisma that Spiderman has i...</td>\n",
       "    </tr>\n",
       "    <tr>\n",
       "      <th>4</th>\n",
       "      <td>RT @SicarioRojas: acabo de volver a ver spider...</td>\n",
       "      <td>RT @SicarioRojas: I just saw spiderman 2 by to...</td>\n",
       "    </tr>\n",
       "  </tbody>\n",
       "</table>\n",
       "</div>"
      ],
      "text/plain": [
       "                                              Tweets  \\\n",
       "0  Oye @JuanSGuarnizo sé que te gusta mucho Spide...   \n",
       "1  TÚ hiciste que esto sucediera. #SpiderMan #Sin...   \n",
       "2  \"¿Qué acaba de pasar?\"\\nMira el adelanto ofici...   \n",
       "3  RT @FoshyMT: El carisma que tiene Spiderman lo...   \n",
       "4  RT @SicarioRojas: acabo de volver a ver spider...   \n",
       "\n",
       "                                   Tweets_Translated  \n",
       "0  Hey @JuanSGuarnizo I know you like Spiderman a...  \n",
       "1  YOU made this happen. #SpiderMan #SinCaminoACa...  \n",
       "2  \"What has happened?\"\\nCheck out the official p...  \n",
       "3  RT @FoshyMT: The charisma that Spiderman has i...  \n",
       "4  RT @SicarioRojas: I just saw spiderman 2 by to...  "
      ]
     },
     "execution_count": 110,
     "metadata": {},
     "output_type": "execute_result"
    }
   ],
   "source": [
    "# Create a dataframe with a column called Tweets and Tweets_Translated\n",
    "df = pd.DataFrame([tweet.full_text for tweet in posts], columns=['Tweets']) \n",
    "df['Tweets_Translated'] = translateTweets(posts)\n",
    "# Show the first 5 rows of data\n",
    "df.head()"
   ]
  },
  {
   "cell_type": "code",
   "execution_count": 111,
   "metadata": {
    "ExecuteTime": {
     "end_time": "2021-08-27T23:41:24.170870Z",
     "start_time": "2021-08-27T23:41:24.156055Z"
    }
   },
   "outputs": [
    {
     "data": {
      "text/html": [
       "<div>\n",
       "<style scoped>\n",
       "    .dataframe tbody tr th:only-of-type {\n",
       "        vertical-align: middle;\n",
       "    }\n",
       "\n",
       "    .dataframe tbody tr th {\n",
       "        vertical-align: top;\n",
       "    }\n",
       "\n",
       "    .dataframe thead th {\n",
       "        text-align: right;\n",
       "    }\n",
       "</style>\n",
       "<table border=\"1\" class=\"dataframe\">\n",
       "  <thead>\n",
       "    <tr style=\"text-align: right;\">\n",
       "      <th></th>\n",
       "      <th>Tweets</th>\n",
       "      <th>Tweets_Translated</th>\n",
       "    </tr>\n",
       "  </thead>\n",
       "  <tbody>\n",
       "    <tr>\n",
       "      <th>0</th>\n",
       "      <td>Oye  sé que te gusta mucho Spiderman, mira est...</td>\n",
       "      <td>Hey  I know you like Spiderman a lot, look at ...</td>\n",
       "    </tr>\n",
       "    <tr>\n",
       "      <th>1</th>\n",
       "      <td>TÚ hiciste que esto sucediera. SpiderMan SinCa...</td>\n",
       "      <td>YOU made this happen. SpiderMan SinCaminoACasa...</td>\n",
       "    </tr>\n",
       "    <tr>\n",
       "      <th>2</th>\n",
       "      <td>\"¿Qué acaba de pasar?\"\\nMira el adelanto ofici...</td>\n",
       "      <td>\"What has happened?\"\\nCheck out the official p...</td>\n",
       "    </tr>\n",
       "    <tr>\n",
       "      <th>3</th>\n",
       "      <td>: El carisma que tiene Spiderman lo tienen poc...</td>\n",
       "      <td>: The charisma that Spiderman has is few, what...</td>\n",
       "    </tr>\n",
       "    <tr>\n",
       "      <th>4</th>\n",
       "      <td>: acabo de volver a ver spiderman 2 de tobey m...</td>\n",
       "      <td>: I just saw spiderman 2 by tobey maguire agai...</td>\n",
       "    </tr>\n",
       "    <tr>\n",
       "      <th>...</th>\n",
       "      <td>...</td>\n",
       "      <td>...</td>\n",
       "    </tr>\n",
       "    <tr>\n",
       "      <th>95</th>\n",
       "      <td>Yo no entro al cine desde spiderman 3</td>\n",
       "      <td>I have not been to the cinema since spiderman 3</td>\n",
       "    </tr>\n",
       "    <tr>\n",
       "      <th>96</th>\n",
       "      <td>1: si wey, ya vimos q te gusta spiderman ya du...</td>\n",
       "      <td>@ lesliefalcon01: yes wey, we already saw that...</td>\n",
       "    </tr>\n",
       "    <tr>\n",
       "      <th>97</th>\n",
       "      <td>El número 1 de Amazing Spiderman!!! PS5Share, ...</td>\n",
       "      <td>The number 1 of Amazing Spiderman !!!  PS5Shar...</td>\n",
       "    </tr>\n",
       "    <tr>\n",
       "      <th>98</th>\n",
       "      <td>_: Vamos a ver Spiderman No Way Home y cada qu...</td>\n",
       "      <td>_: We are going to see Spiderman No Way Home a...</td>\n",
       "    </tr>\n",
       "    <tr>\n",
       "      <th>99</th>\n",
       "      <td>Alex, te paso una escena de Spiderman: nwh si ...</td>\n",
       "      <td>Alex, I'll give you a scene from Spiderman: nw...</td>\n",
       "    </tr>\n",
       "  </tbody>\n",
       "</table>\n",
       "<p>100 rows × 2 columns</p>\n",
       "</div>"
      ],
      "text/plain": [
       "                                               Tweets  \\\n",
       "0   Oye  sé que te gusta mucho Spiderman, mira est...   \n",
       "1   TÚ hiciste que esto sucediera. SpiderMan SinCa...   \n",
       "2   \"¿Qué acaba de pasar?\"\\nMira el adelanto ofici...   \n",
       "3   : El carisma que tiene Spiderman lo tienen poc...   \n",
       "4   : acabo de volver a ver spiderman 2 de tobey m...   \n",
       "..                                                ...   \n",
       "95              Yo no entro al cine desde spiderman 3   \n",
       "96  1: si wey, ya vimos q te gusta spiderman ya du...   \n",
       "97  El número 1 de Amazing Spiderman!!! PS5Share, ...   \n",
       "98  _: Vamos a ver Spiderman No Way Home y cada qu...   \n",
       "99  Alex, te paso una escena de Spiderman: nwh si ...   \n",
       "\n",
       "                                    Tweets_Translated  \n",
       "0   Hey  I know you like Spiderman a lot, look at ...  \n",
       "1   YOU made this happen. SpiderMan SinCaminoACasa...  \n",
       "2   \"What has happened?\"\\nCheck out the official p...  \n",
       "3   : The charisma that Spiderman has is few, what...  \n",
       "4   : I just saw spiderman 2 by tobey maguire agai...  \n",
       "..                                                ...  \n",
       "95    I have not been to the cinema since spiderman 3  \n",
       "96  @ lesliefalcon01: yes wey, we already saw that...  \n",
       "97  The number 1 of Amazing Spiderman !!!  PS5Shar...  \n",
       "98  _: We are going to see Spiderman No Way Home a...  \n",
       "99  Alex, I'll give you a scene from Spiderman: nw...  \n",
       "\n",
       "[100 rows x 2 columns]"
      ]
     },
     "execution_count": 111,
     "metadata": {},
     "output_type": "execute_result"
    }
   ],
   "source": [
    "# Clean the tweets\n",
    "df['Tweets'] = df['Tweets'].apply(cleanTxt)\n",
    "df['Tweets_Translated'] = df['Tweets_Translated'].apply(cleanTxt)\n",
    "# Show the cleaned tweets\n",
    "df"
   ]
  },
  {
   "cell_type": "markdown",
   "metadata": {},
   "source": [
    "## Sentiments"
   ]
  },
  {
   "cell_type": "code",
   "execution_count": 112,
   "metadata": {
    "ExecuteTime": {
     "end_time": "2021-08-27T23:41:26.864097Z",
     "start_time": "2021-08-27T23:41:26.796231Z"
    }
   },
   "outputs": [
    {
     "data": {
      "text/html": [
       "<div>\n",
       "<style scoped>\n",
       "    .dataframe tbody tr th:only-of-type {\n",
       "        vertical-align: middle;\n",
       "    }\n",
       "\n",
       "    .dataframe tbody tr th {\n",
       "        vertical-align: top;\n",
       "    }\n",
       "\n",
       "    .dataframe thead th {\n",
       "        text-align: right;\n",
       "    }\n",
       "</style>\n",
       "<table border=\"1\" class=\"dataframe\">\n",
       "  <thead>\n",
       "    <tr style=\"text-align: right;\">\n",
       "      <th></th>\n",
       "      <th>Tweets</th>\n",
       "      <th>Tweets_Translated</th>\n",
       "      <th>Subjectivity</th>\n",
       "      <th>Polarity</th>\n",
       "    </tr>\n",
       "  </thead>\n",
       "  <tbody>\n",
       "    <tr>\n",
       "      <th>0</th>\n",
       "      <td>Oye  sé que te gusta mucho Spiderman, mira est...</td>\n",
       "      <td>Hey  I know you like Spiderman a lot, look at ...</td>\n",
       "      <td>0.00</td>\n",
       "      <td>0.000</td>\n",
       "    </tr>\n",
       "    <tr>\n",
       "      <th>1</th>\n",
       "      <td>TÚ hiciste que esto sucediera. SpiderMan SinCa...</td>\n",
       "      <td>YOU made this happen. SpiderMan SinCaminoACasa...</td>\n",
       "      <td>0.35</td>\n",
       "      <td>0.375</td>\n",
       "    </tr>\n",
       "    <tr>\n",
       "      <th>2</th>\n",
       "      <td>\"¿Qué acaba de pasar?\"\\nMira el adelanto ofici...</td>\n",
       "      <td>\"What has happened?\"\\nCheck out the official p...</td>\n",
       "      <td>0.00</td>\n",
       "      <td>0.000</td>\n",
       "    </tr>\n",
       "    <tr>\n",
       "      <th>3</th>\n",
       "      <td>: El carisma que tiene Spiderman lo tienen poc...</td>\n",
       "      <td>: The charisma that Spiderman has is few, what...</td>\n",
       "      <td>0.10</td>\n",
       "      <td>-0.200</td>\n",
       "    </tr>\n",
       "    <tr>\n",
       "      <th>4</th>\n",
       "      <td>: acabo de volver a ver spiderman 2 de tobey m...</td>\n",
       "      <td>: I just saw spiderman 2 by tobey maguire agai...</td>\n",
       "      <td>1.00</td>\n",
       "      <td>1.000</td>\n",
       "    </tr>\n",
       "    <tr>\n",
       "      <th>...</th>\n",
       "      <td>...</td>\n",
       "      <td>...</td>\n",
       "      <td>...</td>\n",
       "      <td>...</td>\n",
       "    </tr>\n",
       "    <tr>\n",
       "      <th>95</th>\n",
       "      <td>Yo no entro al cine desde spiderman 3</td>\n",
       "      <td>I have not been to the cinema since spiderman 3</td>\n",
       "      <td>0.00</td>\n",
       "      <td>0.000</td>\n",
       "    </tr>\n",
       "    <tr>\n",
       "      <th>96</th>\n",
       "      <td>1: si wey, ya vimos q te gusta spiderman ya du...</td>\n",
       "      <td>@ lesliefalcon01: yes wey, we already saw that...</td>\n",
       "      <td>0.00</td>\n",
       "      <td>0.000</td>\n",
       "    </tr>\n",
       "    <tr>\n",
       "      <th>97</th>\n",
       "      <td>El número 1 de Amazing Spiderman!!! PS5Share, ...</td>\n",
       "      <td>The number 1 of Amazing Spiderman !!!  PS5Shar...</td>\n",
       "      <td>0.90</td>\n",
       "      <td>1.000</td>\n",
       "    </tr>\n",
       "    <tr>\n",
       "      <th>98</th>\n",
       "      <td>_: Vamos a ver Spiderman No Way Home y cada qu...</td>\n",
       "      <td>_: We are going to see Spiderman No Way Home a...</td>\n",
       "      <td>0.00</td>\n",
       "      <td>0.000</td>\n",
       "    </tr>\n",
       "    <tr>\n",
       "      <th>99</th>\n",
       "      <td>Alex, te paso una escena de Spiderman: nwh si ...</td>\n",
       "      <td>Alex, I'll give you a scene from Spiderman: nw...</td>\n",
       "      <td>0.00</td>\n",
       "      <td>0.000</td>\n",
       "    </tr>\n",
       "  </tbody>\n",
       "</table>\n",
       "<p>100 rows × 4 columns</p>\n",
       "</div>"
      ],
      "text/plain": [
       "                                               Tweets  \\\n",
       "0   Oye  sé que te gusta mucho Spiderman, mira est...   \n",
       "1   TÚ hiciste que esto sucediera. SpiderMan SinCa...   \n",
       "2   \"¿Qué acaba de pasar?\"\\nMira el adelanto ofici...   \n",
       "3   : El carisma que tiene Spiderman lo tienen poc...   \n",
       "4   : acabo de volver a ver spiderman 2 de tobey m...   \n",
       "..                                                ...   \n",
       "95              Yo no entro al cine desde spiderman 3   \n",
       "96  1: si wey, ya vimos q te gusta spiderman ya du...   \n",
       "97  El número 1 de Amazing Spiderman!!! PS5Share, ...   \n",
       "98  _: Vamos a ver Spiderman No Way Home y cada qu...   \n",
       "99  Alex, te paso una escena de Spiderman: nwh si ...   \n",
       "\n",
       "                                    Tweets_Translated  Subjectivity  Polarity  \n",
       "0   Hey  I know you like Spiderman a lot, look at ...          0.00     0.000  \n",
       "1   YOU made this happen. SpiderMan SinCaminoACasa...          0.35     0.375  \n",
       "2   \"What has happened?\"\\nCheck out the official p...          0.00     0.000  \n",
       "3   : The charisma that Spiderman has is few, what...          0.10    -0.200  \n",
       "4   : I just saw spiderman 2 by tobey maguire agai...          1.00     1.000  \n",
       "..                                                ...           ...       ...  \n",
       "95    I have not been to the cinema since spiderman 3          0.00     0.000  \n",
       "96  @ lesliefalcon01: yes wey, we already saw that...          0.00     0.000  \n",
       "97  The number 1 of Amazing Spiderman !!!  PS5Shar...          0.90     1.000  \n",
       "98  _: We are going to see Spiderman No Way Home a...          0.00     0.000  \n",
       "99  Alex, I'll give you a scene from Spiderman: nw...          0.00     0.000  \n",
       "\n",
       "[100 rows x 4 columns]"
      ]
     },
     "execution_count": 112,
     "metadata": {},
     "output_type": "execute_result"
    }
   ],
   "source": [
    "# Create two new columns 'Subjectivity' & 'Polarity'\n",
    "df['Subjectivity'] = df['Tweets_Translated'].apply(getSubjectivity)\n",
    "df['Polarity'] = df['Tweets_Translated'].apply(getPolarity)\n",
    "\n",
    "# Show the new dataframe with columns 'Subjectivity' & 'Polarity'\n",
    "df"
   ]
  },
  {
   "cell_type": "markdown",
   "metadata": {
    "ExecuteTime": {
     "end_time": "2021-08-27T23:30:23.243060Z",
     "start_time": "2021-08-27T23:30:23.238298Z"
    }
   },
   "source": [
    "## Analysis"
   ]
  },
  {
   "cell_type": "code",
   "execution_count": 113,
   "metadata": {
    "ExecuteTime": {
     "end_time": "2021-08-27T23:41:28.824623Z",
     "start_time": "2021-08-27T23:41:28.805179Z"
    }
   },
   "outputs": [
    {
     "data": {
      "text/html": [
       "<div>\n",
       "<style scoped>\n",
       "    .dataframe tbody tr th:only-of-type {\n",
       "        vertical-align: middle;\n",
       "    }\n",
       "\n",
       "    .dataframe tbody tr th {\n",
       "        vertical-align: top;\n",
       "    }\n",
       "\n",
       "    .dataframe thead th {\n",
       "        text-align: right;\n",
       "    }\n",
       "</style>\n",
       "<table border=\"1\" class=\"dataframe\">\n",
       "  <thead>\n",
       "    <tr style=\"text-align: right;\">\n",
       "      <th></th>\n",
       "      <th>Tweets</th>\n",
       "      <th>Tweets_Translated</th>\n",
       "      <th>Subjectivity</th>\n",
       "      <th>Polarity</th>\n",
       "      <th>Analysis</th>\n",
       "    </tr>\n",
       "  </thead>\n",
       "  <tbody>\n",
       "    <tr>\n",
       "      <th>0</th>\n",
       "      <td>Oye  sé que te gusta mucho Spiderman, mira est...</td>\n",
       "      <td>Hey  I know you like Spiderman a lot, look at ...</td>\n",
       "      <td>0.00</td>\n",
       "      <td>0.000</td>\n",
       "      <td>Neutral</td>\n",
       "    </tr>\n",
       "    <tr>\n",
       "      <th>1</th>\n",
       "      <td>TÚ hiciste que esto sucediera. SpiderMan SinCa...</td>\n",
       "      <td>YOU made this happen. SpiderMan SinCaminoACasa...</td>\n",
       "      <td>0.35</td>\n",
       "      <td>0.375</td>\n",
       "      <td>Positive</td>\n",
       "    </tr>\n",
       "    <tr>\n",
       "      <th>2</th>\n",
       "      <td>\"¿Qué acaba de pasar?\"\\nMira el adelanto ofici...</td>\n",
       "      <td>\"What has happened?\"\\nCheck out the official p...</td>\n",
       "      <td>0.00</td>\n",
       "      <td>0.000</td>\n",
       "      <td>Neutral</td>\n",
       "    </tr>\n",
       "    <tr>\n",
       "      <th>3</th>\n",
       "      <td>: El carisma que tiene Spiderman lo tienen poc...</td>\n",
       "      <td>: The charisma that Spiderman has is few, what...</td>\n",
       "      <td>0.10</td>\n",
       "      <td>-0.200</td>\n",
       "      <td>Negative</td>\n",
       "    </tr>\n",
       "    <tr>\n",
       "      <th>4</th>\n",
       "      <td>: acabo de volver a ver spiderman 2 de tobey m...</td>\n",
       "      <td>: I just saw spiderman 2 by tobey maguire agai...</td>\n",
       "      <td>1.00</td>\n",
       "      <td>1.000</td>\n",
       "      <td>Positive</td>\n",
       "    </tr>\n",
       "    <tr>\n",
       "      <th>...</th>\n",
       "      <td>...</td>\n",
       "      <td>...</td>\n",
       "      <td>...</td>\n",
       "      <td>...</td>\n",
       "      <td>...</td>\n",
       "    </tr>\n",
       "    <tr>\n",
       "      <th>95</th>\n",
       "      <td>Yo no entro al cine desde spiderman 3</td>\n",
       "      <td>I have not been to the cinema since spiderman 3</td>\n",
       "      <td>0.00</td>\n",
       "      <td>0.000</td>\n",
       "      <td>Neutral</td>\n",
       "    </tr>\n",
       "    <tr>\n",
       "      <th>96</th>\n",
       "      <td>1: si wey, ya vimos q te gusta spiderman ya du...</td>\n",
       "      <td>@ lesliefalcon01: yes wey, we already saw that...</td>\n",
       "      <td>0.00</td>\n",
       "      <td>0.000</td>\n",
       "      <td>Neutral</td>\n",
       "    </tr>\n",
       "    <tr>\n",
       "      <th>97</th>\n",
       "      <td>El número 1 de Amazing Spiderman!!! PS5Share, ...</td>\n",
       "      <td>The number 1 of Amazing Spiderman !!!  PS5Shar...</td>\n",
       "      <td>0.90</td>\n",
       "      <td>1.000</td>\n",
       "      <td>Positive</td>\n",
       "    </tr>\n",
       "    <tr>\n",
       "      <th>98</th>\n",
       "      <td>_: Vamos a ver Spiderman No Way Home y cada qu...</td>\n",
       "      <td>_: We are going to see Spiderman No Way Home a...</td>\n",
       "      <td>0.00</td>\n",
       "      <td>0.000</td>\n",
       "      <td>Neutral</td>\n",
       "    </tr>\n",
       "    <tr>\n",
       "      <th>99</th>\n",
       "      <td>Alex, te paso una escena de Spiderman: nwh si ...</td>\n",
       "      <td>Alex, I'll give you a scene from Spiderman: nw...</td>\n",
       "      <td>0.00</td>\n",
       "      <td>0.000</td>\n",
       "      <td>Neutral</td>\n",
       "    </tr>\n",
       "  </tbody>\n",
       "</table>\n",
       "<p>100 rows × 5 columns</p>\n",
       "</div>"
      ],
      "text/plain": [
       "                                               Tweets  \\\n",
       "0   Oye  sé que te gusta mucho Spiderman, mira est...   \n",
       "1   TÚ hiciste que esto sucediera. SpiderMan SinCa...   \n",
       "2   \"¿Qué acaba de pasar?\"\\nMira el adelanto ofici...   \n",
       "3   : El carisma que tiene Spiderman lo tienen poc...   \n",
       "4   : acabo de volver a ver spiderman 2 de tobey m...   \n",
       "..                                                ...   \n",
       "95              Yo no entro al cine desde spiderman 3   \n",
       "96  1: si wey, ya vimos q te gusta spiderman ya du...   \n",
       "97  El número 1 de Amazing Spiderman!!! PS5Share, ...   \n",
       "98  _: Vamos a ver Spiderman No Way Home y cada qu...   \n",
       "99  Alex, te paso una escena de Spiderman: nwh si ...   \n",
       "\n",
       "                                    Tweets_Translated  Subjectivity  Polarity  \\\n",
       "0   Hey  I know you like Spiderman a lot, look at ...          0.00     0.000   \n",
       "1   YOU made this happen. SpiderMan SinCaminoACasa...          0.35     0.375   \n",
       "2   \"What has happened?\"\\nCheck out the official p...          0.00     0.000   \n",
       "3   : The charisma that Spiderman has is few, what...          0.10    -0.200   \n",
       "4   : I just saw spiderman 2 by tobey maguire agai...          1.00     1.000   \n",
       "..                                                ...           ...       ...   \n",
       "95    I have not been to the cinema since spiderman 3          0.00     0.000   \n",
       "96  @ lesliefalcon01: yes wey, we already saw that...          0.00     0.000   \n",
       "97  The number 1 of Amazing Spiderman !!!  PS5Shar...          0.90     1.000   \n",
       "98  _: We are going to see Spiderman No Way Home a...          0.00     0.000   \n",
       "99  Alex, I'll give you a scene from Spiderman: nw...          0.00     0.000   \n",
       "\n",
       "    Analysis  \n",
       "0    Neutral  \n",
       "1   Positive  \n",
       "2    Neutral  \n",
       "3   Negative  \n",
       "4   Positive  \n",
       "..       ...  \n",
       "95   Neutral  \n",
       "96   Neutral  \n",
       "97  Positive  \n",
       "98   Neutral  \n",
       "99   Neutral  \n",
       "\n",
       "[100 rows x 5 columns]"
      ]
     },
     "execution_count": 113,
     "metadata": {},
     "output_type": "execute_result"
    }
   ],
   "source": [
    "df['Analysis'] = df['Polarity'].apply(getAnalysis)\n",
    "# Show the dataframe\n",
    "df"
   ]
  },
  {
   "cell_type": "markdown",
   "metadata": {},
   "source": [
    "### Positive tweets"
   ]
  },
  {
   "cell_type": "code",
   "execution_count": 114,
   "metadata": {
    "ExecuteTime": {
     "end_time": "2021-08-27T23:41:31.506172Z",
     "start_time": "2021-08-27T23:41:31.494799Z"
    }
   },
   "outputs": [
    {
     "name": "stdout",
     "output_type": "stream",
     "text": [
      "Printing positive tweets:\n",
      "\n",
      "1) TÚ hiciste que esto sucediera. SpiderMan SinCaminoACasa rompió el récord mundial de 24 horas del tráiler más visto y comentado de la historia. ¡Gracias! \n",
      "\n",
      "2) : acabo de volver a ver spiderman 2 de tobey maguire y estoy en condiciones de decir que es la mayor obra maestra del cine…\n",
      "\n",
      "3) : Y asi comenzó esta locura hermosa, llamaba Spiderman 🕷💕\n",
      "\n",
      "SpiderManNoWayHome \n",
      "\n",
      "4) : hola soy malena, tengo 15 y soy fan de marvel desde hace ya bastante tiempo. me gusta tanto xmen como el mcu, pero mis pe…\n",
      "\n",
      "5) 666: Ayer estaba viendo la original de Spiderman con mis padres y tuve que contenerme la risa muy bestia cuando llegamos a e…\n",
      "\n",
      "6) 666: Ayer estaba viendo la original de Spiderman con mis padres y tuve que contenerme la risa muy bestia cuando llegamos a e…\n",
      "\n",
      "7) : Están raros los subtitulos del trailer de Spiderman \n",
      "\n",
      "8) Está bien que les guste el Spiderman de Tobey Maguire, pero hay que estar pero llevado del crack para decir que su interpretación es fiel al personaje.\n",
      "\n",
      "9) 666: Ayer estaba viendo la original de Spiderman con mis padres y tuve que contenerme la risa muy bestia cuando llegamos a e…\n",
      "\n",
      "10) 666: Ayer estaba viendo la original de Spiderman con mis padres y tuve que contenerme la risa muy bestia cuando llegamos a e…\n",
      "\n",
      "11) 666: Ayer estaba viendo la original de Spiderman con mis padres y tuve que contenerme la risa muy bestia cuando llegamos a e…\n",
      "\n",
      "12) : Mi razón principal para ver Spiderman No Way Home es cómo reacciona este wey al enterarse que Peter Parker es Spiderman h…\n",
      "\n",
      "13) 666: Ayer estaba viendo la original de Spiderman con mis padres y tuve que contenerme la risa muy bestia cuando llegamos a e…\n",
      "\n",
      "14) 666: Ayer estaba viendo la original de Spiderman con mis padres y tuve que contenerme la risa muy bestia cuando llegamos a e…\n",
      "\n",
      "15) Dios me dio la vida pero los vatos que hacen parkour y se sienten Spiderman me quitan las ganas de vivirla.\n",
      "\n",
      "16) : 🔹️Tobey Maguire - Buen Peter, buen Spiderman\n",
      "🔹️Andrew Garfield - Buen Spiderman\n",
      "🔹️Tom Holland- Buenos días \n",
      "\n",
      "Había perdid…\n",
      "\n",
      "17) _007:  -Mejor Pelicula De Dc: Superman (1978 y 1980) y Batman etapas Burton/Nolan.\n",
      "-Mejor Pelicula Del DCEU: Wonder…\n",
      "\n",
      "18) Los que dicen que los brazos mecánicos controlan al Doc Ock no vieron bien Spiderman 2. Si bien estos lo manipulan, Octavius siempre es consciente de sus actos\n",
      "\n",
      "19) 666: Ayer estaba viendo la original de Spiderman con mis padres y tuve que contenerme la risa muy bestia cuando llegamos a e…\n",
      "\n",
      "20) Acho yo amo a spiderman 🕷 como nadie en este cabron mundo real \n",
      "\n",
      "21) 666: Ayer estaba viendo la original de Spiderman con mis padres y tuve que contenerme la risa muy bestia cuando llegamos a e…\n",
      "\n",
      "22) 666: Ayer estaba viendo la original de Spiderman con mis padres y tuve que contenerme la risa muy bestia cuando llegamos a e…\n",
      "\n",
      "23) El Bicho en el united, Messi con la 30, capaz vuelve el spiderman de Tobey al cine, alto viaje en el tiempo\n",
      "\n",
      "24) Spiderman Far from home (2019)\n",
      "Viendo esta peli y las escenas post créditos puedes imaginarte que no han pensado mucho que hacer con el MCU una vez acabado el tema de las gemas del infinito. \n",
      "\n",
      "25) Solo diré una palabra Amazing Spiderman :) \n",
      "\n",
      "26) Este es el mejor arte de spiderman no acepto críticas \n",
      "\n",
      "27) Claro, y como es  spiderman, las hamburguesas las acompañan con una Spriter Parker \n",
      "\n",
      "28) Ninguna de Spiderman va a tener tantos memes como las originales. \n",
      "\n",
      "29) : Y asi comenzó esta locura hermosa, llamaba Spiderman 🕷💕\n",
      "\n",
      "SpiderManNoWayHome \n",
      "\n",
      "30) Pos bueno me llamo Luis, 19, vivo en España. Soy fan desde pequeño. Empezó con el Spiderman de Tobey. 5 añitos y ya todo obsesionado. Y si acertaste, mi personaje favorito es Spidey. Y si, el UCM es fabuloso. Pos nada si quieres hablame estaré encantado de leerte.\n",
      "integracionUCM \n",
      "\n",
      "31) 333: Ahorita todos muy fan de spiderman y no se saben la de witsi witsi araña🕸🕷\n",
      "Que lamentable….!! 🤦🏻‍♂️\n",
      "\n",
      "32) : Hola, soy zara y soy de Venezuela. Adoro Marvel y siempre ando pendiente de todo lo relacionado a ello. Spiderman, Ave…\n",
      "\n",
      "33) : Y asi comenzó esta locura hermosa, llamaba Spiderman 🕷💕\n",
      "\n",
      "SpiderManNoWayHome \n",
      "\n",
      "34) y es genial porque se presenta al torneo de lucha libre como spiderman mostrando sus poderes y su rostro (a parte de mostrarlos también en el insti) para que después sea un superhéroe y nadie sepa quién es jdjsdjdjdj\n",
      "\n",
      "35) Ahorita todos muy fan de spiderman y no se saben la de witsi witsi araña🕸🕷\n",
      "Que lamentable….!! 🤦🏻‍♂️\n",
      "\n",
      "36) Que pasada la escena de las grúas en The Amazing Spiderman\n",
      "\n",
      "37) _C_99: A ver si muy fan de spiderman dime ¿cuándo metió su primer gol en el Toluca?\n",
      "\n",
      "38) : En la nueva Spiderman vemos los problemas de intentar montar un trabajo y que se devuelva.\n",
      "\n",
      "39) _C_99: A ver si muy fan de spiderman dime ¿cuándo metió su primer gol en el Toluca?\n",
      "\n",
      "40) _C_99: A ver si muy fan de spiderman dime ¿cuándo metió su primer gol en el Toluca?\n",
      "\n",
      "41) Spiderman 2 lleva 30 minutos y tiene más perlas de vida que la mitad del MCU\n",
      "\n",
      "42) Spiderman 2: la escena icónica de la película para mí es la pelea del tren, que lo vean no solo como súper héroe sino como lo que es: un chico de 20 tantos llevando todo el peso en sus hombros. Y defender su identidad y a él \n",
      "\n",
      "43) : Grande  y  en el trailer de Spiderman jaja \n",
      "\n",
      "44) 🕰 A las 8 pm vamos a hablar sobre Spiderman.\n",
      "\n",
      "✅ 'Geek's Club' con Marto GoAg ().\n",
      "\n",
      "➡ Averigua mas sobre este heroe que ha marcado a mas de una generación. \n",
      "\n",
      "🌐 En  \n",
      "\n",
      "45)  _sama Es por eso que superior spiderman es SUPERIOR\n",
      "\n",
      "46) El número 1 de Amazing Spiderman!!! PS5Share, MarvelsSpiderManMilesMorales \n",
      "\n"
     ]
    }
   ],
   "source": [
    "# Printing positive tweets \n",
    "print('Printing positive tweets:\\n')\n",
    "j=1\n",
    "sortedDF = df.sort_values(by=['Polarity']) #Sort the tweets\n",
    "for i in range(0, sortedDF.shape[0] ):\n",
    "    if( sortedDF['Analysis'][i] == 'Positive'):\n",
    "        print(str(j) + ') '+ sortedDF['Tweets'][i])\n",
    "        print()\n",
    "        j= j+1"
   ]
  },
  {
   "cell_type": "markdown",
   "metadata": {},
   "source": [
    "### Negative Tweets "
   ]
  },
  {
   "cell_type": "code",
   "execution_count": 135,
   "metadata": {
    "ExecuteTime": {
     "end_time": "2021-08-28T00:06:55.715321Z",
     "start_time": "2021-08-28T00:06:55.701756Z"
    }
   },
   "outputs": [
    {
     "name": "stdout",
     "output_type": "stream",
     "text": [
      "Printing negative tweets:\n",
      "\n",
      "1) : El carisma que tiene Spiderman lo tienen pocos, que hombre por dios\n",
      "\n",
      "2) : Ya tengo con quien ir a ver Spiderman no way home y ustedes pobres?\n",
      "\n",
      "3) El carisma que tiene Spiderman lo tienen pocos, que hombre por dios \n",
      "\n",
      "4) q complicada la cronología de spiderman, innecesario meterle tantos universos\n",
      "\n",
      "5) : Las primeras películas de Spiderman no están ni en Playdede ni en Cuevana.... Triste\n",
      "\n",
      "6) Mi papá me dijo que quería ir a ver Spiderman NWH pero que no le entendió al tráiler.\n",
      "Siento que fallé como fan de Marvel.\n",
      "\n"
     ]
    }
   ],
   "source": [
    "# Printing negative tweets  \n",
    "print('Printing negative tweets:\\n')\n",
    "j=1\n",
    "sortedDF = df.sort_values(by=['Polarity'],ascending=False) #Sort the tweets\n",
    "for i in range(0, sortedDF.shape[0] ):\n",
    "    if( sortedDF['Analysis'][i] == 'Negative'):\n",
    "        print(str(j) + ') '+sortedDF['Tweets'][i])\n",
    "        print()\n",
    "        j=j+1"
   ]
  },
  {
   "cell_type": "markdown",
   "metadata": {},
   "source": [
    "### Basic Charts "
   ]
  },
  {
   "cell_type": "code",
   "execution_count": 116,
   "metadata": {
    "ExecuteTime": {
     "end_time": "2021-08-27T23:42:05.157643Z",
     "start_time": "2021-08-27T23:42:04.085841Z"
    }
   },
   "outputs": [
    {
     "data": {
      "image/png": "[encoded data removed]",
      "text/plain": [
       "<Figure size 576x432 with 1 Axes>"
      ]
     },
     "metadata": {
      "needs_background": "light"
     },
     "output_type": "display_data"
    }
   ],
   "source": [
    "# Plotting \n",
    "plt.figure(figsize=(8,6)) \n",
    "for i in range(0, df.shape[0]):\n",
    "    plt.scatter(df[\"Polarity\"][i], df[\"Subjectivity\"][i], color='Blue') \n",
    "# plt.scatter(x,y,color)   \n",
    "plt.title('Sentiment Analysis') \n",
    "plt.xlabel('Polarity') \n",
    "plt.ylabel('Subjectivity') \n",
    "plt.show()"
   ]
  },
  {
   "cell_type": "code",
   "execution_count": 117,
   "metadata": {
    "ExecuteTime": {
     "end_time": "2021-08-27T23:42:10.560116Z",
     "start_time": "2021-08-27T23:42:10.550989Z"
    }
   },
   "outputs": [
    {
     "data": {
      "text/plain": [
       "46.0"
      ]
     },
     "execution_count": 117,
     "metadata": {},
     "output_type": "execute_result"
    }
   ],
   "source": [
    "# Print the percentage of positive tweets\n",
    "ptweets = df[df.Analysis == 'Positive']\n",
    "ptweets = ptweets['Tweets']\n",
    "ptweets\n",
    "\n",
    "round( (ptweets.shape[0] / df.shape[0]) * 100 , 1)"
   ]
  },
  {
   "cell_type": "code",
   "execution_count": 118,
   "metadata": {
    "ExecuteTime": {
     "end_time": "2021-08-27T23:42:11.561479Z",
     "start_time": "2021-08-27T23:42:11.554999Z"
    }
   },
   "outputs": [
    {
     "data": {
      "text/plain": [
       "6.0"
      ]
     },
     "execution_count": 118,
     "metadata": {},
     "output_type": "execute_result"
    }
   ],
   "source": [
    "# Print the percentage of negative tweets\n",
    "ntweets = df[df.Analysis == 'Negative']\n",
    "ntweets = ntweets['Tweets']\n",
    "ntweets\n",
    "\n",
    "round( (ntweets.shape[0] / df.shape[0]) * 100, 1)"
   ]
  },
  {
   "cell_type": "code",
   "execution_count": 119,
   "metadata": {
    "ExecuteTime": {
     "end_time": "2021-08-27T23:42:14.191459Z",
     "start_time": "2021-08-27T23:42:14.183341Z"
    }
   },
   "outputs": [
    {
     "data": {
      "text/plain": [
       "Neutral     48\n",
       "Positive    46\n",
       "Negative     6\n",
       "Name: Analysis, dtype: int64"
      ]
     },
     "execution_count": 119,
     "metadata": {},
     "output_type": "execute_result"
    }
   ],
   "source": [
    "# Show the value counts\n",
    "df['Analysis'].value_counts()"
   ]
  },
  {
   "cell_type": "code",
   "execution_count": 121,
   "metadata": {
    "ExecuteTime": {
     "end_time": "2021-08-27T23:44:58.460531Z",
     "start_time": "2021-08-27T23:44:58.451850Z"
    }
   },
   "outputs": [
    {
     "name": "stdout",
     "output_type": "stream",
     "text": [
      "ID: 1430862859177766915\n",
      "2021-08-26 12:01:04\n",
      "CooLifeGame\n",
      "Oye @JuanSGuarnizo sé que te gusta mucho Spiderman, mira esto que te va a antojar bastante! 😊 https://t.co/NogePTQtO4\n",
      "\n",
      "\n",
      "ID: 1430999284317523970\n",
      "2021-08-26 21:03:10\n",
      "SonyPicturesMX\n",
      "TÚ hiciste que esto sucediera. #SpiderMan #SinCaminoACasa rompió el récord mundial de 24 horas del tráiler más visto y comentado de la historia. ¡Gracias! https://t.co/YPpZxGpA9K\n",
      "\n",
      "\n",
      "ID: 1429992823949045767\n",
      "2021-08-24 02:23:51\n",
      "MarvelLATAM\n",
      "\"¿Qué acaba de pasar?\"\n",
      "Mira el adelanto oficial de #SpiderMan: Sin Camino a Casa, exclusivamente en cines el 17 de diciembre. #SpiderManNoWayHome https://t.co/bzSEftE0tY\n",
      "\n",
      "\n"
     ]
    }
   ],
   "source": [
    "# Just a reference to get info from api \n",
    "for info in posts[:3]:\n",
    "    print(\"ID: {}\".format(info.id))\n",
    "    print(info.created_at)\n",
    "    print(info.user.screen_name)\n",
    "    print(info.full_text)\n",
    "    print(\"\\n\")"
   ]
  },
  {
   "cell_type": "code",
   "execution_count": 120,
   "metadata": {
    "ExecuteTime": {
     "end_time": "2021-08-27T23:42:18.258679Z",
     "start_time": "2021-08-27T23:42:18.033307Z"
    }
   },
   "outputs": [
    {
     "data": {
      "image/png": "[encoded data removed]",
      "text/plain": [
       "<Figure size 432x288 with 1 Axes>"
      ]
     },
     "metadata": {
      "needs_background": "light"
     },
     "output_type": "display_data"
    }
   ],
   "source": [
    "# Plotting and visualizing the counts\n",
    "plt.title('Sentiment Analysis')\n",
    "plt.xlabel('Sentiment')\n",
    "plt.ylabel('Counts')\n",
    "df['Analysis'].value_counts().plot(kind = 'bar')\n",
    "plt.show()"
   ]
  },
  {
   "cell_type": "code",
   "execution_count": null,
   "metadata": {},
   "outputs": [],
   "source": []
  }
 ],
 "metadata": {
  "interpreter": {
   "hash": "2dd29bd7ae8eaa38ddec084e7f8be7821a324e781635c5e25a7ff3835cc42677"
  },
  "kernelspec": {
   "display_name": "Python 3",
   "language": "python",
   "name": "python3"
  },
  "language_info": {
   "codemirror_mode": {
    "name": "ipython",
    "version": 3
   },
   "file_extension": ".py",
   "mimetype": "text/x-python",
   "name": "python",
   "nbconvert_exporter": "python",
   "pygments_lexer": "ipython3",
   "version": "3.7.4"
  },
  "nbTranslate": {
   "displayLangs": [
    "en",
    "es"
   ],
   "hotkey": "alt-t",
   "langInMainMenu": true,
   "sourceLang": "es",
   "targetLang": "en",
   "useGoogleTranslate": true
  },
  "toc": {
   "base_numbering": 1,
   "nav_menu": {},
   "number_sections": true,
   "sideBar": true,
   "skip_h1_title": false,
   "title_cell": "Table of Contents",
   "title_sidebar": "Contents",
   "toc_cell": false,
   "toc_position": {
    "height": "calc(100% - 180px)",
    "left": "10px",
    "top": "150px",
    "width": "340.3999938964844px"
   },
   "toc_section_display": true,
   "toc_window_display": true
  }
 },
 "nbformat": 4,
 "nbformat_minor": 4
}
