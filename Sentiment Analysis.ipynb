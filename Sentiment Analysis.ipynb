{
 "cells": [
  {
   "cell_type": "markdown",
   "metadata": {},
   "source": [
    "# Twitter Sentiment Analysis"
   ]
  },
  {
   "cell_type": "markdown",
   "metadata": {},
   "source": [
    "This notebook is based on this [guide](https://betterprogramming.pub/twitter-sentiment-analysis-15d8892c0082)"
   ]
  },
  {
   "cell_type": "code",
   "execution_count": 1,
   "metadata": {
    "ExecuteTime": {
     "end_time": "2021-08-27T21:05:59.339181Z",
     "start_time": "2021-08-27T21:05:55.803434Z"
    }
   },
   "outputs": [],
   "source": [
    "import tweepy\n",
    "from textblob import TextBlob \n",
    "import pandas as pd \n",
    "import matplotlib.pyplot as plt "
   ]
  },
  {
   "cell_type": "code",
   "execution_count": 2,
   "metadata": {
    "ExecuteTime": {
     "end_time": "2021-08-27T21:06:00.058839Z",
     "start_time": "2021-08-27T21:06:00.042139Z"
    }
   },
   "outputs": [],
   "source": [
    "# Twitter Api Credentials\n",
    "import os\n",
    "from dotenv import load_dotenv\n",
    "load_dotenv()\n",
    "\n",
    "apiKey = os.getenv('CONSUMER_KEY')\n",
    "apiSecretKey= os.getenv('CONSUMER_SECRET')\n",
    "accessToken= os.getenv('ACCESS_TOKEN')\n",
    "AccessTokenSecret = os.getenv('ACCESS_TOKEN_SECRET')"
   ]
  },
  {
   "cell_type": "code",
   "execution_count": 3,
   "metadata": {
    "ExecuteTime": {
     "end_time": "2021-08-27T21:06:00.877625Z",
     "start_time": "2021-08-27T21:06:00.873736Z"
    }
   },
   "outputs": [],
   "source": [
    "# create authentication object\n",
    "authenticate = tweepy.OAuthHandler(apiKey, apiSecretKey)\n",
    "authenticate.set_access_token(accessToken, AccessTokenSecret )\n",
    "api= tweepy.API(authenticate)"
   ]
  },
  {
   "cell_type": "markdown",
   "metadata": {},
   "source": [
    "# By User\n",
    "## Get Twitter Data"
   ]
  },
  {
   "cell_type": "code",
   "execution_count": 4,
   "metadata": {
    "ExecuteTime": {
     "end_time": "2021-08-27T21:06:05.343203Z",
     "start_time": "2021-08-27T21:06:04.326704Z"
    }
   },
   "outputs": [
    {
     "name": "stdout",
     "output_type": "stream",
     "text": [
      "Show the 5 recent tweets:\n",
      "\n",
      "1) The COVID-19 pandemic reminds us why eradicating malaria is essential. Many of the building blocks we need to fight malaria and prevent the next pandemic are the same. #MosquitoWeek https://t.co/lC9eeVIN3J\n",
      "\n",
      "2) Mosquitoes are the deadliest animal to humans, but @WMPglobal scientists have discovered how to transform one kind of mosquito into a surprisingly powerful ally: https://t.co/T6H9dVZYP0. #MosquitoWeek🦟 https://t.co/ENiniSLs9z\n",
      "\n",
      "3) I don’t think any of @ronnychieng’s innovations are ready to bring to market. Luckily, brilliant scientists and engineers around the world have developed hundreds of exciting solutions that will prevent illness and death: https://t.co/x9lELyhV4c https://t.co/asEKuLP3Zm\n",
      "\n",
      "4) I applaud David Vélez and Mariel Reyes’s pledge to dedicate the majority of their wealth to creating opportunity for the most vulnerable Latin American children and young adults: https://t.co/LGZ23efAVO\n",
      "\n",
      "5) Thank you to @DonorsChoose, and to all 40,255 of you who donated in support of students and teachers across the country. https://t.co/g2ABbfFtsl\n",
      "\n"
     ]
    }
   ],
   "source": [
    "# Extract 100 tweets from the twitter user\n",
    "posts = api.user_timeline(screen_name=\"BillGates\", count = 100, lang =\"en\", tweet_mode=\"extended\")\n",
    "\n",
    "#  Print the last 5 tweets\n",
    "print(\"Show the 5 recent tweets:\\n\")\n",
    "i=1\n",
    "for tweet in posts[:5]:\n",
    "    print(str(i) +') '+ tweet.full_text + '\\n')\n",
    "    i= i+1"
   ]
  },
  {
   "cell_type": "code",
   "execution_count": 5,
   "metadata": {
    "ExecuteTime": {
     "end_time": "2021-08-27T21:06:08.526055Z",
     "start_time": "2021-08-27T21:06:08.512220Z"
    }
   },
   "outputs": [
    {
     "data": {
      "text/html": [
       "<div>\n",
       "<style scoped>\n",
       "    .dataframe tbody tr th:only-of-type {\n",
       "        vertical-align: middle;\n",
       "    }\n",
       "\n",
       "    .dataframe tbody tr th {\n",
       "        vertical-align: top;\n",
       "    }\n",
       "\n",
       "    .dataframe thead th {\n",
       "        text-align: right;\n",
       "    }\n",
       "</style>\n",
       "<table border=\"1\" class=\"dataframe\">\n",
       "  <thead>\n",
       "    <tr style=\"text-align: right;\">\n",
       "      <th></th>\n",
       "      <th>Tweets</th>\n",
       "    </tr>\n",
       "  </thead>\n",
       "  <tbody>\n",
       "    <tr>\n",
       "      <th>0</th>\n",
       "      <td>The COVID-19 pandemic reminds us why eradicati...</td>\n",
       "    </tr>\n",
       "    <tr>\n",
       "      <th>1</th>\n",
       "      <td>Mosquitoes are the deadliest animal to humans,...</td>\n",
       "    </tr>\n",
       "    <tr>\n",
       "      <th>2</th>\n",
       "      <td>I don’t think any of @ronnychieng’s innovation...</td>\n",
       "    </tr>\n",
       "    <tr>\n",
       "      <th>3</th>\n",
       "      <td>I applaud David Vélez and Mariel Reyes’s pledg...</td>\n",
       "    </tr>\n",
       "    <tr>\n",
       "      <th>4</th>\n",
       "      <td>Thank you to @DonorsChoose, and to all 40,255 ...</td>\n",
       "    </tr>\n",
       "  </tbody>\n",
       "</table>\n",
       "</div>"
      ],
      "text/plain": [
       "                                              Tweets\n",
       "0  The COVID-19 pandemic reminds us why eradicati...\n",
       "1  Mosquitoes are the deadliest animal to humans,...\n",
       "2  I don’t think any of @ronnychieng’s innovation...\n",
       "3  I applaud David Vélez and Mariel Reyes’s pledg...\n",
       "4  Thank you to @DonorsChoose, and to all 40,255 ..."
      ]
     },
     "execution_count": 5,
     "metadata": {},
     "output_type": "execute_result"
    }
   ],
   "source": [
    "# Create a dataframe with a column called Tweets\n",
    "df = pd.DataFrame([tweet.full_text for tweet in posts], columns=['Tweets'])\n",
    "# Show the first 5 rows of data\n",
    "df.head()"
   ]
  },
  {
   "cell_type": "code",
   "execution_count": 6,
   "metadata": {
    "ExecuteTime": {
     "end_time": "2021-08-27T21:06:12.418942Z",
     "start_time": "2021-08-27T21:06:12.405473Z"
    }
   },
   "outputs": [
    {
     "data": {
      "text/html": [
       "<div>\n",
       "<style scoped>\n",
       "    .dataframe tbody tr th:only-of-type {\n",
       "        vertical-align: middle;\n",
       "    }\n",
       "\n",
       "    .dataframe tbody tr th {\n",
       "        vertical-align: top;\n",
       "    }\n",
       "\n",
       "    .dataframe thead th {\n",
       "        text-align: right;\n",
       "    }\n",
       "</style>\n",
       "<table border=\"1\" class=\"dataframe\">\n",
       "  <thead>\n",
       "    <tr style=\"text-align: right;\">\n",
       "      <th></th>\n",
       "      <th>Tweets</th>\n",
       "    </tr>\n",
       "  </thead>\n",
       "  <tbody>\n",
       "    <tr>\n",
       "      <th>0</th>\n",
       "      <td>The COVID-19 pandemic reminds us why eradicati...</td>\n",
       "    </tr>\n",
       "    <tr>\n",
       "      <th>1</th>\n",
       "      <td>Mosquitoes are the deadliest animal to humans,...</td>\n",
       "    </tr>\n",
       "    <tr>\n",
       "      <th>2</th>\n",
       "      <td>I don’t think any of ’s innovations are ready ...</td>\n",
       "    </tr>\n",
       "    <tr>\n",
       "      <th>3</th>\n",
       "      <td>I applaud David Vélez and Mariel Reyes’s pledg...</td>\n",
       "    </tr>\n",
       "    <tr>\n",
       "      <th>4</th>\n",
       "      <td>Thank you to , and to all 40,255 of you who do...</td>\n",
       "    </tr>\n",
       "    <tr>\n",
       "      <th>...</th>\n",
       "      <td>...</td>\n",
       "    </tr>\n",
       "    <tr>\n",
       "      <th>95</th>\n",
       "      <td>: It's WorldTBDay\\n\\nEven as we battle COVID19...</td>\n",
       "    </tr>\n",
       "    <tr>\n",
       "      <th>96</th>\n",
       "      <td>I’m answering your questions now on :</td>\n",
       "    </tr>\n",
       "    <tr>\n",
       "      <th>97</th>\n",
       "      <td>In this video, I answered some really good que...</td>\n",
       "    </tr>\n",
       "    <tr>\n",
       "      <th>98</th>\n",
       "      <td>After you finish your pancakes this morning, c...</td>\n",
       "    </tr>\n",
       "    <tr>\n",
       "      <th>99</th>\n",
       "      <td>It’s deeply unfair that the people who contrib...</td>\n",
       "    </tr>\n",
       "  </tbody>\n",
       "</table>\n",
       "<p>100 rows × 1 columns</p>\n",
       "</div>"
      ],
      "text/plain": [
       "                                               Tweets\n",
       "0   The COVID-19 pandemic reminds us why eradicati...\n",
       "1   Mosquitoes are the deadliest animal to humans,...\n",
       "2   I don’t think any of ’s innovations are ready ...\n",
       "3   I applaud David Vélez and Mariel Reyes’s pledg...\n",
       "4   Thank you to , and to all 40,255 of you who do...\n",
       "..                                                ...\n",
       "95  : It's WorldTBDay\\n\\nEven as we battle COVID19...\n",
       "96            I’m answering your questions now on :  \n",
       "97  In this video, I answered some really good que...\n",
       "98  After you finish your pancakes this morning, c...\n",
       "99  It’s deeply unfair that the people who contrib...\n",
       "\n",
       "[100 rows x 1 columns]"
      ]
     },
     "execution_count": 6,
     "metadata": {},
     "output_type": "execute_result"
    }
   ],
   "source": [
    "# Create a function to clean the tweets\n",
    "import re\n",
    "def cleanTxt(text):\n",
    " text = re.sub('@[A-Za-z0–9]+', '', text) #Removing @mentions\n",
    " text = re.sub('#', '', text) # Removing '#' hash tag\n",
    " text = re.sub('RT[\\s]+', '', text) # Removing RT\n",
    " text = re.sub('https?:\\/\\/\\S+', '', text) # Removing hyperlink\n",
    " \n",
    " return text\n",
    "\n",
    "\n",
    "# Clean the tweets\n",
    "df['Tweets'] = df['Tweets'].apply(cleanTxt)\n",
    "\n",
    "# Show the cleaned tweets\n",
    "df"
   ]
  },
  {
   "cell_type": "markdown",
   "metadata": {},
   "source": [
    "## Sentiments"
   ]
  },
  {
   "cell_type": "code",
   "execution_count": 7,
   "metadata": {
    "ExecuteTime": {
     "end_time": "2021-08-27T21:06:23.480382Z",
     "start_time": "2021-08-27T21:06:23.361742Z"
    }
   },
   "outputs": [
    {
     "data": {
      "text/html": [
       "<div>\n",
       "<style scoped>\n",
       "    .dataframe tbody tr th:only-of-type {\n",
       "        vertical-align: middle;\n",
       "    }\n",
       "\n",
       "    .dataframe tbody tr th {\n",
       "        vertical-align: top;\n",
       "    }\n",
       "\n",
       "    .dataframe thead th {\n",
       "        text-align: right;\n",
       "    }\n",
       "</style>\n",
       "<table border=\"1\" class=\"dataframe\">\n",
       "  <thead>\n",
       "    <tr style=\"text-align: right;\">\n",
       "      <th></th>\n",
       "      <th>Tweets</th>\n",
       "      <th>Subjectivity</th>\n",
       "      <th>Polarity</th>\n",
       "    </tr>\n",
       "  </thead>\n",
       "  <tbody>\n",
       "    <tr>\n",
       "      <th>0</th>\n",
       "      <td>The COVID-19 pandemic reminds us why eradicati...</td>\n",
       "      <td>0.231250</td>\n",
       "      <td>0.125000</td>\n",
       "    </tr>\n",
       "    <tr>\n",
       "      <th>1</th>\n",
       "      <td>Mosquitoes are the deadliest animal to humans,...</td>\n",
       "      <td>0.950000</td>\n",
       "      <td>0.450000</td>\n",
       "    </tr>\n",
       "    <tr>\n",
       "      <th>2</th>\n",
       "      <td>I don’t think any of ’s innovations are ready ...</td>\n",
       "      <td>0.650000</td>\n",
       "      <td>0.375000</td>\n",
       "    </tr>\n",
       "    <tr>\n",
       "      <th>3</th>\n",
       "      <td>I applaud David Vélez and Mariel Reyes’s pledg...</td>\n",
       "      <td>0.350000</td>\n",
       "      <td>0.025000</td>\n",
       "    </tr>\n",
       "    <tr>\n",
       "      <th>4</th>\n",
       "      <td>Thank you to , and to all 40,255 of you who do...</td>\n",
       "      <td>0.000000</td>\n",
       "      <td>0.000000</td>\n",
       "    </tr>\n",
       "    <tr>\n",
       "      <th>...</th>\n",
       "      <td>...</td>\n",
       "      <td>...</td>\n",
       "      <td>...</td>\n",
       "    </tr>\n",
       "    <tr>\n",
       "      <th>95</th>\n",
       "      <td>: It's WorldTBDay\\n\\nEven as we battle COVID19...</td>\n",
       "      <td>0.000000</td>\n",
       "      <td>0.000000</td>\n",
       "    </tr>\n",
       "    <tr>\n",
       "      <th>96</th>\n",
       "      <td>I’m answering your questions now on :</td>\n",
       "      <td>0.000000</td>\n",
       "      <td>0.000000</td>\n",
       "    </tr>\n",
       "    <tr>\n",
       "      <th>97</th>\n",
       "      <td>In this video, I answered some really good que...</td>\n",
       "      <td>0.866667</td>\n",
       "      <td>0.566667</td>\n",
       "    </tr>\n",
       "    <tr>\n",
       "      <th>98</th>\n",
       "      <td>After you finish your pancakes this morning, c...</td>\n",
       "      <td>0.000000</td>\n",
       "      <td>0.000000</td>\n",
       "    </tr>\n",
       "    <tr>\n",
       "      <th>99</th>\n",
       "      <td>It’s deeply unfair that the people who contrib...</td>\n",
       "      <td>0.800000</td>\n",
       "      <td>-0.600000</td>\n",
       "    </tr>\n",
       "  </tbody>\n",
       "</table>\n",
       "<p>100 rows × 3 columns</p>\n",
       "</div>"
      ],
      "text/plain": [
       "                                               Tweets  Subjectivity  Polarity\n",
       "0   The COVID-19 pandemic reminds us why eradicati...      0.231250  0.125000\n",
       "1   Mosquitoes are the deadliest animal to humans,...      0.950000  0.450000\n",
       "2   I don’t think any of ’s innovations are ready ...      0.650000  0.375000\n",
       "3   I applaud David Vélez and Mariel Reyes’s pledg...      0.350000  0.025000\n",
       "4   Thank you to , and to all 40,255 of you who do...      0.000000  0.000000\n",
       "..                                                ...           ...       ...\n",
       "95  : It's WorldTBDay\\n\\nEven as we battle COVID19...      0.000000  0.000000\n",
       "96            I’m answering your questions now on :        0.000000  0.000000\n",
       "97  In this video, I answered some really good que...      0.866667  0.566667\n",
       "98  After you finish your pancakes this morning, c...      0.000000  0.000000\n",
       "99  It’s deeply unfair that the people who contrib...      0.800000 -0.600000\n",
       "\n",
       "[100 rows x 3 columns]"
      ]
     },
     "execution_count": 7,
     "metadata": {},
     "output_type": "execute_result"
    }
   ],
   "source": [
    "# Create a function to get the subjectivity\n",
    "def getSubjectivity(text):\n",
    "   return TextBlob(text).sentiment.subjectivity\n",
    "\n",
    "# Create a function to get the polarity\n",
    "def getPolarity(text):\n",
    "   return  TextBlob(text).sentiment.polarity\n",
    "\n",
    "\n",
    "# Create two new columns 'Subjectivity' & 'Polarity'\n",
    "df['Subjectivity'] = df['Tweets'].apply(getSubjectivity)\n",
    "df['Polarity'] = df['Tweets'].apply(getPolarity)\n",
    "\n",
    "# Show the new dataframe with columns 'Subjectivity' & 'Polarity'\n",
    "df"
   ]
  },
  {
   "cell_type": "markdown",
   "metadata": {},
   "source": [
    "## WordCloud"
   ]
  },
  {
   "cell_type": "code",
   "execution_count": 8,
   "metadata": {
    "ExecuteTime": {
     "end_time": "2021-08-27T21:06:25.445536Z",
     "start_time": "2021-08-27T21:06:25.009684Z"
    }
   },
   "outputs": [
    {
     "data": {
      "image/png": "[encoded data removed]",
      "text/plain": [
       "<Figure size 432x288 with 1 Axes>"
      ]
     },
     "metadata": {
      "needs_background": "light"
     },
     "output_type": "display_data"
    }
   ],
   "source": [
    "from wordcloud import WordCloud\n",
    "# word cloud visualization\n",
    "allWords = ' '.join([twts for twts in df['Tweets']])\n",
    "wordCloud = WordCloud(width=500, height=300, random_state=21, max_font_size=110).generate(allWords)\n",
    "\n",
    "\n",
    "plt.imshow(wordCloud, interpolation=\"bilinear\")\n",
    "plt.axis('off')\n",
    "plt.show()"
   ]
  },
  {
   "cell_type": "markdown",
   "metadata": {},
   "source": [
    "## Analysis"
   ]
  },
  {
   "cell_type": "code",
   "execution_count": 9,
   "metadata": {
    "ExecuteTime": {
     "end_time": "2021-08-27T21:06:26.637940Z",
     "start_time": "2021-08-27T21:06:26.622169Z"
    }
   },
   "outputs": [
    {
     "data": {
      "text/html": [
       "<div>\n",
       "<style scoped>\n",
       "    .dataframe tbody tr th:only-of-type {\n",
       "        vertical-align: middle;\n",
       "    }\n",
       "\n",
       "    .dataframe tbody tr th {\n",
       "        vertical-align: top;\n",
       "    }\n",
       "\n",
       "    .dataframe thead th {\n",
       "        text-align: right;\n",
       "    }\n",
       "</style>\n",
       "<table border=\"1\" class=\"dataframe\">\n",
       "  <thead>\n",
       "    <tr style=\"text-align: right;\">\n",
       "      <th></th>\n",
       "      <th>Tweets</th>\n",
       "      <th>Subjectivity</th>\n",
       "      <th>Polarity</th>\n",
       "      <th>Analysis</th>\n",
       "    </tr>\n",
       "  </thead>\n",
       "  <tbody>\n",
       "    <tr>\n",
       "      <th>0</th>\n",
       "      <td>The COVID-19 pandemic reminds us why eradicati...</td>\n",
       "      <td>0.231250</td>\n",
       "      <td>0.125000</td>\n",
       "      <td>Positive</td>\n",
       "    </tr>\n",
       "    <tr>\n",
       "      <th>1</th>\n",
       "      <td>Mosquitoes are the deadliest animal to humans,...</td>\n",
       "      <td>0.950000</td>\n",
       "      <td>0.450000</td>\n",
       "      <td>Positive</td>\n",
       "    </tr>\n",
       "    <tr>\n",
       "      <th>2</th>\n",
       "      <td>I don’t think any of ’s innovations are ready ...</td>\n",
       "      <td>0.650000</td>\n",
       "      <td>0.375000</td>\n",
       "      <td>Positive</td>\n",
       "    </tr>\n",
       "    <tr>\n",
       "      <th>3</th>\n",
       "      <td>I applaud David Vélez and Mariel Reyes’s pledg...</td>\n",
       "      <td>0.350000</td>\n",
       "      <td>0.025000</td>\n",
       "      <td>Positive</td>\n",
       "    </tr>\n",
       "    <tr>\n",
       "      <th>4</th>\n",
       "      <td>Thank you to , and to all 40,255 of you who do...</td>\n",
       "      <td>0.000000</td>\n",
       "      <td>0.000000</td>\n",
       "      <td>Neutral</td>\n",
       "    </tr>\n",
       "    <tr>\n",
       "      <th>...</th>\n",
       "      <td>...</td>\n",
       "      <td>...</td>\n",
       "      <td>...</td>\n",
       "      <td>...</td>\n",
       "    </tr>\n",
       "    <tr>\n",
       "      <th>95</th>\n",
       "      <td>: It's WorldTBDay\\n\\nEven as we battle COVID19...</td>\n",
       "      <td>0.000000</td>\n",
       "      <td>0.000000</td>\n",
       "      <td>Neutral</td>\n",
       "    </tr>\n",
       "    <tr>\n",
       "      <th>96</th>\n",
       "      <td>I’m answering your questions now on :</td>\n",
       "      <td>0.000000</td>\n",
       "      <td>0.000000</td>\n",
       "      <td>Neutral</td>\n",
       "    </tr>\n",
       "    <tr>\n",
       "      <th>97</th>\n",
       "      <td>In this video, I answered some really good que...</td>\n",
       "      <td>0.866667</td>\n",
       "      <td>0.566667</td>\n",
       "      <td>Positive</td>\n",
       "    </tr>\n",
       "    <tr>\n",
       "      <th>98</th>\n",
       "      <td>After you finish your pancakes this morning, c...</td>\n",
       "      <td>0.000000</td>\n",
       "      <td>0.000000</td>\n",
       "      <td>Neutral</td>\n",
       "    </tr>\n",
       "    <tr>\n",
       "      <th>99</th>\n",
       "      <td>It’s deeply unfair that the people who contrib...</td>\n",
       "      <td>0.800000</td>\n",
       "      <td>-0.600000</td>\n",
       "      <td>Negative</td>\n",
       "    </tr>\n",
       "  </tbody>\n",
       "</table>\n",
       "<p>100 rows × 4 columns</p>\n",
       "</div>"
      ],
      "text/plain": [
       "                                               Tweets  Subjectivity  Polarity  \\\n",
       "0   The COVID-19 pandemic reminds us why eradicati...      0.231250  0.125000   \n",
       "1   Mosquitoes are the deadliest animal to humans,...      0.950000  0.450000   \n",
       "2   I don’t think any of ’s innovations are ready ...      0.650000  0.375000   \n",
       "3   I applaud David Vélez and Mariel Reyes’s pledg...      0.350000  0.025000   \n",
       "4   Thank you to , and to all 40,255 of you who do...      0.000000  0.000000   \n",
       "..                                                ...           ...       ...   \n",
       "95  : It's WorldTBDay\\n\\nEven as we battle COVID19...      0.000000  0.000000   \n",
       "96            I’m answering your questions now on :        0.000000  0.000000   \n",
       "97  In this video, I answered some really good que...      0.866667  0.566667   \n",
       "98  After you finish your pancakes this morning, c...      0.000000  0.000000   \n",
       "99  It’s deeply unfair that the people who contrib...      0.800000 -0.600000   \n",
       "\n",
       "    Analysis  \n",
       "0   Positive  \n",
       "1   Positive  \n",
       "2   Positive  \n",
       "3   Positive  \n",
       "4    Neutral  \n",
       "..       ...  \n",
       "95   Neutral  \n",
       "96   Neutral  \n",
       "97  Positive  \n",
       "98   Neutral  \n",
       "99  Negative  \n",
       "\n",
       "[100 rows x 4 columns]"
      ]
     },
     "execution_count": 9,
     "metadata": {},
     "output_type": "execute_result"
    }
   ],
   "source": [
    "# Create a function to compute negative (-1), neutral (0) and positive (+1) analysis\n",
    "def getAnalysis(score):\n",
    "    if score < 0:\n",
    "        return 'Negative'\n",
    "    elif score == 0:\n",
    "        return 'Neutral'\n",
    "    else:\n",
    "        return 'Positive'\n",
    "df['Analysis'] = df['Polarity'].apply(getAnalysis)\n",
    "# Show the dataframe\n",
    "df"
   ]
  },
  {
   "cell_type": "markdown",
   "metadata": {
    "ExecuteTime": {
     "end_time": "2021-08-27T02:10:12.610120Z",
     "start_time": "2021-08-27T02:10:12.604906Z"
    }
   },
   "source": [
    "### Positive Tweets"
   ]
  },
  {
   "cell_type": "code",
   "execution_count": 10,
   "metadata": {
    "ExecuteTime": {
     "end_time": "2021-08-27T21:06:28.214806Z",
     "start_time": "2021-08-27T21:06:28.203162Z"
    }
   },
   "outputs": [
    {
     "name": "stdout",
     "output_type": "stream",
     "text": [
      "Printing positive tweets:\n",
      "\n",
      "1) The COVID-19 pandemic reminds us why eradicating malaria is essential. Many of the building blocks we need to fight malaria and prevent the next pandemic are the same. MosquitoWeek \n",
      "\n",
      "2) Mosquitoes are the deadliest animal to humans, but  scientists have discovered how to transform one kind of mosquito into a surprisingly powerful ally:  MosquitoWeek🦟 \n",
      "\n",
      "3) I don’t think any of ’s innovations are ready to bring to market. Luckily, brilliant scientists and engineers around the world have developed hundreds of exciting solutions that will prevent illness and death:  \n",
      "\n",
      "4) I applaud David Vélez and Mariel Reyes’s pledge to dedicate the majority of their wealth to creating opportunity for the most vulnerable Latin American children and young adults: \n",
      "\n",
      "5) This collaboration’s impact is made possible through investments in the bipartisan infrastructure bill, which will unleash billions in private capital for clean energy projects throughout the U.S. if passed into law. Thank you  for your partnership.\n",
      "\n",
      "6) Avoiding a climate disaster will require a new, clean industrial revolution, and we don't have time to wait. Our work together will not only send us on a more viable path to net zero, but it will create long-term jobs in communities across the country.\n",
      "\n",
      "7) I'm incredibly excited about the new collaboration between  Energy Catalyst and  to accelerate the adoption of next-generation clean technologies and build the net-zero economy: \n",
      "\n",
      "8) I’m partnering with  to make sure that more teachers have access to everything they need to get ready for the new school year. I’ll give your donation an extra 50% boost today when you give to any classroom project or supply request. \n",
      "\n",
      "9) I’m optimistic about the work that  is doing to invest in companies, support innovators, advocate for better policies, and lower the cost of climate tech. Join us. \n",
      "\n",
      "10) Reaching zero will take a complete transformation of how we make and do everything – from the technologies and products we create to our public policies to the way we use markets to accelerate change. We need a new industrial revolution powered by clean technology.\n",
      "\n",
      "11) Every climate action we take must be toward the goal of reaching zero. That means rapidly deploying the technologies we have today to reduce emissions and investing immediately in the solutions we still need to get the world to zero.\n",
      "\n",
      "12) Avoiding a disaster will require courage, ambition, and partnership among leaders in every sector around the globe. As the report makes clear, no region will be spared by climate change. It will take all of us to meet this challenge.\n",
      "\n",
      "13) Today’s United Nations climate report is an urgent call to action for the world: we must reach net-zero emissions by 2050 to avoid a climate disaster. \n",
      "\n",
      "14) Alzheimer’s and related dementias have impacted far too many families around the world—including my own. New funding from  will help  accelerate data collection and sharing to enable early detection and treatment. \n",
      "\n",
      "15) Today’s students have the power to create a better future for all people, and teachers are helping them build their framework for understanding the world. Thank you to Bryan Stevenson for joining the  Conference for Social Studies this week. \n",
      "\n",
      "16) I’m deeply saddened to hear of Tachi’s passing. I loved working with him and I learned a lot from him. His passion for saving lives and making the world a fairer place was inspiring, and he matched it with an incredible intellect. I will miss him. \n",
      "\n",
      "17) Vaclav Smil’s books are amazing. His latest will give you a framework to think about humanity:  \n",
      "\n",
      "18) I enjoyed joining educators from around the world at the  Conference for the Social Studies to discuss how their teaching practices have changed over the last year and a half. I’m inspired by their resilience and dedication to their students:  \n",
      "\n",
      "19) It only took Senegal 15 years to cut childhood death in half. Community health workers and successful vaccination campaigns played a key role in this success. Read more from  and see how lessons from Senegal can be applied elsewhere. \n",
      "\n",
      "20) The French drank an impressive amount of wine in 1926, but their consumption is now a third of what it was back then. Why? I love how this book forces you to think about the story behind a seemingly niche statistic. \n",
      "\n",
      "21) My favorite author’s new book might be his best one yet. Each chapter covers one of 71 facts about the world that help you understand how history ties together. I unabashedly recommend it to anyone who loves learning. \n",
      "\n",
      "22) Our foundation has been working to address this massive problem for 10 years—here’s one of the incredible Reinvent the Toilet designs that could help:  \n",
      "\n",
      "23) Ever heard a toilet be compared to an espresso machine? That’s how Dr. Shannon Yee describes the toilet he and his team have developed. \n",
      "\n",
      "24) How much of the world population still lacks access to a toilet that safely removes waste from the home?\n",
      "\n",
      "Find the answer here: \n",
      "\n",
      "25) : “We are closer than ever to building a world where safe sanitation service is a basic human right enjoyed by everyone,…\n",
      "\n",
      "26) This map from  shows the progress we’ve made–but also highlights how much work we have left to do. \n",
      "\n",
      "27) The COVID pandemic is a powerful reminder of the urgent work needed to contain and treat deadly pathogens. I’m optimistic about the progress being made on another crisis: safe sanitation:  \n",
      "\n",
      "28) You were a good sport, Jimmy. Pro tip...never choose glass “2” in a poop-water challenge:  \n",
      "\n",
      "29) The Gates Foundation is providing additional, flexible funding to the  for its pandemic response efforts, but more assistance from the global community is urgently needed to fill the gaps. \n",
      "\n",
      "30) : We take one step closer to a malaria-free world with this exciting new project that seeks to develop an mRNA-based malaria vac…\n",
      "\n",
      "31) I’ve been rewatching some of my favorite movies. Add your favorites to the list on . \n",
      "\n",
      "32) Getting an early start on my weekend reading: this article does a good job explaining immunity and what may happen with COVID-19 in the future. \n",
      "\n",
      "33) During the height of the U.S. polio epidemic, the iron lung was one of the greatest tools used to fight polio. Today, it’s the iron will of the thousands of workers and their supporters who are committed to finishing the job.  endpolio\n",
      "\n",
      "34) : Let us renew our determination to build a strong, sustainable and inclusive recovery from the pandemic, and to take decisive action…\n",
      "\n",
      "35) Our foundation joined the polio fight almost 15 years ago. And in all that time, I cannot think of a more important moment than right now. \n",
      "\n",
      "36) I look forward to working with you and _Commission on all of these important goals. Europe is a critical partner in creating a net-zero future and ensuring a healthy and equitable world for all. \n",
      "\n",
      "37) Reaching net-zero emissions by 2050 means transforming our entire physical economy and accelerating innovation at an unprecedented pace.  Energy Catalyst will jumpstart this process. \n",
      "\n",
      "38) This is the greatest opportunity for innovation in human history:  \n",
      "\n",
      "39) : BE Catalyst is financing the foundation of a clean economy through four critical technologies. In these areas, Catalyst a…\n",
      "\n",
      "40) These students are doing inspiring work. Their ambition makes me optimistic about the future of health care (and the world). \n",
      "\n",
      "41) I’m excited about  Energy Catalyst and think it can help make clean-energy innovations more available and affordable for everyone. \n",
      "\n",
      "42) This expanded commitment to the foundation will accelerate its mission to fight poverty, disease, and inequity around the world. I'm grateful to the foundation's leadership team, employees, and partners for their dedication to making the world healthier and more just. \n",
      "\n",
      "43) : With nearly six decades in the medical profession, Dr. Louisa Samonsia thought she had seen it all. Then, COVID-19 hit.\n",
      "\n",
      "Learn h…\n",
      "\n",
      "44) Stopping Alzheimer’s requires more eyes on the problem. ADDI  recently hosted their 1st Data Challenge. I was inspired to see more than 1,200+ people from 65+ countries/regions join the fight. \n",
      "\n",
      "45) It’s really encouraging to see these results. Dengue fever infects hundreds of millions of people a year and causes debilitating disease. This incredible technique could also be effective at stopping the spread of other viruses like Zika and Chikungunya. \n",
      "\n",
      "46) This important commitment builds on the 's efforts to support partners working to create a more equal world. \n",
      "\n",
      "47) I am truly grateful for his wisdom and leadership, and most of all for his enduring friendship. Warren will continue to inspire our foundation as we work to fight poverty and help millions of people live healthier lives. \n",
      "\n",
      "48) I will always have a deep sense of accountability to Warren, paying close attention to the data to track our progress and identify areas where we can do better. But the value of Warren’s gift goes beyond anything that can be measured.\n",
      "\n",
      "49) Should you pick your nose?\n",
      "\n",
      "You can read an excerpt from Matt Richtel’s fascinating book about the immune system on my blog to find the answer:  \n",
      "\n",
      "50) The journalist  has created a fascinating beat for herself covering humanity’s impact on nature and our attempts to control it. Her latest book is a good reminder that we need to watch out for the unforeseen effects of our actions. \n",
      "\n",
      "51) I'm almost always interested in books about American presidents, and I especially loved A Promised Land. It’s a fascinating look at what it’s like to steer a country through challenging times. \n",
      "\n",
      "52) This book gave me a deeper, more nuanced appreciation for the system that is at the core of humanity’s fight against COVID-19 and everything our foundation’s Global Health program is trying to do. \n",
      "\n",
      "53) If you’re looking for a good book to read this summer, these are some of my favorites. \n",
      "\n",
      "54) The 7’s commitment to share 870M COVID-19 vaccine doses over the next year is welcome news - but time is not on our side. Vaccines must be delivered now to help control the pandemic everywhere and not disrupt the progress we've made. \n",
      "\n",
      "55) : As a physician, I’ve seen too many colleagues make the ultimate sacrifice on the frontlines. Over 115,000 health and care w…\n",
      "\n",
      "56) Polio tools and infrastructure are also critical to combatting other public health emergencies, like COVID-19. It is more important than ever that donors and countries commit to the new GPEI strategy to endpolio and continue improving health for all. \n",
      "\n",
      "57) These young leaders make me optimistic that brighter days are ahead for America’s students and teachers. \n",
      "\n",
      "58) Against the odds, 8 became a doctor and is helping his country recover from civil war, Ebola, and now COVID-19. This doctor’s life story is almost as remarkable as his work. \n",
      "\n",
      "59) This is an important step in the U.S. clean energy transition. I’m excited to see  working with , , and  to bring this project to life with the workforce of Wyoming. \n",
      "\n",
      "60) Heroes like Dr. Mohamed Barrie are the reason we started our foundation more than 20 years ago and why Melinda and I remain committed to its work. Mohamed’s story is truly inspiring, and I can’t wait to see what he and his team will accomplish next. \n",
      "\n",
      "61) : Promising news from the  COVAX AMC Summit as they have exceeded today’s fundraising target. This means more people in lo…\n",
      "\n",
      "62) The pandemic has exacerbated existing racial health inequities in the United States. The Health Equity Tracker is a new tool bringing visibility to disparities in U.S. medicine. \n",
      "\n",
      "63) : As our CEO  says, no barriers should stand in the way of equitable access to vaccines. We are supportive of a…\n",
      "\n",
      "64) : The , an unprecedented global alliance to develop &amp; deliver the tests, treatments &amp; vaccines the 🌐 needs to fight …\n",
      "\n",
      "65) Ambitious short-term goals like this are critical to moving closer to a net-zero future. As we rapidly scale the solutions we have, we must also invest in innovation to reach our ultimate goals. Thank you  for your leadership. \n",
      "\n",
      "66) It’s encouraging to see  Biden and  Kerry re-establish America’s leading role on climate change. I look forward to joining leaders from around the world to talk about some of the most important challenges we need to overcome to avoid a climate disaster. \n",
      "\n",
      "67) Yesterday's verdict was a step in the right direction. But one court ruling alone will not bring to an end the injustice and inequity that Black people experience daily.  I hope we will continue to make real progress on this.\n",
      "\n",
      "68) “Time” is a poetic portrait of a family who love and support each other despite their difficult circumstances. I can’t recommend it highly enough. \n",
      "\n",
      "69) If “Time” wins the Oscar this year, it will be the first documentary directed by a Black woman to do so. Garrett Bradley’s talent makes her worthy of that milestone. This is one of the most intimate movies I have ever seen. itsTIME \n",
      "\n",
      "70) : In February, Ghana became the first African country to receive vaccines through COVAX. Meet one of the nurses spearheading the v…\n",
      "\n",
      "71) To get to net-zero emissions globally by 2050, leaders from around the world must work together. It’s encouraging to see governments, business leaders, and financial institutions committing to a successful COP26 in Glasgow later this year. \n",
      "\n",
      "72) The amount of cement China has consumed is a staggering statistic and reminder of how much emissions have grown in low- and middle-income countries. (Minecraft concrete doesn’t count, though server farms are responsible for a lot of emissions.)  \n",
      "\n",
      "73) Who installed the most concrete?\n",
      "\n",
      "Check your answer: \n",
      "\n",
      "74) The best way to prevent new variants from emerging is by stopping transmission of the virus altogether:  \n",
      "\n",
      "75) It's encouraging to see innovation and clean energy investments at the forefront of 's AmericanJobsPlan. Building markets for new energy technologies is good for jobs today and will build the economies we need while avoiding a climate disaster. \n",
      "\n",
      "76) The technological transformation we need to address climate change can create good, safe jobs and build a more equitable, prosperous economy. To make that happen, we need to think big:  \n",
      "\n",
      "77) I had a great time answering questions about my new book, climate change, and COVID-19 on  last week. Here’s a recap of the conversation. \n",
      "\n",
      "78) In this video, I answered some really good questions, including one about two really important numbers. Come ask me some questions of your own on  at 11:15:  \n",
      "\n"
     ]
    }
   ],
   "source": [
    "# Printing positive tweets \n",
    "print('Printing positive tweets:\\n')\n",
    "j=1\n",
    "sortedDF = df.sort_values(by=['Polarity']) #Sort the tweets\n",
    "for i in range(0, sortedDF.shape[0] ):\n",
    "  if( sortedDF['Analysis'][i] == 'Positive'):\n",
    "    print(str(j) + ') '+ sortedDF['Tweets'][i])\n",
    "    print()\n",
    "    j= j+1"
   ]
  },
  {
   "cell_type": "markdown",
   "metadata": {},
   "source": [
    "### Negative Tweets"
   ]
  },
  {
   "cell_type": "code",
   "execution_count": 11,
   "metadata": {
    "ExecuteTime": {
     "end_time": "2021-08-27T21:06:29.608647Z",
     "start_time": "2021-08-27T21:06:29.600601Z"
    }
   },
   "outputs": [
    {
     "name": "stdout",
     "output_type": "stream",
     "text": [
      "Printing negative tweets:\n",
      "\n",
      "1) Over the years, I’ve shared a stage with a jar of human feces, smelled pit latrine odor, and drunk water made from poop (and convinced  to drink it too). Was it worth it? You bet. Here’s why: \n",
      "\n",
      "2) Communities of color have been hit hard by COVID-19. One of the reasons why parts of the medical system often fail Black and brown people is because it’s not designed with them in mind. Dr. Stephaun Wallace wants to change that. \n",
      "\n",
      "3) Dr. Stephaun Wallace () has spent the last year helping make COVID-19 vaccines work for everybody. Stephaun and his colleagues at  are working to reach the people who are usually left behind. \n",
      "\n",
      "4) It’s deeply unfair that the people who contribute the least to climate change will suffer the worst from its effects:  \n",
      "\n"
     ]
    }
   ],
   "source": [
    "# Printing negative tweets  \n",
    "print('Printing negative tweets:\\n')\n",
    "j=1\n",
    "sortedDF = df.sort_values(by=['Polarity'],ascending=False) #Sort the tweets\n",
    "for i in range(0, sortedDF.shape[0] ):\n",
    "  if( sortedDF['Analysis'][i] == 'Negative'):\n",
    "    print(str(j) + ') '+sortedDF['Tweets'][i])\n",
    "    print()\n",
    "    j=j+1"
   ]
  },
  {
   "cell_type": "markdown",
   "metadata": {},
   "source": [
    "### Basic Charts"
   ]
  },
  {
   "cell_type": "code",
   "execution_count": 12,
   "metadata": {
    "ExecuteTime": {
     "end_time": "2021-08-27T21:06:31.910366Z",
     "start_time": "2021-08-27T21:06:30.916328Z"
    }
   },
   "outputs": [
    {
     "data": {
      "image/png": "[encoded data removed]",
      "text/plain": [
       "<Figure size 576x432 with 1 Axes>"
      ]
     },
     "metadata": {
      "needs_background": "light"
     },
     "output_type": "display_data"
    }
   ],
   "source": [
    "# Plotting \n",
    "plt.figure(figsize=(8,6)) \n",
    "for i in range(0, df.shape[0]):\n",
    "    plt.scatter(df[\"Polarity\"][i], df[\"Subjectivity\"][i], color='Blue') \n",
    "# plt.scatter(x,y,color)   \n",
    "plt.title('Sentiment Analysis') \n",
    "plt.xlabel('Polarity') \n",
    "plt.ylabel('Subjectivity') \n",
    "plt.show()"
   ]
  },
  {
   "cell_type": "code",
   "execution_count": 13,
   "metadata": {
    "ExecuteTime": {
     "end_time": "2021-08-27T21:06:32.684570Z",
     "start_time": "2021-08-27T21:06:32.677802Z"
    }
   },
   "outputs": [
    {
     "data": {
      "text/plain": [
       "78.0"
      ]
     },
     "execution_count": 13,
     "metadata": {},
     "output_type": "execute_result"
    }
   ],
   "source": [
    "# Print the percentage of positive tweets\n",
    "ptweets = df[df.Analysis == 'Positive']\n",
    "ptweets = ptweets['Tweets']\n",
    "ptweets\n",
    "\n",
    "round( (ptweets.shape[0] / df.shape[0]) * 100 , 1)"
   ]
  },
  {
   "cell_type": "code",
   "execution_count": 14,
   "metadata": {
    "ExecuteTime": {
     "end_time": "2021-08-27T21:06:33.290537Z",
     "start_time": "2021-08-27T21:06:33.280225Z"
    }
   },
   "outputs": [
    {
     "data": {
      "text/plain": [
       "4.0"
      ]
     },
     "execution_count": 14,
     "metadata": {},
     "output_type": "execute_result"
    }
   ],
   "source": [
    "# Print the percentage of negative tweets\n",
    "ntweets = df[df.Analysis == 'Negative']\n",
    "ntweets = ntweets['Tweets']\n",
    "ntweets\n",
    "\n",
    "round( (ntweets.shape[0] / df.shape[0]) * 100, 1)"
   ]
  },
  {
   "cell_type": "code",
   "execution_count": 15,
   "metadata": {
    "ExecuteTime": {
     "end_time": "2021-08-27T21:06:34.009573Z",
     "start_time": "2021-08-27T21:06:34.002280Z"
    }
   },
   "outputs": [
    {
     "data": {
      "text/plain": [
       "Positive    78\n",
       "Neutral     18\n",
       "Negative     4\n",
       "Name: Analysis, dtype: int64"
      ]
     },
     "execution_count": 15,
     "metadata": {},
     "output_type": "execute_result"
    }
   ],
   "source": [
    "# Show the value counts\n",
    "df['Analysis'].value_counts()"
   ]
  },
  {
   "cell_type": "code",
   "execution_count": 16,
   "metadata": {
    "ExecuteTime": {
     "end_time": "2021-08-27T21:06:34.851741Z",
     "start_time": "2021-08-27T21:06:34.721424Z"
    }
   },
   "outputs": [
    {
     "data": {
      "image/png": "[encoded data removed]",
      "text/plain": [
       "<Figure size 432x288 with 1 Axes>"
      ]
     },
     "metadata": {
      "needs_background": "light"
     },
     "output_type": "display_data"
    }
   ],
   "source": [
    "# Plotting and visualizing the counts\n",
    "plt.title('Sentiment Analysis')\n",
    "plt.xlabel('Sentiment')\n",
    "plt.ylabel('Counts')\n",
    "df['Analysis'].value_counts().plot(kind = 'bar')\n",
    "plt.show()"
   ]
  },
  {
   "cell_type": "markdown",
   "metadata": {},
   "source": [
    "# By Search \n",
    "## Get Twitter Data"
   ]
  },
  {
   "cell_type": "code",
   "execution_count": 17,
   "metadata": {
    "ExecuteTime": {
     "end_time": "2021-08-27T21:06:40.609741Z",
     "start_time": "2021-08-27T21:06:39.509200Z"
    }
   },
   "outputs": [
    {
     "name": "stdout",
     "output_type": "stream",
     "text": [
      "Show the 5 recent tweets:\n",
      "\n",
      "1) Top 5 Most Viewed Teaser - Trailer in first 24 hours globally. \n",
      "\n",
      "🌟Spiderman: No-way home: 355 million. \n",
      "\n",
      "🌟 Avengers - End Game: 289 million. \n",
      "\n",
      "🌟 Avengers - Infinity War: 230 million. \n",
      "\n",
      "🌟 The Lion King (2019): 224.6 million. \n",
      "\n",
      "🌟 It chapter 1 (2017): 197 million.\n",
      "\n",
      "2) A piece done for Marvel licensing. Not sure if it's ever been used or not but you might see it from time to time on Marvel merch out in the world. #SpiderManNoWayHome #Spiderman #MarvelStudios https://t.co/DZL4pg118M\n",
      "\n",
      "3) The Spider-Man #NoWayHome trailer gets animated in a viral remake using footage from the 90s #SpiderMan cartoon:  \n",
      "\n",
      "https://t.co/OXj2du6hds https://t.co/nppMeawWYc\n",
      "\n",
      "4) RT @albaaca_art: spiderman 3 predictions #doctorstrange #SpiderManNoWayHome https://t.co/3wOYhuf4hu\n",
      "\n",
      "5) RT @imununununn: I asked him that did he watch the trailer of spiderman nwh yet he said he did and his reaction was sooooo into it 🤣🕸 https…\n",
      "\n"
     ]
    }
   ],
   "source": [
    "# Extract 100 tweets from the twitter user\n",
    "posts = api.search(q=\"Spiderman\", count = 100, lang=\"en\", tweet_mode=\"extended\", result_type=\"mixed\")\n",
    "\n",
    "#  Print the last 5 tweets\n",
    "print(\"Show the 5 recent tweets:\\n\")\n",
    "i=1\n",
    "for tweet in posts[:5]:\n",
    "    print(str(i) +') '+ tweet.full_text + '\\n')\n",
    "    i= i+1"
   ]
  },
  {
   "cell_type": "code",
   "execution_count": 18,
   "metadata": {
    "ExecuteTime": {
     "end_time": "2021-08-27T21:06:41.342486Z",
     "start_time": "2021-08-27T21:06:41.334325Z"
    }
   },
   "outputs": [
    {
     "data": {
      "text/html": [
       "<div>\n",
       "<style scoped>\n",
       "    .dataframe tbody tr th:only-of-type {\n",
       "        vertical-align: middle;\n",
       "    }\n",
       "\n",
       "    .dataframe tbody tr th {\n",
       "        vertical-align: top;\n",
       "    }\n",
       "\n",
       "    .dataframe thead th {\n",
       "        text-align: right;\n",
       "    }\n",
       "</style>\n",
       "<table border=\"1\" class=\"dataframe\">\n",
       "  <thead>\n",
       "    <tr style=\"text-align: right;\">\n",
       "      <th></th>\n",
       "      <th>Tweets</th>\n",
       "    </tr>\n",
       "  </thead>\n",
       "  <tbody>\n",
       "    <tr>\n",
       "      <th>0</th>\n",
       "      <td>Top 5 Most Viewed Teaser - Trailer in first 24...</td>\n",
       "    </tr>\n",
       "    <tr>\n",
       "      <th>1</th>\n",
       "      <td>A piece done for Marvel licensing. Not sure if...</td>\n",
       "    </tr>\n",
       "    <tr>\n",
       "      <th>2</th>\n",
       "      <td>The Spider-Man #NoWayHome trailer gets animate...</td>\n",
       "    </tr>\n",
       "    <tr>\n",
       "      <th>3</th>\n",
       "      <td>RT @albaaca_art: spiderman 3 predictions #doct...</td>\n",
       "    </tr>\n",
       "    <tr>\n",
       "      <th>4</th>\n",
       "      <td>RT @imununununn: I asked him that did he watch...</td>\n",
       "    </tr>\n",
       "  </tbody>\n",
       "</table>\n",
       "</div>"
      ],
      "text/plain": [
       "                                              Tweets\n",
       "0  Top 5 Most Viewed Teaser - Trailer in first 24...\n",
       "1  A piece done for Marvel licensing. Not sure if...\n",
       "2  The Spider-Man #NoWayHome trailer gets animate...\n",
       "3  RT @albaaca_art: spiderman 3 predictions #doct...\n",
       "4  RT @imununununn: I asked him that did he watch..."
      ]
     },
     "execution_count": 18,
     "metadata": {},
     "output_type": "execute_result"
    }
   ],
   "source": [
    "# Create a dataframe with a column called Tweets\n",
    "df = pd.DataFrame([tweet.full_text for tweet in posts], columns=['Tweets'])\n",
    "# Show the first 5 rows of data\n",
    "df.head()"
   ]
  },
  {
   "cell_type": "code",
   "execution_count": 19,
   "metadata": {
    "ExecuteTime": {
     "end_time": "2021-08-27T21:06:42.423118Z",
     "start_time": "2021-08-27T21:06:42.412573Z"
    }
   },
   "outputs": [
    {
     "data": {
      "text/html": [
       "<div>\n",
       "<style scoped>\n",
       "    .dataframe tbody tr th:only-of-type {\n",
       "        vertical-align: middle;\n",
       "    }\n",
       "\n",
       "    .dataframe tbody tr th {\n",
       "        vertical-align: top;\n",
       "    }\n",
       "\n",
       "    .dataframe thead th {\n",
       "        text-align: right;\n",
       "    }\n",
       "</style>\n",
       "<table border=\"1\" class=\"dataframe\">\n",
       "  <thead>\n",
       "    <tr style=\"text-align: right;\">\n",
       "      <th></th>\n",
       "      <th>Tweets</th>\n",
       "    </tr>\n",
       "  </thead>\n",
       "  <tbody>\n",
       "    <tr>\n",
       "      <th>0</th>\n",
       "      <td>Top 5 Most Viewed Teaser - Trailer in first 24...</td>\n",
       "    </tr>\n",
       "    <tr>\n",
       "      <th>1</th>\n",
       "      <td>A piece done for Marvel licensing. Not sure if...</td>\n",
       "    </tr>\n",
       "    <tr>\n",
       "      <th>2</th>\n",
       "      <td>The Spider-Man NoWayHome trailer gets animated...</td>\n",
       "    </tr>\n",
       "    <tr>\n",
       "      <th>3</th>\n",
       "      <td>_art: spiderman 3 predictions doctorstrange Sp...</td>\n",
       "    </tr>\n",
       "    <tr>\n",
       "      <th>4</th>\n",
       "      <td>: I asked him that did he watch the trailer of...</td>\n",
       "    </tr>\n",
       "    <tr>\n",
       "      <th>...</th>\n",
       "      <td>...</td>\n",
       "    </tr>\n",
       "    <tr>\n",
       "      <th>95</th>\n",
       "      <td>: alright so how can i get marvel to invite ma...</td>\n",
       "    </tr>\n",
       "    <tr>\n",
       "      <th>96</th>\n",
       "      <td>thank u im glad my og spiderman moots agree leah</td>\n",
       "    </tr>\n",
       "    <tr>\n",
       "      <th>97</th>\n",
       "      <td>$14\\nKH\\nFF X\\nSSX\\nNFS Underground 2\\nSpiderm...</td>\n",
       "    </tr>\n",
       "    <tr>\n",
       "      <th>98</th>\n",
       "      <td>Just a quick and simple edit I thought of, may...</td>\n",
       "    </tr>\n",
       "    <tr>\n",
       "      <th>99</th>\n",
       "      <td>: STOPPP OP ASKED MARK IF HE WATCHED THE NEW S...</td>\n",
       "    </tr>\n",
       "  </tbody>\n",
       "</table>\n",
       "<p>100 rows × 1 columns</p>\n",
       "</div>"
      ],
      "text/plain": [
       "                                               Tweets\n",
       "0   Top 5 Most Viewed Teaser - Trailer in first 24...\n",
       "1   A piece done for Marvel licensing. Not sure if...\n",
       "2   The Spider-Man NoWayHome trailer gets animated...\n",
       "3   _art: spiderman 3 predictions doctorstrange Sp...\n",
       "4   : I asked him that did he watch the trailer of...\n",
       "..                                                ...\n",
       "95  : alright so how can i get marvel to invite ma...\n",
       "96   thank u im glad my og spiderman moots agree leah\n",
       "97  $14\\nKH\\nFF X\\nSSX\\nNFS Underground 2\\nSpiderm...\n",
       "98  Just a quick and simple edit I thought of, may...\n",
       "99  : STOPPP OP ASKED MARK IF HE WATCHED THE NEW S...\n",
       "\n",
       "[100 rows x 1 columns]"
      ]
     },
     "execution_count": 19,
     "metadata": {},
     "output_type": "execute_result"
    }
   ],
   "source": [
    "# Clean the tweets\n",
    "df['Tweets'] = df['Tweets'].apply(cleanTxt)\n",
    "\n",
    "# Show the cleaned tweets\n",
    "df"
   ]
  },
  {
   "cell_type": "markdown",
   "metadata": {},
   "source": [
    "## Sentiments"
   ]
  },
  {
   "cell_type": "code",
   "execution_count": 20,
   "metadata": {
    "ExecuteTime": {
     "end_time": "2021-08-27T21:06:44.050053Z",
     "start_time": "2021-08-27T21:06:43.987066Z"
    }
   },
   "outputs": [
    {
     "data": {
      "text/html": [
       "<div>\n",
       "<style scoped>\n",
       "    .dataframe tbody tr th:only-of-type {\n",
       "        vertical-align: middle;\n",
       "    }\n",
       "\n",
       "    .dataframe tbody tr th {\n",
       "        vertical-align: top;\n",
       "    }\n",
       "\n",
       "    .dataframe thead th {\n",
       "        text-align: right;\n",
       "    }\n",
       "</style>\n",
       "<table border=\"1\" class=\"dataframe\">\n",
       "  <thead>\n",
       "    <tr style=\"text-align: right;\">\n",
       "      <th></th>\n",
       "      <th>Tweets</th>\n",
       "      <th>Subjectivity</th>\n",
       "      <th>Polarity</th>\n",
       "    </tr>\n",
       "  </thead>\n",
       "  <tbody>\n",
       "    <tr>\n",
       "      <th>0</th>\n",
       "      <td>Top 5 Most Viewed Teaser - Trailer in first 24...</td>\n",
       "      <td>0.346667</td>\n",
       "      <td>0.170000</td>\n",
       "    </tr>\n",
       "    <tr>\n",
       "      <th>1</th>\n",
       "      <td>A piece done for Marvel licensing. Not sure if...</td>\n",
       "      <td>0.888889</td>\n",
       "      <td>-0.250000</td>\n",
       "    </tr>\n",
       "    <tr>\n",
       "      <th>2</th>\n",
       "      <td>The Spider-Man NoWayHome trailer gets animated...</td>\n",
       "      <td>0.000000</td>\n",
       "      <td>0.000000</td>\n",
       "    </tr>\n",
       "    <tr>\n",
       "      <th>3</th>\n",
       "      <td>_art: spiderman 3 predictions doctorstrange Sp...</td>\n",
       "      <td>0.000000</td>\n",
       "      <td>0.000000</td>\n",
       "    </tr>\n",
       "    <tr>\n",
       "      <th>4</th>\n",
       "      <td>: I asked him that did he watch the trailer of...</td>\n",
       "      <td>0.000000</td>\n",
       "      <td>0.000000</td>\n",
       "    </tr>\n",
       "    <tr>\n",
       "      <th>...</th>\n",
       "      <td>...</td>\n",
       "      <td>...</td>\n",
       "      <td>...</td>\n",
       "    </tr>\n",
       "    <tr>\n",
       "      <th>95</th>\n",
       "      <td>: alright so how can i get marvel to invite ma...</td>\n",
       "      <td>0.000000</td>\n",
       "      <td>0.000000</td>\n",
       "    </tr>\n",
       "    <tr>\n",
       "      <th>96</th>\n",
       "      <td>thank u im glad my og spiderman moots agree leah</td>\n",
       "      <td>1.000000</td>\n",
       "      <td>0.500000</td>\n",
       "    </tr>\n",
       "    <tr>\n",
       "      <th>97</th>\n",
       "      <td>$14\\nKH\\nFF X\\nSSX\\nNFS Underground 2\\nSpiderm...</td>\n",
       "      <td>0.000000</td>\n",
       "      <td>0.000000</td>\n",
       "    </tr>\n",
       "    <tr>\n",
       "      <th>98</th>\n",
       "      <td>Just a quick and simple edit I thought of, may...</td>\n",
       "      <td>0.339286</td>\n",
       "      <td>0.208333</td>\n",
       "    </tr>\n",
       "    <tr>\n",
       "      <th>99</th>\n",
       "      <td>: STOPPP OP ASKED MARK IF HE WATCHED THE NEW S...</td>\n",
       "      <td>0.454545</td>\n",
       "      <td>0.136364</td>\n",
       "    </tr>\n",
       "  </tbody>\n",
       "</table>\n",
       "<p>100 rows × 3 columns</p>\n",
       "</div>"
      ],
      "text/plain": [
       "                                               Tweets  Subjectivity  Polarity\n",
       "0   Top 5 Most Viewed Teaser - Trailer in first 24...      0.346667  0.170000\n",
       "1   A piece done for Marvel licensing. Not sure if...      0.888889 -0.250000\n",
       "2   The Spider-Man NoWayHome trailer gets animated...      0.000000  0.000000\n",
       "3   _art: spiderman 3 predictions doctorstrange Sp...      0.000000  0.000000\n",
       "4   : I asked him that did he watch the trailer of...      0.000000  0.000000\n",
       "..                                                ...           ...       ...\n",
       "95  : alright so how can i get marvel to invite ma...      0.000000  0.000000\n",
       "96   thank u im glad my og spiderman moots agree leah      1.000000  0.500000\n",
       "97  $14\\nKH\\nFF X\\nSSX\\nNFS Underground 2\\nSpiderm...      0.000000  0.000000\n",
       "98  Just a quick and simple edit I thought of, may...      0.339286  0.208333\n",
       "99  : STOPPP OP ASKED MARK IF HE WATCHED THE NEW S...      0.454545  0.136364\n",
       "\n",
       "[100 rows x 3 columns]"
      ]
     },
     "execution_count": 20,
     "metadata": {},
     "output_type": "execute_result"
    }
   ],
   "source": [
    "# Create two new columns 'Subjectivity' & 'Polarity'\n",
    "df['Subjectivity'] = df['Tweets'].apply(getSubjectivity)\n",
    "df['Polarity'] = df['Tweets'].apply(getPolarity)\n",
    "\n",
    "# Show the new dataframe with columns 'Subjectivity' & 'Polarity'\n",
    "df"
   ]
  },
  {
   "cell_type": "markdown",
   "metadata": {},
   "source": [
    "## Analysis"
   ]
  },
  {
   "cell_type": "code",
   "execution_count": 21,
   "metadata": {
    "ExecuteTime": {
     "end_time": "2021-08-27T21:06:45.560281Z",
     "start_time": "2021-08-27T21:06:45.545331Z"
    }
   },
   "outputs": [
    {
     "data": {
      "text/html": [
       "<div>\n",
       "<style scoped>\n",
       "    .dataframe tbody tr th:only-of-type {\n",
       "        vertical-align: middle;\n",
       "    }\n",
       "\n",
       "    .dataframe tbody tr th {\n",
       "        vertical-align: top;\n",
       "    }\n",
       "\n",
       "    .dataframe thead th {\n",
       "        text-align: right;\n",
       "    }\n",
       "</style>\n",
       "<table border=\"1\" class=\"dataframe\">\n",
       "  <thead>\n",
       "    <tr style=\"text-align: right;\">\n",
       "      <th></th>\n",
       "      <th>Tweets</th>\n",
       "      <th>Subjectivity</th>\n",
       "      <th>Polarity</th>\n",
       "      <th>Analysis</th>\n",
       "    </tr>\n",
       "  </thead>\n",
       "  <tbody>\n",
       "    <tr>\n",
       "      <th>0</th>\n",
       "      <td>Top 5 Most Viewed Teaser - Trailer in first 24...</td>\n",
       "      <td>0.346667</td>\n",
       "      <td>0.170000</td>\n",
       "      <td>Positive</td>\n",
       "    </tr>\n",
       "    <tr>\n",
       "      <th>1</th>\n",
       "      <td>A piece done for Marvel licensing. Not sure if...</td>\n",
       "      <td>0.888889</td>\n",
       "      <td>-0.250000</td>\n",
       "      <td>Negative</td>\n",
       "    </tr>\n",
       "    <tr>\n",
       "      <th>2</th>\n",
       "      <td>The Spider-Man NoWayHome trailer gets animated...</td>\n",
       "      <td>0.000000</td>\n",
       "      <td>0.000000</td>\n",
       "      <td>Neutral</td>\n",
       "    </tr>\n",
       "    <tr>\n",
       "      <th>3</th>\n",
       "      <td>_art: spiderman 3 predictions doctorstrange Sp...</td>\n",
       "      <td>0.000000</td>\n",
       "      <td>0.000000</td>\n",
       "      <td>Neutral</td>\n",
       "    </tr>\n",
       "    <tr>\n",
       "      <th>4</th>\n",
       "      <td>: I asked him that did he watch the trailer of...</td>\n",
       "      <td>0.000000</td>\n",
       "      <td>0.000000</td>\n",
       "      <td>Neutral</td>\n",
       "    </tr>\n",
       "    <tr>\n",
       "      <th>...</th>\n",
       "      <td>...</td>\n",
       "      <td>...</td>\n",
       "      <td>...</td>\n",
       "      <td>...</td>\n",
       "    </tr>\n",
       "    <tr>\n",
       "      <th>95</th>\n",
       "      <td>: alright so how can i get marvel to invite ma...</td>\n",
       "      <td>0.000000</td>\n",
       "      <td>0.000000</td>\n",
       "      <td>Neutral</td>\n",
       "    </tr>\n",
       "    <tr>\n",
       "      <th>96</th>\n",
       "      <td>thank u im glad my og spiderman moots agree leah</td>\n",
       "      <td>1.000000</td>\n",
       "      <td>0.500000</td>\n",
       "      <td>Positive</td>\n",
       "    </tr>\n",
       "    <tr>\n",
       "      <th>97</th>\n",
       "      <td>$14\\nKH\\nFF X\\nSSX\\nNFS Underground 2\\nSpiderm...</td>\n",
       "      <td>0.000000</td>\n",
       "      <td>0.000000</td>\n",
       "      <td>Neutral</td>\n",
       "    </tr>\n",
       "    <tr>\n",
       "      <th>98</th>\n",
       "      <td>Just a quick and simple edit I thought of, may...</td>\n",
       "      <td>0.339286</td>\n",
       "      <td>0.208333</td>\n",
       "      <td>Positive</td>\n",
       "    </tr>\n",
       "    <tr>\n",
       "      <th>99</th>\n",
       "      <td>: STOPPP OP ASKED MARK IF HE WATCHED THE NEW S...</td>\n",
       "      <td>0.454545</td>\n",
       "      <td>0.136364</td>\n",
       "      <td>Positive</td>\n",
       "    </tr>\n",
       "  </tbody>\n",
       "</table>\n",
       "<p>100 rows × 4 columns</p>\n",
       "</div>"
      ],
      "text/plain": [
       "                                               Tweets  Subjectivity  Polarity  \\\n",
       "0   Top 5 Most Viewed Teaser - Trailer in first 24...      0.346667  0.170000   \n",
       "1   A piece done for Marvel licensing. Not sure if...      0.888889 -0.250000   \n",
       "2   The Spider-Man NoWayHome trailer gets animated...      0.000000  0.000000   \n",
       "3   _art: spiderman 3 predictions doctorstrange Sp...      0.000000  0.000000   \n",
       "4   : I asked him that did he watch the trailer of...      0.000000  0.000000   \n",
       "..                                                ...           ...       ...   \n",
       "95  : alright so how can i get marvel to invite ma...      0.000000  0.000000   \n",
       "96   thank u im glad my og spiderman moots agree leah      1.000000  0.500000   \n",
       "97  $14\\nKH\\nFF X\\nSSX\\nNFS Underground 2\\nSpiderm...      0.000000  0.000000   \n",
       "98  Just a quick and simple edit I thought of, may...      0.339286  0.208333   \n",
       "99  : STOPPP OP ASKED MARK IF HE WATCHED THE NEW S...      0.454545  0.136364   \n",
       "\n",
       "    Analysis  \n",
       "0   Positive  \n",
       "1   Negative  \n",
       "2    Neutral  \n",
       "3    Neutral  \n",
       "4    Neutral  \n",
       "..       ...  \n",
       "95   Neutral  \n",
       "96  Positive  \n",
       "97   Neutral  \n",
       "98  Positive  \n",
       "99  Positive  \n",
       "\n",
       "[100 rows x 4 columns]"
      ]
     },
     "execution_count": 21,
     "metadata": {},
     "output_type": "execute_result"
    }
   ],
   "source": [
    "df['Analysis'] = df['Polarity'].apply(getAnalysis)\n",
    "# Show the dataframe\n",
    "df"
   ]
  },
  {
   "cell_type": "markdown",
   "metadata": {},
   "source": [
    "### Positive tweets"
   ]
  },
  {
   "cell_type": "code",
   "execution_count": 22,
   "metadata": {
    "ExecuteTime": {
     "end_time": "2021-08-27T21:06:47.446620Z",
     "start_time": "2021-08-27T21:06:47.436456Z"
    }
   },
   "outputs": [
    {
     "name": "stdout",
     "output_type": "stream",
     "text": [
      "Printing positive tweets:\n",
      "\n",
      "1) Top 5 Most Viewed Teaser - Trailer in first 24 hours globally. \n",
      "\n",
      "🌟Spiderman: No-way home: 355 million. \n",
      "\n",
      "🌟 Avengers - End Game: 289 million. \n",
      "\n",
      "🌟 Avengers - Infinity War: 230 million. \n",
      "\n",
      "🌟 The Lion King (2019): 224.6 million. \n",
      "\n",
      "🌟 It chapter 1 (2017): 197 million.\n",
      "\n",
      "2) : STOPPP OP ASKED MARK IF HE WATCHED THE NEW SPIDERMAN TRAILER AND THIS WAS HIS REACTION 😭\n",
      "\n",
      "\n",
      "3) Probably going to binge watch Spiderman too in preparation for No Way Home. Spiderman 1, 2, 3, TASM 1&amp;2, Homecoming, Far From Home. All of it\n",
      "\n",
      "4) ShowerThoughts episode 1: \n",
      "Okay so, DrStrange has reversed time so that knowbody remembers PeterParker is SpiderMan right?\n",
      " So does that mean, Tony is back alive because time got reversed?!?  SpiderManNoWayHome Marvel \n",
      "\n",
      "5) I need to rewatch Spiderman into the Spiderverse because that movie is so damn good.\n",
      "\n",
      "6) 1 21  Yh I love TH Spiderman regardless. I just pointed one thing that I wanted to change. His characterisation of Peter is my favourite of the live-action Spideys. You can see he's a young and humble teen who is always willing to learn and improve.\n",
      "\n",
      "7) 360: so now u have Japan ( who stole spiderman ) \n",
      "you have weinstein zuckerbergs ( trying to draw NEW marvel comics which lo…\n",
      "\n",
      "8) More like Spiderman: No Way Am I Seeing This From Home\n",
      "\n",
      "9) : So today I bought my son some Spidey socks for being good today. When I was driving home with them..SPIDEY WAS THERE walki…\n",
      "\n",
      "10) : Spiderman or Gumby? 🤔\n",
      "\n",
      " is no stranger to nicknames... But which one is his favorite?\n",
      "\n",
      "USOpen \n",
      "\n",
      "11) so now u have Japan ( who stole spiderman ) \n",
      "you have weinstein zuckerbergs ( trying to draw NEW marvel comics which looks like $hit now  )\n",
      "u  have all kinds of gender bending because of the new staff bergs in Marvel , Do u understand what Hollywood is trying to do to marvel now?\n",
      "\n",
      "12) _witts  👍 so am i lmao , would be an amazing time for spiderman fans if it happened\n",
      "\n",
      "13) : The troubling morality of the latest SpiderMan / MCU movie FarfromHome \n",
      "\n",
      "Perspective via  👇\n",
      "\n",
      "\n",
      "\n",
      "14) : The Greatest Scene in Any Spiderman movie… idc what yall say dont @ me.  \n",
      "\n",
      "15) _Eclipsed Yeah, If I have to be honest, I have to agree because I feel his spiderman is good ish but I do feel everyone give him a too much credit\n",
      "\n",
      "16) : A fine addition  \n",
      "\n",
      "17) This new Spiderman movie is going to be WILD. \n",
      "\n",
      "18) _Direct: SpiderMan's Iron Spider helmet from AvengersEndgame has received an official new Marvel Legends helmet replica! Photos &amp;…\n",
      "\n",
      "19) So  y’all real smart about not making yalls villains be women’s?... I just think we’re worried about pussy powers 😂🗣💯 Spiderman marvel ironman BlackWidow DoctorStrangeInTheMultiverseOfMadness CaptainAmerica BlackPanther AvengersEndgame\n",
      "\n",
      "20) : Spiderman or Gumby? 🤔\n",
      "\n",
      " is no stranger to nicknames... But which one is his favorite?\n",
      "\n",
      "USOpen \n",
      "\n",
      "21)  I'd die happily if they let Sam Rami finish Spiderman 4, too much to ask tho\n",
      "\n",
      "22) : STOPPP OP ASKED MARK IF HE WATCHED THE NEW SPIDERMAN TRAILER AND THIS WAS HIS REACTION 😭\n",
      "\n",
      "\n",
      "23)  Ahhh man, PS2 games was what I grew up with. Bit too young for the PS1 era of games so for me looooove PS2\n",
      "From that list mine would be \n",
      "$5 Smackdown Shut your mouth\n",
      "$4 Tony Hawk Underground &amp; GTA Vice City\n",
      "$1 Spiderman 2 &amp; Simpsons hit and run.\n",
      "Spiderman 2 on PS2 was phenomenal\n",
      "\n",
      "24) : Spiderman or Gumby? 🤔\n",
      "\n",
      " is no stranger to nicknames... But which one is his favorite?\n",
      "\n",
      "USOpen \n",
      "\n",
      "25)  Last one, Tom Holland is very likable as Spiderman. :) Didn’t think anyone could take out Toby, sorry bro. It was good but Tom has it from here.\n",
      "\n",
      "26) : Spiderman no way home better have a scene like this . JUST ONE. \n",
      "\n",
      "27) _Direct: SpiderMan's Iron Spider helmet from AvengersEndgame has received an official new Marvel Legends helmet replica! Photos &amp;…\n",
      "\n",
      "28) : This is still one of my favourite spiderman shots- it just perfectly shows the burden of responsibility Peter feels and…\n",
      "\n",
      "29)  people treat that as gospel since it’s the first spiderman movie. they didn’t have OG live-action films from the 80s like Batman and Superman did for people to be assholes about I think\n",
      "\n",
      "30) : Spiderman or Gumby? 🤔\n",
      "\n",
      " is no stranger to nicknames... But which one is his favorite?\n",
      "\n",
      "USOpen \n",
      "\n",
      "31) : The meme shows a Spiderman figure sitting on a damaged cake, his hands against the wall. But, it is the ironic caption that had so…\n",
      "\n",
      "32) : The Greatest Scene in Any Spiderman movie… idc what yall say dont @ me.  \n",
      "\n",
      "33) : Whos your personal favorite Spiderman villain? No wrong answers here. \n",
      "\n",
      "34) : if tobey maguire isn't your favorite spiderman then we can't be friends\n",
      "\n",
      "35) I just realized that in the MCU, Spiderman's uncle Ben is actually... Joe Pesci! :O\n",
      "\n",
      "36) REWATCHING THE AMAZING SPIDERMAN\n",
      "\n",
      "37) : STOPPP OP ASKED MARK IF HE WATCHED THE NEW SPIDERMAN TRAILER AND THIS WAS HIS REACTION 😭\n",
      "\n",
      "\n",
      "38) : STOPPP OP ASKED MARK IF HE WATCHED THE NEW SPIDERMAN TRAILER AND THIS WAS HIS REACTION 😭\n",
      "\n",
      "\n",
      "39) wheres dmc? ratchet and clank? sly cooper? smt? silent hill? do better next time.\n",
      "\n",
      "anyways. kingdom hearts, mgs3, spiderman 2, mvc2, and fuckin. i dunno. i buy a cup of coffee with the last $5. this sucks. \n",
      "\n",
      "40) Bro Green Goblin is and will forever be the best Villain in a Spiderman movie + This movie was so mature and violent so different from the MCU world (obviously cause Spiderman belonged to Sony back then) \n",
      "\n",
      "41) @__TheGale__ Then they change the whole schematic on collecting by dropping same Spiderman in different poses with no artist being given mention. Sad that DC artist aren't getting paid but their collectibles are more distinct, valuable and definitive then Marvels whole line.\n",
      "\n",
      "42)  thank u im glad my og spiderman moots agree leah\n",
      "\n",
      "43) Just a quick and simple edit I thought of, may go back and touch it up and add more Spiderman NoWayHome SpidermanNoWayHome   1996   \n",
      "\n",
      "44) : STOPPP OP ASKED MARK IF HE WATCHED THE NEW SPIDERMAN TRAILER AND THIS WAS HIS REACTION 😭\n",
      "\n",
      "\n"
     ]
    }
   ],
   "source": [
    "# Printing positive tweets \n",
    "print('Printing positive tweets:\\n')\n",
    "j=1\n",
    "sortedDF = df.sort_values(by=['Polarity']) #Sort the tweets\n",
    "for i in range(0, sortedDF.shape[0] ):\n",
    "    if( sortedDF['Analysis'][i] == 'Positive'):\n",
    "        print(str(j) + ') '+ sortedDF['Tweets'][i])\n",
    "        print()\n",
    "        j= j+1"
   ]
  },
  {
   "cell_type": "markdown",
   "metadata": {},
   "source": [
    "### Negative Tweets"
   ]
  },
  {
   "cell_type": "code",
   "execution_count": 23,
   "metadata": {
    "ExecuteTime": {
     "end_time": "2021-08-27T21:06:50.802300Z",
     "start_time": "2021-08-27T21:06:50.794690Z"
    }
   },
   "outputs": [
    {
     "name": "stdout",
     "output_type": "stream",
     "text": [
      "Printing negative tweets:\n",
      "\n",
      "1) A piece done for Marvel licensing. Not sure if it's ever been used or not but you might see it from time to time on Marvel merch out in the world. SpiderManNoWayHome Spiderman MarvelStudios \n",
      "\n",
      "2) _thomas  21 Yeah me either, it's just a relatively minor plot point in his character arc, but i can't help it\n",
      "I like when spiderman feels like a casual dude, and his suits being billion dollar killing machines don't fit in with that narrative\n",
      "\n",
      "3) my partner, sitting through me talking about spiderman, knowing ill let them hit as soon as i shut up \n",
      "\n",
      "4) mark getting excited about the spiderman trailer i am SAD\n",
      "\n",
      "5) : Waiting on insomniac to update us about the spiderman game \n",
      "\n"
     ]
    }
   ],
   "source": [
    "# Printing negative tweets  \n",
    "print('Printing negative tweets:\\n')\n",
    "j=1\n",
    "sortedDF = df.sort_values(by=['Polarity'],ascending=False) #Sort the tweets\n",
    "for i in range(0, sortedDF.shape[0] ):\n",
    "    if( sortedDF['Analysis'][i] == 'Negative'):\n",
    "        print(str(j) + ') '+sortedDF['Tweets'][i])\n",
    "        print()\n",
    "        j=j+1"
   ]
  },
  {
   "cell_type": "markdown",
   "metadata": {},
   "source": [
    "### Basic Charts"
   ]
  },
  {
   "cell_type": "code",
   "execution_count": 24,
   "metadata": {
    "ExecuteTime": {
     "end_time": "2021-08-27T21:06:55.263868Z",
     "start_time": "2021-08-27T21:06:54.338962Z"
    }
   },
   "outputs": [
    {
     "data": {
      "image/png": "[encoded data removed]",
      "text/plain": [
       "<Figure size 576x432 with 1 Axes>"
      ]
     },
     "metadata": {
      "needs_background": "light"
     },
     "output_type": "display_data"
    }
   ],
   "source": [
    "# Plotting \n",
    "plt.figure(figsize=(8,6)) \n",
    "for i in range(0, df.shape[0]):\n",
    "    plt.scatter(df[\"Polarity\"][i], df[\"Subjectivity\"][i], color='Blue') \n",
    "# plt.scatter(x,y,color)   \n",
    "plt.title('Sentiment Analysis') \n",
    "plt.xlabel('Polarity') \n",
    "plt.ylabel('Subjectivity') \n",
    "plt.show()"
   ]
  },
  {
   "cell_type": "code",
   "execution_count": 25,
   "metadata": {
    "ExecuteTime": {
     "end_time": "2021-08-27T21:06:56.026252Z",
     "start_time": "2021-08-27T21:06:56.019608Z"
    }
   },
   "outputs": [
    {
     "data": {
      "text/plain": [
       "44.0"
      ]
     },
     "execution_count": 25,
     "metadata": {},
     "output_type": "execute_result"
    }
   ],
   "source": [
    "# Print the percentage of positive tweets\n",
    "ptweets = df[df.Analysis == 'Positive']\n",
    "ptweets = ptweets['Tweets']\n",
    "ptweets\n",
    "\n",
    "round( (ptweets.shape[0] / df.shape[0]) * 100 , 1)"
   ]
  },
  {
   "cell_type": "code",
   "execution_count": 26,
   "metadata": {
    "ExecuteTime": {
     "end_time": "2021-08-27T21:06:56.589461Z",
     "start_time": "2021-08-27T21:06:56.582755Z"
    }
   },
   "outputs": [
    {
     "data": {
      "text/plain": [
       "5.0"
      ]
     },
     "execution_count": 26,
     "metadata": {},
     "output_type": "execute_result"
    }
   ],
   "source": [
    "# Print the percentage of negative tweets\n",
    "ntweets = df[df.Analysis == 'Negative']\n",
    "ntweets = ntweets['Tweets']\n",
    "ntweets\n",
    "\n",
    "round( (ntweets.shape[0] / df.shape[0]) * 100, 1)"
   ]
  },
  {
   "cell_type": "code",
   "execution_count": 27,
   "metadata": {
    "ExecuteTime": {
     "end_time": "2021-08-27T21:06:59.294372Z",
     "start_time": "2021-08-27T21:06:59.287561Z"
    }
   },
   "outputs": [
    {
     "data": {
      "text/plain": [
       "Neutral     51\n",
       "Positive    44\n",
       "Negative     5\n",
       "Name: Analysis, dtype: int64"
      ]
     },
     "execution_count": 27,
     "metadata": {},
     "output_type": "execute_result"
    }
   ],
   "source": [
    "# Show the value counts\n",
    "df['Analysis'].value_counts()"
   ]
  },
  {
   "cell_type": "code",
   "execution_count": 28,
   "metadata": {
    "ExecuteTime": {
     "end_time": "2021-08-27T21:07:02.463128Z",
     "start_time": "2021-08-27T21:07:02.357291Z"
    }
   },
   "outputs": [
    {
     "data": {
      "image/png": "[encoded data removed]",
      "text/plain": [
       "<Figure size 432x288 with 1 Axes>"
      ]
     },
     "metadata": {
      "needs_background": "light"
     },
     "output_type": "display_data"
    }
   ],
   "source": [
    "# Plotting and visualizing the counts\n",
    "plt.title('Sentiment Analysis')\n",
    "plt.xlabel('Sentiment')\n",
    "plt.ylabel('Counts')\n",
    "df['Analysis'].value_counts().plot(kind = 'bar')\n",
    "plt.show()"
   ]
  },
  {
   "cell_type": "markdown",
   "metadata": {},
   "source": [
    "# Tweets in another language "
   ]
  },
  {
   "cell_type": "markdown",
   "metadata": {},
   "source": [
    "## Get Twitter Data"
   ]
  },
  {
   "cell_type": "code",
   "execution_count": 109,
   "metadata": {
    "ExecuteTime": {
     "end_time": "2021-08-27T23:40:51.795478Z",
     "start_time": "2021-08-27T23:40:50.689843Z"
    }
   },
   "outputs": [
    {
     "name": "stdout",
     "output_type": "stream",
     "text": [
      "Show the 5 recent tweets:\n",
      "\n",
      "1) Oye @JuanSGuarnizo sé que te gusta mucho Spiderman, mira esto que te va a antojar bastante! 😊 https://t.co/NogePTQtO4\n",
      "\n",
      "2) TÚ hiciste que esto sucediera. #SpiderMan #SinCaminoACasa rompió el récord mundial de 24 horas del tráiler más visto y comentado de la historia. ¡Gracias! https://t.co/YPpZxGpA9K\n",
      "\n",
      "3) \"¿Qué acaba de pasar?\"\n",
      "Mira el adelanto oficial de #SpiderMan: Sin Camino a Casa, exclusivamente en cines el 17 de diciembre. #SpiderManNoWayHome https://t.co/bzSEftE0tY\n",
      "\n",
      "4) RT @FoshyMT: El carisma que tiene Spiderman lo tienen pocos, que hombre por dios\n",
      "\n",
      "5) RT @SicarioRojas: acabo de volver a ver spiderman 2 de tobey maguire y estoy en condiciones de decir que es la mayor obra maestra del cine…\n",
      "\n"
     ]
    }
   ],
   "source": [
    "# Extract 100 tweets from the twitter user\n",
    "posts = api.search(q=\"Spiderman\", count = 100, lang=\"es\", tweet_mode=\"extended\", result_type=\"mixed\")\n",
    "\n",
    "#  Print the last 5 tweets\n",
    "print(\"Show the 5 recent tweets:\\n\")\n",
    "i=1\n",
    "for tweet in posts[:5]:\n",
    "    print(str(i) +') '+ tweet.full_text + '\\n')\n",
    "    i= i+1"
   ]
  },
  {
   "cell_type": "code",
   "execution_count": 107,
   "metadata": {
    "ExecuteTime": {
     "end_time": "2021-08-27T23:40:35.839242Z",
     "start_time": "2021-08-27T23:40:35.833327Z"
    }
   },
   "outputs": [],
   "source": [
    "# Create a function to translate\n",
    "def translateTweet(text):\n",
    "    return TextBlob(text).translate(from_lang='es',to='en')\n",
    "\n",
    "# Create function to store translated tweets in a DataFrame\n",
    "def translateTweets(tweets): \n",
    "    translated_tweets =[]\n",
    "    for tweet in tweets:\n",
    "        translated_tweets.append(translateTweet((tweet.full_text)))\n",
    "    df = pd.DataFrame(translated_tweets)\n",
    "    df['Tweets_Translated'] = pd.Series(df.fillna('').values.tolist()).str.join('')\n",
    "    df.drop(df.columns.difference(['Tweets_Translated']), 1, inplace=True)\n",
    "    return df"
   ]
  },
  {
   "cell_type": "code",
   "execution_count": 110,
   "metadata": {
    "ExecuteTime": {
     "end_time": "2021-08-27T23:41:18.389228Z",
     "start_time": "2021-08-27T23:41:00.923842Z"
    }
   },
   "outputs": [
    {
     "data": {
      "text/html": [
       "<div>\n",
       "<style scoped>\n",
       "    .dataframe tbody tr th:only-of-type {\n",
       "        vertical-align: middle;\n",
       "    }\n",
       "\n",
       "    .dataframe tbody tr th {\n",
       "        vertical-align: top;\n",
       "    }\n",
       "\n",
       "    .dataframe thead th {\n",
       "        text-align: right;\n",
       "    }\n",
       "</style>\n",
       "<table border=\"1\" class=\"dataframe\">\n",
       "  <thead>\n",
       "    <tr style=\"text-align: right;\">\n",
       "      <th></th>\n",
       "      <th>Tweets</th>\n",
       "      <th>Tweets_Translated</th>\n",
       "    </tr>\n",
       "  </thead>\n",
       "  <tbody>\n",
       "    <tr>\n",
       "      <th>0</th>\n",
       "      <td>Oye @JuanSGuarnizo sé que te gusta mucho Spide...</td>\n",
       "      <td>Hey @JuanSGuarnizo I know you like Spiderman a...</td>\n",
       "    </tr>\n",
       "    <tr>\n",
       "      <th>1</th>\n",
       "      <td>TÚ hiciste que esto sucediera. #SpiderMan #Sin...</td>\n",
       "      <td>YOU made this happen. #SpiderMan #SinCaminoACa...</td>\n",
       "    </tr>\n",
       "    <tr>\n",
       "      <th>2</th>\n",
       "      <td>\"¿Qué acaba de pasar?\"\\nMira el adelanto ofici...</td>\n",
       "      <td>\"What has happened?\"\\nCheck out the official p...</td>\n",
       "    </tr>\n",
       "    <tr>\n",
       "      <th>3</th>\n",
       "      <td>RT @FoshyMT: El carisma que tiene Spiderman lo...</td>\n",
       "      <td>RT @FoshyMT: The charisma that Spiderman has i...</td>\n",
       "    </tr>\n",
       "    <tr>\n",
       "      <th>4</th>\n",
       "      <td>RT @SicarioRojas: acabo de volver a ver spider...</td>\n",
       "      <td>RT @SicarioRojas: I just saw spiderman 2 by to...</td>\n",
       "    </tr>\n",
       "  </tbody>\n",
       "</table>\n",
       "</div>"
      ],
      "text/plain": [
       "                                              Tweets  \\\n",
       "0  Oye @JuanSGuarnizo sé que te gusta mucho Spide...   \n",
       "1  TÚ hiciste que esto sucediera. #SpiderMan #Sin...   \n",
       "2  \"¿Qué acaba de pasar?\"\\nMira el adelanto ofici...   \n",
       "3  RT @FoshyMT: El carisma que tiene Spiderman lo...   \n",
       "4  RT @SicarioRojas: acabo de volver a ver spider...   \n",
       "\n",
       "                                   Tweets_Translated  \n",
       "0  Hey @JuanSGuarnizo I know you like Spiderman a...  \n",
       "1  YOU made this happen. #SpiderMan #SinCaminoACa...  \n",
       "2  \"What has happened?\"\\nCheck out the official p...  \n",
       "3  RT @FoshyMT: The charisma that Spiderman has i...  \n",
       "4  RT @SicarioRojas: I just saw spiderman 2 by to...  "
      ]
     },
     "execution_count": 110,
     "metadata": {},
     "output_type": "execute_result"
    }
   ],
   "source": [
    "# Create a dataframe with a column called Tweets and Tweets_Translated\n",
    "df = pd.DataFrame([tweet.full_text for tweet in posts], columns=['Tweets']) \n",
    "df['Tweets_Translated'] = translateTweets(posts)\n",
    "# Show the first 5 rows of data\n",
    "df.head()"
   ]
  },
  {
   "cell_type": "code",
   "execution_count": 111,
   "metadata": {
    "ExecuteTime": {
     "end_time": "2021-08-27T23:41:24.170870Z",
     "start_time": "2021-08-27T23:41:24.156055Z"
    }
   },
   "outputs": [
    {
     "data": {
      "text/html": [
       "<div>\n",
       "<style scoped>\n",
       "    .dataframe tbody tr th:only-of-type {\n",
       "        vertical-align: middle;\n",
       "    }\n",
       "\n",
       "    .dataframe tbody tr th {\n",
       "        vertical-align: top;\n",
       "    }\n",
       "\n",
       "    .dataframe thead th {\n",
       "        text-align: right;\n",
       "    }\n",
       "</style>\n",
       "<table border=\"1\" class=\"dataframe\">\n",
       "  <thead>\n",
       "    <tr style=\"text-align: right;\">\n",
       "      <th></th>\n",
       "      <th>Tweets</th>\n",
       "      <th>Tweets_Translated</th>\n",
       "    </tr>\n",
       "  </thead>\n",
       "  <tbody>\n",
       "    <tr>\n",
       "      <th>0</th>\n",
       "      <td>Oye  sé que te gusta mucho Spiderman, mira est...</td>\n",
       "      <td>Hey  I know you like Spiderman a lot, look at ...</td>\n",
       "    </tr>\n",
       "    <tr>\n",
       "      <th>1</th>\n",
       "      <td>TÚ hiciste que esto sucediera. SpiderMan SinCa...</td>\n",
       "      <td>YOU made this happen. SpiderMan SinCaminoACasa...</td>\n",
       "    </tr>\n",
       "    <tr>\n",
       "      <th>2</th>\n",
       "      <td>\"¿Qué acaba de pasar?\"\\nMira el adelanto ofici...</td>\n",
       "      <td>\"What has happened?\"\\nCheck out the official p...</td>\n",
       "    </tr>\n",
       "    <tr>\n",
       "      <th>3</th>\n",
       "      <td>: El carisma que tiene Spiderman lo tienen poc...</td>\n",
       "      <td>: The charisma that Spiderman has is few, what...</td>\n",
       "    </tr>\n",
       "    <tr>\n",
       "      <th>4</th>\n",
       "      <td>: acabo de volver a ver spiderman 2 de tobey m...</td>\n",
       "      <td>: I just saw spiderman 2 by tobey maguire agai...</td>\n",
       "    </tr>\n",
       "    <tr>\n",
       "      <th>...</th>\n",
       "      <td>...</td>\n",
       "      <td>...</td>\n",
       "    </tr>\n",
       "    <tr>\n",
       "      <th>95</th>\n",
       "      <td>Yo no entro al cine desde spiderman 3</td>\n",
       "      <td>I have not been to the cinema since spiderman 3</td>\n",
       "    </tr>\n",
       "    <tr>\n",
       "      <th>96</th>\n",
       "      <td>1: si wey, ya vimos q te gusta spiderman ya du...</td>\n",
       "      <td>@ lesliefalcon01: yes wey, we already saw that...</td>\n",
       "    </tr>\n",
       "    <tr>\n",
       "      <th>97</th>\n",
       "      <td>El número 1 de Amazing Spiderman!!! PS5Share, ...</td>\n",
       "      <td>The number 1 of Amazing Spiderman !!!  PS5Shar...</td>\n",
       "    </tr>\n",
       "    <tr>\n",
       "      <th>98</th>\n",
       "      <td>_: Vamos a ver Spiderman No Way Home y cada qu...</td>\n",
       "      <td>_: We are going to see Spiderman No Way Home a...</td>\n",
       "    </tr>\n",
       "    <tr>\n",
       "      <th>99</th>\n",
       "      <td>Alex, te paso una escena de Spiderman: nwh si ...</td>\n",
       "      <td>Alex, I'll give you a scene from Spiderman: nw...</td>\n",
       "    </tr>\n",
       "  </tbody>\n",
       "</table>\n",
       "<p>100 rows × 2 columns</p>\n",
       "</div>"
      ],
      "text/plain": [
       "                                               Tweets  \\\n",
       "0   Oye  sé que te gusta mucho Spiderman, mira est...   \n",
       "1   TÚ hiciste que esto sucediera. SpiderMan SinCa...   \n",
       "2   \"¿Qué acaba de pasar?\"\\nMira el adelanto ofici...   \n",
       "3   : El carisma que tiene Spiderman lo tienen poc...   \n",
       "4   : acabo de volver a ver spiderman 2 de tobey m...   \n",
       "..                                                ...   \n",
       "95              Yo no entro al cine desde spiderman 3   \n",
       "96  1: si wey, ya vimos q te gusta spiderman ya du...   \n",
       "97  El número 1 de Amazing Spiderman!!! PS5Share, ...   \n",
       "98  _: Vamos a ver Spiderman No Way Home y cada qu...   \n",
       "99  Alex, te paso una escena de Spiderman: nwh si ...   \n",
       "\n",
       "                                    Tweets_Translated  \n",
       "0   Hey  I know you like Spiderman a lot, look at ...  \n",
       "1   YOU made this happen. SpiderMan SinCaminoACasa...  \n",
       "2   \"What has happened?\"\\nCheck out the official p...  \n",
       "3   : The charisma that Spiderman has is few, what...  \n",
       "4   : I just saw spiderman 2 by tobey maguire agai...  \n",
       "..                                                ...  \n",
       "95    I have not been to the cinema since spiderman 3  \n",
       "96  @ lesliefalcon01: yes wey, we already saw that...  \n",
       "97  The number 1 of Amazing Spiderman !!!  PS5Shar...  \n",
       "98  _: We are going to see Spiderman No Way Home a...  \n",
       "99  Alex, I'll give you a scene from Spiderman: nw...  \n",
       "\n",
       "[100 rows x 2 columns]"
      ]
     },
     "execution_count": 111,
     "metadata": {},
     "output_type": "execute_result"
    }
   ],
   "source": [
    "# Clean the tweets\n",
    "df['Tweets'] = df['Tweets'].apply(cleanTxt)\n",
    "df['Tweets_Translated'] = df['Tweets_Translated'].apply(cleanTxt)\n",
    "# Show the cleaned tweets\n",
    "df"
   ]
  },
  {
   "cell_type": "markdown",
   "metadata": {},
   "source": [
    "## Sentiments"
   ]
  },
  {
   "cell_type": "code",
   "execution_count": 112,
   "metadata": {
    "ExecuteTime": {
     "end_time": "2021-08-27T23:41:26.864097Z",
     "start_time": "2021-08-27T23:41:26.796231Z"
    }
   },
   "outputs": [
    {
     "data": {
      "text/html": [
       "<div>\n",
       "<style scoped>\n",
       "    .dataframe tbody tr th:only-of-type {\n",
       "        vertical-align: middle;\n",
       "    }\n",
       "\n",
       "    .dataframe tbody tr th {\n",
       "        vertical-align: top;\n",
       "    }\n",
       "\n",
       "    .dataframe thead th {\n",
       "        text-align: right;\n",
       "    }\n",
       "</style>\n",
       "<table border=\"1\" class=\"dataframe\">\n",
       "  <thead>\n",
       "    <tr style=\"text-align: right;\">\n",
       "      <th></th>\n",
       "      <th>Tweets</th>\n",
       "      <th>Tweets_Translated</th>\n",
       "      <th>Subjectivity</th>\n",
       "      <th>Polarity</th>\n",
       "    </tr>\n",
       "  </thead>\n",
       "  <tbody>\n",
       "    <tr>\n",
       "      <th>0</th>\n",
       "      <td>Oye  sé que te gusta mucho Spiderman, mira est...</td>\n",
       "      <td>Hey  I know you like Spiderman a lot, look at ...</td>\n",
       "      <td>0.00</td>\n",
       "      <td>0.000</td>\n",
       "    </tr>\n",
       "    <tr>\n",
       "      <th>1</th>\n",
       "      <td>TÚ hiciste que esto sucediera. SpiderMan SinCa...</td>\n",
       "      <td>YOU made this happen. SpiderMan SinCaminoACasa...</td>\n",
       "      <td>0.35</td>\n",
       "      <td>0.375</td>\n",
       "    </tr>\n",
       "    <tr>\n",
       "      <th>2</th>\n",
       "      <td>\"¿Qué acaba de pasar?\"\\nMira el adelanto ofici...</td>\n",
       "      <td>\"What has happened?\"\\nCheck out the official p...</td>\n",
       "      <td>0.00</td>\n",
       "      <td>0.000</td>\n",
       "    </tr>\n",
       "    <tr>\n",
       "      <th>3</th>\n",
       "      <td>: El carisma que tiene Spiderman lo tienen poc...</td>\n",
       "      <td>: The charisma that Spiderman has is few, what...</td>\n",
       "      <td>0.10</td>\n",
       "      <td>-0.200</td>\n",
       "    </tr>\n",
       "    <tr>\n",
       "      <th>4</th>\n",
       "      <td>: acabo de volver a ver spiderman 2 de tobey m...</td>\n",
       "      <td>: I just saw spiderman 2 by tobey maguire agai...</td>\n",
       "      <td>1.00</td>\n",
       "      <td>1.000</td>\n",
       "    </tr>\n",
       "    <tr>\n",
       "      <th>...</th>\n",
       "      <td>...</td>\n",
       "      <td>...</td>\n",
       "      <td>...</td>\n",
       "      <td>...</td>\n",
       "    </tr>\n",
       "    <tr>\n",
       "      <th>95</th>\n",
       "      <td>Yo no entro al cine desde spiderman 3</td>\n",
       "      <td>I have not been to the cinema since spiderman 3</td>\n",
       "      <td>0.00</td>\n",
       "      <td>0.000</td>\n",
       "    </tr>\n",
       "    <tr>\n",
       "      <th>96</th>\n",
       "      <td>1: si wey, ya vimos q te gusta spiderman ya du...</td>\n",
       "      <td>@ lesliefalcon01: yes wey, we already saw that...</td>\n",
       "      <td>0.00</td>\n",
       "      <td>0.000</td>\n",
       "    </tr>\n",
       "    <tr>\n",
       "      <th>97</th>\n",
       "      <td>El número 1 de Amazing Spiderman!!! PS5Share, ...</td>\n",
       "      <td>The number 1 of Amazing Spiderman !!!  PS5Shar...</td>\n",
       "      <td>0.90</td>\n",
       "      <td>1.000</td>\n",
       "    </tr>\n",
       "    <tr>\n",
       "      <th>98</th>\n",
       "      <td>_: Vamos a ver Spiderman No Way Home y cada qu...</td>\n",
       "      <td>_: We are going to see Spiderman No Way Home a...</td>\n",
       "      <td>0.00</td>\n",
       "      <td>0.000</td>\n",
       "    </tr>\n",
       "    <tr>\n",
       "      <th>99</th>\n",
       "      <td>Alex, te paso una escena de Spiderman: nwh si ...</td>\n",
       "      <td>Alex, I'll give you a scene from Spiderman: nw...</td>\n",
       "      <td>0.00</td>\n",
       "      <td>0.000</td>\n",
       "    </tr>\n",
       "  </tbody>\n",
       "</table>\n",
       "<p>100 rows × 4 columns</p>\n",
       "</div>"
      ],
      "text/plain": [
       "                                               Tweets  \\\n",
       "0   Oye  sé que te gusta mucho Spiderman, mira est...   \n",
       "1   TÚ hiciste que esto sucediera. SpiderMan SinCa...   \n",
       "2   \"¿Qué acaba de pasar?\"\\nMira el adelanto ofici...   \n",
       "3   : El carisma que tiene Spiderman lo tienen poc...   \n",
       "4   : acabo de volver a ver spiderman 2 de tobey m...   \n",
       "..                                                ...   \n",
       "95              Yo no entro al cine desde spiderman 3   \n",
       "96  1: si wey, ya vimos q te gusta spiderman ya du...   \n",
       "97  El número 1 de Amazing Spiderman!!! PS5Share, ...   \n",
       "98  _: Vamos a ver Spiderman No Way Home y cada qu...   \n",
       "99  Alex, te paso una escena de Spiderman: nwh si ...   \n",
       "\n",
       "                                    Tweets_Translated  Subjectivity  Polarity  \n",
       "0   Hey  I know you like Spiderman a lot, look at ...          0.00     0.000  \n",
       "1   YOU made this happen. SpiderMan SinCaminoACasa...          0.35     0.375  \n",
       "2   \"What has happened?\"\\nCheck out the official p...          0.00     0.000  \n",
       "3   : The charisma that Spiderman has is few, what...          0.10    -0.200  \n",
       "4   : I just saw spiderman 2 by tobey maguire agai...          1.00     1.000  \n",
       "..                                                ...           ...       ...  \n",
       "95    I have not been to the cinema since spiderman 3          0.00     0.000  \n",
       "96  @ lesliefalcon01: yes wey, we already saw that...          0.00     0.000  \n",
       "97  The number 1 of Amazing Spiderman !!!  PS5Shar...          0.90     1.000  \n",
       "98  _: We are going to see Spiderman No Way Home a...          0.00     0.000  \n",
       "99  Alex, I'll give you a scene from Spiderman: nw...          0.00     0.000  \n",
       "\n",
       "[100 rows x 4 columns]"
      ]
     },
     "execution_count": 112,
     "metadata": {},
     "output_type": "execute_result"
    }
   ],
   "source": [
    "# Create two new columns 'Subjectivity' & 'Polarity'\n",
    "df['Subjectivity'] = df['Tweets_Translated'].apply(getSubjectivity)\n",
    "df['Polarity'] = df['Tweets_Translated'].apply(getPolarity)\n",
    "\n",
    "# Show the new dataframe with columns 'Subjectivity' & 'Polarity'\n",
    "df"
   ]
  },
  {
   "cell_type": "markdown",
   "metadata": {
    "ExecuteTime": {
     "end_time": "2021-08-27T23:30:23.243060Z",
     "start_time": "2021-08-27T23:30:23.238298Z"
    }
   },
   "source": [
    "## Analysis"
   ]
  },
  {
   "cell_type": "code",
   "execution_count": 113,
   "metadata": {
    "ExecuteTime": {
     "end_time": "2021-08-27T23:41:28.824623Z",
     "start_time": "2021-08-27T23:41:28.805179Z"
    }
   },
   "outputs": [
    {
     "data": {
      "text/html": [
       "<div>\n",
       "<style scoped>\n",
       "    .dataframe tbody tr th:only-of-type {\n",
       "        vertical-align: middle;\n",
       "    }\n",
       "\n",
       "    .dataframe tbody tr th {\n",
       "        vertical-align: top;\n",
       "    }\n",
       "\n",
       "    .dataframe thead th {\n",
       "        text-align: right;\n",
       "    }\n",
       "</style>\n",
       "<table border=\"1\" class=\"dataframe\">\n",
       "  <thead>\n",
       "    <tr style=\"text-align: right;\">\n",
       "      <th></th>\n",
       "      <th>Tweets</th>\n",
       "      <th>Tweets_Translated</th>\n",
       "      <th>Subjectivity</th>\n",
       "      <th>Polarity</th>\n",
       "      <th>Analysis</th>\n",
       "    </tr>\n",
       "  </thead>\n",
       "  <tbody>\n",
       "    <tr>\n",
       "      <th>0</th>\n",
       "      <td>Oye  sé que te gusta mucho Spiderman, mira est...</td>\n",
       "      <td>Hey  I know you like Spiderman a lot, look at ...</td>\n",
       "      <td>0.00</td>\n",
       "      <td>0.000</td>\n",
       "      <td>Neutral</td>\n",
       "    </tr>\n",
       "    <tr>\n",
       "      <th>1</th>\n",
       "      <td>TÚ hiciste que esto sucediera. SpiderMan SinCa...</td>\n",
       "      <td>YOU made this happen. SpiderMan SinCaminoACasa...</td>\n",
       "      <td>0.35</td>\n",
       "      <td>0.375</td>\n",
       "      <td>Positive</td>\n",
       "    </tr>\n",
       "    <tr>\n",
       "      <th>2</th>\n",
       "      <td>\"¿Qué acaba de pasar?\"\\nMira el adelanto ofici...</td>\n",
       "      <td>\"What has happened?\"\\nCheck out the official p...</td>\n",
       "      <td>0.00</td>\n",
       "      <td>0.000</td>\n",
       "      <td>Neutral</td>\n",
       "    </tr>\n",
       "    <tr>\n",
       "      <th>3</th>\n",
       "      <td>: El carisma que tiene Spiderman lo tienen poc...</td>\n",
       "      <td>: The charisma that Spiderman has is few, what...</td>\n",
       "      <td>0.10</td>\n",
       "      <td>-0.200</td>\n",
       "      <td>Negative</td>\n",
       "    </tr>\n",
       "    <tr>\n",
       "      <th>4</th>\n",
       "      <td>: acabo de volver a ver spiderman 2 de tobey m...</td>\n",
       "      <td>: I just saw spiderman 2 by tobey maguire agai...</td>\n",
       "      <td>1.00</td>\n",
       "      <td>1.000</td>\n",
       "      <td>Positive</td>\n",
       "    </tr>\n",
       "    <tr>\n",
       "      <th>...</th>\n",
       "      <td>...</td>\n",
       "      <td>...</td>\n",
       "      <td>...</td>\n",
       "      <td>...</td>\n",
       "      <td>...</td>\n",
       "    </tr>\n",
       "    <tr>\n",
       "      <th>95</th>\n",
       "      <td>Yo no entro al cine desde spiderman 3</td>\n",
       "      <td>I have not been to the cinema since spiderman 3</td>\n",
       "      <td>0.00</td>\n",
       "      <td>0.000</td>\n",
       "      <td>Neutral</td>\n",
       "    </tr>\n",
       "    <tr>\n",
       "      <th>96</th>\n",
       "      <td>1: si wey, ya vimos q te gusta spiderman ya du...</td>\n",
       "      <td>@ lesliefalcon01: yes wey, we already saw that...</td>\n",
       "      <td>0.00</td>\n",
       "      <td>0.000</td>\n",
       "      <td>Neutral</td>\n",
       "    </tr>\n",
       "    <tr>\n",
       "      <th>97</th>\n",
       "      <td>El número 1 de Amazing Spiderman!!! PS5Share, ...</td>\n",
       "      <td>The number 1 of Amazing Spiderman !!!  PS5Shar...</td>\n",
       "      <td>0.90</td>\n",
       "      <td>1.000</td>\n",
       "      <td>Positive</td>\n",
       "    </tr>\n",
       "    <tr>\n",
       "      <th>98</th>\n",
       "      <td>_: Vamos a ver Spiderman No Way Home y cada qu...</td>\n",
       "      <td>_: We are going to see Spiderman No Way Home a...</td>\n",
       "      <td>0.00</td>\n",
       "      <td>0.000</td>\n",
       "      <td>Neutral</td>\n",
       "    </tr>\n",
       "    <tr>\n",
       "      <th>99</th>\n",
       "      <td>Alex, te paso una escena de Spiderman: nwh si ...</td>\n",
       "      <td>Alex, I'll give you a scene from Spiderman: nw...</td>\n",
       "      <td>0.00</td>\n",
       "      <td>0.000</td>\n",
       "      <td>Neutral</td>\n",
       "    </tr>\n",
       "  </tbody>\n",
       "</table>\n",
       "<p>100 rows × 5 columns</p>\n",
       "</div>"
      ],
      "text/plain": [
       "                                               Tweets  \\\n",
       "0   Oye  sé que te gusta mucho Spiderman, mira est...   \n",
       "1   TÚ hiciste que esto sucediera. SpiderMan SinCa...   \n",
       "2   \"¿Qué acaba de pasar?\"\\nMira el adelanto ofici...   \n",
       "3   : El carisma que tiene Spiderman lo tienen poc...   \n",
       "4   : acabo de volver a ver spiderman 2 de tobey m...   \n",
       "..                                                ...   \n",
       "95              Yo no entro al cine desde spiderman 3   \n",
       "96  1: si wey, ya vimos q te gusta spiderman ya du...   \n",
       "97  El número 1 de Amazing Spiderman!!! PS5Share, ...   \n",
       "98  _: Vamos a ver Spiderman No Way Home y cada qu...   \n",
       "99  Alex, te paso una escena de Spiderman: nwh si ...   \n",
       "\n",
       "                                    Tweets_Translated  Subjectivity  Polarity  \\\n",
       "0   Hey  I know you like Spiderman a lot, look at ...          0.00     0.000   \n",
       "1   YOU made this happen. SpiderMan SinCaminoACasa...          0.35     0.375   \n",
       "2   \"What has happened?\"\\nCheck out the official p...          0.00     0.000   \n",
       "3   : The charisma that Spiderman has is few, what...          0.10    -0.200   \n",
       "4   : I just saw spiderman 2 by tobey maguire agai...          1.00     1.000   \n",
       "..                                                ...           ...       ...   \n",
       "95    I have not been to the cinema since spiderman 3          0.00     0.000   \n",
       "96  @ lesliefalcon01: yes wey, we already saw that...          0.00     0.000   \n",
       "97  The number 1 of Amazing Spiderman !!!  PS5Shar...          0.90     1.000   \n",
       "98  _: We are going to see Spiderman No Way Home a...          0.00     0.000   \n",
       "99  Alex, I'll give you a scene from Spiderman: nw...          0.00     0.000   \n",
       "\n",
       "    Analysis  \n",
       "0    Neutral  \n",
       "1   Positive  \n",
       "2    Neutral  \n",
       "3   Negative  \n",
       "4   Positive  \n",
       "..       ...  \n",
       "95   Neutral  \n",
       "96   Neutral  \n",
       "97  Positive  \n",
       "98   Neutral  \n",
       "99   Neutral  \n",
       "\n",
       "[100 rows x 5 columns]"
      ]
     },
     "execution_count": 113,
     "metadata": {},
     "output_type": "execute_result"
    }
   ],
   "source": [
    "df['Analysis'] = df['Polarity'].apply(getAnalysis)\n",
    "# Show the dataframe\n",
    "df"
   ]
  },
  {
   "cell_type": "markdown",
   "metadata": {},
   "source": [
    "### Positive tweets"
   ]
  },
  {
   "cell_type": "code",
   "execution_count": 114,
   "metadata": {
    "ExecuteTime": {
     "end_time": "2021-08-27T23:41:31.506172Z",
     "start_time": "2021-08-27T23:41:31.494799Z"
    }
   },
   "outputs": [
    {
     "name": "stdout",
     "output_type": "stream",
     "text": [
      "Printing positive tweets:\n",
      "\n",
      "1) TÚ hiciste que esto sucediera. SpiderMan SinCaminoACasa rompió el récord mundial de 24 horas del tráiler más visto y comentado de la historia. ¡Gracias! \n",
      "\n",
      "2) : acabo de volver a ver spiderman 2 de tobey maguire y estoy en condiciones de decir que es la mayor obra maestra del cine…\n",
      "\n",
      "3) : Y asi comenzó esta locura hermosa, llamaba Spiderman 🕷💕\n",
      "\n",
      "SpiderManNoWayHome \n",
      "\n",
      "4) : hola soy malena, tengo 15 y soy fan de marvel desde hace ya bastante tiempo. me gusta tanto xmen como el mcu, pero mis pe…\n",
      "\n",
      "5) 666: Ayer estaba viendo la original de Spiderman con mis padres y tuve que contenerme la risa muy bestia cuando llegamos a e…\n",
      "\n",
      "6) 666: Ayer estaba viendo la original de Spiderman con mis padres y tuve que contenerme la risa muy bestia cuando llegamos a e…\n",
      "\n",
      "7) : Están raros los subtitulos del trailer de Spiderman \n",
      "\n",
      "8) Está bien que les guste el Spiderman de Tobey Maguire, pero hay que estar pero llevado del crack para decir que su interpretación es fiel al personaje.\n",
      "\n",
      "9) 666: Ayer estaba viendo la original de Spiderman con mis padres y tuve que contenerme la risa muy bestia cuando llegamos a e…\n",
      "\n",
      "10) 666: Ayer estaba viendo la original de Spiderman con mis padres y tuve que contenerme la risa muy bestia cuando llegamos a e…\n",
      "\n",
      "11) 666: Ayer estaba viendo la original de Spiderman con mis padres y tuve que contenerme la risa muy bestia cuando llegamos a e…\n",
      "\n",
      "12) : Mi razón principal para ver Spiderman No Way Home es cómo reacciona este wey al enterarse que Peter Parker es Spiderman h…\n",
      "\n",
      "13) 666: Ayer estaba viendo la original de Spiderman con mis padres y tuve que contenerme la risa muy bestia cuando llegamos a e…\n",
      "\n",
      "14) 666: Ayer estaba viendo la original de Spiderman con mis padres y tuve que contenerme la risa muy bestia cuando llegamos a e…\n",
      "\n",
      "15) Dios me dio la vida pero los vatos que hacen parkour y se sienten Spiderman me quitan las ganas de vivirla.\n",
      "\n",
      "16) : 🔹️Tobey Maguire - Buen Peter, buen Spiderman\n",
      "🔹️Andrew Garfield - Buen Spiderman\n",
      "🔹️Tom Holland- Buenos días \n",
      "\n",
      "Había perdid…\n",
      "\n",
      "17) _007:  -Mejor Pelicula De Dc: Superman (1978 y 1980) y Batman etapas Burton/Nolan.\n",
      "-Mejor Pelicula Del DCEU: Wonder…\n",
      "\n",
      "18) Los que dicen que los brazos mecánicos controlan al Doc Ock no vieron bien Spiderman 2. Si bien estos lo manipulan, Octavius siempre es consciente de sus actos\n",
      "\n",
      "19) 666: Ayer estaba viendo la original de Spiderman con mis padres y tuve que contenerme la risa muy bestia cuando llegamos a e…\n",
      "\n",
      "20) Acho yo amo a spiderman 🕷 como nadie en este cabron mundo real \n",
      "\n",
      "21) 666: Ayer estaba viendo la original de Spiderman con mis padres y tuve que contenerme la risa muy bestia cuando llegamos a e…\n",
      "\n",
      "22) 666: Ayer estaba viendo la original de Spiderman con mis padres y tuve que contenerme la risa muy bestia cuando llegamos a e…\n",
      "\n",
      "23) El Bicho en el united, Messi con la 30, capaz vuelve el spiderman de Tobey al cine, alto viaje en el tiempo\n",
      "\n",
      "24) Spiderman Far from home (2019)\n",
      "Viendo esta peli y las escenas post créditos puedes imaginarte que no han pensado mucho que hacer con el MCU una vez acabado el tema de las gemas del infinito. \n",
      "\n",
      "25) Solo diré una palabra Amazing Spiderman :) \n",
      "\n",
      "26) Este es el mejor arte de spiderman no acepto críticas \n",
      "\n",
      "27) Claro, y como es  spiderman, las hamburguesas las acompañan con una Spriter Parker \n",
      "\n",
      "28) Ninguna de Spiderman va a tener tantos memes como las originales. \n",
      "\n",
      "29) : Y asi comenzó esta locura hermosa, llamaba Spiderman 🕷💕\n",
      "\n",
      "SpiderManNoWayHome \n",
      "\n",
      "30) Pos bueno me llamo Luis, 19, vivo en España. Soy fan desde pequeño. Empezó con el Spiderman de Tobey. 5 añitos y ya todo obsesionado. Y si acertaste, mi personaje favorito es Spidey. Y si, el UCM es fabuloso. Pos nada si quieres hablame estaré encantado de leerte.\n",
      "integracionUCM \n",
      "\n",
      "31) 333: Ahorita todos muy fan de spiderman y no se saben la de witsi witsi araña🕸🕷\n",
      "Que lamentable….!! 🤦🏻‍♂️\n",
      "\n",
      "32) : Hola, soy zara y soy de Venezuela. Adoro Marvel y siempre ando pendiente de todo lo relacionado a ello. Spiderman, Ave…\n",
      "\n",
      "33) : Y asi comenzó esta locura hermosa, llamaba Spiderman 🕷💕\n",
      "\n",
      "SpiderManNoWayHome \n",
      "\n",
      "34) y es genial porque se presenta al torneo de lucha libre como spiderman mostrando sus poderes y su rostro (a parte de mostrarlos también en el insti) para que después sea un superhéroe y nadie sepa quién es jdjsdjdjdj\n",
      "\n",
      "35) Ahorita todos muy fan de spiderman y no se saben la de witsi witsi araña🕸🕷\n",
      "Que lamentable….!! 🤦🏻‍♂️\n",
      "\n",
      "36) Que pasada la escena de las grúas en The Amazing Spiderman\n",
      "\n",
      "37) _C_99: A ver si muy fan de spiderman dime ¿cuándo metió su primer gol en el Toluca?\n",
      "\n",
      "38) : En la nueva Spiderman vemos los problemas de intentar montar un trabajo y que se devuelva.\n",
      "\n",
      "39) _C_99: A ver si muy fan de spiderman dime ¿cuándo metió su primer gol en el Toluca?\n",
      "\n",
      "40) _C_99: A ver si muy fan de spiderman dime ¿cuándo metió su primer gol en el Toluca?\n",
      "\n",
      "41) Spiderman 2 lleva 30 minutos y tiene más perlas de vida que la mitad del MCU\n",
      "\n",
      "42) Spiderman 2: la escena icónica de la película para mí es la pelea del tren, que lo vean no solo como súper héroe sino como lo que es: un chico de 20 tantos llevando todo el peso en sus hombros. Y defender su identidad y a él \n",
      "\n",
      "43) : Grande  y  en el trailer de Spiderman jaja \n",
      "\n",
      "44) 🕰 A las 8 pm vamos a hablar sobre Spiderman.\n",
      "\n",
      "✅ 'Geek's Club' con Marto GoAg ().\n",
      "\n",
      "➡ Averigua mas sobre este heroe que ha marcado a mas de una generación. \n",
      "\n",
      "🌐 En  \n",
      "\n",
      "45)  _sama Es por eso que superior spiderman es SUPERIOR\n",
      "\n",
      "46) El número 1 de Amazing Spiderman!!! PS5Share, MarvelsSpiderManMilesMorales \n",
      "\n"
     ]
    }
   ],
   "source": [
    "# Printing positive tweets \n",
    "print('Printing positive tweets:\\n')\n",
    "j=1\n",
    "sortedDF = df.sort_values(by=['Polarity']) #Sort the tweets\n",
    "for i in range(0, sortedDF.shape[0] ):\n",
    "    if( sortedDF['Analysis'][i] == 'Positive'):\n",
    "        print(str(j) + ') '+ sortedDF['Tweets'][i])\n",
    "        print()\n",
    "        j= j+1"
   ]
  },
  {
   "cell_type": "markdown",
   "metadata": {},
   "source": [
    "### Negative Tweets "
   ]
  },
  {
   "cell_type": "code",
   "execution_count": 115,
   "metadata": {
    "ExecuteTime": {
     "end_time": "2021-08-27T23:41:47.251445Z",
     "start_time": "2021-08-27T23:41:47.243849Z"
    }
   },
   "outputs": [
    {
     "name": "stdout",
     "output_type": "stream",
     "text": [
      "Printing negative tweets:\n",
      "\n",
      "1) : El carisma que tiene Spiderman lo tienen pocos, que hombre por dios\n",
      "\n",
      "2) : Ya tengo con quien ir a ver Spiderman no way home y ustedes pobres?\n",
      "\n",
      "3) El carisma que tiene Spiderman lo tienen pocos, que hombre por dios \n",
      "\n",
      "4) q complicada la cronología de spiderman, innecesario meterle tantos universos\n",
      "\n",
      "5) : Las primeras películas de Spiderman no están ni en Playdede ni en Cuevana.... Triste\n",
      "\n",
      "6) Mi papá me dijo que quería ir a ver Spiderman NWH pero que no le entendió al tráiler.\n",
      "Siento que fallé como fan de Marvel.\n",
      "\n"
     ]
    }
   ],
   "source": [
    "# Printing negative tweets  \n",
    "print('Printing negative tweets:\\n')\n",
    "j=1\n",
    "sortedDF = df.sort_values(by=['Polarity'],ascending=False) #Sort the tweets\n",
    "for i in range(0, sortedDF.shape[0] ):\n",
    "    if( sortedDF['Analysis'][i] == 'Negative'):\n",
    "        print(str(j) + ') '+sortedDF['Tweets'][i])\n",
    "        print()\n",
    "        j=j+1"
   ]
  },
  {
   "cell_type": "markdown",
   "metadata": {},
   "source": [
    "### Basic Charts "
   ]
  },
  {
   "cell_type": "code",
   "execution_count": 116,
   "metadata": {
    "ExecuteTime": {
     "end_time": "2021-08-27T23:42:05.157643Z",
     "start_time": "2021-08-27T23:42:04.085841Z"
    }
   },
   "outputs": [
    {
     "data": {
      "image/png": "[encoded data removed]",
      "text/plain": [
       "<Figure size 576x432 with 1 Axes>"
      ]
     },
     "metadata": {
      "needs_background": "light"
     },
     "output_type": "display_data"
    }
   ],
   "source": [
    "# Plotting \n",
    "plt.figure(figsize=(8,6)) \n",
    "for i in range(0, df.shape[0]):\n",
    "    plt.scatter(df[\"Polarity\"][i], df[\"Subjectivity\"][i], color='Blue') \n",
    "# plt.scatter(x,y,color)   \n",
    "plt.title('Sentiment Analysis') \n",
    "plt.xlabel('Polarity') \n",
    "plt.ylabel('Subjectivity') \n",
    "plt.show()"
   ]
  },
  {
   "cell_type": "code",
   "execution_count": 117,
   "metadata": {
    "ExecuteTime": {
     "end_time": "2021-08-27T23:42:10.560116Z",
     "start_time": "2021-08-27T23:42:10.550989Z"
    }
   },
   "outputs": [
    {
     "data": {
      "text/plain": [
       "46.0"
      ]
     },
     "execution_count": 117,
     "metadata": {},
     "output_type": "execute_result"
    }
   ],
   "source": [
    "# Print the percentage of positive tweets\n",
    "ptweets = df[df.Analysis == 'Positive']\n",
    "ptweets = ptweets['Tweets']\n",
    "ptweets\n",
    "\n",
    "round( (ptweets.shape[0] / df.shape[0]) * 100 , 1)"
   ]
  },
  {
   "cell_type": "code",
   "execution_count": 118,
   "metadata": {
    "ExecuteTime": {
     "end_time": "2021-08-27T23:42:11.561479Z",
     "start_time": "2021-08-27T23:42:11.554999Z"
    }
   },
   "outputs": [
    {
     "data": {
      "text/plain": [
       "6.0"
      ]
     },
     "execution_count": 118,
     "metadata": {},
     "output_type": "execute_result"
    }
   ],
   "source": [
    "# Print the percentage of negative tweets\n",
    "ntweets = df[df.Analysis == 'Negative']\n",
    "ntweets = ntweets['Tweets']\n",
    "ntweets\n",
    "\n",
    "round( (ntweets.shape[0] / df.shape[0]) * 100, 1)"
   ]
  },
  {
   "cell_type": "code",
   "execution_count": 119,
   "metadata": {
    "ExecuteTime": {
     "end_time": "2021-08-27T23:42:14.191459Z",
     "start_time": "2021-08-27T23:42:14.183341Z"
    }
   },
   "outputs": [
    {
     "data": {
      "text/plain": [
       "Neutral     48\n",
       "Positive    46\n",
       "Negative     6\n",
       "Name: Analysis, dtype: int64"
      ]
     },
     "execution_count": 119,
     "metadata": {},
     "output_type": "execute_result"
    }
   ],
   "source": [
    "# Show the value counts\n",
    "df['Analysis'].value_counts()"
   ]
  },
  {
   "cell_type": "code",
   "execution_count": 121,
   "metadata": {
    "ExecuteTime": {
     "end_time": "2021-08-27T23:44:58.460531Z",
     "start_time": "2021-08-27T23:44:58.451850Z"
    }
   },
   "outputs": [
    {
     "name": "stdout",
     "output_type": "stream",
     "text": [
      "ID: 1430862859177766915\n",
      "2021-08-26 12:01:04\n",
      "CooLifeGame\n",
      "Oye @JuanSGuarnizo sé que te gusta mucho Spiderman, mira esto que te va a antojar bastante! 😊 https://t.co/NogePTQtO4\n",
      "\n",
      "\n",
      "ID: 1430999284317523970\n",
      "2021-08-26 21:03:10\n",
      "SonyPicturesMX\n",
      "TÚ hiciste que esto sucediera. #SpiderMan #SinCaminoACasa rompió el récord mundial de 24 horas del tráiler más visto y comentado de la historia. ¡Gracias! https://t.co/YPpZxGpA9K\n",
      "\n",
      "\n",
      "ID: 1429992823949045767\n",
      "2021-08-24 02:23:51\n",
      "MarvelLATAM\n",
      "\"¿Qué acaba de pasar?\"\n",
      "Mira el adelanto oficial de #SpiderMan: Sin Camino a Casa, exclusivamente en cines el 17 de diciembre. #SpiderManNoWayHome https://t.co/bzSEftE0tY\n",
      "\n",
      "\n"
     ]
    }
   ],
   "source": [
    "# Just a reference to get info from api \n",
    "for info in posts[:3]:\n",
    "    print(\"ID: {}\".format(info.id))\n",
    "    print(info.created_at)\n",
    "    print(info.user.screen_name)\n",
    "    print(info.full_text)\n",
    "    print(\"\\n\")"
   ]
  },
  {
   "cell_type": "code",
   "execution_count": 120,
   "metadata": {
    "ExecuteTime": {
     "end_time": "2021-08-27T23:42:18.258679Z",
     "start_time": "2021-08-27T23:42:18.033307Z"
    }
   },
   "outputs": [
    {
     "data": {
      "image/png": "[encoded data removed]",
      "text/plain": [
       "<Figure size 432x288 with 1 Axes>"
      ]
     },
     "metadata": {
      "needs_background": "light"
     },
     "output_type": "display_data"
    }
   ],
   "source": [
    "# Plotting and visualizing the counts\n",
    "plt.title('Sentiment Analysis')\n",
    "plt.xlabel('Sentiment')\n",
    "plt.ylabel('Counts')\n",
    "df['Analysis'].value_counts().plot(kind = 'bar')\n",
    "plt.show()"
   ]
  },
  {
   "cell_type": "code",
   "execution_count": null,
   "metadata": {},
   "outputs": [],
   "source": []
  }
 ],
 "metadata": {
  "kernelspec": {
   "display_name": "Python 3",
   "language": "python",
   "name": "python3"
  },
  "language_info": {
   "codemirror_mode": {
    "name": "ipython",
    "version": 3
   },
   "file_extension": ".py",
   "mimetype": "text/x-python",
   "name": "python",
   "nbconvert_exporter": "python",
   "pygments_lexer": "ipython3",
   "version": "3.7.4"
  },
  "nbTranslate": {
   "displayLangs": [
    "en",
    "es"
   ],
   "hotkey": "alt-t",
   "langInMainMenu": true,
   "sourceLang": "es",
   "targetLang": "en",
   "useGoogleTranslate": true
  },
  "toc": {
   "base_numbering": 1,
   "nav_menu": {},
   "number_sections": true,
   "sideBar": true,
   "skip_h1_title": false,
   "title_cell": "Table of Contents",
   "title_sidebar": "Contents",
   "toc_cell": false,
   "toc_position": {
    "height": "calc(100% - 180px)",
    "left": "10px",
    "top": "150px",
    "width": "165px"
   },
   "toc_section_display": true,
   "toc_window_display": true
  }
 },
 "nbformat": 4,
 "nbformat_minor": 4
}
